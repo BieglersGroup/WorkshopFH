{
 "cells": [
  {
   "cell_type": "markdown",
   "metadata": {},
   "source": [
    "# Diet test by David"
   ]
  },
  {
   "cell_type": "markdown",
   "metadata": {},
   "source": [
    "The goal of this problem is to minimize cost while ensuring that the diet meets certain requirements."
   ]
  },
  {
   "cell_type": "code",
   "execution_count": 1,
   "metadata": {},
   "outputs": [],
   "source": [
    "from pyomo.environ import *   #: Same as usual"
   ]
  },
  {
   "cell_type": "code",
   "execution_count": 25,
   "metadata": {},
   "outputs": [],
   "source": [
    "from pyomo.opt import SolverFactory"
   ]
  },
  {
   "cell_type": "code",
   "execution_count": 2,
   "metadata": {},
   "outputs": [],
   "source": [
    "m = ConcreteModel()"
   ]
  },
  {
   "cell_type": "code",
   "execution_count": 3,
   "metadata": {},
   "outputs": [],
   "source": [
    "foods = [\"QPwCheese\", \"MDwCheese\", \"LeBigMac\", \"FOFish\", \"McGChicken\", \"Fries\", \"McSausage\", \"LfMilk\", \"OJ\"]\n",
    "entree = [\"QPwCheese\", \"MDwCheese\", \"LeBigMac\", \"FOFish\", \"McGChicken\"]\n",
    "side = [\"Fries\", \"McSausage\"]\n",
    "drink = [\"LfMilk\", \"OJ\"]"
   ]
  },
  {
   "cell_type": "code",
   "execution_count": 4,
   "metadata": {},
   "outputs": [],
   "source": [
    "m.food = Set(initialize=foods)"
   ]
  },
  {
   "cell_type": "code",
   "execution_count": 5,
   "metadata": {},
   "outputs": [],
   "source": [
    "COST_DICT = dict.fromkeys(foods)"
   ]
  },
  {
   "cell_type": "code",
   "execution_count": 6,
   "metadata": {},
   "outputs": [],
   "source": [
    "COST_DICT = {\"QPwCheese\": 1.84,\n",
    "             \"MDwCheese\": 2.19, \n",
    "             \"LeBigMac\": 1.84, \n",
    "             \"FOFish\": 1.44, \n",
    "             \"McGChicken\": 2.29, \n",
    "             \"Fries\": 0.77, \n",
    "             \"McSausage\": 1.29, \n",
    "             \"LfMilk\": 0.60, \n",
    "             \"OJ\": 0.72}"
   ]
  },
  {
   "cell_type": "code",
   "execution_count": 7,
   "metadata": {},
   "outputs": [],
   "source": [
    "m.cost = Param(m.food, initialize=COST_DICT, within=PositiveReals)"
   ]
  },
  {
   "cell_type": "code",
   "execution_count": 8,
   "metadata": {},
   "outputs": [],
   "source": [
    "m.f_min = Param(m.food, within=NonNegativeReals, default=0.0)"
   ]
  },
  {
   "cell_type": "code",
   "execution_count": 9,
   "metadata": {},
   "outputs": [],
   "source": [
    "MAX_FOOD_SUPPLY = 20.0"
   ]
  },
  {
   "cell_type": "code",
   "execution_count": 10,
   "metadata": {},
   "outputs": [],
   "source": [
    "def f_max_validate (model, value, j):\n",
    "    return m.f_max[j] > m.f_min[j]"
   ]
  },
  {
   "cell_type": "code",
   "execution_count": 11,
   "metadata": {},
   "outputs": [],
   "source": [
    "m.f_max = Param(m.food, validate=f_max_validate, default=MAX_FOOD_SUPPLY)"
   ]
  },
  {
   "cell_type": "code",
   "execution_count": 12,
   "metadata": {},
   "outputs": [],
   "source": [
    "NUTR = [\"Cal\", \"Carbo\", \"Protein\", \"VitA\", \"VitC\", \"Calc\", \"Iron\"]"
   ]
  },
  {
   "cell_type": "code",
   "execution_count": 13,
   "metadata": {},
   "outputs": [],
   "source": [
    "m.nutr = Set(initialize=NUTR)"
   ]
  },
  {
   "cell_type": "code",
   "execution_count": 14,
   "metadata": {},
   "outputs": [],
   "source": [
    "N_MIN = {\"Cal\": 2000, \"Carbo\": 350, \"Protein\": 55, \"VitA\": 100, \"VitC\": 100, \"Calc\": 100, \"Iron\": 100}"
   ]
  },
  {
   "cell_type": "code",
   "execution_count": 15,
   "metadata": {},
   "outputs": [],
   "source": [
    "m.n_min = Param(m.nutr, initialize=N_MIN)"
   ]
  },
  {
   "cell_type": "code",
   "execution_count": 16,
   "metadata": {},
   "outputs": [],
   "source": [
    "N_MAX = {\"Cal\": 0, \"Carbo\": 375, \"Protein\": 0, \"VitA\": 0, \"VitC\": 0, \"Calc\": 0, \"Iron\": 0}"
   ]
  },
  {
   "cell_type": "code",
   "execution_count": 17,
   "metadata": {},
   "outputs": [],
   "source": [
    "m.n_max = Param(m.nutr, initialize=N_MAX)"
   ]
  },
  {
   "cell_type": "code",
   "execution_count": 18,
   "metadata": {},
   "outputs": [],
   "source": [
    "AMT = {}\n",
    "AMT[(\"QPwCheese\",\"Cal\")] = 510\n",
    "AMT[(\"MDwCheese\",\"Cal\")] = 370\n",
    "AMT[(\"LeBigMac\",\"Cal\")] = 500\n",
    "AMT[(\"FOFish\",\"Cal\")] = 370\n",
    "AMT[(\"McGChicken\",\"Cal\")] = 400\n",
    "AMT[(\"Fries\",\"Cal\")] = 220\n",
    "AMT[(\"McSausage\",\"Cal\")] = 345\n",
    "AMT[(\"LfMilk\",\"Cal\")] = 110\n",
    "AMT[(\"OJ\",\"Cal\")] = 80\n",
    "AMT[(\"QPwCheese\",\"Carbo\")] = 34\n",
    "AMT[(\"MDwCheese\",\"Carbo\")] = 35\n",
    "AMT[(\"LeBigMac\",\"Carbo\")] = 42\n",
    "AMT[(\"FOFish\",\"Carbo\")] = 38\n",
    "AMT[(\"McGChicken\",\"Carbo\")] = 42\n",
    "AMT[(\"Fries\",\"Carbo\")] = 26\n",
    "AMT[(\"McSausage\",\"Carbo\")] = 27\n",
    "AMT[(\"LfMilk\",\"Carbo\")] = 12\n",
    "AMT[(\"OJ\",\"Carbo\")] = 20\n",
    "AMT[(\"QPwCheese\",\"Protein\")] = 28\n",
    "AMT[(\"MDwCheese\",\"Protein\")] = 24\n",
    "AMT[(\"LeBigMac\",\"Protein\")] = 25\n",
    "AMT[(\"FOFish\",\"Protein\")] = 14\n",
    "AMT[(\"McGChicken\",\"Protein\")] = 31\n",
    "AMT[(\"Fries\",\"Protein\")] = 3\n",
    "AMT[(\"McSausage\",\"Protein\")] = 15\n",
    "AMT[(\"LfMilk\",\"Protein\")] = 9\n",
    "AMT[(\"OJ\",\"Protein\")] = 1\n",
    "AMT[(\"QPwCheese\",\"VitA\")] = 15\n",
    "AMT[(\"MDwCheese\",\"VitA\")] = 15\n",
    "AMT[(\"LeBigMac\",\"VitA\")] = 6\n",
    "AMT[(\"FOFish\",\"VitA\")] = 2\n",
    "AMT[(\"McGChicken\",\"VitA\")] = 8\n",
    "AMT[(\"Fries\",\"VitA\")] = 0\n",
    "AMT[(\"McSausage\",\"VitA\")] = 4\n",
    "AMT[(\"LfMilk\",\"VitA\")] = 10\n",
    "AMT[(\"OJ\",\"VitA\")] = 2\n",
    "AMT[(\"QPwCheese\",\"VitC\")] = 6\n",
    "AMT[(\"MDwCheese\",\"VitC\")] = 10\n",
    "AMT[(\"LeBigMac\",\"VitC\")] = 2\n",
    "AMT[(\"FOFish\",\"VitC\")] = 0\n",
    "AMT[(\"McGChicken\",\"VitC\")] = 15\n",
    "AMT[(\"Fries\",\"VitC\")] = 15\n",
    "AMT[(\"McSausage\",\"VitC\")] = 0\n",
    "AMT[(\"LfMilk\",\"VitC\")] = 4\n",
    "AMT[(\"OJ\",\"VitC\")] = 120\n",
    "AMT[(\"QPwCheese\",\"Calc\")] = 30\n",
    "AMT[(\"MDwCheese\",\"Calc\")] = 20\n",
    "AMT[(\"LeBigMac\",\"Calc\")] = 25\n",
    "AMT[(\"FOFish\",\"Calc\")] = 15\n",
    "AMT[(\"McGChicken\",\"Calc\")] = 15\n",
    "AMT[(\"Fries\",\"Calc\")] = 0\n",
    "AMT[(\"McSausage\",\"Calc\")] = 20\n",
    "AMT[(\"LfMilk\",\"Calc\")] = 30\n",
    "AMT[(\"OJ\",\"Calc\")] = 2\n",
    "AMT[(\"QPwCheese\",\"Iron\")] = 20\n",
    "AMT[(\"MDwCheese\",\"Iron\")] = 20\n",
    "AMT[(\"LeBigMac\",\"Iron\")] = 20\n",
    "AMT[(\"FOFish\",\"Iron\")] = 10\n",
    "AMT[(\"McGChicken\",\"Iron\")] = 8\n",
    "AMT[(\"Fries\",\"Iron\")] = 2\n",
    "AMT[(\"McSausage\",\"Iron\")] = 15\n",
    "AMT[(\"LfMilk\",\"Iron\")] = 0\n",
    "AMT[(\"OJ\",\"Iron\")] = 2"
   ]
  },
  {
   "cell_type": "code",
   "execution_count": 19,
   "metadata": {},
   "outputs": [],
   "source": [
    "m.amt = Param(m.food, m.nutr, initialize=AMT)"
   ]
  },
  {
   "cell_type": "code",
   "execution_count": 20,
   "metadata": {},
   "outputs": [],
   "source": [
    "def buy_bounds(mod, i):\n",
    "    return (mod.f_min[i], mod.f_max[i])\n",
    "m.buy = Var(m.food, bounds=buy_bounds, within=NonNegativeIntegers)"
   ]
  },
  {
   "cell_type": "code",
   "execution_count": 21,
   "metadata": {},
   "outputs": [],
   "source": [
    "def total_cost_rule(mod):\n",
    "    return sum(mod.cost[j] * mod.buy[j] for j in mod.food)\n",
    "m.total_cost = Objective(rule=total_cost_rule, sense=minimize)"
   ]
  },
  {
   "cell_type": "code",
   "execution_count": 22,
   "metadata": {},
   "outputs": [],
   "source": [
    "def entree_rule(mod):\n",
    "    return sum(mod.buy[e] for e in entree) >= 1\n",
    "m.entree = Constraint(rule=entree_rule)"
   ]
  },
  {
   "cell_type": "code",
   "execution_count": 23,
   "metadata": {},
   "outputs": [],
   "source": [
    "def side_rule(mod):\n",
    "    return sum(mod.buy[s] for s in side) >= 1\n",
    "m.side = Constraint(rule=side_rule)"
   ]
  },
  {
   "cell_type": "code",
   "execution_count": 24,
   "metadata": {},
   "outputs": [],
   "source": [
    "def drink_rule(mod):\n",
    "    return sum(mod.buy[d] for d in drink) >=1\n",
    "m.drink = Constraint(rule=drink_rule)"
   ]
  },
  {
   "cell_type": "code",
   "execution_count": 26,
   "metadata": {},
   "outputs": [],
   "source": [
    "opt = SolverFactory('ipopt')  #: declare the solver"
   ]
  },
  {
   "cell_type": "code",
   "execution_count": 28,
   "metadata": {},
   "outputs": [
    {
     "name": "stdout",
     "output_type": "stream",
     "text": [
      "Ipopt 3.12.12: \n",
      "==> Warning: Treating 0 binary and 9 integer variables as continous.\n",
      "\n",
      "\n",
      "******************************************************************************\n",
      "This program contains Ipopt, a library for large-scale nonlinear optimization.\n",
      " Ipopt is released as open source code under the Eclipse Public License (EPL).\n",
      "         For more information visit http://projects.coin-or.org/Ipopt\n",
      "******************************************************************************\n",
      "\n",
      "This is Ipopt version 3.12.12, running with linear solver mumps.\n",
      "NOTE: Other linear solvers might be more efficient (see Ipopt documentation).\n",
      "\n",
      "Number of nonzeros in equality constraint Jacobian...:        0\n",
      "Number of nonzeros in inequality constraint Jacobian.:        9\n",
      "Number of nonzeros in Lagrangian Hessian.............:        0\n",
      "\n",
      "Total number of variables............................:        9\n",
      "                     variables with only lower bounds:        0\n",
      "                variables with lower and upper bounds:        9\n",
      "                     variables with only upper bounds:        0\n",
      "Total number of equality constraints.................:        0\n",
      "Total number of inequality constraints...............:        3\n",
      "        inequality constraints with only lower bounds:        3\n",
      "   inequality constraints with lower and upper bounds:        0\n",
      "        inequality constraints with only upper bounds:        0\n",
      "\n",
      "iter    objective    inf_pr   inf_du lg(mu)  ||d||  lg(rg) alpha_du alpha_pr  ls\n",
      "   0  2.9116999e+00 0.00e+00 7.67e-01  -1.0 0.00e+00    -  0.00e+00 0.00e+00   0\n",
      "   1  3.3995524e+00 0.00e+00 2.56e-02  -1.0 3.00e-01    -  9.80e-01 1.00e+00f  1\n",
      "   2  3.0611920e+00 0.00e+00 6.89e-02  -1.7 1.18e-01    -  1.00e+00 8.29e-01f  1\n",
      "   3  2.8393084e+00 0.00e+00 2.83e-08  -2.5 2.50e-01    -  1.00e+00 1.00e+00f  1\n",
      "   4  2.8114328e+00 0.00e+00 1.50e-09  -3.8 4.05e-02    -  1.00e+00 1.00e+00f  1\n",
      "   5  2.8100168e+00 0.00e+00 1.84e-11  -5.7 1.78e-03    -  1.00e+00 1.00e+00f  1\n",
      "   6  2.8100000e+00 0.00e+00 2.51e-14  -8.6 1.66e-05    -  1.00e+00 1.00e+00f  1\n",
      "\n",
      "Number of Iterations....: 6\n",
      "\n",
      "                                   (scaled)                 (unscaled)\n",
      "Objective...............:   2.8099999641010127e+00    2.8099999641010127e+00\n",
      "Dual infeasibility......:   2.5091040356528538e-14    2.5091040356528538e-14\n",
      "Constraint violation....:   0.0000000000000000e+00    0.0000000000000000e+00\n",
      "Complementarity.........:   2.5342148538032801e-09    2.5342148538032801e-09\n",
      "Overall NLP error.......:   2.5342148538032801e-09    2.5342148538032801e-09\n",
      "\n",
      "\n",
      "Number of objective function evaluations             = 7\n",
      "Number of objective gradient evaluations             = 7\n",
      "Number of equality constraint evaluations            = 0\n",
      "Number of inequality constraint evaluations          = 7\n",
      "Number of equality constraint Jacobian evaluations   = 0\n",
      "Number of inequality constraint Jacobian evaluations = 7\n",
      "Number of Lagrangian Hessian evaluations             = 6\n",
      "Total CPU secs in IPOPT (w/o function evaluations)   =      0.050\n",
      "Total CPU secs in NLP function evaluations           =      0.000\n",
      "\n",
      "EXIT: Optimal Solution Found.\n",
      "\b"
     ]
    }
   ],
   "source": [
    "results = opt.solve(m, tee=True)"
   ]
  },
  {
   "cell_type": "code",
   "execution_count": null,
   "metadata": {},
   "outputs": [],
   "source": []
  }
 ],
 "metadata": {
  "kernelspec": {
   "display_name": "Python 3",
   "language": "python",
   "name": "python3"
  },
  "language_info": {
   "codemirror_mode": {
    "name": "ipython",
    "version": 3
   },
   "file_extension": ".py",
   "mimetype": "text/x-python",
   "name": "python",
   "nbconvert_exporter": "python",
   "pygments_lexer": "ipython3",
   "version": "3.7.4"
  }
 },
 "nbformat": 4,
 "nbformat_minor": 4
}
