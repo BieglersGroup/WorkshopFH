{
 "cells": [
  {
   "cell_type": "markdown",
   "metadata": {},
   "source": [
    "# Diet problem\n",
    "(Adapted from the pyomo/examples/pyomo files)"
   ]
  },
  {
   "cell_type": "markdown",
   "metadata": {},
   "source": [
    "The goal of this problem is to *minimize* cost.  \n",
    "The variables of the problem include the decision of weather a certain food is bought or not.  \n",
    "Furthermore, the constraints ensure that *at least* one entree, side and drink are selected."
   ]
  },
  {
   "cell_type": "markdown",
   "metadata": {},
   "source": [
    "This model is written with the following structure:  \n",
    "\n",
    "1. Package imports\n",
    "2. Model and Set declaration\n",
    "3. Parameter declaration and initialization\n",
    "4. Variable declaration and initialization\n",
    "5. Constraint declaration and initialization\n",
    "6. Objective function\n",
    "7. Solution"
   ]
  },
  {
   "cell_type": "markdown",
   "metadata": {},
   "source": [
    "### 1. Package imports"
   ]
  },
  {
   "cell_type": "code",
   "execution_count": 1,
   "metadata": {},
   "outputs": [],
   "source": [
    "from pyomo.environ import *   #: Same as usual\n",
    "from pyomo.opt import SolverFactory"
   ]
  },
  {
   "cell_type": "markdown",
   "metadata": {},
   "source": [
    "### 2. Model and Set declaration"
   ]
  },
  {
   "cell_type": "markdown",
   "metadata": {},
   "source": [
    "Note how the model *must* be declared first. Subsequently, every component from the model is attached to the model."
   ]
  },
  {
   "cell_type": "code",
   "execution_count": 28,
   "metadata": {},
   "outputs": [],
   "source": [
    "m = ConcreteModel()  #: Declare model"
   ]
  },
  {
   "cell_type": "markdown",
   "metadata": {},
   "source": []
  },
  {
   "cell_type": "code",
   "execution_count": 4,
   "metadata": {},
   "outputs": [],
   "source": [
    "foods = [\"QPwCheese\", \"MDwCheese\", \"LeBigMac\", \"FOFish\", \"McGChicken\", \"Fries\", \"McSausage\", \"LfMilk\", \"OJ\"]\n",
    "entree = [\"QPwCheese\", \"MDwCheese\", \"LeBigMac\", \"FOFish\", \"McGChicken\"]\n",
    "side = [\"Fries\", \"McSausage\"]\n",
    "drink = [\"LfMilk\", \"OJ\"]"
   ]
  },
  {
   "cell_type": "code",
   "execution_count": null,
   "metadata": {},
   "outputs": [],
   "source": []
  },
  {
   "cell_type": "code",
   "execution_count": 5,
   "metadata": {},
   "outputs": [],
   "source": [
    "m.food = Set(initialize=foods)"
   ]
  },
  {
   "cell_type": "markdown",
   "metadata": {},
   "source": [
    "### 3. Parameter declaration and initialization"
   ]
  },
  {
   "cell_type": "code",
   "execution_count": 6,
   "metadata": {},
   "outputs": [],
   "source": [
    "COST_DICT = dict.fromkeys(foods)"
   ]
  },
  {
   "cell_type": "code",
   "execution_count": 7,
   "metadata": {},
   "outputs": [],
   "source": [
    "COST_DICT = {\"QPwCheese\": 1.84,\n",
    "             \"MDwCheese\": 2.19, \n",
    "             \"LeBigMac\": 1.84, \n",
    "             \"FOFish\": 1.44, \n",
    "             \"McGChicken\": 2.29, \n",
    "             \"Fries\": 0.77, \n",
    "             \"McSausage\": 1.29, \n",
    "             \"LfMilk\": 0.60, \n",
    "             \"OJ\": 0.72}"
   ]
  },
  {
   "cell_type": "code",
   "execution_count": 8,
   "metadata": {},
   "outputs": [],
   "source": [
    "m.cost = Param(m.food, initialize=COST_DICT, within=PositiveReals)"
   ]
  },
  {
   "cell_type": "code",
   "execution_count": 9,
   "metadata": {},
   "outputs": [],
   "source": [
    "m.f_min = Param(m.food, within=NonNegativeReals, default=0.0)"
   ]
  },
  {
   "cell_type": "code",
   "execution_count": 10,
   "metadata": {},
   "outputs": [],
   "source": [
    "MAX_FOOD_SUPPLY = 20.0"
   ]
  },
  {
   "cell_type": "code",
   "execution_count": 11,
   "metadata": {},
   "outputs": [],
   "source": [
    "def f_max_validate (model, value, j):\n",
    "    return m.f_max[j] > m.f_min[j]"
   ]
  },
  {
   "cell_type": "code",
   "execution_count": 12,
   "metadata": {},
   "outputs": [],
   "source": [
    "m.f_max = Param(m.food, validate=f_max_validate, default=MAX_FOOD_SUPPLY)"
   ]
  },
  {
   "cell_type": "code",
   "execution_count": 13,
   "metadata": {},
   "outputs": [],
   "source": [
    "NUTR = [\"Cal\", \"Carbo\", \"Protein\", \"VitA\", \"VitC\", \"Calc\", \"Iron\"]"
   ]
  },
  {
   "cell_type": "code",
   "execution_count": 14,
   "metadata": {},
   "outputs": [],
   "source": [
    "m.nutr = Set(initialize=NUTR)"
   ]
  },
  {
   "cell_type": "code",
   "execution_count": 15,
   "metadata": {},
   "outputs": [],
   "source": [
    "N_MIN = {\"Cal\": 2000, \"Carbo\": 350, \"Protein\": 55, \"VitA\": 100, \"VitC\": 100, \"Calc\": 100, \"Iron\": 100}"
   ]
  },
  {
   "cell_type": "code",
   "execution_count": 16,
   "metadata": {},
   "outputs": [],
   "source": [
    "m.n_min = Param(m.nutr, initialize=N_MIN)"
   ]
  },
  {
   "cell_type": "code",
   "execution_count": 17,
   "metadata": {},
   "outputs": [],
   "source": [
    "N_MAX = {\"Cal\": 0, \"Carbo\": 375, \"Protein\": 0, \"VitA\": 0, \"VitC\": 0, \"Calc\": 0, \"Iron\": 0}"
   ]
  },
  {
   "cell_type": "code",
   "execution_count": 18,
   "metadata": {},
   "outputs": [],
   "source": [
    "m.n_max = Param(m.nutr, initialize=N_MAX)"
   ]
  },
  {
   "cell_type": "code",
   "execution_count": 19,
   "metadata": {},
   "outputs": [],
   "source": [
    "AMT = {}\n",
    "AMT[(\"QPwCheese\",\"Cal\")] = 510\n",
    "AMT[(\"MDwCheese\",\"Cal\")] = 370\n",
    "AMT[(\"LeBigMac\",\"Cal\")] = 500\n",
    "AMT[(\"FOFish\",\"Cal\")] = 370\n",
    "AMT[(\"McGChicken\",\"Cal\")] = 400\n",
    "AMT[(\"Fries\",\"Cal\")] = 220\n",
    "AMT[(\"McSausage\",\"Cal\")] = 345\n",
    "AMT[(\"LfMilk\",\"Cal\")] = 110\n",
    "AMT[(\"OJ\",\"Cal\")] = 80\n",
    "AMT[(\"QPwCheese\",\"Carbo\")] = 34\n",
    "AMT[(\"MDwCheese\",\"Carbo\")] = 35\n",
    "AMT[(\"LeBigMac\",\"Carbo\")] = 42\n",
    "AMT[(\"FOFish\",\"Carbo\")] = 38\n",
    "AMT[(\"McGChicken\",\"Carbo\")] = 42\n",
    "AMT[(\"Fries\",\"Carbo\")] = 26\n",
    "AMT[(\"McSausage\",\"Carbo\")] = 27\n",
    "AMT[(\"LfMilk\",\"Carbo\")] = 12\n",
    "AMT[(\"OJ\",\"Carbo\")] = 20\n",
    "AMT[(\"QPwCheese\",\"Protein\")] = 28\n",
    "AMT[(\"MDwCheese\",\"Protein\")] = 24\n",
    "AMT[(\"LeBigMac\",\"Protein\")] = 25\n",
    "AMT[(\"FOFish\",\"Protein\")] = 14\n",
    "AMT[(\"McGChicken\",\"Protein\")] = 31\n",
    "AMT[(\"Fries\",\"Protein\")] = 3\n",
    "AMT[(\"McSausage\",\"Protein\")] = 15\n",
    "AMT[(\"LfMilk\",\"Protein\")] = 9\n",
    "AMT[(\"OJ\",\"Protein\")] = 1\n",
    "AMT[(\"QPwCheese\",\"VitA\")] = 15\n",
    "AMT[(\"MDwCheese\",\"VitA\")] = 15\n",
    "AMT[(\"LeBigMac\",\"VitA\")] = 6\n",
    "AMT[(\"FOFish\",\"VitA\")] = 2\n",
    "AMT[(\"McGChicken\",\"VitA\")] = 8\n",
    "AMT[(\"Fries\",\"VitA\")] = 0\n",
    "AMT[(\"McSausage\",\"VitA\")] = 4\n",
    "AMT[(\"LfMilk\",\"VitA\")] = 10\n",
    "AMT[(\"OJ\",\"VitA\")] = 2\n",
    "AMT[(\"QPwCheese\",\"VitC\")] = 6\n",
    "AMT[(\"MDwCheese\",\"VitC\")] = 10\n",
    "AMT[(\"LeBigMac\",\"VitC\")] = 2\n",
    "AMT[(\"FOFish\",\"VitC\")] = 0\n",
    "AMT[(\"McGChicken\",\"VitC\")] = 15\n",
    "AMT[(\"Fries\",\"VitC\")] = 15\n",
    "AMT[(\"McSausage\",\"VitC\")] = 0\n",
    "AMT[(\"LfMilk\",\"VitC\")] = 4\n",
    "AMT[(\"OJ\",\"VitC\")] = 120\n",
    "AMT[(\"QPwCheese\",\"Calc\")] = 30\n",
    "AMT[(\"MDwCheese\",\"Calc\")] = 20\n",
    "AMT[(\"LeBigMac\",\"Calc\")] = 25\n",
    "AMT[(\"FOFish\",\"Calc\")] = 15\n",
    "AMT[(\"McGChicken\",\"Calc\")] = 15\n",
    "AMT[(\"Fries\",\"Calc\")] = 0\n",
    "AMT[(\"McSausage\",\"Calc\")] = 20\n",
    "AMT[(\"LfMilk\",\"Calc\")] = 30\n",
    "AMT[(\"OJ\",\"Calc\")] = 2\n",
    "AMT[(\"QPwCheese\",\"Iron\")] = 20\n",
    "AMT[(\"MDwCheese\",\"Iron\")] = 20\n",
    "AMT[(\"LeBigMac\",\"Iron\")] = 20\n",
    "AMT[(\"FOFish\",\"Iron\")] = 10\n",
    "AMT[(\"McGChicken\",\"Iron\")] = 8\n",
    "AMT[(\"Fries\",\"Iron\")] = 2\n",
    "AMT[(\"McSausage\",\"Iron\")] = 15\n",
    "AMT[(\"LfMilk\",\"Iron\")] = 0\n",
    "AMT[(\"OJ\",\"Iron\")] = 2"
   ]
  },
  {
   "cell_type": "code",
   "execution_count": 20,
   "metadata": {},
   "outputs": [],
   "source": [
    "m.amt = Param(m.food, m.nutr, initialize=AMT)"
   ]
  },
  {
   "cell_type": "code",
   "execution_count": 21,
   "metadata": {},
   "outputs": [],
   "source": [
    "def buy_bounds(mod, i):\n",
    "    return (mod.f_min[i], mod.f_max[i])\n",
    "m.buy = Var(m.food, bounds=buy_bounds, within=NonNegativeIntegers)"
   ]
  },
  {
   "cell_type": "code",
   "execution_count": 22,
   "metadata": {},
   "outputs": [],
   "source": [
    "def total_cost_rule(mod):\n",
    "    return sum(mod.cost[j] * mod.buy[j] for j in mod.food)\n",
    "m.total_cost = Objective(rule=total_cost_rule, sense=minimize)"
   ]
  },
  {
   "cell_type": "code",
   "execution_count": 23,
   "metadata": {},
   "outputs": [],
   "source": [
    "def entree_rule(mod):\n",
    "    return sum(mod.buy[e] for e in entree) >= 1\n",
    "m.entree = Constraint(rule=entree_rule)"
   ]
  },
  {
   "cell_type": "code",
   "execution_count": 24,
   "metadata": {},
   "outputs": [],
   "source": [
    "def side_rule(mod):\n",
    "    return sum(mod.buy[s] for s in side) >= 1\n",
    "m.side = Constraint(rule=side_rule)"
   ]
  },
  {
   "cell_type": "code",
   "execution_count": 25,
   "metadata": {},
   "outputs": [],
   "source": [
    "def drink_rule(mod):\n",
    "    return sum(mod.buy[d] for d in drink) >=1\n",
    "m.drink = Constraint(rule=drink_rule)"
   ]
  },
  {
   "cell_type": "code",
   "execution_count": 26,
   "metadata": {},
   "outputs": [],
   "source": [
    "opt = SolverFactory('cbc')  #: declare the solver"
   ]
  },
  {
   "cell_type": "code",
   "execution_count": 27,
   "metadata": {},
   "outputs": [
    {
     "name": "stdout",
     "output_type": "stream",
     "text": [
      "Welcome to the CBC MILP Solver \n",
      "Version: 2.10.3 \n",
      "Build Date: Aug 21 2019 \n",
      "\n",
      "command line - /home/dav0/in_dev_/test_pynumero/miniconda/envs/kslt/bin/cbc -printingOptions all -import /tmp/tmpblflt4k5.pyomo.lp -stat=1 -solve -solu /tmp/tmpblflt4k5.pyomo.soln (default strategy 1)\n",
      "Option for printingOptions changed from normal to all\n",
      "Presolve 3 (-1) rows, 9 (-1) columns and 9 (-1) elements\n",
      "Statistics for presolved model\n",
      "Original problem has 9 integers (0 of which binary)\n",
      "Presolved problem has 9 integers (0 of which binary)\n",
      "==== 0 zero objective 8 different\n",
      "1 variables have objective of 0.6\n",
      "1 variables have objective of 0.72\n",
      "1 variables have objective of 0.77\n",
      "1 variables have objective of 1.29\n",
      "1 variables have objective of 1.44\n",
      "2 variables have objective of 1.84\n",
      "1 variables have objective of 2.19\n",
      "1 variables have objective of 2.29\n",
      "==== absolute objective values 8 different\n",
      "1 variables have objective of 0.6\n",
      "1 variables have objective of 0.72\n",
      "1 variables have objective of 0.77\n",
      "1 variables have objective of 1.29\n",
      "1 variables have objective of 1.44\n",
      "2 variables have objective of 1.84\n",
      "1 variables have objective of 2.19\n",
      "1 variables have objective of 2.29\n",
      "==== for integers 0 zero objective 8 different\n",
      "1 variables have objective of 0.6\n",
      "1 variables have objective of 0.72\n",
      "1 variables have objective of 0.77\n",
      "1 variables have objective of 1.29\n",
      "1 variables have objective of 1.44\n",
      "2 variables have objective of 1.84\n",
      "1 variables have objective of 2.19\n",
      "1 variables have objective of 2.29\n",
      "==== for integers absolute objective values 8 different\n",
      "1 variables have objective of 0.6\n",
      "1 variables have objective of 0.72\n",
      "1 variables have objective of 0.77\n",
      "1 variables have objective of 1.29\n",
      "1 variables have objective of 1.44\n",
      "2 variables have objective of 1.84\n",
      "1 variables have objective of 2.19\n",
      "1 variables have objective of 2.29\n",
      "===== end objective counts\n",
      "\n",
      "\n",
      "Problem has 3 rows, 9 columns (9 with objective) and 9 elements\n",
      "There are 9 singletons with objective \n",
      "Column breakdown:\n",
      "0 of type 0.0->inf, 9 of type 0.0->up, 0 of type lo->inf, \n",
      "0 of type lo->up, 0 of type free, 0 of type fixed, \n",
      "0 of type -inf->0.0, 0 of type -inf->up, 0 of type 0.0->1.0 \n",
      "Row breakdown:\n",
      "0 of type E 0.0, 0 of type E 1.0, 0 of type E -1.0, \n",
      "0 of type E other, 0 of type G 0.0, 3 of type G 1.0, \n",
      "0 of type G other, 0 of type L 0.0, 0 of type L 1.0, \n",
      "0 of type L other, 0 of type Range 0.0->1.0, 0 of type Range other, \n",
      "0 of type Free \n",
      "Continuous objective value is 2.81 - 0.00 seconds\n",
      "Cgl0004I processed model has 3 rows, 9 columns (9 integer (0 of which binary)) and 9 elements\n",
      "Cutoff increment increased from 1e-05 to 0.00999\n",
      "Cbc0012I Integer solution of 2.81 found by greedy cover after 0 iterations and 0 nodes (0.01 seconds)\n",
      "Cbc0001I Search completed - best objective 2.81, took 0 iterations and 0 nodes (0.01 seconds)\n",
      "Cbc0035I Maximum depth 0, 0 variables fixed on reduced cost\n",
      "Cuts at root node changed objective from 2.81 to 2.81\n",
      "Probing was tried 0 times and created 0 cuts of which 0 were active after adding rounds of cuts (0.000 seconds)\n",
      "Gomory was tried 0 times and created 0 cuts of which 0 were active after adding rounds of cuts (0.000 seconds)\n",
      "Knapsack was tried 0 times and created 0 cuts of which 0 were active after adding rounds of cuts (0.000 seconds)\n",
      "Clique was tried 0 times and created 0 cuts of which 0 were active after adding rounds of cuts (0.000 seconds)\n",
      "MixedIntegerRounding2 was tried 0 times and created 0 cuts of which 0 were active after adding rounds of cuts (0.000 seconds)\n",
      "FlowCover was tried 0 times and created 0 cuts of which 0 were active after adding rounds of cuts (0.000 seconds)\n",
      "TwoMirCuts was tried 0 times and created 0 cuts of which 0 were active after adding rounds of cuts (0.000 seconds)\n",
      "ZeroHalf was tried 0 times and created 0 cuts of which 0 were active after adding rounds of cuts (0.000 seconds)\n",
      "\n",
      "Result - Optimal solution found\n",
      "\n",
      "Objective value:                2.81000000\n",
      "Enumerated nodes:               0\n",
      "Total iterations:               0\n",
      "Time (CPU seconds):             0.01\n",
      "Time (Wallclock seconds):       0.00\n",
      "\n",
      "Total time (CPU seconds):       0.01   (Wallclock seconds):       0.00\n",
      "\n"
     ]
    }
   ],
   "source": [
    "results = opt.solve(m, tee=True)"
   ]
  },
  {
   "cell_type": "code",
   "execution_count": null,
   "metadata": {},
   "outputs": [],
   "source": []
  }
 ],
 "metadata": {
  "kernelspec": {
   "display_name": "Python 3",
   "language": "python",
   "name": "python3"
  },
  "language_info": {
   "codemirror_mode": {
    "name": "ipython",
    "version": 3
   },
   "file_extension": ".py",
   "mimetype": "text/x-python",
   "name": "python",
   "nbconvert_exporter": "python",
   "pygments_lexer": "ipython3",
   "version": "3.7.4"
  }
 },
 "nbformat": 4,
 "nbformat_minor": 4
}
