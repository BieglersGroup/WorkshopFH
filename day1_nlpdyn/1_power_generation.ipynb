{
 "cells": [
  {
   "cell_type": "code",
   "execution_count": 1,
   "metadata": {},
   "outputs": [],
   "source": [
    "from pyomo.environ import *\n",
    "from pyomo.opt import SolverFactory\n",
    "from pyomo.core.base.numvalue import numvalue"
   ]
  },
  {
   "cell_type": "markdown",
   "metadata": {},
   "source": [
    "# Model"
   ]
  },
  {
   "cell_type": "code",
   "execution_count": 2,
   "metadata": {},
   "outputs": [],
   "source": [
    "model = ConcreteModel()"
   ]
  },
  {
   "cell_type": "markdown",
   "metadata": {},
   "source": [
    "# Sets"
   ]
  },
  {
   "cell_type": "code",
   "execution_count": 3,
   "metadata": {},
   "outputs": [],
   "source": [
    "model.G = Set(initialize=['gen1', 'gen2'])\n",
    "model.F = Set(initialize=['oil', 'gas'])\n",
    "model.K = Set(initialize=[0, 1, 2])"
   ]
  },
  {
   "cell_type": "markdown",
   "metadata": {},
   "source": [
    "# Parameter"
   ]
  },
  {
   "cell_type": "code",
   "execution_count": 4,
   "metadata": {},
   "outputs": [],
   "source": [
    "A_init = dict()\n",
    "A_init[('gen1', 'oil', 0)] = 1.4609\n",
    "A_init[('gen1', 'oil', 1)] = 1.5742\n",
    "A_init[('gen1', 'oil', 2)] = 0.8008\n",
    "\n",
    "A_init[('gen1', 'gas', 0)] = 1.5742\n",
    "A_init[('gen1', 'gas', 1)] = 0.16310\n",
    "A_init[('gen1', 'gas', 2)] = 0.000916\n",
    "\n",
    "A_init[('gen2', 'oil', 0)] = 0.8008\n",
    "A_init[('gen2', 'oil', 1)] = 0.20310\n",
    "A_init[('gen2', 'oil', 2)] = 0.000916\n",
    "\n",
    "A_init[('gen2', 'gas', 0)] = 0.7266\n",
    "A_init[('gen2', 'gas', 1)] = 0.2256\n",
    "A_init[('gen2', 'gas', 2)] = 0.000778"
   ]
  },
  {
   "cell_type": "code",
   "execution_count": 5,
   "metadata": {},
   "outputs": [],
   "source": [
    "model.A = Param(model.G, model.F, model.K, initialize=A_init)"
   ]
  },
  {
   "cell_type": "code",
   "execution_count": 6,
   "metadata": {},
   "outputs": [],
   "source": [
    "PMAX_init = {}\n",
    "PMAX_init['gen1'] = 30.0\n",
    "PMAX_init['gen2'] = 25.0"
   ]
  },
  {
   "cell_type": "code",
   "execution_count": 7,
   "metadata": {},
   "outputs": [],
   "source": [
    "# model.PMAX = Param(model.G, initialize=PMAX_init)"
   ]
  },
  {
   "cell_type": "code",
   "execution_count": 8,
   "metadata": {},
   "outputs": [],
   "source": [
    "PMIN_init = {}\n",
    "PMIN_init['gen1'] = 18.0\n",
    "PMIN_init['gen2'] = 14.0"
   ]
  },
  {
   "cell_type": "code",
   "execution_count": 9,
   "metadata": {},
   "outputs": [],
   "source": [
    "def p_bounds_init(m, g):\n",
    "    return (PMIN_init[g], PMAX_init[g])"
   ]
  },
  {
   "cell_type": "code",
   "execution_count": 10,
   "metadata": {},
   "outputs": [],
   "source": [
    "def p_guess_init(m, g):\n",
    "    return (PMAX_init[g] + PMIN_init[g]) * 0.5"
   ]
  },
  {
   "cell_type": "code",
   "execution_count": 11,
   "metadata": {},
   "outputs": [],
   "source": [
    "# model.PMIN = Param(model.G, initialize=PMIN_init)"
   ]
  },
  {
   "cell_type": "code",
   "execution_count": 12,
   "metadata": {},
   "outputs": [],
   "source": [
    "model.GASSUP = Param(initialize=10.0)\n",
    "model.PREQ = Param(initialize=50.0, doc='Total power output required in MW')"
   ]
  },
  {
   "cell_type": "markdown",
   "metadata": {},
   "source": [
    "# Variables"
   ]
  },
  {
   "cell_type": "code",
   "execution_count": 13,
   "metadata": {},
   "outputs": [],
   "source": [
    "model.P = Var(model.G, \n",
    "              bounds=p_bounds_init,\n",
    "              domain=PositiveReals, \n",
    "              initialize=p_guess_init, \n",
    "              doc='Total power output of generators in MW')"
   ]
  },
  {
   "cell_type": "code",
   "execution_count": null,
   "metadata": {},
   "outputs": [],
   "source": [
    "model.X = Var(model.G, model.F, domain=PositiveReals, doc='Power outputs of generators for specific fuels')\n",
    "model.Z = Var(model.F, domain=PositiveReals, doc='Power outputs of generators for specific fuels')\n",
    "model.OILPUR = Var(doc='Amount of fuel oil purchased')"
   ]
  },
  {
   "cell_type": "markdown",
   "metadata": {},
   "source": [
    "# Constraint rules"
   ]
  },
  {
   "cell_type": "code",
   "execution_count": 14,
   "metadata": {},
   "outputs": [],
   "source": [
    "def tpower_init(mod):\n",
    "    return sum(mod.P[g] for g in mod.G) >= mod.PREQ\n",
    "\n",
    "def _pwr_init(mod, g):\n",
    "    return mod.P[g] == sum(mod.X[g, f] for f in mod.F)\n",
    "\n",
    "def _fueluse(mod, f):\n",
    "    return mod.Z[f] >= sum(mod.A[g, f, k] * mod.X[g, f]**(k) for g in mod.G for k in mod.K)\n",
    "\n",
    "def _oiluse_init(mod):\n",
    "    return mod.OILPUR == mod.Z['oil']"
   ]
  },
  {
   "cell_type": "markdown",
   "metadata": {},
   "source": [
    "# Constraints"
   ]
  },
  {
   "cell_type": "code",
   "execution_count": 15,
   "metadata": {},
   "outputs": [],
   "source": [
    "model.TPOWER = Constraint(rule=tpower_init)\n",
    "model.PWR = Constraint(model.G, rule=_pwr_init)\n",
    "model.OILUSE = Constraint(rule=_oiluse_init)\n",
    "model.FUELUSE = Constraint(model.F, rule=_fueluse)"
   ]
  },
  {
   "cell_type": "markdown",
   "metadata": {},
   "source": [
    "# Objective"
   ]
  },
  {
   "cell_type": "code",
   "execution_count": 16,
   "metadata": {},
   "outputs": [],
   "source": [
    "model.obj_func = Objective(sense=minimize, expr=model.OILPUR)"
   ]
  },
  {
   "cell_type": "markdown",
   "metadata": {},
   "source": [
    "# Solution"
   ]
  },
  {
   "cell_type": "code",
   "execution_count": 20,
   "metadata": {},
   "outputs": [
    {
     "name": "stdout",
     "output_type": "stream",
     "text": [
      "Ipopt 3.12.12: \n",
      "\n",
      "******************************************************************************\n",
      "This program contains Ipopt, a library for large-scale nonlinear optimization.\n",
      " Ipopt is released as open source code under the Eclipse Public License (EPL).\n",
      "         For more information visit http://projects.coin-or.org/Ipopt\n",
      "******************************************************************************\n",
      "\n",
      "This is Ipopt version 3.12.12, running with linear solver mumps.\n",
      "NOTE: Other linear solvers might be more efficient (see Ipopt documentation).\n",
      "\n",
      "Number of nonzeros in equality constraint Jacobian...:        8\n",
      "Number of nonzeros in inequality constraint Jacobian.:        8\n",
      "Number of nonzeros in Lagrangian Hessian.............:        4\n",
      "\n",
      "Total number of variables............................:        9\n",
      "                     variables with only lower bounds:        6\n",
      "                variables with lower and upper bounds:        2\n",
      "                     variables with only upper bounds:        0\n",
      "Total number of equality constraints.................:        3\n",
      "Total number of inequality constraints...............:        3\n",
      "        inequality constraints with only lower bounds:        1\n",
      "   inequality constraints with lower and upper bounds:        0\n",
      "        inequality constraints with only upper bounds:        2\n",
      "\n",
      "iter    objective    inf_pr   inf_du lg(mu)  ||d||  lg(rg) alpha_du alpha_pr  ls\n",
      "   0  2.2617000e+00 1.79e-02 1.11e+00  -1.0 0.00e+00    -  0.00e+00 0.00e+00   0\n",
      "   1  2.5284515e+00 1.07e-15 1.36e-01  -1.0 2.67e-01    -  9.22e-01 1.00e+00f  1\n",
      "   2  2.5461013e+00 1.86e-15 4.00e-03  -1.0 1.01e+00    -  9.90e-01 1.00e+00f  1\n",
      "   3  2.5678578e+00 1.44e-15 1.58e-05  -1.0 9.83e+01    -  9.91e-01 1.00e+00h  1\n",
      "   4  2.2679606e+00 2.64e-03 2.73e-03  -2.5 2.78e+02    -  1.00e+00 9.91e-01f  1\n",
      "   5  2.2621222e+00 6.41e-16 3.47e-05  -3.8 4.06e+03    -  1.00e+00 1.00e+00h  1\n",
      "   6  2.2617055e+00 2.33e-15 1.19e-08  -5.7 8.86e+02    -  1.00e+00 1.00e+00h  1\n",
      "   7  2.2617000e+00 1.12e-15 1.58e-12  -8.6 9.69e+01    -  1.00e+00 1.00e+00h  1\n",
      "\n",
      "Number of Iterations....: 7\n",
      "\n",
      "                                   (scaled)                 (unscaled)\n",
      "Objective...............:   2.2616999671251139e+00    2.2616999671251139e+00\n",
      "Dual infeasibility......:   1.5845103007450234e-12    1.5845103007450234e-12\n",
      "Constraint violation....:   1.1156510235093989e-15    1.1156510235093989e-15\n",
      "Complementarity.........:   2.5104719368554537e-09    2.5104719368554537e-09\n",
      "Overall NLP error.......:   2.5104719368554537e-09    2.5104719368554537e-09\n",
      "\n",
      "\n",
      "Number of objective function evaluations             = 8\n",
      "Number of objective gradient evaluations             = 8\n",
      "Number of equality constraint evaluations            = 8\n",
      "Number of inequality constraint evaluations          = 8\n",
      "Number of equality constraint Jacobian evaluations   = 8\n",
      "Number of inequality constraint Jacobian evaluations = 8\n",
      "Number of Lagrangian Hessian evaluations             = 7\n",
      "Total CPU secs in IPOPT (w/o function evaluations)   =      0.016\n",
      "Total CPU secs in NLP function evaluations           =      0.001\n",
      "\n",
      "EXIT: Optimal Solution Found.\n",
      "\b\n",
      "\n",
      "X[('gen1', 'oil')]=\t0.0\n",
      "X[('gen1', 'gas')]=\t28.451108064964554\n",
      "X[('gen2', 'oil')]=\t2.335000694234001e-09\n",
      "X[('gen2', 'gas')]=\t23.49133044521917\n",
      "P[gen1]=\t28.451108056556897\n",
      "P[gen2]=\t23.49133044755417\n",
      "Z[oil]=\t2.261699967125114\n",
      "Z[gas]=\t28770.877504456963\n",
      "OILPUR =\t2.261699967125114\n"
     ]
    }
   ],
   "source": [
    "ipopt = SolverFactory('ipopt')\n",
    "results = ipopt.solve(model, tee=True)"
   ]
  },
  {
   "cell_type": "markdown",
   "metadata": {},
   "source": [
    "# Print results"
   ]
  },
  {
   "cell_type": "code",
   "execution_count": null,
   "metadata": {},
   "outputs": [],
   "source": [
    "for key in model.X.keys():\n",
    "    print('X[{}]=\\t{}'.format(key, value(model.X[key])))\n",
    "for key in model.P.keys():\n",
    "    print('P[{}]=\\t{}'.format(key, value(model.P[key])))\n",
    "for key in model.Z.keys():\n",
    "    print('Z[{}]=\\t{}'.format(key, value(model.Z[key])))\n",
    "print('OILPUR =\\t{}'.format(value(model.OILPUR)))"
   ]
  },
  {
   "cell_type": "code",
   "execution_count": null,
   "metadata": {},
   "outputs": [],
   "source": []
  }
 ],
 "metadata": {
  "kernelspec": {
   "display_name": "Python 3",
   "language": "python",
   "name": "python3"
  },
  "language_info": {
   "codemirror_mode": {
    "name": "ipython",
    "version": 3
   },
   "file_extension": ".py",
   "mimetype": "text/x-python",
   "name": "python",
   "nbconvert_exporter": "python",
   "pygments_lexer": "ipython3",
   "version": "3.7.3"
  },
  "pycharm": {
   "stem_cell": {
    "cell_type": "raw",
    "metadata": {
     "collapsed": false
    },
    "source": []
   }
  }
 },
 "nbformat": 4,
 "nbformat_minor": 4
}
