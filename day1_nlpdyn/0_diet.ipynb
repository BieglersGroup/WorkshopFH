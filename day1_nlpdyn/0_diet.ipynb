{
 "cells": [
  {
   "cell_type": "markdown",
   "metadata": {},
   "source": [
    "# Diet problem\n",
    "(Adapted from the pyomo/examples/pyomo files)"
   ]
  },
  {
   "cell_type": "markdown",
   "metadata": {},
   "source": [
    "The goal of this problem is to *minimize* cost.  \n",
    "The variables of the problem include the decision of weather a certain food is bought or not.  \n",
    "Furthermore, the constraints ensure that *at least* one entree, side and drink are selected."
   ]
  },
  {
   "cell_type": "markdown",
   "metadata": {},
   "source": [
    "This model is written with the following structure:  \n",
    "\n",
    "1. Package imports\n",
    "2. Model and Set declaration\n",
    "3. Parameter declaration and initialization\n",
    "4. Variable declaration and initialization\n",
    "5. Constraint declaration and initialization\n",
    "6. Objective function\n",
    "7. Solution"
   ]
  },
  {
   "cell_type": "markdown",
   "metadata": {},
   "source": [
    "### 1. Package imports"
   ]
  },
  {
   "cell_type": "code",
   "execution_count": 1,
   "metadata": {},
   "outputs": [],
   "source": [
    "from pyomo.environ import *   #: Same as usual\n",
    "from pyomo.opt import SolverFactory"
   ]
  },
  {
   "cell_type": "markdown",
   "metadata": {},
   "source": [
    "### 2. Model and Set declaration"
   ]
  },
  {
   "cell_type": "markdown",
   "metadata": {},
   "source": [
    "Note how the model *must* be declared first. Subsequently, every component from the model is attached to the model."
   ]
  },
  {
   "cell_type": "code",
   "execution_count": 2,
   "metadata": {},
   "outputs": [],
   "source": [
    "m = ConcreteModel()  #: Declare model"
   ]
  },
  {
   "cell_type": "markdown",
   "metadata": {},
   "source": [
    "The set *food* contains the overall available dishes.  \n",
    "In order to create this set, there are a number of ways to specify its items.   \n",
    "*One* of the possible ways is to specify its items as a *python list* of strings, i.e.:"
   ]
  },
  {
   "cell_type": "code",
   "execution_count": 3,
   "metadata": {},
   "outputs": [],
   "source": [
    "foods = [\"QPwCheese\", \"MDwCheese\", \"LeBigMac\", \"FOFish\", \"McGChicken\", \"Fries\", \"McSausage\", \"LfMilk\", \"OJ\"]"
   ]
  },
  {
   "cell_type": "markdown",
   "metadata": {},
   "source": [
    "Then, the set is *initialized* using the `initialize` keyword of the Set constructor,"
   ]
  },
  {
   "cell_type": "code",
   "execution_count": 4,
   "metadata": {},
   "outputs": [],
   "source": [
    "m.food = Set(initialize=foods)"
   ]
  },
  {
   "cell_type": "markdown",
   "metadata": {},
   "source": [
    "Finally, we can reuse the dictionary to define the kinds of dishes available,"
   ]
  },
  {
   "cell_type": "code",
   "execution_count": 5,
   "metadata": {},
   "outputs": [
    {
     "name": "stdout",
     "output_type": "stream",
     "text": [
      "entres:  ['QPwCheese', 'MDwCheese', 'LeBigMac', 'FOFish', 'McGChicken']\n",
      "sides:  ['Fries', 'McSausage']\n",
      "drinks:  ['LfMilk', 'OJ']\n"
     ]
    }
   ],
   "source": [
    "entree = foods[:5]\n",
    "side = foods[5:7]\n",
    "drink = foods[7:]\n",
    "print(\"entres: \", entree)\n",
    "print(\"sides: \", side)\n",
    "print(\"drinks: \", drink)"
   ]
  },
  {
   "cell_type": "code",
   "execution_count": 6,
   "metadata": {},
   "outputs": [],
   "source": [
    "NUTR = [\"Cal\", \"Carbo\", \"Protein\", \"VitA\", \"VitC\", \"Calc\", \"Iron\"]"
   ]
  },
  {
   "cell_type": "code",
   "execution_count": 7,
   "metadata": {},
   "outputs": [],
   "source": [
    "m.nutr = Set(initialize=NUTR)"
   ]
  },
  {
   "cell_type": "markdown",
   "metadata": {},
   "source": [
    "### 3. Parameter declaration and initialization"
   ]
  },
  {
   "cell_type": "markdown",
   "metadata": {},
   "source": [
    "The parameters are declared over a set (e.g. food). To specify the values of such parameters, it is possible to use a dictionary whose key correspond to the values of the set."
   ]
  },
  {
   "cell_type": "code",
   "execution_count": 8,
   "metadata": {},
   "outputs": [],
   "source": [
    "COST_DICT = dict.fromkeys(foods)\n",
    "COST_DICT = {\"QPwCheese\": 1.84,\n",
    "             \"MDwCheese\": 2.19, \n",
    "             \"LeBigMac\": 1.84, \n",
    "             \"FOFish\": 1.44, \n",
    "             \"McGChicken\": 2.29, \n",
    "             \"Fries\": 0.77, \n",
    "             \"McSausage\": 1.29, \n",
    "             \"LfMilk\": 0.60, \n",
    "             \"OJ\": 0.72}"
   ]
  },
  {
   "cell_type": "markdown",
   "metadata": {},
   "source": [
    "Then, the dictionary is passed to the respective parameter using the `initialize` keyword."
   ]
  },
  {
   "cell_type": "code",
   "execution_count": 9,
   "metadata": {},
   "outputs": [],
   "source": [
    "m.cost = Param(m.food, initialize=COST_DICT, within=PositiveReals)"
   ]
  },
  {
   "cell_type": "markdown",
   "metadata": {},
   "source": [
    "Another way to initialize parameters over a set is using the `default` keyword."
   ]
  },
  {
   "cell_type": "code",
   "execution_count": 28,
   "metadata": {},
   "outputs": [
    {
     "name": "stdout",
     "output_type": "stream",
     "text": [
      "WARNING: Implicitly replacing the Component attribute f_min (type=<class\n",
      "    'pyomo.core.base.param.IndexedParam'>) on block unknown with a new\n",
      "    Component (type=<class 'pyomo.core.base.param.IndexedParam'>). This is\n",
      "    usually indicative of a modelling error. To avoid this warning, use\n",
      "    block.del_component() and block.add_component().\n"
     ]
    }
   ],
   "source": [
    "m.f_min = Param(m.food, within=NonNegativeReals, default=300.0)"
   ]
  },
  {
   "cell_type": "code",
   "execution_count": 11,
   "metadata": {},
   "outputs": [],
   "source": [
    "MAX_FOOD_SUPPLY = 20.0"
   ]
  },
  {
   "cell_type": "code",
   "execution_count": 29,
   "metadata": {},
   "outputs": [
    {
     "name": "stdout",
     "output_type": "stream",
     "text": [
      "WARNING: Implicitly replacing the Component attribute f_max (type=<class\n",
      "    'pyomo.core.base.param.IndexedParam'>) on block unknown with a new\n",
      "    Component (type=<class 'pyomo.core.base.param.IndexedParam'>). This is\n",
      "    usually indicative of a modelling error. To avoid this warning, use\n",
      "    block.del_component() and block.add_component().\n"
     ]
    }
   ],
   "source": [
    "m.f_max = Param(m.food, default=MAX_FOOD_SUPPLY)"
   ]
  },
  {
   "cell_type": "code",
   "execution_count": 14,
   "metadata": {},
   "outputs": [],
   "source": [
    "N_MIN = {\"Cal\": 2000, \"Carbo\": 350, \"Protein\": 55, \"VitA\": 100, \"VitC\": 100, \"Calc\": 100, \"Iron\": 100}"
   ]
  },
  {
   "cell_type": "code",
   "execution_count": 15,
   "metadata": {},
   "outputs": [],
   "source": [
    "m.n_min = Param(m.nutr, initialize=N_MIN)"
   ]
  },
  {
   "cell_type": "code",
   "execution_count": 16,
   "metadata": {},
   "outputs": [],
   "source": [
    "N_MAX = {\"Cal\": 0, \"Carbo\": 375, \"Protein\": 0, \"VitA\": 0, \"VitC\": 0, \"Calc\": 0, \"Iron\": 0}"
   ]
  },
  {
   "cell_type": "code",
   "execution_count": 17,
   "metadata": {},
   "outputs": [],
   "source": [
    "m.n_max = Param(m.nutr, initialize=N_MAX)"
   ]
  },
  {
   "cell_type": "code",
   "execution_count": 18,
   "metadata": {},
   "outputs": [],
   "source": [
    "AMT = {}\n",
    "AMT[(\"QPwCheese\",\"Cal\")] = 510\n",
    "AMT[(\"MDwCheese\",\"Cal\")] = 370\n",
    "AMT[(\"LeBigMac\",\"Cal\")] = 500\n",
    "AMT[(\"FOFish\",\"Cal\")] = 370\n",
    "AMT[(\"McGChicken\",\"Cal\")] = 400\n",
    "AMT[(\"Fries\",\"Cal\")] = 220\n",
    "AMT[(\"McSausage\",\"Cal\")] = 345\n",
    "AMT[(\"LfMilk\",\"Cal\")] = 110\n",
    "AMT[(\"OJ\",\"Cal\")] = 80\n",
    "AMT[(\"QPwCheese\",\"Carbo\")] = 34\n",
    "AMT[(\"MDwCheese\",\"Carbo\")] = 35\n",
    "AMT[(\"LeBigMac\",\"Carbo\")] = 42\n",
    "AMT[(\"FOFish\",\"Carbo\")] = 38\n",
    "AMT[(\"McGChicken\",\"Carbo\")] = 42\n",
    "AMT[(\"Fries\",\"Carbo\")] = 26\n",
    "AMT[(\"McSausage\",\"Carbo\")] = 27\n",
    "AMT[(\"LfMilk\",\"Carbo\")] = 12\n",
    "AMT[(\"OJ\",\"Carbo\")] = 20\n",
    "AMT[(\"QPwCheese\",\"Protein\")] = 28\n",
    "AMT[(\"MDwCheese\",\"Protein\")] = 24\n",
    "AMT[(\"LeBigMac\",\"Protein\")] = 25\n",
    "AMT[(\"FOFish\",\"Protein\")] = 14\n",
    "AMT[(\"McGChicken\",\"Protein\")] = 31\n",
    "AMT[(\"Fries\",\"Protein\")] = 3\n",
    "AMT[(\"McSausage\",\"Protein\")] = 15\n",
    "AMT[(\"LfMilk\",\"Protein\")] = 9\n",
    "AMT[(\"OJ\",\"Protein\")] = 1\n",
    "AMT[(\"QPwCheese\",\"VitA\")] = 15\n",
    "AMT[(\"MDwCheese\",\"VitA\")] = 15\n",
    "AMT[(\"LeBigMac\",\"VitA\")] = 6\n",
    "AMT[(\"FOFish\",\"VitA\")] = 2\n",
    "AMT[(\"McGChicken\",\"VitA\")] = 8\n",
    "AMT[(\"Fries\",\"VitA\")] = 0\n",
    "AMT[(\"McSausage\",\"VitA\")] = 4\n",
    "AMT[(\"LfMilk\",\"VitA\")] = 10\n",
    "AMT[(\"OJ\",\"VitA\")] = 2\n",
    "AMT[(\"QPwCheese\",\"VitC\")] = 6\n",
    "AMT[(\"MDwCheese\",\"VitC\")] = 10\n",
    "AMT[(\"LeBigMac\",\"VitC\")] = 2\n",
    "AMT[(\"FOFish\",\"VitC\")] = 0\n",
    "AMT[(\"McGChicken\",\"VitC\")] = 15\n",
    "AMT[(\"Fries\",\"VitC\")] = 15\n",
    "AMT[(\"McSausage\",\"VitC\")] = 0\n",
    "AMT[(\"LfMilk\",\"VitC\")] = 4\n",
    "AMT[(\"OJ\",\"VitC\")] = 120\n",
    "AMT[(\"QPwCheese\",\"Calc\")] = 30\n",
    "AMT[(\"MDwCheese\",\"Calc\")] = 20\n",
    "AMT[(\"LeBigMac\",\"Calc\")] = 25\n",
    "AMT[(\"FOFish\",\"Calc\")] = 15\n",
    "AMT[(\"McGChicken\",\"Calc\")] = 15\n",
    "AMT[(\"Fries\",\"Calc\")] = 0\n",
    "AMT[(\"McSausage\",\"Calc\")] = 20\n",
    "AMT[(\"LfMilk\",\"Calc\")] = 30\n",
    "AMT[(\"OJ\",\"Calc\")] = 2\n",
    "AMT[(\"QPwCheese\",\"Iron\")] = 20\n",
    "AMT[(\"MDwCheese\",\"Iron\")] = 20\n",
    "AMT[(\"LeBigMac\",\"Iron\")] = 20\n",
    "AMT[(\"FOFish\",\"Iron\")] = 10\n",
    "AMT[(\"McGChicken\",\"Iron\")] = 8\n",
    "AMT[(\"Fries\",\"Iron\")] = 2\n",
    "AMT[(\"McSausage\",\"Iron\")] = 15\n",
    "AMT[(\"LfMilk\",\"Iron\")] = 0\n",
    "AMT[(\"OJ\",\"Iron\")] = 2"
   ]
  },
  {
   "cell_type": "code",
   "execution_count": 19,
   "metadata": {},
   "outputs": [],
   "source": [
    "m.amt = Param(m.food, m.nutr, initialize=AMT)"
   ]
  },
  {
   "cell_type": "markdown",
   "metadata": {},
   "source": [
    "A third way is to use a python function, and setting the keyword to the function name (`initialize=function_name`)."
   ]
  },
  {
   "cell_type": "markdown",
   "metadata": {},
   "source": [
    "## 4. Variables"
   ]
  },
  {
   "cell_type": "code",
   "execution_count": 20,
   "metadata": {},
   "outputs": [],
   "source": [
    "def buy_bounds(mod, i):\n",
    "    return (mod.f_min[i], mod.f_max[i])\n",
    "\n",
    "m.buy = Var(m.food, bounds=buy_bounds, within=NonNegativeIntegers)"
   ]
  },
  {
   "cell_type": "markdown",
   "metadata": {},
   "source": [
    "## 5. Constraints"
   ]
  },
  {
   "cell_type": "code",
   "execution_count": 22,
   "metadata": {},
   "outputs": [],
   "source": [
    "def entree_rule(mod):\n",
    "    return sum(mod.buy[e] for e in entree) >= 1\n",
    "\n",
    "m.entree = Constraint(rule=entree_rule)"
   ]
  },
  {
   "cell_type": "code",
   "execution_count": 23,
   "metadata": {},
   "outputs": [],
   "source": [
    "def side_rule(mod):\n",
    "    return sum(mod.buy[s] for s in side) >= 1\n",
    "\n",
    "m.side = Constraint(rule=side_rule)"
   ]
  },
  {
   "cell_type": "code",
   "execution_count": 24,
   "metadata": {},
   "outputs": [],
   "source": [
    "def drink_rule(mod):\n",
    "    return sum(mod.buy[d] for d in drink) >=1\n",
    "\n",
    "m.drink = Constraint(rule=drink_rule)"
   ]
  },
  {
   "cell_type": "markdown",
   "metadata": {},
   "source": [
    "## 6. Objective"
   ]
  },
  {
   "cell_type": "code",
   "execution_count": 21,
   "metadata": {},
   "outputs": [],
   "source": [
    "def total_cost_rule(mod):\n",
    "    return sum(mod.cost[j] * mod.buy[j] for j in mod.food)\n",
    "m.total_cost = Objective(rule=total_cost_rule, sense=minimize)"
   ]
  },
  {
   "cell_type": "markdown",
   "metadata": {},
   "source": [
    "## 7. Solution"
   ]
  },
  {
   "cell_type": "code",
   "execution_count": 25,
   "metadata": {},
   "outputs": [],
   "source": [
    "opt = SolverFactory('cbc')  #: declare the solver"
   ]
  },
  {
   "cell_type": "code",
   "execution_count": 26,
   "metadata": {},
   "outputs": [
    {
     "name": "stdout",
     "output_type": "stream",
     "text": [
      "WARNING: Could not locate the 'cbc' executable, which is required for solver\n",
      "    cbc\n"
     ]
    },
    {
     "ename": "ApplicationError",
     "evalue": "No executable found for solver 'cbc'",
     "output_type": "error",
     "traceback": [
      "\u001b[1;31m---------------------------------------------------------------------------\u001b[0m",
      "\u001b[1;31mApplicationError\u001b[0m                          Traceback (most recent call last)",
      "\u001b[1;32m<ipython-input-26-fc42593075cd>\u001b[0m in \u001b[0;36m<module>\u001b[1;34m\u001b[0m\n\u001b[1;32m----> 1\u001b[1;33m \u001b[0mresults\u001b[0m \u001b[1;33m=\u001b[0m \u001b[0mopt\u001b[0m\u001b[1;33m.\u001b[0m\u001b[0msolve\u001b[0m\u001b[1;33m(\u001b[0m\u001b[0mm\u001b[0m\u001b[1;33m,\u001b[0m \u001b[0mtee\u001b[0m\u001b[1;33m=\u001b[0m\u001b[1;32mTrue\u001b[0m\u001b[1;33m)\u001b[0m\u001b[1;33m\u001b[0m\u001b[1;33m\u001b[0m\u001b[0m\n\u001b[0m",
      "\u001b[1;32m~\\Miniconda3\\lib\\site-packages\\pyomo\\opt\\base\\solvers.py\u001b[0m in \u001b[0;36msolve\u001b[1;34m(self, *args, **kwds)\u001b[0m\n\u001b[0;32m    514\u001b[0m         \u001b[1;34m\"\"\" Solve the problem \"\"\"\u001b[0m\u001b[1;33m\u001b[0m\u001b[1;33m\u001b[0m\u001b[0m\n\u001b[0;32m    515\u001b[0m \u001b[1;33m\u001b[0m\u001b[0m\n\u001b[1;32m--> 516\u001b[1;33m         \u001b[0mself\u001b[0m\u001b[1;33m.\u001b[0m\u001b[0mavailable\u001b[0m\u001b[1;33m(\u001b[0m\u001b[0mexception_flag\u001b[0m\u001b[1;33m=\u001b[0m\u001b[1;32mTrue\u001b[0m\u001b[1;33m)\u001b[0m\u001b[1;33m\u001b[0m\u001b[1;33m\u001b[0m\u001b[0m\n\u001b[0m\u001b[0;32m    517\u001b[0m         \u001b[1;31m#\u001b[0m\u001b[1;33m\u001b[0m\u001b[1;33m\u001b[0m\u001b[1;33m\u001b[0m\u001b[0m\n\u001b[0;32m    518\u001b[0m         \u001b[1;31m# If the inputs are models, then validate that they have been\u001b[0m\u001b[1;33m\u001b[0m\u001b[1;33m\u001b[0m\u001b[1;33m\u001b[0m\u001b[0m\n",
      "\u001b[1;32m~\\Miniconda3\\lib\\site-packages\\pyomo\\opt\\solver\\shellcmd.py\u001b[0m in \u001b[0;36mavailable\u001b[1;34m(self, exception_flag)\u001b[0m\n\u001b[0;32m    116\u001b[0m             \u001b[1;32mif\u001b[0m \u001b[0mexception_flag\u001b[0m\u001b[1;33m:\u001b[0m\u001b[1;33m\u001b[0m\u001b[1;33m\u001b[0m\u001b[0m\n\u001b[0;32m    117\u001b[0m                 \u001b[0mmsg\u001b[0m \u001b[1;33m=\u001b[0m \u001b[1;34m\"No executable found for solver '%s'\"\u001b[0m\u001b[1;33m\u001b[0m\u001b[1;33m\u001b[0m\u001b[0m\n\u001b[1;32m--> 118\u001b[1;33m                 \u001b[1;32mraise\u001b[0m \u001b[0mApplicationError\u001b[0m\u001b[1;33m(\u001b[0m\u001b[0mmsg\u001b[0m \u001b[1;33m%\u001b[0m \u001b[0mself\u001b[0m\u001b[1;33m.\u001b[0m\u001b[0mname\u001b[0m\u001b[1;33m)\u001b[0m\u001b[1;33m\u001b[0m\u001b[1;33m\u001b[0m\u001b[0m\n\u001b[0m\u001b[0;32m    119\u001b[0m             \u001b[1;32mreturn\u001b[0m \u001b[1;32mFalse\u001b[0m\u001b[1;33m\u001b[0m\u001b[1;33m\u001b[0m\u001b[0m\n\u001b[0;32m    120\u001b[0m         \u001b[1;32mreturn\u001b[0m \u001b[1;32mTrue\u001b[0m\u001b[1;33m\u001b[0m\u001b[1;33m\u001b[0m\u001b[0m\n",
      "\u001b[1;31mApplicationError\u001b[0m: No executable found for solver 'cbc'"
     ]
    }
   ],
   "source": [
    "results = opt.solve(m, tee=True)"
   ]
  },
  {
   "cell_type": "code",
   "execution_count": null,
   "metadata": {},
   "outputs": [],
   "source": []
  }
 ],
 "metadata": {
  "kernelspec": {
   "display_name": "Python 3",
   "language": "python",
   "name": "python3"
  },
  "language_info": {
   "codemirror_mode": {
    "name": "ipython",
    "version": 3
   },
   "file_extension": ".py",
   "mimetype": "text/x-python",
   "name": "python",
   "nbconvert_exporter": "python",
   "pygments_lexer": "ipython3",
   "version": "3.7.3"
  }
 },
 "nbformat": 4,
 "nbformat_minor": 4
}
