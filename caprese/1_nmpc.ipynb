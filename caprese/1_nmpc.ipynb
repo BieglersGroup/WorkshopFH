{
 "cells": [
  {
   "cell_type": "markdown",
   "metadata": {},
   "source": [
    "# Simple CSTR NMPC\n",
    "(By David T)"
   ]
  },
  {
   "cell_type": "markdown",
   "metadata": {},
   "source": [
    "### 0. Introduction\n",
    "In this example, the control of a simple CSTR reactor is demonstrated with the CAPRESE tools. For this model, a non-isothermal CSTR model is used. The kinetics represent the reaction between thiosulfate and hydrogen peroxide.\n",
    "\\begin{align}\n",
    "\\dfrac{dC_{A}}{dt} &= \\dfrac{F}{V} \\left(C_{A}^{in} - C_{A} \\right) - 2k T_{R}C_{A}^{2} \\\\\n",
    "\\dfrac{dT_{R}}{dt} &= \\dfrac{F}{V} \\left(T_{R}^{in} - T_{R} \\right) + \\dfrac{2 \\left(- \\Delta H_{R} \\right)k T_{R} C_{A}^{2}}{\\rho C_{p}} - \\dfrac{UA}{V \\rho C_{p}} \\left(T_{R} - T_{cw} \\right) \\\\\n",
    "\\dfrac{dT_{cw}}{dt} &= \\dfrac{F_{cw}}{V_{cw}} \\left(T_{cw}^{in} - T_{cw} \\right) + \\dfrac{2 \\left(- \\Delta H_{R} \\right)k T_{R} C_{A}^{2}}{\\rho C_{p}} - \\dfrac{UA}{V \\rho C_{p}} \\left(T_{R} - T_{cw} \\right) \\\\\n",
    "k \\left(T_{R} \\right) &= k_{0} \\exp \\left(\\dfrac{-E_{a}}{RT_{R}} \\right)\n",
    "\\end{align}\n",
    "Where $C_{A}$ is the concentration of thiosulfate, $T_{R}$ is the reactor temperature and the cooling water temperature $T_{cw}$.  \n",
    "For this problem, a simple NMPC strategy will be used, that is a formulation in the form:\n",
    " \\begin{equation}\n",
    "     \\begin{split}\n",
    "         \\min_{\\mathbf{u}_{k}} \\quad & \\varphi_{N} \\left(x_{N|k}\\right) +\\sum_{i=0}^{N-1} \\left[ x_{i|k}^{T}Q_{i}x_{i|k} + u_{i|k}^{T}R_{i}u_{i|k} \\right]\\\\\n",
    "         \\text{s.t.} \\quad &x_{l+1|k} = f \\left(x_{l|k}, u_{l|k}\\right) \\\\ & x_{0|k} = x \\left(k\\right) \\\\\n",
    "         &x_{l|k} \\in \\mathbb{X}, \\quad l \\in \\left\\lbrace 0,1,...,N-1 \\right\\rbrace, \\quad x_{N|k} \\in \\mathbb{X}_{f} \\\\\n",
    "         &u_{l|k} \\in \\mathbb{U}, \\quad l \\in \\left\\lbrace 0,1,...,N-1 \\right\\rbrace,\\\\\n",
    "     \\end{split}\n",
    " \\end{equation}\n",
    "where, $x$ and $u$ correspond to states and controls."
   ]
  },
  {
   "cell_type": "markdown",
   "metadata": {},
   "source": [
    "### 1. Model set-up"
   ]
  },
  {
   "cell_type": "code",
   "execution_count": null,
   "metadata": {
    "jupyter": {
     "source_hidden": true
    }
   },
   "outputs": [],
   "source": [
    "from pyomo.environ import *\n",
    "from sample_mods.cstr_rodrigo.cstr_c_nmpc import cstr_rodrigo_dae\n",
    "from nmpc_mhe.pyomo_dae.NMPCGen_pyDAE import NmpcGen_DAE\n",
    "from nmpc_mhe.aux.utils import load_iguess\n",
    "from nmpc_mhe.aux.utils import reconcile_nvars_mequations\n",
    "import matplotlib.pyplot as plt\n",
    "import sys, os"
   ]
  },
  {
   "cell_type": "markdown",
   "metadata": {},
   "source": [
    "To start, the *differential* states of the problem need to be defined in a list of strings."
   ]
  },
  {
   "cell_type": "code",
   "execution_count": null,
   "metadata": {},
   "outputs": [],
   "source": [
    "states = [\"Ca\", \"T\", \"Tj\"]"
   ]
  },
  {
   "cell_type": "code",
   "execution_count": null,
   "metadata": {},
   "outputs": [],
   "source": [
    "controls = [\"u1\"]\n",
    "u_bounds = {\"u1\": (200, 1000)}"
   ]
  },
  {
   "cell_type": "code",
   "execution_count": null,
   "metadata": {},
   "outputs": [],
   "source": [
    "state_bounds = {\"Ca\": (0.0, None), \"T\":(2.0E+02, None), \"Tj\":(2.0E+02, None)}"
   ]
  },
  {
   "cell_type": "code",
   "execution_count": null,
   "metadata": {},
   "outputs": [],
   "source": [
    "ref_state = {(\"Ca\", (0,)): 0.010}"
   ]
  },
  {
   "cell_type": "code",
   "execution_count": null,
   "metadata": {},
   "outputs": [],
   "source": [
    "mod = cstr_rodrigo_dae(1, 1)"
   ]
  },
  {
   "cell_type": "code",
   "execution_count": null,
   "metadata": {},
   "outputs": [],
   "source": [
    "e = NmpcGen_DAE(mod,\n",
    "                2,\n",
    "                states,\n",
    "                controls,\n",
    "                var_bounds=state_bounds,\n",
    "                u_bounds=u_bounds,\n",
    "                ref_state=ref_state,\n",
    "                override_solver_check=True)"
   ]
  },
  {
   "cell_type": "code",
   "execution_count": null,
   "metadata": {},
   "outputs": [],
   "source": [
    "e.get_state_vars()\n",
    "e.load_iguess_steady()\n",
    "load_iguess(e.SteadyRef, e.PlantSample, 0, 0)\n",
    "e.create_nmpc()\n",
    "reconcile_nvars_mequations(e.olnmpc)\n",
    "e.solve_dyn(e.PlantSample)\n",
    "e.find_target_ss()\n",
    "e.PlantSample.display()\n",
    "e.create_suffixes_nmpc()\n",
    "e.update_targets_nmpc()\n",
    "e.compute_QR_nmpc(n=-1)\n",
    "e.new_weights_olnmpc(1e-04, 1e+06)\n",
    "e.solve_dyn(e.PlantSample, stop_if_nopt=True)\n",
    "e.update_state_real()  # update the current state\n",
    "e.update_soi_sp_nmpc()\n",
    "e.preparation_phase_nmpc(as_strategy=False, make_prediction=False, plant_state=True)\n",
    "# e.load_init_state_nmpc(src_kind=\"state_dict\", state_dict=\"estimated\")\n",
    "e.olnmpc.pprint(filename=\"new_framework.txt\")\n",
    "stat_nmpc = e.solve_dyn(e.olnmpc, skip_update=False, max_cpu_time=300,\n",
    "                        jacobian_regularization_value=1e-04, tag=\"olnmpc\",\n",
    "                        keepsolve=False, wantparams=False)\n",
    "e.olnmpc.objfun_nmpc.pprint()\n",
    "e.olnmpc.xmpc_ref_nmpc.display()\n",
    "\n",
    "e.print_r_nmpc()\n",
    "e.update_u(e.olnmpc)  #: Get the resulting input for k+1\n",
    "e.cycleSamPlant(plant_step=True)\n",
    "e.plant_uinject(e.PlantSample, src_kind=\"dict\", skip_homotopy=True)\n",
    "# e.noisy_plant_manager(sigma=0.001, action=\"apply\", update_level=True)"
   ]
  },
  {
   "cell_type": "code",
   "execution_count": null,
   "metadata": {},
   "outputs": [],
   "source": [
    "for i in range(0, 500):\n",
    "    if i in [30 * (j * 2) for j in range(0, 100)]:\n",
    "        ref_state = {(\"Ca\", (0,)): 0.019}\n",
    "        e.change_setpoint(ref_state=ref_state, keepsolve=True, wantparams=True, tag=\"sp\")\n",
    "        e.compute_QR_nmpc(n=-1)\n",
    "        e.new_weights_olnmpc(1e-04, 1e+06)\n",
    "    elif i in [30 * (j * 2 + 1) for j in range(0, 100)]:\n",
    "        ref_state = {(\"Ca\", (0,)): 0.01}\n",
    "        e.change_setpoint(ref_state=ref_state, keepsolve=True, wantparams=True, tag=\"sp\")\n",
    "        e.compute_QR_nmpc(n=-1)\n",
    "        e.new_weights_olnmpc(1e-04, 1e+06)\n",
    "    e.solve_dyn(e.PlantSample, stop_if_nopt=True)\n",
    "    e.update_state_real()  # update the current state\n",
    "    e.update_soi_sp_nmpc()\n",
    "    e.preparation_phase_nmpc(as_strategy=False, make_prediction=False, plant_state=True)\n",
    "    stat_nmpc = e.solve_dyn(e.olnmpc, skip_update=False, max_cpu_time=300,\n",
    "                            jacobian_regularization_value=1e-04, tag=\"olnmpc\",\n",
    "                            keepsolve=False, wantparams=False)\n",
    "    if stat_nmpc != 0:\n",
    "        sys.exit()\n",
    "    e.print_r_nmpc()\n",
    "    e.update_u(e.olnmpc)  #: Get the resulting input for k+1\n",
    "    e.cycleSamPlant(plant_step=True)\n",
    "    e.plant_uinject(e.PlantSample, src_kind=\"dict\", skip_homotopy=True)\n",
    "    # sys.exit()\n",
    "    # e.noisy_plant_manager(sigma=0.01, action=\"apply\", update_level=True)\n",
    "\n",
    "# print(e.soi_dict[key])\n",
    "plt.plot(e.soi_dict[(\"Ca\", (0,))])\n",
    "plt.show()"
   ]
  }
 ],
 "metadata": {
  "kernelspec": {
   "display_name": "Python 3",
   "language": "python",
   "name": "python3"
  },
  "language_info": {
   "codemirror_mode": {
    "name": "ipython",
    "version": 3
   },
   "file_extension": ".py",
   "mimetype": "text/x-python",
   "name": "python",
   "nbconvert_exporter": "python",
   "pygments_lexer": "ipython3",
   "version": "3.7.4"
  }
 },
 "nbformat": 4,
 "nbformat_minor": 4
}
