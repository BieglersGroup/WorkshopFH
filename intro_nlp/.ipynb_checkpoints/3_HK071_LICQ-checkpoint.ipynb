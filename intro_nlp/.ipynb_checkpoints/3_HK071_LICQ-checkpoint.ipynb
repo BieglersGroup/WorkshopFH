{
 "cells": [
  {
   "cell_type": "markdown",
   "metadata": {},
   "source": [
    "# Hock-Schittkowsky 71 - Degenerate\n",
    "(Adapted from Problem number [71](https://www.coin-or.org/Ipopt/documentation/node20.html) from the Hock-Schittkowsky test suite and augmented with the formulation 4.2 of Curtis, et al. SIAM Journal on Optimization. 2009 Sep 16;20(3):1224-49.)"
   ]
  },
  {
   "cell_type": "markdown",
   "metadata": {},
   "source": [
    "> **Requirements**\n",
    "> - python3.X\n",
    "> - pyomo 5.X.X\n",
    "> - [ipopt](https://github.com/coin-or/Ipopt) 3.12.12 (tested with)"
   ]
  },
  {
   "cell_type": "markdown",
   "metadata": {},
   "source": [
    "### 0. Introduction"
   ]
  },
  {
   "cell_type": "markdown",
   "metadata": {},
   "source": [
    "In this problem, an ill-posed problem is tested with *ipopt*; to demonstrate the effects of \"bad\" modelling.\n",
    "Firstly, consider the problem:"
   ]
  },
  {
   "cell_type": "markdown",
   "metadata": {},
   "source": [
    "\\begin{align}\n",
    "\\text{minimize}_{x} \\quad & x_{1}x_{4} \\left(x_{1} + x_{2} + x_{3} \\right) + x_{3} \\\\\n",
    "\\text{subject to} \\quad & x_{1}x_{2}x_{3}x_{4} \\geq 25, \\\\\n",
    "& x_{1}^{2} + x_{2}^{2} + x_{3}^{2} + x_{4}^{2} = 40 \\\\\n",
    "& 1 \\leq x_{1}, x_{2}, x_{3}, x_{4} \\leq 5,\n",
    "\\end{align}"
   ]
  },
  {
   "cell_type": "markdown",
   "metadata": {},
   "source": [
    "With initial guess $x_{IG} = \\left(1,5,5,1 \\right)$. This problem is well-posed in the sense that the gradients of the constraints at the initial guess and at the solution $x^{*} = \\left(1, 4.7443, 3.8211, 1.3794\\right)$ are linearly independent.  \n",
    "However, one can make a modelling mistakes and create problematic cases; particularly for solvers like *ipopt*.\n",
    "For example, suppose that a constraint is added to the previous model so that:"
   ]
  },
  {
   "cell_type": "markdown",
   "metadata": {},
   "source": [
    "\\begin{align}\n",
    "c_{1} \\left(x\\right) &= 0 ,\\\\\n",
    "c_{1} \\left(x \\right) - c_{1}^{2} \\left( x \\right) & = 0,\n",
    "\\end{align}"
   ]
  },
  {
   "cell_type": "markdown",
   "metadata": {},
   "source": [
    "where the last constraint contains information of the already defined $c_{1} \\left(x \\right)= x_{1}^{2} + x_{2}^{2} + x_{3}^{2} + x_{4}^{2} - 40 = 0$. Clearly, this constraint does not change the feasible set of the original problem. However, the linearized functions of these constraints are inconsistent at all points for which $c_{1} \\neq 0$."
   ]
  },
  {
   "cell_type": "markdown",
   "metadata": {},
   "source": [
    "The purpose of this exercise is to notice the behaviour of the solver as a result of bad modelling.  \n",
    "Although `AbstractModels` are used, note that they are not necessary to construct this problem."
   ]
  },
  {
   "cell_type": "markdown",
   "metadata": {},
   "source": [
    "### 1. Package imports and model declaration"
   ]
  },
  {
   "cell_type": "markdown",
   "metadata": {},
   "source": [
    "For this model, the use of an *AbstractModel* will be shown. This kind of model is typical for problems whose structure depend on data. The *AbstractModel* will act as a blueprint for the overall model but it can *only* behave as a regular model after its instantiation. Note that for this case study a *ConcreteModel* would work just as fine."
   ]
  },
  {
   "cell_type": "code",
   "execution_count": 1,
   "metadata": {},
   "outputs": [],
   "source": [
    "from pyomo.environ import *\n",
    "from pyomo.opt import SolverFactory\n",
    "m = AbstractModel()  #: Abstract model for educational purposes"
   ]
  },
  {
   "cell_type": "markdown",
   "metadata": {},
   "source": [
    "### 2. Indexing sets and Variables"
   ]
  },
  {
   "cell_type": "markdown",
   "metadata": {},
   "source": [
    "The problem HK071 has four variables $x_{1}, x_{2}, x_{3}, x_{4}$. It is also possible to create a vector $x \\in \\mathbb{R}^{4}$. \n",
    "In abstract models, the sets and parameter data can be passed from a [text file](https://ampl.com/BOOK/CHAPTERS/12-data.pdf), the data can be also be written in tabular form.  \n",
    "It is known that the set of variables goes from 1...4, however this information can be part of the data file of the abstract model."
   ]
  },
  {
   "cell_type": "code",
   "execution_count": 2,
   "metadata": {},
   "outputs": [],
   "source": [
    "m.i = Set()  #: No particular initialization here."
   ]
  },
  {
   "cell_type": "code",
   "execution_count": 3,
   "metadata": {},
   "outputs": [],
   "source": [
    "x_guess = {1: 1, 2: 5, 3: 5, 4:1}"
   ]
  },
  {
   "cell_type": "markdown",
   "metadata": {},
   "source": [
    "The variables' initial value can be declared within the data file as well. Since the bounds of the variables are the same, it is possible to use the `bounds` keyword to assign the same bounds for all the variables."
   ]
  },
  {
   "cell_type": "code",
   "execution_count": 4,
   "metadata": {},
   "outputs": [],
   "source": [
    "#m.x = Var(m.i, initialize=x_guess, bounds=(1,5))\n",
    "m.x = Var(m.i, bounds=(1,5))"
   ]
  },
  {
   "cell_type": "markdown",
   "metadata": {},
   "source": [
    "### 3. Constraints and Objective"
   ]
  },
  {
   "cell_type": "code",
   "execution_count": 5,
   "metadata": {},
   "outputs": [],
   "source": [
    "def _c0_rule(mod):\n",
    "    return mod.x[1] * mod.x[2] * mod.x[3] * mod.x[4] >= 25\n",
    "m.c0 = Constraint(rule=_c0_rule)  #: nothing special about this one"
   ]
  },
  {
   "cell_type": "markdown",
   "metadata": {},
   "source": [
    "As noted in other examples meaningful *Constraint* objects require an expression. Moreover, there exists *Expression* objects that encapsulate symbolic relationships between variables. *Expression* objects can be conviniently used, for example, to initialize parts of a *Constraint* object. In the following example an *Expression* object is used to set the right-hand-side of the second constraint of the model."
   ]
  },
  {
   "cell_type": "code",
   "execution_count": 6,
   "metadata": {},
   "outputs": [],
   "source": [
    "m.e1 = Expression(rule=lambda mod: mod.x[1]**2 + mod.x[2]**2 + mod.x[3]**2 + mod.x[4]**2 - 40)  #: the expression is declared"
   ]
  },
  {
   "cell_type": "markdown",
   "metadata": {},
   "source": [
    "Then the expression is passed to the constraint objects."
   ]
  },
  {
   "cell_type": "code",
   "execution_count": 7,
   "metadata": {},
   "outputs": [],
   "source": [
    "m.c1 = Constraint(expr=m.e1 == 0)\n",
    "m.c2 = Constraint(expr=m.e1 - m.e1 ** 2 == 0)"
   ]
  },
  {
   "cell_type": "markdown",
   "metadata": {},
   "source": [
    "Finally, the objective is also defined using a python function:"
   ]
  },
  {
   "cell_type": "code",
   "execution_count": 8,
   "metadata": {},
   "outputs": [],
   "source": [
    "def _objective_rule(mod):\n",
    "    return mod.x[1] * mod.x[1] * (mod.x[1] + mod.x[2] + mod.x[3]) + mod.x[3]\n",
    "m.of = Objective(rule=_objective_rule, sense=minimize)"
   ]
  },
  {
   "cell_type": "markdown",
   "metadata": {},
   "source": [
    "Note that for the *AbstractModel* class, the constraints require python functions to pass on the respective expressions using the `rule` keyword."
   ]
  },
  {
   "cell_type": "markdown",
   "metadata": {},
   "source": [
    "### 4. Solution and discussion"
   ]
  },
  {
   "cell_type": "code",
   "execution_count": 9,
   "metadata": {},
   "outputs": [],
   "source": [
    "with open(\"hk071.dat\", \"w\") as f:\n",
    "    f.write(\"set i := 1 2 3 4;\\n\")\n",
    "    f.close()"
   ]
  },
  {
   "cell_type": "markdown",
   "metadata": {},
   "source": [
    "Before solving the problem an instance of the model must be constructed. If there is a data file, the construction of the instance can be done using the `create_instance` method as follows,"
   ]
  },
  {
   "cell_type": "code",
   "execution_count": 10,
   "metadata": {},
   "outputs": [],
   "source": [
    "instance = m.create_instance(\"hk071.dat\")"
   ]
  },
  {
   "cell_type": "markdown",
   "metadata": {},
   "source": [
    "At this point the instance of the model has been created. The instance basically behaves like a `ConcreteModel` and can be modified if necessary. For example, the variables can be set to the initial guess using the `set_value` method"
   ]
  },
  {
   "cell_type": "code",
   "execution_count": 11,
   "metadata": {},
   "outputs": [],
   "source": [
    "instance.x[1].set_value(1)\n",
    "instance.x[2].set_value(5)\n",
    "instance.x[3].set_value(5)\n",
    "instance.x[4].set_value(1)"
   ]
  },
  {
   "cell_type": "markdown",
   "metadata": {},
   "source": [
    "Then the solver can be created and called to solve the problem."
   ]
  },
  {
   "cell_type": "code",
   "execution_count": 12,
   "metadata": {},
   "outputs": [
    {
     "name": "stdout",
     "output_type": "stream",
     "text": [
      "Ipopt 3.12.12: \n",
      "\n",
      "******************************************************************************\n",
      "This program contains Ipopt, a library for large-scale nonlinear optimization.\n",
      " Ipopt is released as open source code under the Eclipse Public License (EPL).\n",
      "         For more information visit http://projects.coin-or.org/Ipopt\n",
      "******************************************************************************\n",
      "\n",
      "This is Ipopt version 3.12.12, running with linear solver mumps.\n",
      "NOTE: Other linear solvers might be more efficient (see Ipopt documentation).\n",
      "\n",
      "Number of nonzeros in equality constraint Jacobian...:        8\n",
      "Number of nonzeros in inequality constraint Jacobian.:        4\n",
      "Number of nonzeros in Lagrangian Hessian.............:       10\n",
      "\n",
      "Total number of variables............................:        4\n",
      "                     variables with only lower bounds:        0\n",
      "                variables with lower and upper bounds:        4\n",
      "                     variables with only upper bounds:        0\n",
      "Total number of equality constraints.................:        2\n",
      "Total number of inequality constraints...............:        1\n",
      "        inequality constraints with only lower bounds:        1\n",
      "   inequality constraints with lower and upper bounds:        0\n",
      "        inequality constraints with only upper bounds:        0\n",
      "\n",
      "iter    objective    inf_pr   inf_du lg(mu)  ||d||  lg(rg) alpha_du alpha_pr  ls\n",
      "   0  1.6109693e+01 1.15e+02 2.31e+01  -1.0 0.00e+00    -  0.00e+00 0.00e+00   0\n",
      "   1  1.5676098e+01 8.96e+01 2.80e+08  -1.0 3.06e-01    -  1.31e-01 2.35e-01h  1\n",
      "   2  1.5673876e+01 8.96e+01 1.61e+16  -1.0 4.04e+00    -  6.05e-02 6.97e-05h  1\n",
      "WARNING: Problem in step computation; switching to emergency mode.\n",
      "   3r 1.5673876e+01 8.96e+01 9.99e+02   1.6 0.00e+00  20.0 0.00e+00 0.00e+00R  1\n",
      "   4r 1.5004561e+01 2.50e+01 9.92e+02   1.6 3.55e+04    -  7.11e-03 1.09e-03f  1\n",
      "   5  1.4273713e+01 7.08e+00 2.23e+09  -1.0 8.76e-01    -  4.82e-01 1.00e+00f  1\n",
      "   6  1.4133142e+01 5.29e+00 1.97e+09  -1.0 2.98e+00    -  1.00e+00 1.80e-01h  1\n",
      "   7  1.4131736e+01 5.27e+00 1.97e+09  -1.0 2.92e+00    -  1.00e+00 1.79e-03h  1\n",
      "   8  1.4129049e+01 5.19e+00 1.95e+09  -1.0 2.31e+00    -  1.00e+00 8.56e-03h  1\n",
      "   9  1.4164550e+01 4.86e+00 2.47e+22  -1.0 3.64e+01    -  9.37e-02 3.50e-02h  1\n",
      "WARNING: Problem in step computation; switching to emergency mode.\n",
      "iter    objective    inf_pr   inf_du lg(mu)  ||d||  lg(rg) alpha_du alpha_pr  ls\n",
      "  10r 1.4164550e+01 4.86e+00 1.00e+03   0.4 0.00e+00    -  0.00e+00 0.00e+00R  1\n",
      "  11r 1.3990547e+01 1.70e+00 9.93e+02   0.4 2.12e+03    -  1.29e-02 9.89e-04f  1\n",
      "  12  1.5630190e+01 8.17e-01 7.83e+08  -1.0 3.57e-01    -  7.43e-01 1.00e+00h  1\n",
      "  13  1.4571593e+01 3.42e+00 2.19e+09  -1.0 3.54e+00    -  9.94e-01 1.00e+00h  1\n",
      "  14  1.3568868e+01 3.24e+00 1.05e+22  -1.0 3.39e+01    -  4.23e-01 2.92e-02f  1\n",
      "WARNING: Problem in step computation; switching to emergency mode.\n",
      "  15r 1.3568868e+01 3.24e+00 9.99e+02   0.1 0.00e+00    -  0.00e+00 0.00e+00R  1\n",
      "  16r 1.3754725e+01 7.50e-01 9.62e+02   0.1 1.62e+03    -  4.91e-02 8.62e-04f  1\n",
      "  17  1.2862651e+01 2.66e-01 7.27e+06  -1.0 1.15e+00    -  9.85e-01 2.70e-01f  1\n",
      "  18  1.2861289e+01 2.33e-01 6.72e+06  -1.0 1.51e-02   8.0 1.00e+00 1.07e-01h  1\n",
      "  19  1.2895648e+01 1.99e-02 1.47e+21  -1.0 1.27e-02   7.5 1.00e+00 9.36e-01h  1\n",
      "WARNING: Problem in step computation; switching to emergency mode.\n",
      "iter    objective    inf_pr   inf_du lg(mu)  ||d||  lg(rg) alpha_du alpha_pr  ls\n",
      "  20r 1.2895648e+01 1.99e-02 1.00e+03  -1.0 0.00e+00  20.0 0.00e+00 0.00e+00R  1\n",
      "  21r 1.2901480e+01 8.12e-04 6.07e+02  -1.0 2.71e+00    -  9.88e-01 6.89e-03f  1\n",
      "  22  1.2904404e+01 1.60e-06 4.69e+05  -1.0 1.35e-02    -  9.80e-01 1.00e+00f  1\n",
      "  23  1.2905723e+01 3.06e-04 2.21e+02  -1.0 1.72e-04   6.0 1.00e+00 1.00e+00f  1\n",
      "  24  1.2905240e+01 3.87e-05 3.03e+01  -2.5 1.20e-03    -  9.81e-01 1.00e+00h  1\n",
      "  25  1.2889921e+01 1.68e-04 4.48e+12  -3.8 1.63e-01    -  1.58e-01 1.00e+00f  1\n",
      "  26r 1.2889921e+01 1.68e-04 9.99e+02  -3.5 0.00e+00  17.8 0.00e+00 4.77e-07R 22\n",
      "  27r 1.2889273e+01 1.11e-04 7.18e+02  -3.5 1.02e+01    -  3.90e-01 9.90e-04f  1\n",
      "  28  1.2791745e+01 1.51e-02 1.56e+01  -3.8 1.56e+01    -  1.29e-02 1.02e-01f  1\n",
      "  29  1.2791745e+01 1.51e-02 6.24e+08  -3.8 8.03e-09  16.9 1.00e+00 1.00e+00h  1\n",
      "iter    objective    inf_pr   inf_du lg(mu)  ||d||  lg(rg) alpha_du alpha_pr  ls\n",
      "  30  1.2791714e+01 1.50e-02 6.24e+08  -3.8 1.77e-01    -  1.00e+00 4.26e-03h  1\n",
      "  31  1.2791018e+01 1.20e-02 5.64e+08  -3.8 1.75e-01    -  1.00e+00 9.69e-02h  1\n",
      "  32  1.2791014e+01 1.20e-02 6.08e+12  -3.8 5.78e-02    -  1.00e+00 1.65e-03h  1\n",
      "  33  1.2791014e+01 1.20e-02 6.08e+12  -3.8 7.23e-07  19.1 5.45e-06 2.76e-05f  2\n",
      "  34r 1.2791014e+01 1.20e-02 1.00e+03  -1.7 0.00e+00  19.5 0.00e+00 3.92e-07R  9\n",
      "  35r 1.2787973e+01 7.26e-03 6.11e+02  -1.7 2.17e+01    -  9.73e-01 9.91e-04f  1\n",
      "  36  1.2780261e+01 1.08e-04 1.09e+03  -3.8 1.21e-01    -  9.36e-01 1.00e+00f  1\n",
      "  37  1.2774180e+01 1.53e-05 5.05e+09  -3.8 4.29e-02    -  9.99e-01 1.00e+00h  1\n",
      "  38  1.2774180e+01 1.53e-05 5.05e+09  -3.8 4.29e-10  19.1 1.00e+00 1.00e+00h  1\n",
      "  39  1.2774180e+01 1.53e-05 5.05e+09  -3.8 1.29e-09  18.6 1.00e+00 1.00e+00h  1\n",
      "iter    objective    inf_pr   inf_du lg(mu)  ||d||  lg(rg) alpha_du alpha_pr  ls\n",
      "  40  1.2774180e+01 1.53e-05 5.06e+09  -3.8 3.86e-09  18.1 1.00e+00 1.00e+00h  1\n",
      "  41  1.2774201e+01 1.31e-10 2.24e+15  -3.8 5.14e-05    -  1.00e+00 1.00e+00h  1\n",
      "  42  1.2774201e+01 7.11e-15 1.23e+07  -3.8 4.04e-10    -  1.00e+00 1.00e+00h  1\n",
      "  43  1.2774201e+01 0.00e+00 7.22e+02  -5.7 2.61e-15  17.6 1.00e+00 1.00e+00   0\n",
      "Restoration phase is called at point that is almost feasible,\n",
      "  with constraint violation 0.000000e+00. Abort.\n",
      "\n",
      "Number of Iterations....: 43\n",
      "\n",
      "                                   (scaled)                 (unscaled)\n",
      "Objective...............:   1.2774201496583336e+01    1.2774201496583336e+01\n",
      "Dual infeasibility......:   7.2165524237720695e+02    7.2165524237720695e+02\n",
      "Constraint violation....:   0.0000000000000000e+00    0.0000000000000000e+00\n",
      "Complementarity.........:   1.8449144755205814e-06    1.8449144755205814e-06\n",
      "Overall NLP error.......:   1.8449144755205814e-06    7.2165524237720695e+02\n",
      "\n",
      "\n",
      "Number of objective function evaluations             = 101\n",
      "Number of objective gradient evaluations             = 41\n",
      "Number of equality constraint evaluations            = 101\n",
      "Number of inequality constraint evaluations          = 101\n",
      "Number of equality constraint Jacobian evaluations   = 47\n",
      "Number of inequality constraint Jacobian evaluations = 47\n",
      "Number of Lagrangian Hessian evaluations             = 44\n",
      "Total CPU secs in IPOPT (w/o function evaluations)   =      0.065\n",
      "Total CPU secs in NLP function evaluations           =      0.001\n",
      "\n",
      "EXIT: Restoration Failed!\n",
      "\bWarning, something went wrong!\n"
     ]
    }
   ],
   "source": [
    "opt = SolverFactory('ipopt')\n",
    "try:\n",
    "    res = opt.solve(instance, tee=True)\n",
    "except ValueError:\n",
    "    print(\"Warning, something went wrong!\")"
   ]
  },
  {
   "cell_type": "markdown",
   "metadata": {},
   "source": [
    "If *MUMPS* is used as linear solver and the default options are used, the solution will fail. In this case, the default output of ipopt reveals that the column *inf_du* has grown significantly right before termination. It is likely related to the failure to satisfy the *constraint qualifications* given the current \n",
    "formulation of the problem.  \n",
    "It is clear that a slight mistake in the modelling can be problematic. Nevertheless, for this case trying a different starting point or different options *might* actually help solving the problem."
   ]
  },
  {
   "cell_type": "markdown",
   "metadata": {},
   "source": [
    "### Optional 1: Fix the model"
   ]
  },
  {
   "cell_type": "markdown",
   "metadata": {},
   "source": [
    "The model can be easily fixed if the last constraint is removed. This can be done by using the `deactivate` method."
   ]
  },
  {
   "cell_type": "code",
   "execution_count": 13,
   "metadata": {},
   "outputs": [],
   "source": [
    "instance.c2.deactivate()"
   ]
  },
  {
   "cell_type": "markdown",
   "metadata": {},
   "source": [
    "And then solve again."
   ]
  },
  {
   "cell_type": "code",
   "execution_count": 14,
   "metadata": {},
   "outputs": [
    {
     "name": "stdout",
     "output_type": "stream",
     "text": [
      "Ipopt 3.12.12: \n",
      "\n",
      "******************************************************************************\n",
      "This program contains Ipopt, a library for large-scale nonlinear optimization.\n",
      " Ipopt is released as open source code under the Eclipse Public License (EPL).\n",
      "         For more information visit http://projects.coin-or.org/Ipopt\n",
      "******************************************************************************\n",
      "\n",
      "This is Ipopt version 3.12.12, running with linear solver mumps.\n",
      "NOTE: Other linear solvers might be more efficient (see Ipopt documentation).\n",
      "\n",
      "Number of nonzeros in equality constraint Jacobian...:        4\n",
      "Number of nonzeros in inequality constraint Jacobian.:        4\n",
      "Number of nonzeros in Lagrangian Hessian.............:       10\n",
      "\n",
      "Total number of variables............................:        4\n",
      "                     variables with only lower bounds:        0\n",
      "                variables with lower and upper bounds:        4\n",
      "                     variables with only upper bounds:        0\n",
      "Total number of equality constraints.................:        1\n",
      "Total number of inequality constraints...............:        1\n",
      "        inequality constraints with only lower bounds:        1\n",
      "   inequality constraints with lower and upper bounds:        0\n",
      "        inequality constraints with only upper bounds:        0\n",
      "\n",
      "iter    objective    inf_pr   inf_du lg(mu)  ||d||  lg(rg) alpha_du alpha_pr  ls\n",
      "   0  1.6109693e+01 1.12e+01 1.16e+01  -1.0 0.00e+00    -  0.00e+00 0.00e+00   0\n",
      "   1  1.4850455e+01 7.49e-01 1.02e+01  -1.0 6.11e-01    -  7.19e-02 1.00e+00f  1\n",
      "   2  1.4027437e+01 5.94e-01 8.83e+00  -1.0 2.84e-01    -  9.75e-01 2.16e-01f  1\n",
      "   3  1.3934035e+01 5.70e-02 1.50e+00  -1.0 5.58e-01    -  9.17e-01 1.00e+00f  1\n",
      "   4  1.3187327e+01 5.76e-01 7.49e-01  -1.0 6.44e-01   0.0 1.00e+00 8.78e-01f  1\n",
      "   5  1.2899806e+01 1.99e-02 5.55e-01  -1.7 5.53e-01    -  6.84e-01 1.00e+00h  1\n",
      "   6  1.2813575e+01 5.01e-03 8.29e-02  -1.7 2.49e-01  -0.5 1.00e+00 1.00e+00h  1\n",
      "   7  9.9297179e+00 1.17e+01 9.31e+00  -2.5 4.97e+01    -  3.32e-02 8.32e-01f  1\n",
      "   8  1.3929890e+01 8.36e+00 1.51e+01  -2.5 3.91e+00  -1.0 1.70e-01 1.00e+00h  1\n",
      "   9  1.3235318e+01 7.79e+00 1.96e+00  -2.5 8.02e+00  -0.5 2.42e-01 9.94e-02h  1\n",
      "iter    objective    inf_pr   inf_du lg(mu)  ||d||  lg(rg) alpha_du alpha_pr  ls\n",
      "  10  1.2036394e+01 8.01e+00 8.60e+01  -2.5 1.96e+01  -0.1 1.86e-01 7.06e-02f  1\n",
      "  11  1.2463059e+01 7.96e+00 4.64e+02  -2.5 3.02e+01   0.3 1.40e-01 1.68e-02h  3\n",
      "  12  1.2683491e+01 7.93e+00 4.17e+00  -2.5 1.91e+01   1.7 2.79e-02 5.86e-03h  5\n",
      "  13  9.0221920e+00 1.29e+01 2.24e+03  -2.5 2.96e+01   1.2 7.54e-05 1.53e-01f  1\n",
      "  14  8.9855409e+00 1.27e+01 4.14e+03  -2.5 6.22e+01    -  1.00e+00 1.55e-02h  1\n",
      "  15  7.6460600e+00 5.70e+00 2.46e+03  -2.5 6.09e+01    -  2.61e-02 5.88e-01h  1\n",
      "  16  7.6423533e+00 5.68e+00 1.40e+03  -2.5 2.41e+01    -  6.44e-01 3.08e-03h  1\n",
      "  17  7.4662937e+00 4.76e+00 2.64e+02  -2.5 1.43e+01    -  1.00e+00 5.79e-01h  1\n",
      "  18  7.4657394e+00 4.77e+00 1.88e+02  -2.5 6.02e+00    -  1.00e+00 3.88e-03h  1\n",
      "  19  7.4671997e+00 4.76e+00 1.87e+02  -2.5 4.15e-01    -  1.91e-03 2.08e-03h  1\n",
      "iter    objective    inf_pr   inf_du lg(mu)  ||d||  lg(rg) alpha_du alpha_pr  ls\n",
      "  20  7.9219896e+00 4.34e-01 4.83e+01  -2.5 3.11e-01    -  6.06e-03 1.00e+00h  1\n",
      "  21  7.9274134e+00 5.52e-03 9.94e-01  -2.5 5.93e-02    -  1.00e+00 1.00e+00h  1\n",
      "  22  7.3233406e+00 7.78e-01 6.67e-01  -2.5 1.32e+00    -  5.74e-01 4.82e-01f  1\n",
      "  23  7.4579108e+00 1.80e-02 2.68e-02  -2.5 1.19e-01    -  1.00e+00 1.00e+00h  1\n",
      "  24  7.3618522e+00 3.82e-02 4.02e-03  -2.5 1.60e-01    -  1.00e+00 1.00e+00h  1\n",
      "  25  7.3570184e+00 6.52e-04 1.63e-04  -2.5 2.22e-02    -  1.00e+00 1.00e+00h  1\n",
      "  26  7.3489341e+00 3.54e-05 1.38e-05  -3.8 2.43e-02    -  1.00e+00 1.00e+00h  1\n",
      "  27  7.3484746e+00 1.34e-07 4.42e-08  -5.7 1.22e-03    -  1.00e+00 1.00e+00h  1\n",
      "  28  7.3484691e+00 1.62e-11 6.39e-12  -8.6 1.62e-05    -  1.00e+00 1.00e+00h  1\n",
      "\n",
      "Number of Iterations....: 28\n",
      "\n",
      "                                   (scaled)                 (unscaled)\n",
      "Objective...............:   7.3484690666000256e+00    7.3484690666000256e+00\n",
      "Dual infeasibility......:   6.3903372634713431e-12    6.3903372634713431e-12\n",
      "Constraint violation....:   1.6243006939475890e-11    1.6243006939475890e-11\n",
      "Complementarity.........:   2.5154435038272142e-09    2.5154435038272142e-09\n",
      "Overall NLP error.......:   2.5154435038272142e-09    2.5154435038272142e-09\n",
      "\n",
      "\n",
      "Number of objective function evaluations             = 37\n",
      "Number of objective gradient evaluations             = 29\n",
      "Number of equality constraint evaluations            = 37\n",
      "Number of inequality constraint evaluations          = 37\n",
      "Number of equality constraint Jacobian evaluations   = 29\n",
      "Number of inequality constraint Jacobian evaluations = 29\n",
      "Number of Lagrangian Hessian evaluations             = 28\n",
      "Total CPU secs in IPOPT (w/o function evaluations)   =      0.035\n",
      "Total CPU secs in NLP function evaluations           =      0.001\n",
      "\n",
      "EXIT: Optimal Solution Found.\n",
      "\b"
     ]
    }
   ],
   "source": [
    "res = opt.solve(instance, tee=True)"
   ]
  },
  {
   "cell_type": "code",
   "execution_count": 15,
   "metadata": {},
   "outputs": [
    {
     "name": "stdout",
     "output_type": "stream",
     "text": [
      "x : Size=4, Index=i\n",
      "    Key : Lower : Value             : Upper : Fixed : Stale : Domain\n",
      "      1 :     1 :               1.0 :     5 : False : False :  Reals\n",
      "      2 :     1 : 3.449489669965906 :     5 : False : False :  Reals\n",
      "      3 :     1 : 1.449489760695073 :     5 : False : False :  Reals\n",
      "      4 :     1 :               5.0 :     5 : False : False :  Reals\n"
     ]
    }
   ],
   "source": [
    "instance.x.pprint()"
   ]
  },
  {
   "cell_type": "markdown",
   "metadata": {},
   "source": [
    "### Optional 2: examine the ipopt output\n",
    "Often, the output contains extremely important information. Although, it might be difficult to interpret; a large difference between the scales of the *inf_du* and *inf_pr* might signal failure of constraint qualifications.\n",
    "Also, one might try different options in ipopt.  \n",
    "For instance:"
   ]
  },
  {
   "cell_type": "code",
   "execution_count": 16,
   "metadata": {},
   "outputs": [],
   "source": [
    "with open(\"ipopt.opt\", \"w\") as f:\n",
    "    f.write(\"print_info_string yes\\n\")"
   ]
  },
  {
   "cell_type": "markdown",
   "metadata": {},
   "source": [
    "Try again with the bad constraint. Now, sometimes there is a new column at the end of the ipopt output."
   ]
  },
  {
   "cell_type": "code",
   "execution_count": 17,
   "metadata": {},
   "outputs": [
    {
     "name": "stdout",
     "output_type": "stream",
     "text": [
      "Ipopt 3.12.12: \n",
      "\n",
      "******************************************************************************\n",
      "This program contains Ipopt, a library for large-scale nonlinear optimization.\n",
      " Ipopt is released as open source code under the Eclipse Public License (EPL).\n",
      "         For more information visit http://projects.coin-or.org/Ipopt\n",
      "******************************************************************************\n",
      "\n",
      "This is Ipopt version 3.12.12, running with linear solver mumps.\n",
      "NOTE: Other linear solvers might be more efficient (see Ipopt documentation).\n",
      "\n",
      "Number of nonzeros in equality constraint Jacobian...:        8\n",
      "Number of nonzeros in inequality constraint Jacobian.:        4\n",
      "Number of nonzeros in Lagrangian Hessian.............:       10\n",
      "\n",
      "Total number of variables............................:        4\n",
      "                     variables with only lower bounds:        0\n",
      "                variables with lower and upper bounds:        4\n",
      "                     variables with only upper bounds:        0\n",
      "Total number of equality constraints.................:        2\n",
      "Total number of inequality constraints...............:        1\n",
      "        inequality constraints with only lower bounds:        1\n",
      "   inequality constraints with lower and upper bounds:        0\n",
      "        inequality constraints with only upper bounds:        0\n",
      "\n",
      "iter    objective    inf_pr   inf_du lg(mu)  ||d||  lg(rg) alpha_du alpha_pr  ls\n",
      "   0  7.4772395e+00 5.21e-01 4.50e+00  -1.0 0.00e+00    -  0.00e+00 0.00e+00   0 y\n",
      "   1  7.4810647e+00 5.03e-02 4.05e+07  -1.0 1.09e-01    -  9.86e-01 1.00e+00h  1 qa\n",
      "   2  7.4693433e+00 1.12e-02 3.40e+06  -1.0 4.24e-03   8.0 1.00e+00 1.00e+00h  1 Nh LNj L\n",
      "   3  7.4724123e+00 4.05e-04 4.52e+04  -1.0 7.91e-04   7.5 1.00e+00 1.00e+00h  1 L\n",
      "   4  7.4941653e+00 3.18e-05 7.73e+02  -1.0 5.52e-02    -  1.00e+00 1.00e+00f  1 qsL\n",
      "   5  7.4941423e+00 7.54e-07 2.90e+01  -2.5 2.59e-06   7.0 1.00e+00 1.00e+00h  1 qLa\n",
      "   6  7.4941180e+00 5.49e-09 4.53e+00  -3.8 3.67e-06   6.1 1.00e+00 1.00e+00h  1 sL\n",
      "   7  7.4115106e+00 3.47e-04 7.72e+04  -5.7 8.35e+01    -  5.02e-01 4.13e-03f  1 \n",
      "   8  7.4114290e+00 5.88e-08 4.26e+00  -5.7 3.33e-05   5.1 1.00e+00 1.00e+00h  1 sL\n",
      "   9  7.4077226e+00 2.88e-05 3.34e+03  -5.7 1.50e+02    -  2.29e-02 2.72e-04f  1 \n",
      "iter    objective    inf_pr   inf_du lg(mu)  ||d||  lg(rg) alpha_du alpha_pr  ls\n",
      "  10  7.4077526e+00 5.98e-10 1.16e+01  -5.7 2.53e-04   4.7 1.00e+00 1.00e+00h  1 sL\n",
      "  11  7.3471420e+00 1.61e-02 3.58e+06  -5.7 7.34e-01    -  1.00e+00 1.42e-01f  1 LaS\n",
      "  12  7.3513279e+00 1.25e-04 1.20e+05  -5.7 1.63e-03   6.4 1.78e-03 1.00e+00h  1 sL\n",
      "  13  7.3508627e+00 7.83e-05 7.44e+04  -5.7 4.30e-04    -  1.00e+00 3.80e-01h  1 sL\n",
      "  14  7.3498565e+00 3.12e-05 2.91e+04  -5.7 2.53e-04    -  1.00e+00 6.09e-01f  1 La\n",
      "  15  7.3498688e+00 3.03e-05 1.86e+08  -5.7 1.39e-04    -  1.00e+00 3.12e-02f  6 \n",
      "  16  7.3498689e+00 3.01e-05 2.26e+08  -5.7 1.24e-08  16.3 1.00e+00 1.00e+00h  1 La\n",
      "  17  7.3498692e+00 2.89e-05 4.59e+08  -5.7 7.57e-08  15.8 1.00e+00 1.00e+00h  1 L\n",
      "  18  7.3498613e+00 3.61e-09 1.48e+16  -5.7 2.16e-06  15.3 1.00e+00 1.00e+00h  1 S\n",
      "WARNING: Problem in step computation; switching to emergency mode.\n",
      "  19r 7.3498613e+00 3.61e-09 7.07e+02  -5.7 0.00e+00  19.3 0.00e+00 0.00e+00R  1 \n",
      "iter    objective    inf_pr   inf_du lg(mu)  ||d||  lg(rg) alpha_du alpha_pr  ls\n",
      "  20r 7.3504309e+00 1.70e-06 7.07e+00  -5.7 2.65e-03    -  9.90e-01 4.10e-01f  1 \n",
      "  21r 7.4310849e+00 3.61e-02 3.18e-01  -5.7 1.53e-01    -  9.89e-01 1.00e+00h  1 Nhj \n",
      "  22r 7.4310852e+00 3.61e-02 3.14e-01  -5.7 5.07e-03   0.0 6.03e-06 6.03e-06s  5 \n",
      "  23r 7.4310852e+00 3.61e-02 3.14e-01  -5.7 1.14e-02  -0.5 0.00e+00 0.00e+00R  1 R\n",
      "  24r 7.4332418e+00 3.44e-02 6.69e+01  -5.7 3.64e-02  -1.0 1.00e+00 2.99e-02f  6 \n",
      "  25r 7.4342003e+00 3.33e-02 6.28e+01  -5.7 3.53e-02  -0.5 1.00e+00 3.09e-02f  6 \n",
      "  26r 7.4353369e+00 3.21e-02 6.12e+01  -5.7 3.42e-02  -1.0 1.00e+00 3.09e-02f  6 \n",
      "  27r 7.4369428e+00 3.10e-02 5.96e+01  -5.7 3.32e-02  -0.6 1.00e+00 3.09e-02f  6 \n",
      "  28r 7.4371609e+00 3.04e-02 5.89e+01  -5.7 3.21e-02  -1.1 9.75e-01 1.55e-02f  7 F+\n",
      "  29r 7.5061033e+00 3.72e-04 7.38e-01  -5.7 3.16e-02  -0.6 1.00e+00 9.90e-01f  1 \n",
      "iter    objective    inf_pr   inf_du lg(mu)  ||d||  lg(rg) alpha_du alpha_pr  ls\n",
      "  30r 7.5077251e+00 3.57e-06 8.30e-03  -5.7 1.13e-03  -0.2 1.00e+00 9.90e-01f  1 \n",
      "  31r 7.5109141e+00 2.17e-07 8.85e-03  -5.7 1.35e-03  -0.7 1.00e+00 9.72e-01f  1 \n",
      "  32r 7.5169584e+00 1.50e-06 2.67e+00  -5.7 2.60e-03  -1.2 1.00e+00 7.66e-01h  1 \n",
      "  33r 7.5259259e+00 5.65e-06 2.67e+01  -5.7 5.11e-03  -1.6 1.00e+00 4.67e-01h  1 \n",
      "  34r 7.5318864e+00 4.01e-06 4.11e+01  -5.7 2.43e-03  -1.2 1.00e+00 6.28e-01h  1 \n",
      "  35r 7.5501673e+00 7.17e-05 8.25e+01  -5.7 9.90e-03  -1.7 1.00e+00 6.44e-01h  1 \n",
      "  36r 7.5513648e+00 1.01e-07 3.08e-01  -5.7 2.79e-04  -0.4 1.00e+00 1.00e+00h  1 \n",
      "  37r 7.5541888e+00 6.90e-07 3.68e-03  -5.7 7.94e-04  -0.8 1.00e+00 1.00e+00h  1 \n",
      "  38r 7.5589131e+00 1.93e-06 1.63e-03  -5.7 2.09e-03  -1.3 1.00e+00 1.00e+00h  1 \n",
      "  39r 7.5308726e+00 6.39e-03 5.01e+01  -5.7 4.84e-01    -  9.80e-01 1.35e-01h  2 \n",
      "iter    objective    inf_pr   inf_du lg(mu)  ||d||  lg(rg) alpha_du alpha_pr  ls\n",
      "  40r 7.5308735e+00 6.39e-03 7.93e+02  -5.7 3.74e-02    -  1.77e-04 4.41e-05h  3 \n",
      "  41r 7.5308738e+00 6.39e-03 8.01e+02  -5.7 3.74e-02    -  8.56e-05 1.65e-05h 11 \n",
      "  42r 7.5308767e+00 6.39e-03 8.01e+02  -5.7 3.74e-02    -  1.42e-04 1.42e-04s 22 \n",
      "  43r 7.5512097e+00 3.68e-06 7.59e+01  -5.7 3.74e-02    -  1.00e+00 1.00e+00s 22 \n",
      "  44r 7.5518954e+00 2.95e-08 7.60e+01  -5.7 1.62e-03    -  1.00e+00 0.00e+00S 22 \n",
      "  45r 7.5525849e+00 3.18e-09 1.95e+00  -5.7 1.65e-03    -  1.00e+00 9.74e-01h  1 \n",
      "  46r 7.5645804e+00 1.71e-07 4.09e+01  -5.7 3.32e-02    -  1.00e+00 8.36e-01H  1 \n",
      "  47r 7.5825941e+00 2.46e-06 3.40e+02  -5.7 9.99e-02    -  1.00e+00 4.20e-01h  2 \n",
      "  48r 7.6652659e+00 5.17e-05 1.79e-02  -5.7 1.96e-01    -  1.00e+00 1.00e+00h  1 \n",
      "  49r 7.6641934e+00 1.57e-06 3.58e-01  -5.7 1.03e-03  -1.8 1.00e+00 1.00e+00h  1 \n",
      "iter    objective    inf_pr   inf_du lg(mu)  ||d||  lg(rg) alpha_du alpha_pr  ls\n",
      "  50r 7.6925191e+00 6.12e-06 1.50e-02  -5.7 6.76e-02    -  1.00e+00 1.00e+00h  1 \n",
      "  51r 7.6839260e+00 2.90e-05 5.24e-03  -5.7 4.28e-03  -2.3 1.00e+00 1.00e+00h  1 \n",
      "  52r 7.6749042e+00 4.90e-08 1.92e-01  -5.7 7.57e-03  -2.7 1.00e+00 1.00e+00H  1 \n",
      "  53r 7.6735233e+00 4.19e-06 2.63e+02  -5.7 1.34e-02  -1.4 1.00e+00 1.25e-01h  4 \n",
      "  54r 7.6734639e+00 5.13e-09 2.48e-02  -5.7 6.60e-05  -1.0 1.00e+00 1.00e+00h  1 \n",
      "  55  7.6734639e+00 5.13e-09 4.17e+02  -5.7 2.12e-17  19.3 1.00e+00 1.00e+00   0 sL\n",
      "  56  7.6734639e+00 0.00e+00 8.36e+09  -5.7 4.54e-10  18.8 1.00e+00 1.00e+00h  1 S\n",
      "  57  7.6734639e+00 2.52e-07 2.74e+11  -5.7 1.57e-08  19.2 1.00e+00 1.00e+00h  1 L\n",
      "  58  7.6734638e+00 4.01e-07 4.30e+11  -5.7 9.25e-09  19.7 1.00e+00 1.00e+00h  1 La\n",
      "  59  7.6734639e+00 3.98e-07 3.92e+11  -5.7 1.40e-05    -  1.00e+00 7.81e-03h  8 \n",
      "WARNING: Problem in step computation; switching to emergency mode.\n",
      "iter    objective    inf_pr   inf_du lg(mu)  ||d||  lg(rg) alpha_du alpha_pr  ls\n",
      "  60r 7.6734639e+00 3.98e-07 9.96e+02  -5.7 0.00e+00  19.2 0.00e+00 0.00e+00R  1 \n",
      "  61r 7.6742861e+00 6.62e-08 1.09e+02  -5.7 4.46e-01    -  8.90e-01 3.67e-03f  1 \n",
      "  62r 8.6446921e+00 1.11e-02 3.33e+01  -5.7 2.85e+00    -  6.95e-01 9.02e-01h  1 Nhj \n",
      "  63r 8.6446805e+00 1.11e-02 5.45e+01  -5.7 8.53e-01    -  4.51e-05 4.41e-05h  1 \n",
      "  64r 8.6445419e+00 1.11e-02 5.15e+02  -5.7 3.88e-01    -  1.76e-05 9.24e-04h  3 \n",
      "  65r 8.6445353e+00 1.11e-02 5.15e+02  -5.7 2.10e-02    -  8.08e-04 2.44e-04h 13 \n",
      "  66r 8.6445337e+00 1.11e-02 4.96e+02  -5.7 2.10e-02    -  1.00e+00 6.10e-05h 15 \n",
      "  67r 8.6445029e+00 1.11e-02 4.95e+02  -5.7 2.12e-02    -  1.14e-03 1.14e-03s 22 \n",
      "  68r 8.6444453e+00 1.11e-02 4.94e+02  -5.7 1.94e-02    -  2.20e-03 2.20e-03s 22 \n",
      "  69r 8.6181314e+00 1.19e-04 1.10e+02  -5.7 1.99e-02    -  1.00e+00 1.00e+00s 22 \n",
      "iter    objective    inf_pr   inf_du lg(mu)  ||d||  lg(rg) alpha_du alpha_pr  ls\n",
      "  70r 8.6180681e+00 1.18e-06 1.32e+00  -5.7 1.25e-04   2.0 9.88e-01 9.88e-01s 22 \n",
      "  71r 8.6180701e+00 6.44e-09 3.20e-01  -5.7 1.63e-06   1.5 7.58e-01 7.58e-01s 22 \n",
      "  72r 8.6180753e+00 1.68e-07 1.59e-01  -5.7 1.38e-06   1.0 5.04e-01 5.04e-01s 22 \n",
      "  73r 8.6180908e+00 3.60e-09 2.02e+01  -5.7 4.14e-06   0.6 1.00e+00 0.00e+00S 22 \n",
      "  74r 8.6181482e+00 3.33e-08 2.37e+01  -5.7 1.26e-05   0.1 1.00e+00 6.07e-01h  1 \n",
      "  75r 8.6183200e+00 2.12e-09 4.73e+01  -5.7 3.80e-05  -0.4 1.00e+00 6.04e-01h  1 \n",
      "  76r 8.6188663e+00 2.51e-09 9.21e+01  -5.7 1.14e-04  -0.9 1.00e+00 6.42e-01h  1 \n",
      "  77r 8.6207927e+00 1.01e-07 1.07e+02  -5.7 3.35e-04  -1.3 1.00e+00 7.70e-01h  1 \n",
      "  78r 8.6277531e+00 1.28e-06 9.73e-05  -5.7 9.32e-04  -1.8 1.00e+00 1.00e+00h  1 \n",
      "  79r 8.2687558e+00 2.35e-03 6.56e-02  -5.7 1.17e+00    -  1.00e+00 1.00e+00h  1 \n",
      "iter    objective    inf_pr   inf_du lg(mu)  ||d||  lg(rg) alpha_du alpha_pr  ls\n",
      "  80r 8.2687547e+00 2.34e-03 7.41e+02  -5.7 1.85e-04  -1.4 1.32e-03 3.31e-04h  3 \n",
      "  81r 8.2687545e+00 2.34e-03 7.47e+02  -5.7 4.80e-04  -1.9 7.38e-04 2.74e-04h 10 \n",
      "  82r 8.2687544e+00 2.34e-03 3.33e+02  -5.7 1.82e-04  -1.4 1.00e+00 3.05e-05h 16 \n",
      "  83r 8.2687544e+00 2.34e-03 7.37e+02  -5.7 1.96e-04  -1.0 1.25e-03 1.88e-05h  9 \n",
      "  84r 8.2687513e+00 2.34e-03 7.36e+02  -5.7 1.88e-04  -1.5 1.03e-03 1.03e-03s 21 \n",
      "  85r 8.2655893e+00 1.33e-07 2.35e+01  -5.7 1.95e-04  -1.1 1.00e+00 1.00e+00s 21 \n",
      "  86r 8.2656107e+00 1.00e-08 2.68e-01  -5.7 4.79e-05    -  9.89e-01 9.89e-01s 21 \n",
      "  87r 8.2673063e+00 1.28e-08 4.95e+01  -5.7 3.96e-03    -  1.00e+00 0.00e+00S 21 F+\n",
      "  88r 8.2684532e+00 1.54e-08 1.75e+02  -5.7 3.83e-03    -  1.00e+00 6.51e-01h  1 \n",
      "  89r 8.2730645e+00 1.32e-07 1.01e-04  -5.7 1.01e-02    -  1.00e+00 1.00e+00h  1 \n",
      "iter    objective    inf_pr   inf_du lg(mu)  ||d||  lg(rg) alpha_du alpha_pr  ls\n",
      "  90r 8.3152449e+00 1.73e-05 3.22e-04  -5.7 1.08e-01    -  1.00e+00 1.00e+00h  1 \n",
      "  91r 8.3157195e+00 4.03e-09 1.36e-02  -5.7 7.45e-04    -  1.00e+00 1.00e+00h  1 \n",
      "  92r 8.3157130e+00 1.45e-12 3.22e-06  -5.7 8.46e-06    -  1.00e+00 1.00e+00h  1 A\n"
     ]
    },
    {
     "name": "stdout",
     "output_type": "stream",
     "text": [
      "  93r 7.9297015e+00 1.83e-03 2.51e-03  -8.6 9.18e-01    -  9.88e-01 1.00e+00f  1 \n",
      "  94r 7.9297015e+00 1.83e-03 2.41e-03  -8.6 1.47e-04  -1.5 2.97e-06 2.97e-06s  4 \n",
      "  95r 7.9273506e+00 4.36e-08 4.98e+02  -8.6 1.52e-04  -2.0 1.00e+00 0.00e+00S  4 \n",
      "  96r 7.9273493e+00 3.31e-12 4.12e-04  -8.6 3.37e-06    -  1.00e+00 1.00e+00f  1 \n",
      "  97r 7.9272068e+00 8.05e-10 2.97e+02  -8.6 4.56e-05  -2.5 1.00e+00 4.57e-01h  2 \n",
      "  98r 7.9262858e+00 3.41e-08 8.76e-06  -8.6 1.35e-04  -3.0 1.00e+00 1.00e+00h  1 \n",
      "  99r 7.7180182e+00 4.94e-04 2.58e-03  -8.6 4.87e-01    -  1.00e+00 1.00e+00h  1 \n",
      "iter    objective    inf_pr   inf_du lg(mu)  ||d||  lg(rg) alpha_du alpha_pr  ls\n",
      " 100r 7.7180182e+00 4.94e-04 5.00e+02  -8.6 3.63e-05  -2.5 4.22e-05 2.11e-05h  2 \n",
      " 101r 7.7180182e+00 4.94e-04 1.67e+02  -8.6 4.75e-05  -3.0 1.00e+00 1.53e-05h 17 \n",
      " 102r 7.7180182e+00 4.94e-04 1.67e+02  -8.6 4.12e-05  -2.6 0.00e+00 4.00e-07R  9 R\n",
      " 103r 7.7174342e+00 7.11e-14 1.63e+00  -8.6 1.81e-03  -3.1 1.00e+00 1.00e+00F  1 \n",
      " 104r 7.7174342e+00 5.97e-13 2.13e-08  -8.6 2.40e-08   0.1 1.00e+00 1.00e+00h  1 !\n",
      " 105r 7.6818807e+00 9.15e-06 2.51e-02 -11.0 7.92e-02    -  1.00e+00 1.00e+00h  1 \n",
      " 106r 7.6818807e+00 9.14e-06 8.69e+03 -11.0 9.73e-07  -0.4 3.82e-04 5.05e-04h  1 z\n",
      " 107r 7.6818806e+00 9.11e-06 6.87e+02 -11.0 9.71e-07  -0.9 1.00e+00 3.91e-03h  9 \n",
      " 108r 7.6818788e+00 7.97e-06 1.18e+04 -11.0 9.68e-07  -1.4 4.45e-03 1.25e-01h  4 \n",
      " 109r 7.6818787e+00 7.75e-06 1.15e+04 -11.0 2.48e-05    -  1.00e+00 2.79e-02h  2 \n",
      "iter    objective    inf_pr   inf_du lg(mu)  ||d||  lg(rg) alpha_du alpha_pr  ls\n",
      " 110r 7.6818787e+00 7.63e-06 1.13e+04 -11.0 2.41e-05    -  2.29e-01 1.56e-02h  7 z\n",
      " 111r 7.6818787e+00 7.58e-06 1.12e+04 -11.0 2.37e-05    -  1.00e+00 5.59e-03h  5 \n",
      " 112r 7.6818787e+00 7.58e-06 1.12e+04 -11.0 2.36e-05    -  2.46e-01 4.88e-04h 12 F+z\n",
      " 113r 7.6818784e+00 6.66e-06 9.87e+03 -11.0 2.36e-05    -  1.00e+00 1.22e-01h  1 z\n",
      " 114r 7.6818784e+00 6.63e-06 9.83e+03 -11.0 2.05e-05    -  4.72e-01 3.91e-03f  9 z\n",
      " 115r 7.6818764e+00 4.17e-11 1.29e+00 -11.0 2.04e-05    -  1.00e+00 1.00e+00h  1 \n",
      " 116r 7.6818764e+00 7.11e-14 1.61e+00 -11.0 1.38e-10  -0.0 1.00e+00 7.51e-01h  1 z\n",
      " 117r 7.6818764e+00 2.81e-12 7.43e+00 -11.0 3.75e-10  -0.5 1.00e+00 7.42e-01f  1 z\n",
      " 118r 7.6818764e+00 7.11e-15 3.05e+01 -11.0 1.06e-09  -1.0 1.00e+00 7.42e-01f  1 z\n",
      " 119r 7.6818764e+00 9.24e-14 9.62e+00 -11.0 3.05e-09  -1.5 1.00e+00 3.74e-01f  2 \n",
      "iter    objective    inf_pr   inf_du lg(mu)  ||d||  lg(rg) alpha_du alpha_pr  ls\n",
      " 120r 7.6818764e+00 1.92e-13 2.32e+02 -11.0 1.05e-08  -2.0 1.00e+00 5.90e-01h  1 z\n",
      " 121r 7.6818763e+00 1.42e-13 5.69e+01 -11.0 3.40e-08  -2.4 1.00e+00 2.23e-01f  3 \n",
      " 122r 7.6818757e+00 5.68e-14 1.09e+02 -11.0 2.36e-07  -2.9 1.00e+00 3.49e-01h  2 \n",
      " 123r 7.6818755e+00 1.42e-14 1.01e+03 -11.0 3.22e-08  -2.5 1.00e+00 8.90e-01h  1 z\n",
      " 124r 7.6818754e+00 1.42e-14 2.98e+02 -11.0 8.47e-08  -3.0 1.00e+00 1.25e-01f  4 \n",
      "Restoration phase converged to a feasible point that is\n",
      "unacceptable to the filter for the original problem.\n",
      "Restoration phase in the restoration phase failed.\n",
      "\n",
      "Number of Iterations....: 124\n",
      "\n",
      "                                   (scaled)                 (unscaled)\n",
      "Objective...............:   7.6818731936211666e+00    7.6818731936211666e+00\n",
      "Dual infeasibility......:   1.3262724001194229e+01    1.3262724001194229e+01\n",
      "Constraint violation....:   1.6342482922482304e-13    1.6342482922482304e-13\n",
      "Complementarity.........:   9.0909090909090807e-12    9.0909090909090807e-12\n",
      "Overall NLP error.......:   1.3262724001194229e+01    1.3262724001194229e+01\n",
      "\n",
      "\n",
      "Number of objective function evaluations             = 420\n",
      "Number of objective gradient evaluations             = 26\n",
      "Number of equality constraint evaluations            = 422\n",
      "Number of inequality constraint evaluations          = 422\n",
      "Number of equality constraint Jacobian evaluations   = 128\n",
      "Number of inequality constraint Jacobian evaluations = 128\n",
      "Number of Lagrangian Hessian evaluations             = 125\n",
      "Total CPU secs in IPOPT (w/o function evaluations)   =      0.149\n",
      "Total CPU secs in NLP function evaluations           =      0.004\n",
      "\n",
      "EXIT: Restoration Failed!\n",
      "\b"
     ]
    },
    {
     "ename": "ValueError",
     "evalue": "Cannot load a SolverResults object with bad status: error",
     "output_type": "error",
     "traceback": [
      "\u001b[0;31m---------------------------------------------------------------------------\u001b[0m",
      "\u001b[0;31mValueError\u001b[0m                                Traceback (most recent call last)",
      "\u001b[0;32m<ipython-input-17-147b0ee44660>\u001b[0m in \u001b[0;36m<module>\u001b[0;34m\u001b[0m\n\u001b[1;32m      1\u001b[0m \u001b[0minstance\u001b[0m\u001b[0;34m.\u001b[0m\u001b[0mc2\u001b[0m\u001b[0;34m.\u001b[0m\u001b[0mactivate\u001b[0m\u001b[0;34m(\u001b[0m\u001b[0;34m)\u001b[0m\u001b[0;34m\u001b[0m\u001b[0;34m\u001b[0m\u001b[0m\n\u001b[0;32m----> 2\u001b[0;31m \u001b[0mopt\u001b[0m\u001b[0;34m.\u001b[0m\u001b[0msolve\u001b[0m\u001b[0;34m(\u001b[0m\u001b[0minstance\u001b[0m\u001b[0;34m,\u001b[0m \u001b[0mtee\u001b[0m\u001b[0;34m=\u001b[0m\u001b[0;32mTrue\u001b[0m\u001b[0;34m)\u001b[0m\u001b[0;34m\u001b[0m\u001b[0;34m\u001b[0m\u001b[0m\n\u001b[0m",
      "\u001b[0;32m~/miniconda3/envs/kaiserslautern_main/lib/python3.7/site-packages/pyomo/opt/base/solvers.py\u001b[0m in \u001b[0;36msolve\u001b[0;34m(self, *args, **kwds)\u001b[0m\n\u001b[1;32m    631\u001b[0m                             \u001b[0mresult\u001b[0m\u001b[0;34m,\u001b[0m\u001b[0;34m\u001b[0m\u001b[0;34m\u001b[0m\u001b[0m\n\u001b[1;32m    632\u001b[0m                             \u001b[0mselect\u001b[0m\u001b[0;34m=\u001b[0m\u001b[0mself\u001b[0m\u001b[0;34m.\u001b[0m\u001b[0m_select_index\u001b[0m\u001b[0;34m,\u001b[0m\u001b[0;34m\u001b[0m\u001b[0;34m\u001b[0m\u001b[0m\n\u001b[0;32m--> 633\u001b[0;31m                             default_variable_value=self._default_variable_value)\n\u001b[0m\u001b[1;32m    634\u001b[0m                         \u001b[0mresult\u001b[0m\u001b[0;34m.\u001b[0m\u001b[0m_smap_id\u001b[0m \u001b[0;34m=\u001b[0m \u001b[0;32mNone\u001b[0m\u001b[0;34m\u001b[0m\u001b[0;34m\u001b[0m\u001b[0m\n\u001b[1;32m    635\u001b[0m                         \u001b[0mresult\u001b[0m\u001b[0;34m.\u001b[0m\u001b[0msolution\u001b[0m\u001b[0;34m.\u001b[0m\u001b[0mclear\u001b[0m\u001b[0;34m(\u001b[0m\u001b[0;34m)\u001b[0m\u001b[0;34m\u001b[0m\u001b[0;34m\u001b[0m\u001b[0m\n",
      "\u001b[0;32m~/miniconda3/envs/kaiserslautern_main/lib/python3.7/site-packages/pyomo/core/base/PyomoModel.py\u001b[0m in \u001b[0;36mload_from\u001b[0;34m(self, results, allow_consistent_values_for_fixed_vars, comparison_tolerance_for_fixed_vars, ignore_invalid_labels, id, delete_symbol_map, clear, default_variable_value, select, ignore_fixed_vars)\u001b[0m\n\u001b[1;32m    249\u001b[0m                 raise ValueError(\"Cannot load a SolverResults object \"\n\u001b[1;32m    250\u001b[0m                                  \u001b[0;34m\"with bad status: %s\"\u001b[0m\u001b[0;34m\u001b[0m\u001b[0;34m\u001b[0m\u001b[0m\n\u001b[0;32m--> 251\u001b[0;31m                                  % str(results.solver.status))\n\u001b[0m\u001b[1;32m    252\u001b[0m         \u001b[0;32mif\u001b[0m \u001b[0mclear\u001b[0m\u001b[0;34m:\u001b[0m\u001b[0;34m\u001b[0m\u001b[0;34m\u001b[0m\u001b[0m\n\u001b[1;32m    253\u001b[0m             \u001b[0;31m#\u001b[0m\u001b[0;34m\u001b[0m\u001b[0;34m\u001b[0m\u001b[0;34m\u001b[0m\u001b[0m\n",
      "\u001b[0;31mValueError\u001b[0m: Cannot load a SolverResults object with bad status: error"
     ]
    }
   ],
   "source": [
    "instance.c2.activate()\n",
    "opt.solve(instance, tee=True)"
   ]
  },
  {
   "cell_type": "markdown",
   "metadata": {},
   "source": [
    "Typically, the `L`, `q` and `s` are not good signs (https://www.coin-or.org/Ipopt/documentation/node37.html)"
   ]
  },
  {
   "cell_type": "markdown",
   "metadata": {},
   "source": [
    "### Credits:"
   ]
  },
  {
   "cell_type": "markdown",
   "metadata": {},
   "source": [
    "- David Thierry (Carnegie Mellon University @2019)"
   ]
  }
 ],
 "metadata": {
  "kernelspec": {
   "display_name": "Python 3",
   "language": "python",
   "name": "python3"
  },
  "language_info": {
   "codemirror_mode": {
    "name": "ipython",
    "version": 3
   },
   "file_extension": ".py",
   "mimetype": "text/x-python",
   "name": "python",
   "nbconvert_exporter": "python",
   "pygments_lexer": "ipython3",
   "version": "3.7.4"
  },
  "pycharm": {
   "stem_cell": {
    "cell_type": "raw",
    "metadata": {
     "collapsed": false
    },
    "source": []
   }
  }
 },
 "nbformat": 4,
 "nbformat_minor": 4
}
