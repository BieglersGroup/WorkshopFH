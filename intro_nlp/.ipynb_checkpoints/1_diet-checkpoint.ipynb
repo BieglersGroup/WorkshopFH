{
 "cells": [
  {
   "cell_type": "markdown",
   "metadata": {},
   "source": [
    "# The Diet problem\n",
    "(Adapted from the pyomo/examples/pyomo files and Ch2 of the ampl book)"
   ]
  },
  {
   "cell_type": "markdown",
   "metadata": {},
   "source": [
    "> **Requirements**\n",
    "> - python3.X\n",
    "> - pyomo 5.X.X\n",
    "> - [cbc](https://github.com/coin-or/Cbc) 2.10 (tested with)"
   ]
  },
  {
   "cell_type": "markdown",
   "metadata": {},
   "source": [
    "### 0. Introduction"
   ]
  },
  {
   "cell_type": "markdown",
   "metadata": {},
   "source": [
    "The goal of this problem is to *minimize* the cost of a meal given several available food items. The variables of the problem model the decision of weather a certain food is bought or not.  \n",
    "\n",
    "\\begin{align}\n",
    "\\text{minimize} \\quad & \\sum_{j \\in foods} C_{j} x_{j} \\\\\n",
    "\\text{subject to} \\quad & \\sum_{j \\in \\left\\lbrace meals, sides, drinks \\right\\rbrace} x_{j} \\geq 1\\\\\n",
    "&  0 \\leq x_{j} \\leq M, \\forall j \\in foods\n",
    "\\end{align}\n",
    "\n",
    "Furthermore, the constraints ensure that *at least* one entree, side and drink are selected. Variations of this problem include constraints for certain nutritional requirements (e.g. vitamins) to be met ($\\sum_{j \\in foods} p_{ij} x_{j} \\geq l_{i}, \\forall i \\in N$)."
   ]
  },
  {
   "cell_type": "markdown",
   "metadata": {},
   "source": [
    "This model is written with the following structure:  \n",
    "\n",
    "1. Package imports\n",
    "2. Model and Set declaration\n",
    "3. Parameter declaration and initialization\n",
    "4. Variable declaration and initialization\n",
    "5. Constraint declaration and initialization\n",
    "6. Objective function\n",
    "7. Solution"
   ]
  },
  {
   "cell_type": "markdown",
   "metadata": {},
   "source": [
    "### 1. Package imports"
   ]
  },
  {
   "cell_type": "markdown",
   "metadata": {},
   "source": [
    "We need to import certain packages to the current workspace, i.e. pyomo components."
   ]
  },
  {
   "cell_type": "code",
   "execution_count": 34,
   "metadata": {},
   "outputs": [],
   "source": [
    "from pyomo.environ import *   #: This imports most of the usual pyomo objects\n",
    "from pyomo.opt import SolverFactory  #: This imports the solver modules"
   ]
  },
  {
   "cell_type": "markdown",
   "metadata": {},
   "source": [
    "### 2. Model and Set declaration"
   ]
  },
  {
   "cell_type": "markdown",
   "metadata": {},
   "source": [
    "Note how the model *must* be declared first. Subsequently, every component from the model is attached to the model."
   ]
  },
  {
   "cell_type": "code",
   "execution_count": 2,
   "metadata": {},
   "outputs": [],
   "source": [
    "m = ConcreteModel()  #: Declare model"
   ]
  },
  {
   "cell_type": "markdown",
   "metadata": {},
   "source": [
    "The set *food* contains the overall available dishes.  \n",
    "In order to create this set, there are a number of ways to specify its items.   \n",
    "*One* of the possible ways is to specify its items as a *python list* of strings, i.e.:"
   ]
  },
  {
   "cell_type": "code",
   "execution_count": 3,
   "metadata": {},
   "outputs": [],
   "source": [
    "foods = [\"QPwCheese\", \"MDwCheese\", \"LeBigMac\", \"FOFish\", \"McGChicken\", \"Fries\", \"McSausage\", \"LfMilk\", \"OJ\"]"
   ]
  },
  {
   "cell_type": "markdown",
   "metadata": {},
   "source": [
    "Then, the set is *initialized* using the `initialize` keyword of the Set constructor,"
   ]
  },
  {
   "cell_type": "code",
   "execution_count": 35,
   "metadata": {},
   "outputs": [
    {
     "name": "stdout",
     "output_type": "stream",
     "text": [
      "WARNING: Implicitly replacing the Component attribute food (type=<class\n",
      "    'pyomo.core.base.sets.SimpleSet'>) on block unknown with a new Component\n",
      "    (type=<class 'pyomo.core.base.sets.SimpleSet'>). This is usually\n",
      "    indicative of a modelling error. To avoid this warning, use\n",
      "    block.del_component() and block.add_component().\n",
      "food : Dim=0, Dimen=1, Size=9, Domain=None, Ordered=False, Bounds=None\n",
      "    ['FOFish', 'Fries', 'LeBigMac', 'LfMilk', 'MDwCheese', 'McGChicken', 'McSausage', 'OJ', 'QPwCheese']\n"
     ]
    }
   ],
   "source": [
    "m.food = Set(initialize=foods)\n",
    "m.food.pprint()"
   ]
  },
  {
   "cell_type": "markdown",
   "metadata": {},
   "source": [
    "Finally, we can reuse the dictionary to define the kinds of dishes available,"
   ]
  },
  {
   "cell_type": "code",
   "execution_count": 36,
   "metadata": {},
   "outputs": [
    {
     "name": "stdout",
     "output_type": "stream",
     "text": [
      "entres:  ['QPwCheese', 'MDwCheese', 'LeBigMac', 'FOFish', 'McGChicken']\n",
      "sides:  ['Fries', 'McSausage']\n",
      "drinks:  ['LfMilk', 'OJ']\n"
     ]
    }
   ],
   "source": [
    "entree = foods[:5]\n",
    "side = foods[5:7]\n",
    "drink = foods[7:]\n",
    "print(\"entres: \", entree)\n",
    "print(\"sides: \", side)\n",
    "print(\"drinks: \", drink)"
   ]
  },
  {
   "cell_type": "markdown",
   "metadata": {},
   "source": [
    "### 3. Parameter declaration and initialization"
   ]
  },
  {
   "cell_type": "markdown",
   "metadata": {},
   "source": [
    "The parameters are declared over a set (e.g. food). To specify the values of such parameters, it is possible to use a dictionary whose key correspond to the values of the set."
   ]
  },
  {
   "cell_type": "code",
   "execution_count": 6,
   "metadata": {},
   "outputs": [],
   "source": [
    "COST_DICT = dict.fromkeys(foods)\n",
    "COST_DICT = {\"QPwCheese\": 1.84,\n",
    "             \"MDwCheese\": 2.19, \n",
    "             \"LeBigMac\": 1.84, \n",
    "             \"FOFish\": 1.44, \n",
    "             \"McGChicken\": 2.29, \n",
    "             \"Fries\": 0.77, \n",
    "             \"McSausage\": 1.29, \n",
    "             \"LfMilk\": 0.60, \n",
    "             \"OJ\": 0.72}"
   ]
  },
  {
   "cell_type": "markdown",
   "metadata": {},
   "source": [
    "Then, the dictionary is passed to the respective parameter using the `initialize` keyword."
   ]
  },
  {
   "cell_type": "code",
   "execution_count": 37,
   "metadata": {},
   "outputs": [
    {
     "name": "stdout",
     "output_type": "stream",
     "text": [
      "WARNING: Implicitly replacing the Component attribute cost (type=<class\n",
      "    'pyomo.core.base.param.IndexedParam'>) on block unknown with a new\n",
      "    Component (type=<class 'pyomo.core.base.param.IndexedParam'>). This is\n",
      "    usually indicative of a modelling error. To avoid this warning, use\n",
      "    block.del_component() and block.add_component().\n",
      "cost : Size=9, Index=food, Domain=PositiveReals, Default=None, Mutable=False\n",
      "    Key        : Value\n",
      "        FOFish :  1.44\n",
      "         Fries :  0.77\n",
      "      LeBigMac :  1.84\n",
      "        LfMilk :   0.6\n",
      "     MDwCheese :  2.19\n",
      "    McGChicken :  2.29\n",
      "     McSausage :  1.29\n",
      "            OJ :  0.72\n",
      "     QPwCheese :  1.84\n"
     ]
    }
   ],
   "source": [
    "m.cost = Param(m.food, initialize=COST_DICT, within=PositiveReals)\n",
    "m.cost.display()"
   ]
  },
  {
   "cell_type": "markdown",
   "metadata": {},
   "source": [
    "Another way to initialize parameters over a set is using the `default` keyword."
   ]
  },
  {
   "cell_type": "code",
   "execution_count": 8,
   "metadata": {},
   "outputs": [],
   "source": [
    "m.f_min = Param(m.food, within=NonNegativeReals, default=0.0)"
   ]
  },
  {
   "cell_type": "code",
   "execution_count": 38,
   "metadata": {},
   "outputs": [
    {
     "name": "stdout",
     "output_type": "stream",
     "text": [
      "20.0\n"
     ]
    }
   ],
   "source": [
    "MAX_FOOD_SUPPLY = 20\n",
    "print(MAX_FOOD_SUPPLY)"
   ]
  },
  {
   "cell_type": "code",
   "execution_count": 10,
   "metadata": {},
   "outputs": [],
   "source": [
    "m.f_max = Param(m.food, default=MAX_FOOD_SUPPLY)"
   ]
  },
  {
   "cell_type": "markdown",
   "metadata": {},
   "source": [
    "A third way is to use a python function, and setting the keyword to the function name (`initialize=function_name`)."
   ]
  },
  {
   "cell_type": "markdown",
   "metadata": {},
   "source": [
    "### 4. Variables"
   ]
  },
  {
   "cell_type": "markdown",
   "metadata": {},
   "source": [
    "As a fundamental part of the model, variables have several properties; like bounds and domain. Most of these properties can be set when the variable is constructed.  \n",
    "In a similar fashion as before, the *keywords* arguments can be used for this purpose. In the following example, the variable *buy* is constructed with specific bounds given by a python function `buy_bounds`,"
   ]
  },
  {
   "cell_type": "code",
   "execution_count": 11,
   "metadata": {},
   "outputs": [],
   "source": [
    "def buy_bounds(mod, i):  #: declare the function first\n",
    "    return (mod.f_min[i], mod.f_max[i])"
   ]
  },
  {
   "cell_type": "markdown",
   "metadata": {},
   "source": [
    "Then pass the function to the variable!."
   ]
  },
  {
   "cell_type": "code",
   "execution_count": 12,
   "metadata": {},
   "outputs": [],
   "source": [
    "m.buy = Var(m.food, bounds=buy_bounds, within=NonNegativeIntegers)"
   ]
  },
  {
   "cell_type": "markdown",
   "metadata": {},
   "source": [
    "Note that the python interpreter will read the script from top to bottom. Therefore the function(s) used to construct the variable (or objects, e.g. constraint, set, parameter) must be declared *before* they are referenced."
   ]
  },
  {
   "cell_type": "markdown",
   "metadata": {},
   "source": [
    "<div class=\"alert alert-block alert-info\">\n",
    "<b>Alert:</b> The function `buy_bounds` has an argument `mod`. `mod` and `m` are not the same, until it gets passed to the `Var` constructor.\n",
    "</div>"
   ]
  },
  {
   "cell_type": "markdown",
   "metadata": {},
   "source": [
    "### 5. Constraints"
   ]
  },
  {
   "cell_type": "markdown",
   "metadata": {},
   "source": [
    "In pyomo, in order to construct a constraint, it is necessary to provide an *expression*. In other words, a constraint *contains* an expression, e.g. an equality. For an indexed constraint, an expression is required for *every* element of the set.  \n",
    "The most common way of assigning an expressions for single or indexed constraints is through a python function. e.g."
   ]
  },
  {
   "cell_type": "code",
   "execution_count": 13,
   "metadata": {},
   "outputs": [],
   "source": [
    "def entree_rule(mod):  # note that mod is an argument!, mod and m are not necessarily the same\n",
    "    return sum(mod.buy[e] for e in entree) >= 1"
   ]
  },
  {
   "cell_type": "markdown",
   "metadata": {},
   "source": [
    "This function will *return* an expression; namely `sum(mod.buy[e] for e in entree) >= 1`. Then, the at the construction of the constraint, the keyword `rule` is intended to take a function that will provide the expression(s) for the constraint, "
   ]
  },
  {
   "cell_type": "code",
   "execution_count": 14,
   "metadata": {},
   "outputs": [],
   "source": [
    "m.entree = Constraint(rule=entree_rule)"
   ]
  },
  {
   "cell_type": "code",
   "execution_count": 39,
   "metadata": {},
   "outputs": [
    {
     "name": "stdout",
     "output_type": "stream",
     "text": [
      "entree : Size=1, Index=None, Active=True\n",
      "    Key  : Lower : Body                                                                            : Upper : Active\n",
      "    None :   1.0 : buy[QPwCheese] + buy[MDwCheese] + buy[LeBigMac] + buy[FOFish] + buy[McGChicken] :  +Inf :   True\n"
     ]
    }
   ],
   "source": [
    "m.entree.pprint()"
   ]
  },
  {
   "cell_type": "markdown",
   "metadata": {},
   "source": [
    "This can be used for most constraints within a model."
   ]
  },
  {
   "cell_type": "code",
   "execution_count": 15,
   "metadata": {},
   "outputs": [],
   "source": [
    "def side_rule(mod):  # note that mod and m are not necessarily equal!\n",
    "    return sum(mod.buy[s] for s in side) >= 1"
   ]
  },
  {
   "cell_type": "markdown",
   "metadata": {},
   "source": [
    "Then pass the `side_rule` to the constructor."
   ]
  },
  {
   "cell_type": "code",
   "execution_count": 16,
   "metadata": {},
   "outputs": [],
   "source": [
    "m.side = Constraint(rule=side_rule)"
   ]
  },
  {
   "cell_type": "markdown",
   "metadata": {},
   "source": [
    "Moreover, if the constraint is a *single* constraint; the expression can be declared directly,"
   ]
  },
  {
   "cell_type": "code",
   "execution_count": 17,
   "metadata": {},
   "outputs": [],
   "source": [
    "m.drink = Constraint(expr=sum(m.buy[d] for d in drink) >=1)"
   ]
  },
  {
   "cell_type": "markdown",
   "metadata": {},
   "source": [
    "Where the `expr` keyword is used for this purpose."
   ]
  },
  {
   "cell_type": "markdown",
   "metadata": {},
   "source": [
    "### 6. Objective"
   ]
  },
  {
   "cell_type": "markdown",
   "metadata": {},
   "source": [
    "While several objectives can be declared, it is typical to have a single expression as part of the objective and a *sense*, i.e. minimize or maximize.  \n",
    "The objective in this problem is to minimize the cost of the meal, i.e. $\\sum_{i \\in foods} C_{i} x_{i}$, where $C_{i}$ is the cost of item $i$ and $X_{i}$ is the number of items $i$ purchased.  \n",
    "In the following example a python function is used to return the expression and then the keyword `rule` is used during the construction of the Objective."
   ]
  },
  {
   "cell_type": "code",
   "execution_count": 18,
   "metadata": {},
   "outputs": [],
   "source": [
    "def total_cost_rule(mod):\n",
    "    return sum(mod.cost[j] * mod.buy[j] for j in mod.food)\n",
    "m.total_cost = Objective(rule=total_cost_rule, sense=minimize)"
   ]
  },
  {
   "cell_type": "markdown",
   "metadata": {},
   "source": [
    "### 7. Solution"
   ]
  },
  {
   "cell_type": "markdown",
   "metadata": {},
   "source": [
    "The solution of the problem can be done in a number of ways. Often, users would solve the problem *ad hoc*. In other words, solve within the script where the model has been declared.  \n",
    "Other ways of solving these problems include the command `pyomo solve challenging_model.py --solver=my_favourite_solver` in the terminal.  \n",
    "For now, the previously declared model `m` will be solved *ad hoc*. This requires calling a solver, which is part of a solver object of the class `SolverFactory`.  \n",
    "Firstly, assuming that the desired solver is in the *PATH*, declare the solver object:"
   ]
  },
  {
   "cell_type": "code",
   "execution_count": 19,
   "metadata": {},
   "outputs": [],
   "source": [
    "opt = SolverFactory('ipopt')  #: declare the solver note: you can use ipopt though the solution won't be correct"
   ]
  },
  {
   "cell_type": "markdown",
   "metadata": {},
   "source": [
    "Then, call the solver to solve the problem given by model `m`,"
   ]
  },
  {
   "cell_type": "code",
   "execution_count": 20,
   "metadata": {},
   "outputs": [
    {
     "name": "stdout",
     "output_type": "stream",
     "text": [
      "Welcome to the CBC MILP Solver \n",
      "Version: 2.9.7 \n",
      "Build Date: Nov 24 2015 \n",
      "\n",
      "command line - C:\\Users\\dav0\\cbc-win64\\cbc.exe -printingOptions all -import C:\\Users\\dav0\\AppData\\Local\\Temp\\tmpinc47h77.pyomo.lp -stat=1 -solve -solu C:\\Users\\dav0\\AppData\\Local\\Temp\\tmpinc47h77.pyomo.soln (default strategy 1)\n",
      "Option for printingOptions changed from normal to all\n",
      "Presolve 3 (-1) rows, 9 (-1) columns and 9 (-1) elements\n",
      "Statistics for presolved model\n",
      "Original problem has 9 integers (0 of which binary)\n",
      "Presolved problem has 9 integers (0 of which binary)\n",
      "==== 0 zero objective 8 different\n",
      "1 variables have objective of 0.6\n",
      "1 variables have objective of 0.72\n",
      "1 variables have objective of 0.77\n",
      "1 variables have objective of 1.29\n",
      "1 variables have objective of 1.44\n",
      "2 variables have objective of 1.84\n",
      "1 variables have objective of 2.19\n",
      "1 variables have objective of 2.29\n",
      "==== absolute objective values 8 different\n",
      "1 variables have objective of 0.6\n",
      "1 variables have objective of 0.72\n",
      "1 variables have objective of 0.77\n",
      "1 variables have objective of 1.29\n",
      "1 variables have objective of 1.44\n",
      "2 variables have objective of 1.84\n",
      "1 variables have objective of 2.19\n",
      "1 variables have objective of 2.29\n",
      "==== for integers 0 zero objective 8 different\n",
      "1 variables have objective of 0.6\n",
      "1 variables have objective of 0.72\n",
      "1 variables have objective of 0.77\n",
      "1 variables have objective of 1.29\n",
      "1 variables have objective of 1.44\n",
      "2 variables have objective of 1.84\n",
      "1 variables have objective of 2.19\n",
      "1 variables have objective of 2.29\n",
      "==== for integers absolute objective values 8 different\n",
      "1 variables have objective of 0.6\n",
      "1 variables have objective of 0.72\n",
      "1 variables have objective of 0.77\n",
      "1 variables have objective of 1.29\n",
      "1 variables have objective of 1.44\n",
      "2 variables have objective of 1.84\n",
      "1 variables have objective of 2.19\n",
      "1 variables have objective of 2.29\n",
      "===== end objective counts\n",
      "\n",
      "\n",
      "Problem has 3 rows, 9 columns (9 with objective) and 9 elements\n",
      "There are 9 singletons with objective \n",
      "Column breakdown:\n",
      "0 of type 0.0->inf, 9 of type 0.0->up, 0 of type lo->inf, \n",
      "0 of type lo->up, 0 of type free, 0 of type fixed, \n",
      "0 of type -inf->0.0, 0 of type -inf->up, 0 of type 0.0->1.0 \n",
      "Row breakdown:\n",
      "0 of type E 0.0, 0 of type E 1.0, 0 of type E -1.0, \n",
      "0 of type E other, 0 of type G 0.0, 3 of type G 1.0, \n",
      "0 of type G other, 0 of type L 0.0, 0 of type L 1.0, \n",
      "0 of type L other, 0 of type Range 0.0->1.0, 0 of type Range other, \n",
      "0 of type Free \n",
      "Continuous objective value is 2.81 - 0.00 seconds\n",
      "Cgl0004I processed model has 3 rows, 9 columns (9 integer (0 of which binary)) and 9 elements\n",
      "Cutoff increment increased from 1e-005 to 0.00999\n",
      "Cbc0012I Integer solution of 2.81 found by greedy cover after 0 iterations and 0 nodes (0.01 seconds)\n",
      "Cbc0001I Search completed - best objective 2.81, took 0 iterations and 0 nodes (0.01 seconds)\n",
      "Cbc0035I Maximum depth 0, 0 variables fixed on reduced cost\n",
      "Cuts at root node changed objective from 2.81 to 2.81\n",
      "Probing was tried 0 times and created 0 cuts of which 0 were active after adding rounds of cuts (0.000 seconds)\n",
      "Gomory was tried 0 times and created 0 cuts of which 0 were active after adding rounds of cuts (0.000 seconds)\n",
      "Knapsack was tried 0 times and created 0 cuts of which 0 were active after adding rounds of cuts (0.000 seconds)\n",
      "Clique was tried 0 times and created 0 cuts of which 0 were active after adding rounds of cuts (0.000 seconds)\n",
      "MixedIntegerRounding2 was tried 0 times and created 0 cuts of which 0 were active after adding rounds of cuts (0.000 seconds)\n",
      "FlowCover was tried 0 times and created 0 cuts of which 0 were active after adding rounds of cuts (0.000 seconds)\n",
      "TwoMirCuts was tried 0 times and created 0 cuts of which 0 were active after adding rounds of cuts (0.000 seconds)\n",
      "\n",
      "Result - Optimal solution found\n",
      "\n",
      "Objective value:                2.81000000\n",
      "Enumerated nodes:               0\n",
      "Total iterations:               0\n",
      "Time (CPU seconds):             0.01\n",
      "Time (Wallclock seconds):       0.01\n",
      "\n",
      "Total time (CPU seconds):       0.02   (Wallclock seconds):       0.02\n",
      "\n"
     ]
    }
   ],
   "source": [
    "results = opt.solve(m, tee=True)"
   ]
  },
  {
   "cell_type": "markdown",
   "metadata": {},
   "source": [
    "If the solver was *successful*. We can extract the results directly from the variables of the problem (e.g. using the `value(var)` build-in function). In this case the contents of the variable `buy` are displayed directly."
   ]
  },
  {
   "cell_type": "code",
   "execution_count": 21,
   "metadata": {},
   "outputs": [
    {
     "name": "stdout",
     "output_type": "stream",
     "text": [
      "buy : Size=9, Index=food\n",
      "    Key        : Lower : Value : Upper : Fixed : Stale : Domain\n",
      "        FOFish :   0.0 :   1.0 :  20.0 : False : False : NonNegativeIntegers\n",
      "         Fries :   0.0 :   1.0 :  20.0 : False : False : NonNegativeIntegers\n",
      "      LeBigMac :   0.0 :   0.0 :  20.0 : False : False : NonNegativeIntegers\n",
      "        LfMilk :   0.0 :   1.0 :  20.0 : False : False : NonNegativeIntegers\n",
      "     MDwCheese :   0.0 :   0.0 :  20.0 : False : False : NonNegativeIntegers\n",
      "    McGChicken :   0.0 :   0.0 :  20.0 : False : False : NonNegativeIntegers\n",
      "     McSausage :   0.0 :   0.0 :  20.0 : False : False : NonNegativeIntegers\n",
      "            OJ :   0.0 :   0.0 :  20.0 : False : False : NonNegativeIntegers\n",
      "     QPwCheese :   0.0 :   0.0 :  20.0 : False : False : NonNegativeIntegers\n"
     ]
    }
   ],
   "source": [
    "m.buy.display()  #: display contents"
   ]
  },
  {
   "cell_type": "markdown",
   "metadata": {},
   "source": [
    "### 7. Conclusions"
   ]
  },
  {
   "cell_type": "markdown",
   "metadata": {},
   "source": [
    "The diet problem can be *conveniently* constructed using basic python data-structures and functions. This particular example can be constructed in several ways. For example using `AbstractModel` as it is used in the pyomo documentation."
   ]
  },
  {
   "cell_type": "markdown",
   "metadata": {},
   "source": [
    "### Optional material"
   ]
  },
  {
   "cell_type": "markdown",
   "metadata": {},
   "source": [
    "A similar problem can consider purchasing a set of items satisfying certain nutritional requirements. For this a new constraint has to be considered with some extra data."
   ]
  },
  {
   "cell_type": "code",
   "execution_count": 22,
   "metadata": {},
   "outputs": [],
   "source": [
    "NUTR = [\"Cal\", \"Carbo\", \"Protein\", \"VitA\", \"VitC\", \"Calc\", \"Iron\"]"
   ]
  },
  {
   "cell_type": "code",
   "execution_count": 23,
   "metadata": {},
   "outputs": [],
   "source": [
    "m.nutr = Set(initialize=NUTR)  #: New set of nutrients"
   ]
  },
  {
   "cell_type": "code",
   "execution_count": 24,
   "metadata": {},
   "outputs": [],
   "source": [
    "N_MIN = {\"Cal\": 2000, \"Carbo\": 350, \"Protein\": 55, \"VitA\": 100, \"VitC\": 100, \"Calc\": 100, \"Iron\": 100}"
   ]
  },
  {
   "cell_type": "code",
   "execution_count": 25,
   "metadata": {},
   "outputs": [],
   "source": [
    "m.n_min = Param(m.nutr, initialize=N_MIN)  #: minimum amounts of nutrients"
   ]
  },
  {
   "cell_type": "code",
   "execution_count": 26,
   "metadata": {},
   "outputs": [],
   "source": [
    "N_MAX = {\"Cal\": float('inf'), \"Carbo\": 375, \"Protein\": float('inf'), \"VitA\": float('inf'), \"VitC\": float('inf'), \"Calc\": float('inf'), \"Iron\": float('inf')}"
   ]
  },
  {
   "cell_type": "code",
   "execution_count": 27,
   "metadata": {},
   "outputs": [],
   "source": [
    "m.n_max = Param(m.nutr, initialize=N_MAX)  #: maximum amounts of nutrients"
   ]
  },
  {
   "cell_type": "code",
   "execution_count": 28,
   "metadata": {},
   "outputs": [],
   "source": [
    "AMT = {}\n",
    "AMT[(\"QPwCheese\",\"Cal\")] = 510\n",
    "AMT[(\"MDwCheese\",\"Cal\")] = 370\n",
    "AMT[(\"LeBigMac\",\"Cal\")] = 500\n",
    "AMT[(\"FOFish\",\"Cal\")] = 370\n",
    "AMT[(\"McGChicken\",\"Cal\")] = 400\n",
    "AMT[(\"Fries\",\"Cal\")] = 220\n",
    "AMT[(\"McSausage\",\"Cal\")] = 345\n",
    "AMT[(\"LfMilk\",\"Cal\")] = 110\n",
    "AMT[(\"OJ\",\"Cal\")] = 80\n",
    "AMT[(\"QPwCheese\",\"Carbo\")] = 34\n",
    "AMT[(\"MDwCheese\",\"Carbo\")] = 35\n",
    "AMT[(\"LeBigMac\",\"Carbo\")] = 42\n",
    "AMT[(\"FOFish\",\"Carbo\")] = 38\n",
    "AMT[(\"McGChicken\",\"Carbo\")] = 42\n",
    "AMT[(\"Fries\",\"Carbo\")] = 26\n",
    "AMT[(\"McSausage\",\"Carbo\")] = 27\n",
    "AMT[(\"LfMilk\",\"Carbo\")] = 12\n",
    "AMT[(\"OJ\",\"Carbo\")] = 20\n",
    "AMT[(\"QPwCheese\",\"Protein\")] = 28\n",
    "AMT[(\"MDwCheese\",\"Protein\")] = 24\n",
    "AMT[(\"LeBigMac\",\"Protein\")] = 25\n",
    "AMT[(\"FOFish\",\"Protein\")] = 14\n",
    "AMT[(\"McGChicken\",\"Protein\")] = 31\n",
    "AMT[(\"Fries\",\"Protein\")] = 3\n",
    "AMT[(\"McSausage\",\"Protein\")] = 15\n",
    "AMT[(\"LfMilk\",\"Protein\")] = 9\n",
    "AMT[(\"OJ\",\"Protein\")] = 1\n",
    "AMT[(\"QPwCheese\",\"VitA\")] = 15\n",
    "AMT[(\"MDwCheese\",\"VitA\")] = 15\n",
    "AMT[(\"LeBigMac\",\"VitA\")] = 6\n",
    "AMT[(\"FOFish\",\"VitA\")] = 2\n",
    "AMT[(\"McGChicken\",\"VitA\")] = 8\n",
    "AMT[(\"Fries\",\"VitA\")] = 0\n",
    "AMT[(\"McSausage\",\"VitA\")] = 4\n",
    "AMT[(\"LfMilk\",\"VitA\")] = 10\n",
    "AMT[(\"OJ\",\"VitA\")] = 2\n",
    "AMT[(\"QPwCheese\",\"VitC\")] = 6\n",
    "AMT[(\"MDwCheese\",\"VitC\")] = 10\n",
    "AMT[(\"LeBigMac\",\"VitC\")] = 2\n",
    "AMT[(\"FOFish\",\"VitC\")] = 0\n",
    "AMT[(\"McGChicken\",\"VitC\")] = 15\n",
    "AMT[(\"Fries\",\"VitC\")] = 15\n",
    "AMT[(\"McSausage\",\"VitC\")] = 0\n",
    "AMT[(\"LfMilk\",\"VitC\")] = 4\n",
    "AMT[(\"OJ\",\"VitC\")] = 120\n",
    "AMT[(\"QPwCheese\",\"Calc\")] = 30\n",
    "AMT[(\"MDwCheese\",\"Calc\")] = 20\n",
    "AMT[(\"LeBigMac\",\"Calc\")] = 25\n",
    "AMT[(\"FOFish\",\"Calc\")] = 15\n",
    "AMT[(\"McGChicken\",\"Calc\")] = 15\n",
    "AMT[(\"Fries\",\"Calc\")] = 0\n",
    "AMT[(\"McSausage\",\"Calc\")] = 20\n",
    "AMT[(\"LfMilk\",\"Calc\")] = 30\n",
    "AMT[(\"OJ\",\"Calc\")] = 2\n",
    "AMT[(\"QPwCheese\",\"Iron\")] = 20\n",
    "AMT[(\"MDwCheese\",\"Iron\")] = 20\n",
    "AMT[(\"LeBigMac\",\"Iron\")] = 20\n",
    "AMT[(\"FOFish\",\"Iron\")] = 10\n",
    "AMT[(\"McGChicken\",\"Iron\")] = 8\n",
    "AMT[(\"Fries\",\"Iron\")] = 2\n",
    "AMT[(\"McSausage\",\"Iron\")] = 15\n",
    "AMT[(\"LfMilk\",\"Iron\")] = 0\n",
    "AMT[(\"OJ\",\"Iron\")] = 2"
   ]
  },
  {
   "cell_type": "code",
   "execution_count": 29,
   "metadata": {},
   "outputs": [],
   "source": [
    "m.amt = Param(m.food, m.nutr, initialize=AMT)  #: nutrition information"
   ]
  },
  {
   "cell_type": "markdown",
   "metadata": {},
   "source": [
    "With all the nutritional contents, the constraint can be created. For this a double sided inequality expression is used:"
   ]
  },
  {
   "cell_type": "code",
   "execution_count": 30,
   "metadata": {},
   "outputs": [],
   "source": [
    "def nutr_constraint_init(mod, j):\n",
    "    return inequality(mod.n_min[j], sum(mod.amt[i, j] * mod.buy[i] for i in mod.food), mod.n_max[j])  #: new: use inequality() for chained inequalities :S"
   ]
  },
  {
   "cell_type": "markdown",
   "metadata": {},
   "source": [
    "Note the use of the `sum` built-in function. The `nutr_constraint_init` function basically returns an expression in the form $n_{min,j} \\leq \\sum_{i\\in F} a_{i,j} x_{i} \\leq n_{max, j}$ This function is then passed to the `rule` keyword in the constructor."
   ]
  },
  {
   "cell_type": "code",
   "execution_count": 31,
   "metadata": {},
   "outputs": [],
   "source": [
    "m.nutr_con = Constraint(m.nutr, rule=nutr_constraint_init)"
   ]
  },
  {
   "cell_type": "markdown",
   "metadata": {},
   "source": [
    "And then solve again."
   ]
  },
  {
   "cell_type": "code",
   "execution_count": 32,
   "metadata": {},
   "outputs": [
    {
     "name": "stdout",
     "output_type": "stream",
     "text": [
      "Welcome to the CBC MILP Solver \n",
      "Version: 2.9.7 \n",
      "Build Date: Nov 24 2015 \n",
      "\n",
      "command line - C:\\Users\\dav0\\cbc-win64\\cbc.exe -printingOptions all -import C:\\Users\\dav0\\AppData\\Local\\Temp\\tmpve9nf8uy.pyomo.lp -stat=1 -solve -solu C:\\Users\\dav0\\AppData\\Local\\Temp\\tmpve9nf8uy.pyomo.soln (default strategy 1)\n",
      "Option for printingOptions changed from normal to all\n",
      "Presolve 11 (-1) rows, 9 (-1) columns and 76 (-1) elements\n",
      "Statistics for presolved model\n",
      "Original problem has 9 integers (0 of which binary)\n",
      "Presolved problem has 9 integers (0 of which binary)\n",
      "==== 0 zero objective 8 different\n",
      "1 variables have objective of 0.6\n",
      "1 variables have objective of 0.72\n",
      "1 variables have objective of 0.77\n",
      "1 variables have objective of 1.29\n",
      "1 variables have objective of 1.44\n",
      "2 variables have objective of 1.84\n",
      "1 variables have objective of 2.19\n",
      "1 variables have objective of 2.29\n",
      "==== absolute objective values 8 different\n",
      "1 variables have objective of 0.6\n",
      "1 variables have objective of 0.72\n",
      "1 variables have objective of 0.77\n",
      "1 variables have objective of 1.29\n",
      "1 variables have objective of 1.44\n",
      "2 variables have objective of 1.84\n",
      "1 variables have objective of 2.19\n",
      "1 variables have objective of 2.29\n",
      "==== for integers 0 zero objective 8 different\n",
      "1 variables have objective of 0.6\n",
      "1 variables have objective of 0.72\n",
      "1 variables have objective of 0.77\n",
      "1 variables have objective of 1.29\n",
      "1 variables have objective of 1.44\n",
      "2 variables have objective of 1.84\n",
      "1 variables have objective of 2.19\n",
      "1 variables have objective of 2.29\n",
      "==== for integers absolute objective values 8 different\n",
      "1 variables have objective of 0.6\n",
      "1 variables have objective of 0.72\n",
      "1 variables have objective of 0.77\n",
      "1 variables have objective of 1.29\n",
      "1 variables have objective of 1.44\n",
      "2 variables have objective of 1.84\n",
      "1 variables have objective of 2.19\n",
      "1 variables have objective of 2.29\n",
      "===== end objective counts\n",
      "\n",
      "\n",
      "Problem has 11 rows, 9 columns (9 with objective) and 76 elements\n",
      "Column breakdown:\n",
      "0 of type 0.0->inf, 9 of type 0.0->up, 0 of type lo->inf, \n",
      "0 of type lo->up, 0 of type free, 0 of type fixed, \n",
      "0 of type -inf->0.0, 0 of type -inf->up, 0 of type 0.0->1.0 \n",
      "Row breakdown:\n",
      "0 of type E 0.0, 0 of type E 1.0, 0 of type E -1.0, \n",
      "0 of type E other, 0 of type G 0.0, 3 of type G 1.0, \n",
      "7 of type G other, 0 of type L 0.0, 0 of type L 1.0, \n",
      "1 of type L other, 0 of type Range 0.0->1.0, 0 of type Range other, \n",
      "0 of type Free \n",
      "Continuous objective value is 14.8557 - 0.00 seconds\n",
      "Cgl0003I 0 fixed, 0 tightened bounds, 1 strengthened rows, 0 substitutions\n",
      "Cgl0004I processed model has 10 rows, 9 columns (9 integer (0 of which binary)) and 67 elements\n",
      "Cutoff increment increased from 1e-005 to 0.00999\n",
      "Cbc0012I Integer solution of 15.45 found by DiveCoefficient after 0 iterations and 0 nodes (0.00 seconds)\n",
      "Cbc0038I Full problem 10 rows 9 columns, reduced to 8 rows 4 columns\n",
      "Cbc0012I Integer solution of 15.28 found by RINS after 0 iterations and 0 nodes (0.01 seconds)\n",
      "Cbc0031I 3 added rows had average density of 7\n",
      "Cbc0013I At root node, 3 cuts changed objective from 14.855738 to 14.997655 in 100 passes\n",
      "Cbc0014I Cut generator 0 (Probing) - 0 row cuts average 0.0 elements, 1 column cuts (1 active)  in 0.007 seconds - new frequency is -100\n",
      "Cbc0014I Cut generator 1 (Gomory) - 227 row cuts average 7.0 elements, 0 column cuts (0 active)  in 0.022 seconds - new frequency is 1\n",
      "Cbc0014I Cut generator 2 (Knapsack) - 0 row cuts average 0.0 elements, 0 column cuts (0 active)  in 0.002 seconds - new frequency is -100\n",
      "Cbc0014I Cut generator 3 (Clique) - 0 row cuts average 0.0 elements, 0 column cuts (0 active)  in 0.000 seconds - new frequency is -100\n",
      "Cbc0014I Cut generator 4 (MixedIntegerRounding2) - 0 row cuts average 0.0 elements, 0 column cuts (0 active)  in 0.007 seconds - new frequency is -100\n",
      "Cbc0014I Cut generator 5 (FlowCover) - 0 row cuts average 0.0 elements, 0 column cuts (0 active)  in 0.008 seconds - new frequency is -100\n",
      "Cbc0010I After 0 nodes, 1 on tree, 15.28 best solution, best possible 14.997655 (0.13 seconds)\n",
      "Cbc0012I Integer solution of 15.11 found by DiveCoefficient after 480 iterations and 7 nodes (0.14 seconds)\n",
      "Cbc0012I Integer solution of 15.05 found by DiveCoefficient after 607 iterations and 18 nodes (0.17 seconds)\n",
      "Cbc0001I Search completed - best objective 15.05, took 642 iterations and 22 nodes (0.19 seconds)\n",
      "Cbc0032I Strong branching done 100 times (196 iterations), fathomed 2 nodes and fixed 9 variables\n",
      "Cbc0035I Maximum depth 4, 6 variables fixed on reduced cost\n",
      "Cuts at root node changed objective from 14.8557 to 14.9977\n",
      "Probing was tried 100 times and created 1 cuts of which 0 were active after adding rounds of cuts (0.007 seconds)\n",
      "Gomory was tried 168 times and created 329 cuts of which 0 were active after adding rounds of cuts (0.034 seconds)\n",
      "Knapsack was tried 100 times and created 0 cuts of which 0 were active after adding rounds of cuts (0.002 seconds)\n",
      "Clique was tried 100 times and created 0 cuts of which 0 were active after adding rounds of cuts (0.000 seconds)\n",
      "MixedIntegerRounding2 was tried 100 times and created 0 cuts of which 0 were active after adding rounds of cuts (0.007 seconds)\n",
      "FlowCover was tried 100 times and created 0 cuts of which 0 were active after adding rounds of cuts (0.008 seconds)\n",
      "TwoMirCuts was tried 1 times and created 0 cuts of which 0 were active after adding rounds of cuts (0.000 seconds)\n",
      "\n",
      "Result - Optimal solution found\n",
      "\n",
      "Objective value:                15.05000000\n",
      "Enumerated nodes:               22\n",
      "Total iterations:               642\n",
      "Time (CPU seconds):             0.20\n",
      "Time (Wallclock seconds):       0.20\n",
      "\n",
      "Total time (CPU seconds):       0.21   (Wallclock seconds):       0.21\n",
      "\n"
     ]
    }
   ],
   "source": [
    "res = opt.solve(m, tee=True)"
   ]
  },
  {
   "cell_type": "code",
   "execution_count": 33,
   "metadata": {},
   "outputs": [
    {
     "name": "stdout",
     "output_type": "stream",
     "text": [
      "buy : Size=9, Index=food\n",
      "    Key        : Lower : Value : Upper : Fixed : Stale : Domain\n",
      "        FOFish :   0.0 :   1.0 :  20.0 : False : False : NonNegativeIntegers\n",
      "         Fries :   0.0 :   5.0 :  20.0 : False : False : NonNegativeIntegers\n",
      "      LeBigMac :   0.0 :   0.0 :  20.0 : False : False : NonNegativeIntegers\n",
      "        LfMilk :   0.0 :   4.0 :  20.0 : False : False : NonNegativeIntegers\n",
      "     MDwCheese :   0.0 :   0.0 :  20.0 : False : False : NonNegativeIntegers\n",
      "    McGChicken :   0.0 :   0.0 :  20.0 : False : False : NonNegativeIntegers\n",
      "     McSausage :   0.0 :   0.0 :  20.0 : False : False : NonNegativeIntegers\n",
      "            OJ :   0.0 :   0.0 :  20.0 : False : False : NonNegativeIntegers\n",
      "     QPwCheese :   0.0 :   4.0 :  20.0 : False : False : NonNegativeIntegers\n"
     ]
    }
   ],
   "source": [
    "m.buy.pprint()   #: I hope you like fries."
   ]
  },
  {
   "cell_type": "markdown",
   "metadata": {},
   "source": [
    "### Credits:\n",
    "- David Thierry (Carnegie Mellon University 2019)"
   ]
  }
 ],
 "metadata": {
  "kernelspec": {
   "display_name": "Python 3",
   "language": "python",
   "name": "python3"
  },
  "language_info": {
   "codemirror_mode": {
    "name": "ipython",
    "version": 3
   },
   "file_extension": ".py",
   "mimetype": "text/x-python",
   "name": "python",
   "nbconvert_exporter": "python",
   "pygments_lexer": "ipython3",
   "version": "3.7.4"
  },
  "pycharm": {
   "stem_cell": {
    "cell_type": "raw",
    "metadata": {
     "collapsed": false
    },
    "source": []
   }
  }
 },
 "nbformat": 4,
 "nbformat_minor": 4
}
