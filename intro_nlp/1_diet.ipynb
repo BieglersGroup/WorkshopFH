{
 "cells": [
  {
   "cell_type": "markdown",
   "metadata": {},
   "source": [
    "# The Diet problem\n",
    "(Adapted from the pyomo/examples/pyomo files and Ch2 of the ampl book)"
   ]
  },
  {
   "cell_type": "markdown",
   "metadata": {},
   "source": [
    "> **Requirements**\n",
    "> - python3.X\n",
    "> - pyomo 5.X.X\n",
    "> - [cbc](https://github.com/coin-or/Cbc) 2.10 (tested with)"
   ]
  },
  {
   "cell_type": "markdown",
   "metadata": {},
   "source": [
    "### 0. Introduction"
   ]
  },
  {
   "cell_type": "markdown",
   "metadata": {},
   "source": [
    "The goal of this problem is to *minimize* the cost of a meal given several available food items. The variables of the problem model the decision of weather a certain food is bought or not.  \n",
    "\n",
    "\\begin{align}\n",
    "\\text{minimize} \\quad & \\sum_{j \\in foods} C_{j} x_{j} \\\\\n",
    "\\text{subject to} \\quad & \\sum_{j \\in \\left\\lbrace meals, sides, drinks \\right\\rbrace} x_{j} \\geq 1\\\\\n",
    "&  0 \\leq x_{j} \\leq M, \\forall j \\in foods\n",
    "\\end{align}\n",
    "\n",
    "Furthermore, the constraints ensure that *at least* one entree, side and drink are selected. Variations of this problem include constraints for certain nutritional requirements (e.g. vitamins) to be met ($\\sum_{j \\in foods} p_{ij} x_{j} \\geq l_{i}, \\forall i \\in N$)."
   ]
  },
  {
   "cell_type": "markdown",
   "metadata": {},
   "source": [
    "This model is written with the following structure:  \n",
    "\n",
    "1. Package imports\n",
    "2. Model and Set declaration\n",
    "3. Parameter declaration and initialization\n",
    "4. Variable declaration and initialization\n",
    "5. Constraint declaration and initialization\n",
    "6. Objective function\n",
    "7. Solution"
   ]
  },
  {
   "cell_type": "markdown",
   "metadata": {},
   "source": [
    "### 1. Package imports"
   ]
  },
  {
   "cell_type": "markdown",
   "metadata": {},
   "source": [
    "We need to import certain packages to the current workspace, i.e. pyomo components."
   ]
  },
  {
   "cell_type": "code",
   "execution_count": 34,
   "metadata": {},
   "outputs": [],
   "source": [
    "from pyomo.environ import *   #: This imports most of the usual pyomo objects\n",
    "from pyomo.opt import SolverFactory  #: This imports the solver modules"
   ]
  },
  {
   "cell_type": "markdown",
   "metadata": {},
   "source": [
    "### 2. Model and Set declaration"
   ]
  },
  {
   "cell_type": "markdown",
   "metadata": {},
   "source": [
    "Note how the model *must* be declared first. Subsequently, every component from the model is attached to the model."
   ]
  },
  {
   "cell_type": "code",
   "execution_count": 2,
   "metadata": {},
   "outputs": [],
   "source": [
    "m = ConcreteModel()  #: Declare model"
   ]
  },
  {
   "cell_type": "markdown",
   "metadata": {},
   "source": [
    "The set *food* contains the overall available dishes.  \n",
    "In order to create this set, there are a number of ways to specify its items.   \n",
    "*One* of the possible ways is to specify its items as a *python list* of strings, i.e.:"
   ]
  },
  {
   "cell_type": "code",
   "execution_count": 3,
   "metadata": {},
   "outputs": [],
   "source": [
    "foods = [\"QPwCheese\", \"MDwCheese\", \"LeBigMac\", \"FOFish\", \"McGChicken\", \"Fries\", \"McSausage\", \"LfMilk\", \"OJ\"]"
   ]
  },
  {
   "cell_type": "markdown",
   "metadata": {},
   "source": [
    "Then, the set is *initialized* using the `initialize` keyword of the Set constructor,"
   ]
  },
  {
   "cell_type": "code",
   "execution_count": 35,
   "metadata": {},
   "outputs": [
    {
     "name": "stdout",
     "output_type": "stream",
     "text": [
      "WARNING: Implicitly replacing the Component attribute food (type=<class\n",
      "    'pyomo.core.base.sets.SimpleSet'>) on block unknown with a new Component\n",
      "    (type=<class 'pyomo.core.base.sets.SimpleSet'>). This is usually\n",
      "    indicative of a modelling error. To avoid this warning, use\n",
      "    block.del_component() and block.add_component().\n",
      "food : Dim=0, Dimen=1, Size=9, Domain=None, Ordered=False, Bounds=None\n",
      "    ['FOFish', 'Fries', 'LeBigMac', 'LfMilk', 'MDwCheese', 'McGChicken', 'McSausage', 'OJ', 'QPwCheese']\n"
     ]
    }
   ],
   "source": [
    "m.food = Set(initialize=foods)\n",
    "m.food.pprint()"
   ]
  },
  {
   "cell_type": "markdown",
   "metadata": {},
   "source": [
    "Finally, we can reuse the dictionary to define the kinds of dishes available,"
   ]
  },
  {
   "cell_type": "code",
   "execution_count": 36,
   "metadata": {},
   "outputs": [
    {
     "name": "stdout",
     "output_type": "stream",
     "text": [
      "entres:  ['QPwCheese', 'MDwCheese', 'LeBigMac', 'FOFish', 'McGChicken']\n",
      "sides:  ['Fries', 'McSausage']\n",
      "drinks:  ['LfMilk', 'OJ']\n"
     ]
    }
   ],
   "source": [
    "entree = foods[:5]\n",
    "side = foods[5:7]\n",
    "drink = foods[7:]\n",
    "print(\"entres: \", entree)\n",
    "print(\"sides: \", side)\n",
    "print(\"drinks: \", drink)"
   ]
  },
  {
   "cell_type": "markdown",
   "metadata": {},
   "source": [
    "### 3. Parameter declaration and initialization"
   ]
  },
  {
   "cell_type": "markdown",
   "metadata": {},
   "source": [
    "The parameters are declared over a set (e.g. food). To specify the values of such parameters, it is possible to use a dictionary whose key correspond to the values of the set."
   ]
  },
  {
   "cell_type": "code",
   "execution_count": 6,
   "metadata": {},
   "outputs": [],
   "source": [
    "COST_DICT = dict.fromkeys(foods)\n",
    "COST_DICT = {\"QPwCheese\": 1.84,\n",
    "             \"MDwCheese\": 2.19, \n",
    "             \"LeBigMac\": 1.84, \n",
    "             \"FOFish\": 1.44, \n",
    "             \"McGChicken\": 2.29, \n",
    "             \"Fries\": 0.77, \n",
    "             \"McSausage\": 1.29, \n",
    "             \"LfMilk\": 0.60, \n",
    "             \"OJ\": 0.72}"
   ]
  },
  {
   "cell_type": "markdown",
   "metadata": {},
   "source": [
    "Then, the dictionary is passed to the respective parameter using the `initialize` keyword."
   ]
  },
  {
   "cell_type": "code",
   "execution_count": 37,
   "metadata": {},
   "outputs": [
    {
     "name": "stdout",
     "output_type": "stream",
     "text": [
      "WARNING: Implicitly replacing the Component attribute cost (type=<class\n",
      "    'pyomo.core.base.param.IndexedParam'>) on block unknown with a new\n",
      "    Component (type=<class 'pyomo.core.base.param.IndexedParam'>). This is\n",
      "    usually indicative of a modelling error. To avoid this warning, use\n",
      "    block.del_component() and block.add_component().\n",
      "cost : Size=9, Index=food, Domain=PositiveReals, Default=None, Mutable=False\n",
      "    Key        : Value\n",
      "        FOFish :  1.44\n",
      "         Fries :  0.77\n",
      "      LeBigMac :  1.84\n",
      "        LfMilk :   0.6\n",
      "     MDwCheese :  2.19\n",
      "    McGChicken :  2.29\n",
      "     McSausage :  1.29\n",
      "            OJ :  0.72\n",
      "     QPwCheese :  1.84\n"
     ]
    }
   ],
   "source": [
    "m.cost = Param(m.food, initialize=COST_DICT, within=PositiveReals)\n",
    "m.cost.display()"
   ]
  },
  {
   "cell_type": "markdown",
   "metadata": {},
   "source": [
    "Another way to initialize parameters over a set is using the `default` keyword."
   ]
  },
  {
   "cell_type": "code",
   "execution_count": 8,
   "metadata": {},
   "outputs": [],
   "source": [
    "m.f_min = Param(m.food, within=NonNegativeReals, default=0.0)"
   ]
  },
  {
   "cell_type": "code",
   "execution_count": 38,
   "metadata": {},
   "outputs": [
    {
     "name": "stdout",
     "output_type": "stream",
     "text": [
      "20.0\n"
     ]
    }
   ],
   "source": [
    "MAX_FOOD_SUPPLY = 20\n",
    "print(MAX_FOOD_SUPPLY)"
   ]
  },
  {
   "cell_type": "code",
   "execution_count": 10,
   "metadata": {},
   "outputs": [],
   "source": [
    "m.f_max = Param(m.food, default=MAX_FOOD_SUPPLY)"
   ]
  },
  {
   "cell_type": "markdown",
   "metadata": {},
   "source": [
    "A third way is to use a python function, and setting the keyword to the function name (`initialize=function_name`)."
   ]
  },
  {
   "cell_type": "markdown",
   "metadata": {},
   "source": [
    "### 4. Variables"
   ]
  },
  {
   "cell_type": "markdown",
   "metadata": {},
   "source": [
    "As a fundamental part of the model, variables have several properties; like bounds and domain. Most of these properties can be set when the variable is constructed.  \n",
    "In a similar fashion as before, the *keywords* arguments can be used for this purpose. In the following example, the variable *buy* is constructed with specific bounds given by a python function `buy_bounds`,"
   ]
  },
  {
   "cell_type": "code",
   "execution_count": 11,
   "metadata": {},
   "outputs": [],
   "source": [
    "def buy_bounds(mod, i):  #: declare the function first\n",
    "    return (mod.f_min[i], mod.f_max[i])"
   ]
  },
  {
   "cell_type": "markdown",
   "metadata": {},
   "source": [
    "Then pass the function to the variable!."
   ]
  },
  {
   "cell_type": "code",
   "execution_count": 12,
   "metadata": {},
   "outputs": [],
   "source": [
    "m.buy = Var(m.food, bounds=buy_bounds, within=NonNegativeIntegers)"
   ]
  },
  {
   "cell_type": "markdown",
   "metadata": {},
   "source": [
    "Note that the python interpreter will read the script from top to bottom. Therefore the function(s) used to construct the variable (or objects, e.g. constraint, set, parameter) must be declared *before* they are referenced."
   ]
  },
  {
   "cell_type": "markdown",
   "metadata": {},
   "source": [
    "<div class=\"alert alert-block alert-info\">\n",
    "<b>Alert:</b> The function `buy_bounds` has an argument `mod`. `mod` and `m` are not the same, until it gets passed to the `Var` constructor.\n",
    "</div>"
   ]
  },
  {
   "cell_type": "markdown",
   "metadata": {},
   "source": [
    "### 5. Constraints"
   ]
  },
  {
   "cell_type": "markdown",
   "metadata": {},
   "source": [
    "In pyomo, in order to construct a constraint, it is necessary to provide an *expression*. In other words, a constraint *contains* an expression, e.g. an equality. For an indexed constraint, an expression is required for *every* element of the set.  \n",
    "The most common way of assigning an expressions for single or indexed constraints is through a python function. e.g."
   ]
  },
  {
   "cell_type": "code",
   "execution_count": 13,
   "metadata": {},
   "outputs": [],
   "source": [
    "def entree_rule(mod):  # note that mod is an argument!, mod and m are not necessarily the same\n",
    "    return sum(mod.buy[e] for e in entree) >= 1"
   ]
  },
  {
   "cell_type": "markdown",
   "metadata": {},
   "source": [
    "This function will *return* an expression; namely `sum(mod.buy[e] for e in entree) >= 1`. Then, the at the construction of the constraint, the keyword `rule` is intended to take a function that will provide the expression(s) for the constraint, "
   ]
  },
  {
   "cell_type": "code",
   "execution_count": 14,
   "metadata": {},
   "outputs": [],
   "source": [
    "m.entree = Constraint(rule=entree_rule)"
   ]
  },
  {
   "cell_type": "code",
   "execution_count": 39,
   "metadata": {},
   "outputs": [
    {
     "name": "stdout",
     "output_type": "stream",
     "text": [
      "entree : Size=1, Index=None, Active=True\n",
      "    Key  : Lower : Body                                                                            : Upper : Active\n",
      "    None :   1.0 : buy[QPwCheese] + buy[MDwCheese] + buy[LeBigMac] + buy[FOFish] + buy[McGChicken] :  +Inf :   True\n"
     ]
    }
   ],
   "source": [
    "m.entree.pprint()"
   ]
  },
  {
   "cell_type": "markdown",
   "metadata": {},
   "source": [
    "This can be used for most constraints within a model."
   ]
  },
  {
   "cell_type": "code",
   "execution_count": 15,
   "metadata": {},
   "outputs": [],
   "source": [
    "def side_rule(mod):  # note that mod and m are not necessarily equal!\n",
    "    return sum(mod.buy[s] for s in side) >= 1"
   ]
  },
  {
   "cell_type": "markdown",
   "metadata": {},
   "source": [
    "Then pass the `side_rule` to the constructor."
   ]
  },
  {
   "cell_type": "code",
   "execution_count": 16,
   "metadata": {},
   "outputs": [],
   "source": [
    "m.side = Constraint(rule=side_rule)"
   ]
  },
  {
   "cell_type": "markdown",
   "metadata": {},
   "source": [
    "Moreover, if the constraint is a *single* constraint; the expression can be declared directly,"
   ]
  },
  {
   "cell_type": "code",
   "execution_count": 17,
   "metadata": {},
   "outputs": [],
   "source": [
    "m.drink = Constraint(expr=sum(m.buy[d] for d in drink) >=1)"
   ]
  },
  {
   "cell_type": "markdown",
   "metadata": {},
   "source": [
    "Where the `expr` keyword is used for this purpose."
   ]
  },
  {
   "cell_type": "markdown",
   "metadata": {},
   "source": [
    "### 6. Objective"
   ]
  },
  {
   "cell_type": "markdown",
   "metadata": {},
   "source": [
    "While several objectives can be declared, it is typical to have a single expression as part of the objective and a *sense*, i.e. minimize or maximize.  \n",
    "The objective in this problem is to minimize the cost of the meal, i.e. $\\sum_{i \\in foods} C_{i} x_{i}$, where $C_{i}$ is the cost of item $i$ and $X_{i}$ is the number of items $i$ purchased.  \n",
    "In the following example a python function is used to return the expression and then the keyword `rule` is used during the construction of the Objective."
   ]
  },
  {
   "cell_type": "code",
   "execution_count": 18,
   "metadata": {},
   "outputs": [],
   "source": [
    "def total_cost_rule(mod):\n",
    "    return sum(mod.cost[j] * mod.buy[j] for j in mod.food)\n",
    "m.total_cost = Objective(rule=total_cost_rule, sense=minimize)"
   ]
  },
  {
   "cell_type": "markdown",
   "metadata": {},
   "source": [
    "### 7. Solution"
   ]
  },
  {
   "cell_type": "markdown",
   "metadata": {},
   "source": [
    "The solution of the problem can be done in a number of ways. Often, users would solve the problem *ad hoc*. In other words, solve within the script where the model has been declared.  \n",
    "Other ways of solving these problems include the command `pyomo solve challenging_model.py --solver=my_favourite_solver` in the terminal.  \n",
    "For now, the previously declared model `m` will be solved *ad hoc*. This requires calling a solver, which is part of a solver object of the class `SolverFactory`.  \n",
    "Firstly, assuming that the desired solver is in the *PATH*, declare the solver object:"
   ]
  },
  {
   "cell_type": "code",
   "execution_count": 41,
   "metadata": {},
   "outputs": [],
   "source": [
    "opt = SolverFactory('ipopt')  #: declare the solver note: you can use ipopt though the solution won't be correct"
   ]
  },
  {
   "cell_type": "code",
   "execution_count": 43,
   "metadata": {},
   "outputs": [
    {
     "name": "stdout",
     "output_type": "stream",
     "text": [
      "3 Set Declarations\n",
      "    amt_index : Dim=0, Dimen=2, Size=63, Domain=None, Ordered=False, Bounds=None\n",
      "        Virtual\n",
      "    food : Dim=0, Dimen=1, Size=9, Domain=None, Ordered=False, Bounds=None\n",
      "        ['FOFish', 'Fries', 'LeBigMac', 'LfMilk', 'MDwCheese', 'McGChicken', 'McSausage', 'OJ', 'QPwCheese']\n",
      "    nutr : Dim=0, Dimen=1, Size=7, Domain=None, Ordered=False, Bounds=None\n",
      "        ['Cal', 'Calc', 'Carbo', 'Iron', 'Protein', 'VitA', 'VitC']\n",
      "\n",
      "6 Param Declarations\n",
      "    amt : Size=63, Index=amt_index, Domain=Any, Default=None, Mutable=False\n",
      "        Key                       : Value\n",
      "                ('FOFish', 'Cal') :   370\n",
      "               ('FOFish', 'Calc') :    15\n",
      "              ('FOFish', 'Carbo') :    38\n",
      "               ('FOFish', 'Iron') :    10\n",
      "            ('FOFish', 'Protein') :    14\n",
      "               ('FOFish', 'VitA') :     2\n",
      "               ('FOFish', 'VitC') :     0\n",
      "                 ('Fries', 'Cal') :   220\n",
      "                ('Fries', 'Calc') :     0\n",
      "               ('Fries', 'Carbo') :    26\n",
      "                ('Fries', 'Iron') :     2\n",
      "             ('Fries', 'Protein') :     3\n",
      "                ('Fries', 'VitA') :     0\n",
      "                ('Fries', 'VitC') :    15\n",
      "              ('LeBigMac', 'Cal') :   500\n",
      "             ('LeBigMac', 'Calc') :    25\n",
      "            ('LeBigMac', 'Carbo') :    42\n",
      "             ('LeBigMac', 'Iron') :    20\n",
      "          ('LeBigMac', 'Protein') :    25\n",
      "             ('LeBigMac', 'VitA') :     6\n",
      "             ('LeBigMac', 'VitC') :     2\n",
      "                ('LfMilk', 'Cal') :   110\n",
      "               ('LfMilk', 'Calc') :    30\n",
      "              ('LfMilk', 'Carbo') :    12\n",
      "               ('LfMilk', 'Iron') :     0\n",
      "            ('LfMilk', 'Protein') :     9\n",
      "               ('LfMilk', 'VitA') :    10\n",
      "               ('LfMilk', 'VitC') :     4\n",
      "             ('MDwCheese', 'Cal') :   370\n",
      "            ('MDwCheese', 'Calc') :    20\n",
      "           ('MDwCheese', 'Carbo') :    35\n",
      "            ('MDwCheese', 'Iron') :    20\n",
      "         ('MDwCheese', 'Protein') :    24\n",
      "            ('MDwCheese', 'VitA') :    15\n",
      "            ('MDwCheese', 'VitC') :    10\n",
      "            ('McGChicken', 'Cal') :   400\n",
      "           ('McGChicken', 'Calc') :    15\n",
      "          ('McGChicken', 'Carbo') :    42\n",
      "           ('McGChicken', 'Iron') :     8\n",
      "        ('McGChicken', 'Protein') :    31\n",
      "           ('McGChicken', 'VitA') :     8\n",
      "           ('McGChicken', 'VitC') :    15\n",
      "             ('McSausage', 'Cal') :   345\n",
      "            ('McSausage', 'Calc') :    20\n",
      "           ('McSausage', 'Carbo') :    27\n",
      "            ('McSausage', 'Iron') :    15\n",
      "         ('McSausage', 'Protein') :    15\n",
      "            ('McSausage', 'VitA') :     4\n",
      "            ('McSausage', 'VitC') :     0\n",
      "                    ('OJ', 'Cal') :    80\n",
      "                   ('OJ', 'Calc') :     2\n",
      "                  ('OJ', 'Carbo') :    20\n",
      "                   ('OJ', 'Iron') :     2\n",
      "                ('OJ', 'Protein') :     1\n",
      "                   ('OJ', 'VitA') :     2\n",
      "                   ('OJ', 'VitC') :   120\n",
      "             ('QPwCheese', 'Cal') :   510\n",
      "            ('QPwCheese', 'Calc') :    30\n",
      "           ('QPwCheese', 'Carbo') :    34\n",
      "            ('QPwCheese', 'Iron') :    20\n",
      "         ('QPwCheese', 'Protein') :    28\n",
      "            ('QPwCheese', 'VitA') :    15\n",
      "            ('QPwCheese', 'VitC') :     6\n",
      "    cost : Size=9, Index=food, Domain=PositiveReals, Default=None, Mutable=False\n",
      "        Key        : Value\n",
      "            FOFish :  1.44\n",
      "             Fries :  0.77\n",
      "          LeBigMac :  1.84\n",
      "            LfMilk :   0.6\n",
      "         MDwCheese :  2.19\n",
      "        McGChicken :  2.29\n",
      "         McSausage :  1.29\n",
      "                OJ :  0.72\n",
      "         QPwCheese :  1.84\n",
      "    f_max : Size=9, Index=food, Domain=Any, Default=20.0, Mutable=False\n",
      "        Key : Value\n",
      "    f_min : Size=9, Index=food, Domain=NonNegativeReals, Default=0.0, Mutable=False\n",
      "        Key : Value\n",
      "    n_max : Size=7, Index=nutr, Domain=Any, Default=None, Mutable=False\n",
      "        Key     : Value\n",
      "            Cal :   inf\n",
      "           Calc :   inf\n",
      "          Carbo :   375\n",
      "           Iron :   inf\n",
      "        Protein :   inf\n",
      "           VitA :   inf\n",
      "           VitC :   inf\n",
      "    n_min : Size=7, Index=nutr, Domain=Any, Default=None, Mutable=False\n",
      "        Key     : Value\n",
      "            Cal :  2000\n",
      "           Calc :   100\n",
      "          Carbo :   350\n",
      "           Iron :   100\n",
      "        Protein :    55\n",
      "           VitA :   100\n",
      "           VitC :   100\n",
      "\n",
      "1 Var Declarations\n",
      "    buy : Size=9, Index=food\n",
      "        Key        : Lower : Value                  : Upper : Fixed : Stale : Domain\n",
      "            FOFish :   0.0 :  1.956761888175182e-08 :  20.0 : False : False : NonNegativeIntegers\n",
      "             Fries :   0.0 :      6.147540778591302 :  20.0 : False : False : NonNegativeIntegers\n",
      "          LeBigMac :   0.0 : 1.2182009356804082e-07 :  20.0 : False : False : NonNegativeIntegers\n",
      "            LfMilk :   0.0 :     3.4221312357404265 :  20.0 : False : False : NonNegativeIntegers\n",
      "         MDwCheese :   0.0 :                    0.0 :  20.0 : False : False : NonNegativeIntegers\n",
      "        McGChicken :   0.0 :                    0.0 :  20.0 : False : False : NonNegativeIntegers\n",
      "         McSausage :   0.0 : 3.0150418824495594e-08 :  20.0 : False : False : NonNegativeIntegers\n",
      "                OJ :   0.0 : 2.7057463257691656e-08 :  20.0 : False : False : NonNegativeIntegers\n",
      "         QPwCheese :   0.0 :      4.385245725085044 :  20.0 : False : False : NonNegativeIntegers\n",
      "\n",
      "1 Objective Declarations\n",
      "    total_cost : Size=1, Index=None, Active=True\n",
      "        Key  : Active : Sense    : Expression\n",
      "        None :   True : minimize : 1.84*buy[QPwCheese] + 2.19*buy[MDwCheese] + 1.84*buy[LeBigMac] + 1.44*buy[FOFish] + 2.29*buy[McGChicken] + 0.77*buy[Fries] + 1.29*buy[McSausage] + 0.6*buy[LfMilk] + 0.72*buy[OJ]\n",
      "\n",
      "4 Constraint Declarations\n",
      "    drink : Size=1, Index=None, Active=True\n",
      "        Key  : Lower : Body                  : Upper : Active\n",
      "        None :   1.0 : buy[LfMilk] + buy[OJ] :  +Inf :   True\n",
      "    entree : Size=1, Index=None, Active=True\n",
      "        Key  : Lower : Body                                                                            : Upper : Active\n",
      "        None :   1.0 : buy[QPwCheese] + buy[MDwCheese] + buy[LeBigMac] + buy[FOFish] + buy[McGChicken] :  +Inf :   True\n",
      "    nutr_con : Size=7, Index=nutr, Active=True\n",
      "        Key     : Lower  : Body                                                                                                                                                                     : Upper : Active\n",
      "            Cal : 2000.0 : 510*buy[QPwCheese] + 370*buy[MDwCheese] + 500*buy[LeBigMac] + 370*buy[FOFish] + 400*buy[McGChicken] + 220*buy[Fries] + 345*buy[McSausage] + 110*buy[LfMilk] + 80*buy[OJ] :  +Inf :   True\n",
      "           Calc :  100.0 :                          30*buy[QPwCheese] + 20*buy[MDwCheese] + 25*buy[LeBigMac] + 15*buy[FOFish] + 15*buy[McGChicken] + 20*buy[McSausage] + 30*buy[LfMilk] + 2*buy[OJ] :  +Inf :   True\n",
      "          Carbo :  350.0 :         34*buy[QPwCheese] + 35*buy[MDwCheese] + 42*buy[LeBigMac] + 38*buy[FOFish] + 42*buy[McGChicken] + 26*buy[Fries] + 27*buy[McSausage] + 12*buy[LfMilk] + 20*buy[OJ] : 375.0 :   True\n",
      "           Iron :  100.0 :                             20*buy[QPwCheese] + 20*buy[MDwCheese] + 20*buy[LeBigMac] + 10*buy[FOFish] + 8*buy[McGChicken] + 2*buy[Fries] + 15*buy[McSausage] + 2*buy[OJ] :  +Inf :   True\n",
      "        Protein :   55.0 :              28*buy[QPwCheese] + 24*buy[MDwCheese] + 25*buy[LeBigMac] + 14*buy[FOFish] + 31*buy[McGChicken] + 3*buy[Fries] + 15*buy[McSausage] + 9*buy[LfMilk] + buy[OJ] :  +Inf :   True\n",
      "           VitA :  100.0 :                              15*buy[QPwCheese] + 15*buy[MDwCheese] + 6*buy[LeBigMac] + 2*buy[FOFish] + 8*buy[McGChicken] + 4*buy[McSausage] + 10*buy[LfMilk] + 2*buy[OJ] :  +Inf :   True\n",
      "           VitC :  100.0 :                                                6*buy[QPwCheese] + 10*buy[MDwCheese] + 2*buy[LeBigMac] + 15*buy[McGChicken] + 15*buy[Fries] + 4*buy[LfMilk] + 120*buy[OJ] :  +Inf :   True\n",
      "    side : Size=1, Index=None, Active=True\n",
      "        Key  : Lower : Body                        : Upper : Active\n",
      "        None :   1.0 : buy[Fries] + buy[McSausage] :  +Inf :   True\n",
      "\n",
      "15 Declarations: f_min f_max buy entree side drink total_cost nutr n_min n_max amt_index amt nutr_con food cost\n"
     ]
    }
   ],
   "source": [
    "m.pprint()"
   ]
  },
  {
   "cell_type": "markdown",
   "metadata": {},
   "source": [
    "Then, call the solver to solve the problem given by model `m`,"
   ]
  },
  {
   "cell_type": "code",
   "execution_count": 42,
   "metadata": {},
   "outputs": [
    {
     "name": "stdout",
     "output_type": "stream",
     "text": [
      "Ipopt 3.11.1: \n",
      "==> Warning: Treating 0 binary and 9 integer variables as continous.\n",
      "\n",
      "\n",
      "******************************************************************************\n",
      "This program contains Ipopt, a library for large-scale nonlinear optimization.\n",
      " Ipopt is released as open source code under the Eclipse Public License (EPL).\n",
      "         For more information visit http://projects.coin-or.org/Ipopt\n",
      "******************************************************************************\n",
      "\n",
      "NOTE: You are using Ipopt by default with the MUMPS linear solver.\n",
      "      Other linear solvers might be more efficient (see Ipopt documentation).\n",
      "\n",
      "\n",
      "This is Ipopt version 3.11.1, running with linear solver mumps.\n",
      "\n",
      "Number of nonzeros in equality constraint Jacobian...:        0\n",
      "Number of nonzeros in inequality constraint Jacobian.:       67\n",
      "Number of nonzeros in Lagrangian Hessian.............:        0\n",
      "\n",
      "Total number of variables............................:        9\n",
      "                     variables with only lower bounds:        0\n",
      "                variables with lower and upper bounds:        9\n",
      "                     variables with only upper bounds:        0\n",
      "Total number of equality constraints.................:        0\n",
      "Total number of inequality constraints...............:       10\n",
      "        inequality constraints with only lower bounds:        9\n",
      "   inequality constraints with lower and upper bounds:        1\n",
      "        inequality constraints with only upper bounds:        0\n",
      "\n",
      "iter    objective    inf_pr   inf_du lg(mu)  ||d||  lg(rg) alpha_du alpha_pr  ls\n",
      "   0 1.5133300e+001 0.00e+000 1.03e+000  -1.0 0.00e+000    -  0.00e+000 0.00e+000   0 y\n",
      "   1 1.5255740e+001 0.00e+000 3.31e-001  -1.0 5.37e+000    -  9.38e-001 1.00e+000f  1 \n",
      "   2 1.5344617e+001 0.00e+000 2.99e-001  -1.0 5.04e+000    -  9.44e-001 1.00e+000f  1 Nhj \n",
      "   3 1.5588027e+001 0.00e+000 3.86e-001  -1.0 5.79e+001    -  3.80e-001 1.00e+000f  1 \n",
      "   4 1.5161583e+001 0.00e+000 3.63e-002  -1.7 1.72e+001    -  8.50e-001 1.00e+000f  1 \n",
      "   5 1.4920584e+001 0.00e+000 8.60e-003  -2.5 3.43e+001    -  6.54e-001 1.00e+000f  1 \n",
      "   6 1.4885580e+001 0.00e+000 1.76e-003  -2.5 2.44e+001    -  9.99e-001 7.82e-001f  1 \n",
      "   7 1.4858643e+001 0.00e+000 6.89e-004  -3.8 1.38e+001    -  1.00e+000 9.07e-001f  1 \n",
      "   8 1.4855758e+001 0.00e+000 1.87e-005  -5.7 3.42e-001    -  9.95e-001 1.00e+000f  1 \n",
      "   9 1.4855754e+001 0.00e+000 1.84e-011  -5.7 2.05e-003    -  1.00e+000 1.00e+000f  1 \n",
      "iter    objective    inf_pr   inf_du lg(mu)  ||d||  lg(rg) alpha_du alpha_pr  ls\n",
      "  10 1.4855738e+001 0.00e+000 2.51e-014  -8.6 2.85e-003    -  1.00e+000 1.00e+000f  1 \n",
      "\n",
      "Number of Iterations....: 10\n",
      "\n",
      "                                   (scaled)                 (unscaled)\n",
      "Objective...............:  1.4855737566115300e+001   1.4855737566115300e+001\n",
      "Dual infeasibility......:  2.5059815333960955e-014   2.5059815333960955e-014\n",
      "Constraint violation....:  0.0000000000000000e+000   0.0000000000000000e+000\n",
      "Complementarity.........:  2.6033764795668218e-009   2.6033764795668218e-009\n",
      "Overall NLP error.......:  2.6033764795668218e-009   2.6033764795668218e-009\n",
      "\n",
      "\n",
      "Number of objective function evaluations             = 11\n",
      "Number of objective gradient evaluations             = 11\n",
      "Number of equality constraint evaluations            = 0\n",
      "Number of inequality constraint evaluations          = 11\n",
      "Number of equality constraint Jacobian evaluations   = 0\n",
      "Number of inequality constraint Jacobian evaluations = 11\n",
      "Number of Lagrangian Hessian evaluations             = 10\n",
      "Total CPU secs in IPOPT (w/o function evaluations)   =      0.015\n",
      "Total CPU secs in NLP function evaluations           =      0.000\n",
      "\n",
      "EXIT: Optimal Solution Found.\n"
     ]
    }
   ],
   "source": [
    "results = opt.solve(m, tee=True)"
   ]
  },
  {
   "cell_type": "markdown",
   "metadata": {},
   "source": [
    "If the solver was *successful*. We can extract the results directly from the variables of the problem (e.g. using the `value(var)` build-in function). In this case the contents of the variable `buy` are displayed directly."
   ]
  },
  {
   "cell_type": "code",
   "execution_count": 21,
   "metadata": {},
   "outputs": [
    {
     "name": "stdout",
     "output_type": "stream",
     "text": [
      "buy : Size=9, Index=food\n",
      "    Key        : Lower : Value : Upper : Fixed : Stale : Domain\n",
      "        FOFish :   0.0 :   1.0 :  20.0 : False : False : NonNegativeIntegers\n",
      "         Fries :   0.0 :   1.0 :  20.0 : False : False : NonNegativeIntegers\n",
      "      LeBigMac :   0.0 :   0.0 :  20.0 : False : False : NonNegativeIntegers\n",
      "        LfMilk :   0.0 :   1.0 :  20.0 : False : False : NonNegativeIntegers\n",
      "     MDwCheese :   0.0 :   0.0 :  20.0 : False : False : NonNegativeIntegers\n",
      "    McGChicken :   0.0 :   0.0 :  20.0 : False : False : NonNegativeIntegers\n",
      "     McSausage :   0.0 :   0.0 :  20.0 : False : False : NonNegativeIntegers\n",
      "            OJ :   0.0 :   0.0 :  20.0 : False : False : NonNegativeIntegers\n",
      "     QPwCheese :   0.0 :   0.0 :  20.0 : False : False : NonNegativeIntegers\n"
     ]
    }
   ],
   "source": [
    "m.buy.display()  #: display contents"
   ]
  },
  {
   "cell_type": "markdown",
   "metadata": {},
   "source": [
    "### 7. Conclusions"
   ]
  },
  {
   "cell_type": "markdown",
   "metadata": {},
   "source": [
    "The diet problem can be *conveniently* constructed using basic python data-structures and functions. This particular example can be constructed in several ways. For example using `AbstractModel` as it is used in the pyomo documentation."
   ]
  },
  {
   "cell_type": "markdown",
   "metadata": {},
   "source": [
    "### Optional material"
   ]
  },
  {
   "cell_type": "markdown",
   "metadata": {},
   "source": [
    "A similar problem can consider purchasing a set of items satisfying certain nutritional requirements. For this a new constraint has to be considered with some extra data."
   ]
  },
  {
   "cell_type": "code",
   "execution_count": 22,
   "metadata": {},
   "outputs": [],
   "source": [
    "NUTR = [\"Cal\", \"Carbo\", \"Protein\", \"VitA\", \"VitC\", \"Calc\", \"Iron\"]"
   ]
  },
  {
   "cell_type": "code",
   "execution_count": 23,
   "metadata": {},
   "outputs": [],
   "source": [
    "m.nutr = Set(initialize=NUTR)  #: New set of nutrients"
   ]
  },
  {
   "cell_type": "code",
   "execution_count": 24,
   "metadata": {},
   "outputs": [],
   "source": [
    "N_MIN = {\"Cal\": 2000, \"Carbo\": 350, \"Protein\": 55, \"VitA\": 100, \"VitC\": 100, \"Calc\": 100, \"Iron\": 100}"
   ]
  },
  {
   "cell_type": "code",
   "execution_count": 25,
   "metadata": {},
   "outputs": [],
   "source": [
    "m.n_min = Param(m.nutr, initialize=N_MIN)  #: minimum amounts of nutrients"
   ]
  },
  {
   "cell_type": "code",
   "execution_count": 26,
   "metadata": {},
   "outputs": [],
   "source": [
    "N_MAX = {\"Cal\": float('inf'), \"Carbo\": 375, \"Protein\": float('inf'), \"VitA\": float('inf'), \"VitC\": float('inf'), \"Calc\": float('inf'), \"Iron\": float('inf')}"
   ]
  },
  {
   "cell_type": "code",
   "execution_count": 27,
   "metadata": {},
   "outputs": [],
   "source": [
    "m.n_max = Param(m.nutr, initialize=N_MAX)  #: maximum amounts of nutrients"
   ]
  },
  {
   "cell_type": "code",
   "execution_count": 28,
   "metadata": {},
   "outputs": [],
   "source": [
    "AMT = {}\n",
    "AMT[(\"QPwCheese\",\"Cal\")] = 510\n",
    "AMT[(\"MDwCheese\",\"Cal\")] = 370\n",
    "AMT[(\"LeBigMac\",\"Cal\")] = 500\n",
    "AMT[(\"FOFish\",\"Cal\")] = 370\n",
    "AMT[(\"McGChicken\",\"Cal\")] = 400\n",
    "AMT[(\"Fries\",\"Cal\")] = 220\n",
    "AMT[(\"McSausage\",\"Cal\")] = 345\n",
    "AMT[(\"LfMilk\",\"Cal\")] = 110\n",
    "AMT[(\"OJ\",\"Cal\")] = 80\n",
    "AMT[(\"QPwCheese\",\"Carbo\")] = 34\n",
    "AMT[(\"MDwCheese\",\"Carbo\")] = 35\n",
    "AMT[(\"LeBigMac\",\"Carbo\")] = 42\n",
    "AMT[(\"FOFish\",\"Carbo\")] = 38\n",
    "AMT[(\"McGChicken\",\"Carbo\")] = 42\n",
    "AMT[(\"Fries\",\"Carbo\")] = 26\n",
    "AMT[(\"McSausage\",\"Carbo\")] = 27\n",
    "AMT[(\"LfMilk\",\"Carbo\")] = 12\n",
    "AMT[(\"OJ\",\"Carbo\")] = 20\n",
    "AMT[(\"QPwCheese\",\"Protein\")] = 28\n",
    "AMT[(\"MDwCheese\",\"Protein\")] = 24\n",
    "AMT[(\"LeBigMac\",\"Protein\")] = 25\n",
    "AMT[(\"FOFish\",\"Protein\")] = 14\n",
    "AMT[(\"McGChicken\",\"Protein\")] = 31\n",
    "AMT[(\"Fries\",\"Protein\")] = 3\n",
    "AMT[(\"McSausage\",\"Protein\")] = 15\n",
    "AMT[(\"LfMilk\",\"Protein\")] = 9\n",
    "AMT[(\"OJ\",\"Protein\")] = 1\n",
    "AMT[(\"QPwCheese\",\"VitA\")] = 15\n",
    "AMT[(\"MDwCheese\",\"VitA\")] = 15\n",
    "AMT[(\"LeBigMac\",\"VitA\")] = 6\n",
    "AMT[(\"FOFish\",\"VitA\")] = 2\n",
    "AMT[(\"McGChicken\",\"VitA\")] = 8\n",
    "AMT[(\"Fries\",\"VitA\")] = 0\n",
    "AMT[(\"McSausage\",\"VitA\")] = 4\n",
    "AMT[(\"LfMilk\",\"VitA\")] = 10\n",
    "AMT[(\"OJ\",\"VitA\")] = 2\n",
    "AMT[(\"QPwCheese\",\"VitC\")] = 6\n",
    "AMT[(\"MDwCheese\",\"VitC\")] = 10\n",
    "AMT[(\"LeBigMac\",\"VitC\")] = 2\n",
    "AMT[(\"FOFish\",\"VitC\")] = 0\n",
    "AMT[(\"McGChicken\",\"VitC\")] = 15\n",
    "AMT[(\"Fries\",\"VitC\")] = 15\n",
    "AMT[(\"McSausage\",\"VitC\")] = 0\n",
    "AMT[(\"LfMilk\",\"VitC\")] = 4\n",
    "AMT[(\"OJ\",\"VitC\")] = 120\n",
    "AMT[(\"QPwCheese\",\"Calc\")] = 30\n",
    "AMT[(\"MDwCheese\",\"Calc\")] = 20\n",
    "AMT[(\"LeBigMac\",\"Calc\")] = 25\n",
    "AMT[(\"FOFish\",\"Calc\")] = 15\n",
    "AMT[(\"McGChicken\",\"Calc\")] = 15\n",
    "AMT[(\"Fries\",\"Calc\")] = 0\n",
    "AMT[(\"McSausage\",\"Calc\")] = 20\n",
    "AMT[(\"LfMilk\",\"Calc\")] = 30\n",
    "AMT[(\"OJ\",\"Calc\")] = 2\n",
    "AMT[(\"QPwCheese\",\"Iron\")] = 20\n",
    "AMT[(\"MDwCheese\",\"Iron\")] = 20\n",
    "AMT[(\"LeBigMac\",\"Iron\")] = 20\n",
    "AMT[(\"FOFish\",\"Iron\")] = 10\n",
    "AMT[(\"McGChicken\",\"Iron\")] = 8\n",
    "AMT[(\"Fries\",\"Iron\")] = 2\n",
    "AMT[(\"McSausage\",\"Iron\")] = 15\n",
    "AMT[(\"LfMilk\",\"Iron\")] = 0\n",
    "AMT[(\"OJ\",\"Iron\")] = 2"
   ]
  },
  {
   "cell_type": "code",
   "execution_count": 29,
   "metadata": {},
   "outputs": [],
   "source": [
    "m.amt = Param(m.food, m.nutr, initialize=AMT)  #: nutrition information"
   ]
  },
  {
   "cell_type": "markdown",
   "metadata": {},
   "source": [
    "With all the nutritional contents, the constraint can be created. For this a double sided inequality expression is used:"
   ]
  },
  {
   "cell_type": "code",
   "execution_count": 30,
   "metadata": {},
   "outputs": [],
   "source": [
    "def nutr_constraint_init(mod, j):\n",
    "    return inequality(mod.n_min[j], sum(mod.amt[i, j] * mod.buy[i] for i in mod.food), mod.n_max[j])  #: new: use inequality() for chained inequalities :S"
   ]
  },
  {
   "cell_type": "markdown",
   "metadata": {},
   "source": [
    "Note the use of the `sum` built-in function. The `nutr_constraint_init` function basically returns an expression in the form $n_{min,j} \\leq \\sum_{i\\in F} a_{i,j} x_{i} \\leq n_{max, j}$ This function is then passed to the `rule` keyword in the constructor."
   ]
  },
  {
   "cell_type": "code",
   "execution_count": 31,
   "metadata": {},
   "outputs": [],
   "source": [
    "m.nutr_con = Constraint(m.nutr, rule=nutr_constraint_init)"
   ]
  },
  {
   "cell_type": "markdown",
   "metadata": {},
   "source": [
    "And then solve again."
   ]
  },
  {
   "cell_type": "code",
   "execution_count": 32,
   "metadata": {},
   "outputs": [
    {
     "name": "stdout",
     "output_type": "stream",
     "text": [
      "Welcome to the CBC MILP Solver \n",
      "Version: 2.9.7 \n",
      "Build Date: Nov 24 2015 \n",
      "\n",
      "command line - C:\\Users\\dav0\\cbc-win64\\cbc.exe -printingOptions all -import C:\\Users\\dav0\\AppData\\Local\\Temp\\tmpve9nf8uy.pyomo.lp -stat=1 -solve -solu C:\\Users\\dav0\\AppData\\Local\\Temp\\tmpve9nf8uy.pyomo.soln (default strategy 1)\n",
      "Option for printingOptions changed from normal to all\n",
      "Presolve 11 (-1) rows, 9 (-1) columns and 76 (-1) elements\n",
      "Statistics for presolved model\n",
      "Original problem has 9 integers (0 of which binary)\n",
      "Presolved problem has 9 integers (0 of which binary)\n",
      "==== 0 zero objective 8 different\n",
      "1 variables have objective of 0.6\n",
      "1 variables have objective of 0.72\n",
      "1 variables have objective of 0.77\n",
      "1 variables have objective of 1.29\n",
      "1 variables have objective of 1.44\n",
      "2 variables have objective of 1.84\n",
      "1 variables have objective of 2.19\n",
      "1 variables have objective of 2.29\n",
      "==== absolute objective values 8 different\n",
      "1 variables have objective of 0.6\n",
      "1 variables have objective of 0.72\n",
      "1 variables have objective of 0.77\n",
      "1 variables have objective of 1.29\n",
      "1 variables have objective of 1.44\n",
      "2 variables have objective of 1.84\n",
      "1 variables have objective of 2.19\n",
      "1 variables have objective of 2.29\n",
      "==== for integers 0 zero objective 8 different\n",
      "1 variables have objective of 0.6\n",
      "1 variables have objective of 0.72\n",
      "1 variables have objective of 0.77\n",
      "1 variables have objective of 1.29\n",
      "1 variables have objective of 1.44\n",
      "2 variables have objective of 1.84\n",
      "1 variables have objective of 2.19\n",
      "1 variables have objective of 2.29\n",
      "==== for integers absolute objective values 8 different\n",
      "1 variables have objective of 0.6\n",
      "1 variables have objective of 0.72\n",
      "1 variables have objective of 0.77\n",
      "1 variables have objective of 1.29\n",
      "1 variables have objective of 1.44\n",
      "2 variables have objective of 1.84\n",
      "1 variables have objective of 2.19\n",
      "1 variables have objective of 2.29\n",
      "===== end objective counts\n",
      "\n",
      "\n",
      "Problem has 11 rows, 9 columns (9 with objective) and 76 elements\n",
      "Column breakdown:\n",
      "0 of type 0.0->inf, 9 of type 0.0->up, 0 of type lo->inf, \n",
      "0 of type lo->up, 0 of type free, 0 of type fixed, \n",
      "0 of type -inf->0.0, 0 of type -inf->up, 0 of type 0.0->1.0 \n",
      "Row breakdown:\n",
      "0 of type E 0.0, 0 of type E 1.0, 0 of type E -1.0, \n",
      "0 of type E other, 0 of type G 0.0, 3 of type G 1.0, \n",
      "7 of type G other, 0 of type L 0.0, 0 of type L 1.0, \n",
      "1 of type L other, 0 of type Range 0.0->1.0, 0 of type Range other, \n",
      "0 of type Free \n",
      "Continuous objective value is 14.8557 - 0.00 seconds\n",
      "Cgl0003I 0 fixed, 0 tightened bounds, 1 strengthened rows, 0 substitutions\n",
      "Cgl0004I processed model has 10 rows, 9 columns (9 integer (0 of which binary)) and 67 elements\n",
      "Cutoff increment increased from 1e-005 to 0.00999\n",
      "Cbc0012I Integer solution of 15.45 found by DiveCoefficient after 0 iterations and 0 nodes (0.00 seconds)\n",
      "Cbc0038I Full problem 10 rows 9 columns, reduced to 8 rows 4 columns\n",
      "Cbc0012I Integer solution of 15.28 found by RINS after 0 iterations and 0 nodes (0.01 seconds)\n",
      "Cbc0031I 3 added rows had average density of 7\n",
      "Cbc0013I At root node, 3 cuts changed objective from 14.855738 to 14.997655 in 100 passes\n",
      "Cbc0014I Cut generator 0 (Probing) - 0 row cuts average 0.0 elements, 1 column cuts (1 active)  in 0.007 seconds - new frequency is -100\n",
      "Cbc0014I Cut generator 1 (Gomory) - 227 row cuts average 7.0 elements, 0 column cuts (0 active)  in 0.022 seconds - new frequency is 1\n",
      "Cbc0014I Cut generator 2 (Knapsack) - 0 row cuts average 0.0 elements, 0 column cuts (0 active)  in 0.002 seconds - new frequency is -100\n",
      "Cbc0014I Cut generator 3 (Clique) - 0 row cuts average 0.0 elements, 0 column cuts (0 active)  in 0.000 seconds - new frequency is -100\n",
      "Cbc0014I Cut generator 4 (MixedIntegerRounding2) - 0 row cuts average 0.0 elements, 0 column cuts (0 active)  in 0.007 seconds - new frequency is -100\n",
      "Cbc0014I Cut generator 5 (FlowCover) - 0 row cuts average 0.0 elements, 0 column cuts (0 active)  in 0.008 seconds - new frequency is -100\n",
      "Cbc0010I After 0 nodes, 1 on tree, 15.28 best solution, best possible 14.997655 (0.13 seconds)\n",
      "Cbc0012I Integer solution of 15.11 found by DiveCoefficient after 480 iterations and 7 nodes (0.14 seconds)\n",
      "Cbc0012I Integer solution of 15.05 found by DiveCoefficient after 607 iterations and 18 nodes (0.17 seconds)\n",
      "Cbc0001I Search completed - best objective 15.05, took 642 iterations and 22 nodes (0.19 seconds)\n",
      "Cbc0032I Strong branching done 100 times (196 iterations), fathomed 2 nodes and fixed 9 variables\n",
      "Cbc0035I Maximum depth 4, 6 variables fixed on reduced cost\n",
      "Cuts at root node changed objective from 14.8557 to 14.9977\n",
      "Probing was tried 100 times and created 1 cuts of which 0 were active after adding rounds of cuts (0.007 seconds)\n",
      "Gomory was tried 168 times and created 329 cuts of which 0 were active after adding rounds of cuts (0.034 seconds)\n",
      "Knapsack was tried 100 times and created 0 cuts of which 0 were active after adding rounds of cuts (0.002 seconds)\n",
      "Clique was tried 100 times and created 0 cuts of which 0 were active after adding rounds of cuts (0.000 seconds)\n",
      "MixedIntegerRounding2 was tried 100 times and created 0 cuts of which 0 were active after adding rounds of cuts (0.007 seconds)\n",
      "FlowCover was tried 100 times and created 0 cuts of which 0 were active after adding rounds of cuts (0.008 seconds)\n",
      "TwoMirCuts was tried 1 times and created 0 cuts of which 0 were active after adding rounds of cuts (0.000 seconds)\n",
      "\n",
      "Result - Optimal solution found\n",
      "\n",
      "Objective value:                15.05000000\n",
      "Enumerated nodes:               22\n",
      "Total iterations:               642\n",
      "Time (CPU seconds):             0.20\n",
      "Time (Wallclock seconds):       0.20\n",
      "\n",
      "Total time (CPU seconds):       0.21   (Wallclock seconds):       0.21\n",
      "\n"
     ]
    }
   ],
   "source": [
    "res = opt.solve(m, tee=True)"
   ]
  },
  {
   "cell_type": "code",
   "execution_count": 33,
   "metadata": {},
   "outputs": [
    {
     "name": "stdout",
     "output_type": "stream",
     "text": [
      "buy : Size=9, Index=food\n",
      "    Key        : Lower : Value : Upper : Fixed : Stale : Domain\n",
      "        FOFish :   0.0 :   1.0 :  20.0 : False : False : NonNegativeIntegers\n",
      "         Fries :   0.0 :   5.0 :  20.0 : False : False : NonNegativeIntegers\n",
      "      LeBigMac :   0.0 :   0.0 :  20.0 : False : False : NonNegativeIntegers\n",
      "        LfMilk :   0.0 :   4.0 :  20.0 : False : False : NonNegativeIntegers\n",
      "     MDwCheese :   0.0 :   0.0 :  20.0 : False : False : NonNegativeIntegers\n",
      "    McGChicken :   0.0 :   0.0 :  20.0 : False : False : NonNegativeIntegers\n",
      "     McSausage :   0.0 :   0.0 :  20.0 : False : False : NonNegativeIntegers\n",
      "            OJ :   0.0 :   0.0 :  20.0 : False : False : NonNegativeIntegers\n",
      "     QPwCheese :   0.0 :   4.0 :  20.0 : False : False : NonNegativeIntegers\n"
     ]
    }
   ],
   "source": [
    "m.buy.pprint()   #: I hope you like fries."
   ]
  },
  {
   "cell_type": "markdown",
   "metadata": {},
   "source": [
    "### Credits:\n",
    "- David Thierry (Carnegie Mellon University 2019)"
   ]
  }
 ],
 "metadata": {
  "kernelspec": {
   "display_name": "Python 3",
   "language": "python",
   "name": "python3"
  },
  "language_info": {
   "codemirror_mode": {
    "name": "ipython",
    "version": 3
   },
   "file_extension": ".py",
   "mimetype": "text/x-python",
   "name": "python",
   "nbconvert_exporter": "python",
   "pygments_lexer": "ipython3",
   "version": "3.7.4"
  },
  "pycharm": {
   "stem_cell": {
    "cell_type": "raw",
    "metadata": {
     "collapsed": false
    },
    "source": []
   }
  }
 },
 "nbformat": 4,
 "nbformat_minor": 4
}
