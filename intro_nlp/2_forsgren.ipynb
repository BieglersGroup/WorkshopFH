{
 "cells": [
  {
   "cell_type": "markdown",
   "metadata": {},
   "source": [
    "# Forsgren 3.4: The effect of the barrier parameter\n",
    "(Taken from Forsgren A, et al. Interior methods for nonlinear optimization. SIAM review. 2002;44(4):525-97)"
   ]
  },
  {
   "cell_type": "markdown",
   "metadata": {},
   "source": [
    "> **Requirements**\n",
    "> - python3.X\n",
    "> - pyomo 5.X.X\n",
    "> - [ipopt](https://github.com/coin-or/Ipopt) 3.12.12 (tested with)"
   ]
  },
  {
   "cell_type": "markdown",
   "metadata": {},
   "source": [
    "how to get the ipopt output!"
   ]
  },
  {
   "cell_type": "markdown",
   "metadata": {},
   "source": [
    "### 0. Introduction"
   ]
  },
  {
   "cell_type": "markdown",
   "metadata": {},
   "source": [
    "In this problem, the effects of the nonlinearities on some optimization algorithms (interior point) is showed.  \n",
    "For this the following *nonlinear* optimization problem is considered:"
   ]
  },
  {
   "cell_type": "markdown",
   "metadata": {},
   "source": [
    "\\begin{align}\n",
    "\\text{minimize} \\quad & \\dfrac{10}{3}x_{1} x_{2} + \\dfrac{1}{6} x_{1} \\\\\n",
    "\\text{subject to} \\quad & \\dfrac{19}{16} - x^{2}_{1} - \\dfrac{5}{2}x_{2}^{2} \\geq 0, \\\\\n",
    "& x_{1} - x_{2} + \\dfrac{3}{5} \\geq 0\n",
    "\\end{align}"
   ]
  },
  {
   "cell_type": "markdown",
   "metadata": {},
   "source": [
    "In the following figure the feasible region is displayed: inside the elipse (first constraint) and below the dotted line (second constraint). Furthermore, the contours of the *barrier* objective function are shown."
   ]
  },
  {
   "cell_type": "markdown",
   "metadata": {},
   "source": [
    "![Forsgren](./img/forsgren1.png)  \n",
    "Figure: The feasible region and objective function level-curves (Credit: Forsgren et al 2002)"
   ]
  },
  {
   "cell_type": "markdown",
   "metadata": {},
   "source": [
    "Clearly, if *ipopt* is used as a solver, the initial guess will be essential when solving the problem."
   ]
  },
  {
   "cell_type": "markdown",
   "metadata": {},
   "source": [
    "### 1. Package imports and model declaration"
   ]
  },
  {
   "cell_type": "markdown",
   "metadata": {},
   "source": [
    "As usual the pyomo environment has to be imported first."
   ]
  },
  {
   "cell_type": "code",
   "execution_count": 1,
   "metadata": {},
   "outputs": [],
   "source": [
    "from pyomo.environ import *\n",
    "from pyomo.opt import SolverFactory\n",
    "m = ConcreteModel()  #: concrete model"
   ]
  },
  {
   "cell_type": "markdown",
   "metadata": {},
   "source": [
    "### 2. Variables"
   ]
  },
  {
   "cell_type": "markdown",
   "metadata": {},
   "source": [
    "In this problem there are two variables. A `Set` object is not necessary, though it could be used to create an indexed variable `x`.  \n",
    "Since, this problem is nonlinear, it is *necessary* to specify an initial guess. In pyomo, this is usually done at construction level using the `initialize` keyword from the constructor.  \n",
    "For a simple variable (not indexed) a floating point number is sufficient."
   ]
  },
  {
   "cell_type": "code",
   "execution_count": 2,
   "metadata": {},
   "outputs": [],
   "source": [
    "m.x1 = Var(initialize=0)  #: same as no initial guess\n",
    "m.x2 = Var(initialize=0)  #: same as no initial guess"
   ]
  },
  {
   "cell_type": "markdown",
   "metadata": {},
   "source": [
    "However, if the variable is not initialed at the construction, its initial value often set to $\\max (0, x_{lb})$. This is problematic in several situations as the local linearizations of the constraints might not define a well-posed problem. "
   ]
  },
  {
   "cell_type": "markdown",
   "metadata": {},
   "source": [
    "### 3. Constraints and Objective"
   ]
  },
  {
   "cell_type": "markdown",
   "metadata": {},
   "source": [
    "Singleton constraints can have their respective expressions declared directly at construction. This is done with the `expr` keyword."
   ]
  },
  {
   "cell_type": "code",
   "execution_count": 3,
   "metadata": {},
   "outputs": [],
   "source": [
    "m.c1 = Constraint(expr=19/16 - m.x1 ** 2 - 5/2 * m.x2 ** 2 >= 0)\n",
    "m.c2 = Constraint(expr=m.x1 - m.x2 + 3/5 >= 0)"
   ]
  },
  {
   "cell_type": "markdown",
   "metadata": {},
   "source": [
    "Similarly, the objective function is constructed."
   ]
  },
  {
   "cell_type": "code",
   "execution_count": 4,
   "metadata": {},
   "outputs": [],
   "source": [
    "m.of = Objective(expr=10/3 * m.x1 * m.x2 + 1/6 * m.x1, sense=minimize)"
   ]
  },
  {
   "cell_type": "markdown",
   "metadata": {},
   "source": [
    "### 4. Solution and discussion"
   ]
  },
  {
   "cell_type": "markdown",
   "metadata": {},
   "source": [
    "To solve this problem, *ipopt* is used. *ipopt* is an interior-point optimization algorithm. It solves a sequence of problems called *barrier* subproblems, in which the variable bounds are moved into the objective function.  \n",
    "In pyomo, it is possible to turn off the solver output using the keyword `tee` of the `solve()` method. Also, note that the status of the solver is returned as a result of the solver call."
   ]
  },
  {
   "cell_type": "code",
   "execution_count": 10,
   "metadata": {},
   "outputs": [
    {
     "name": "stdout",
     "output_type": "stream",
     "text": [
      "/tmp/tmpfzqznvlz.pyomo.nl -AMPL \n",
      "Ipopt vanilla0: \n",
      "This is Ipopt version vanilla0, running with linear solver ma27.\n",
      "\n",
      "Number of nonzeros in equality constraint Jacobian...:        0\n",
      "Number of nonzeros in inequality constraint Jacobian.:        4\n",
      "Number of nonzeros in Lagrangian Hessian.............:        3\n",
      "\n",
      "Total number of variables............................:        2\n",
      "                     variables with only lower bounds:        0\n",
      "                variables with lower and upper bounds:        0\n",
      "                     variables with only upper bounds:        0\n",
      "Total number of equality constraints.................:        0\n",
      "Total number of inequality constraints...............:        2\n",
      "        inequality constraints with only lower bounds:        2\n",
      "   inequality constraints with lower and upper bounds:        0\n",
      "        inequality constraints with only upper bounds:        0\n",
      "\n",
      "iter    objective    inf_pr   inf_du lg(mu)  ||d||  lg(rg) alpha_du alpha_pr  ls\n",
      "   0 -1.1250000e+00 0.00e+00 3.20e-01  -1.0 0.00e+00    -  0.00e+00 0.00e+00   0\n",
      "   1 -1.0277973e+00 0.00e+00 3.01e-02  -1.0 8.75e-02    -  1.00e+00 1.00e+00f  1\n",
      "   2 -1.1187798e+00 0.00e+00 6.09e-03  -2.5 9.13e-02    -  9.90e-01 1.00e+00f  1\n",
      "   3 -1.1248746e+00 0.00e+00 1.76e-05  -3.8 7.93e-03    -  1.00e+00 1.00e+00h  1\n",
      "   4 -1.1249982e+00 0.00e+00 6.49e-09  -5.7 1.31e-04    -  1.00e+00 1.00e+00h  1\n",
      "   5 -1.1250000e+00 0.00e+00 9.86e-13  -8.6 1.85e-06    -  1.00e+00 1.00e+00h  1\n",
      "\n",
      "Number of Iterations....: 5\n",
      "\n",
      "                                   (scaled)                 (unscaled)\n",
      "Objective...............:  -1.1250000093689252e+00   -1.1250000093689252e+00\n",
      "Dual infeasibility......:   9.8587804586713901e-13    9.8587804586713901e-13\n",
      "Constraint violation....:   0.0000000000000000e+00    0.0000000000000000e+00\n",
      "Complementarity.........:   2.5067941079608775e-09    2.5067941079608775e-09\n",
      "Overall NLP error.......:   2.5067941079608775e-09    2.5067941079608775e-09\n",
      "\n",
      "\n",
      "Number of objective function evaluations             = 6\n",
      "Number of objective gradient evaluations             = 6\n",
      "Number of equality constraint evaluations            = 0\n",
      "Number of inequality constraint evaluations          = 6\n",
      "Number of equality constraint Jacobian evaluations   = 0\n",
      "Number of inequality constraint Jacobian evaluations = 6\n",
      "Number of Lagrangian Hessian evaluations             = 5\n",
      "Total CPU secs in IPOPT (w/o function evaluations)   =      0.000\n",
      "Total CPU secs in NLP function evaluations           =      0.000\n",
      "\n",
      "EXIT: Optimal Solution Found.\n",
      "\n",
      "- Status: ok\n",
      "  Message: Ipopt vanilla0\\x3a Optimal Solution Found\n",
      "  Termination condition: optimal\n",
      "  Id: 0\n",
      "  Error rc: 0\n",
      "  Time: 0.04006242752075195\n",
      "\n"
     ]
    }
   ],
   "source": [
    "opt = SolverFactory('ipopt')\n",
    "res = opt.solve(m, tee=True)\n",
    "print(res['Solver'])   #: get the status after solver call"
   ]
  },
  {
   "cell_type": "markdown",
   "metadata": {},
   "source": [
    "One way to show the results is by means of `.display()` method for variables.  "
   ]
  },
  {
   "cell_type": "code",
   "execution_count": 6,
   "metadata": {},
   "outputs": [
    {
     "name": "stdout",
     "output_type": "stream",
     "text": [
      "x1 : Size=1, Index=None\n",
      "    Key  : Lower : Value               : Upper : Fixed : Stale : Domain\n",
      "    None :  None : -0.3250000041542386 :  None : False : False :  Reals\n",
      "x2 : Size=1, Index=None\n",
      "    Key  : Lower : Value               : Upper : Fixed : Stale : Domain\n",
      "    None :  None : 0.27500000354017506 :  None : False : False :  Reals\n"
     ]
    }
   ],
   "source": [
    "m.x1.display()\n",
    "m.x2.display()"
   ]
  },
  {
   "cell_type": "markdown",
   "metadata": {},
   "source": [
    "*ipopt* found a *local* solution. From the Figure at the introduction section, it is clear that if the initial guess is perturbed; the results might change.  \n",
    "In order to test this issue, one can set the initial guess to a different value. For a singleton variable this is done with the `set_value()` method.  \n",
    "`set_value()` will have different behaviour if the variable is indexed."
   ]
  },
  {
   "cell_type": "code",
   "execution_count": 7,
   "metadata": {},
   "outputs": [],
   "source": [
    "m.x1.set_value(1)  #: Change the initial guesses            \n",
    "m.x2.set_value(-1)"
   ]
  },
  {
   "cell_type": "markdown",
   "metadata": {},
   "source": [
    "Then the model can be resolved:"
   ]
  },
  {
   "cell_type": "code",
   "execution_count": 8,
   "metadata": {},
   "outputs": [
    {
     "name": "stdout",
     "output_type": "stream",
     "text": [
      "\n",
      "- Status: ok\n",
      "  Message: Ipopt vanilla0\\x3a Optimal Solution Found\n",
      "  Termination condition: optimal\n",
      "  Id: 0\n",
      "  Error rc: 0\n",
      "  Time: 0.01589798927307129\n",
      "\n"
     ]
    }
   ],
   "source": [
    "res = opt.solve(m, tee=False)\n",
    "print(res['Solver'])"
   ]
  },
  {
   "cell_type": "markdown",
   "metadata": {},
   "source": [
    "And the results displayed in similar way."
   ]
  },
  {
   "cell_type": "code",
   "execution_count": 9,
   "metadata": {},
   "outputs": [
    {
     "name": "stdout",
     "output_type": "stream",
     "text": [
      "x1 : Size=1, Index=None\n",
      "    Key  : Lower : Value              : Upper : Fixed : Stale : Domain\n",
      "    None :  None : 0.7500000031123425 :  None : False : False :  Reals\n",
      "x2 : Size=1, Index=None\n",
      "    Key  : Lower : Value               : Upper : Fixed : Stale : Domain\n",
      "    None :  None : -0.5000000018801641 :  None : False : False :  Reals\n"
     ]
    }
   ],
   "source": [
    "m.x1.display()\n",
    "m.x2.display()"
   ]
  },
  {
   "cell_type": "markdown",
   "metadata": {},
   "source": [
    "Note that the results have changed. This illustrates the issue of providing *good* initial guesses for nonlinear problems.  \n",
    "The real solution of this problem is in fact $x^{*} = (\\dfrac{3}{4}, \\dfrac{-1}{2})$."
   ]
  },
  {
   "cell_type": "markdown",
   "metadata": {},
   "source": [
    "### Credits:\n",
    "- David Thierry (Carnegie Mellon University 2019)"
   ]
  }
 ],
 "metadata": {
  "kernelspec": {
   "display_name": "Python 3",
   "language": "python",
   "name": "python3"
  },
  "language_info": {
   "codemirror_mode": {
    "name": "ipython",
    "version": 3
   },
   "file_extension": ".py",
   "mimetype": "text/x-python",
   "name": "python",
   "nbconvert_exporter": "python",
   "pygments_lexer": "ipython3",
   "version": "3.7.4"
  },
  "pycharm": {
   "stem_cell": {
    "cell_type": "raw",
    "metadata": {
     "collapsed": false
    },
    "source": []
   }
  }
 },
 "nbformat": 4,
 "nbformat_minor": 4
}
