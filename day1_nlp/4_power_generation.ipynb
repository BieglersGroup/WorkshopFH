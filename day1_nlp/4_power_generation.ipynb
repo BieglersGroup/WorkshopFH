{
 "cells": [
  {
   "cell_type": "markdown",
   "metadata": {},
   "source": [
    "# Fuel Oil\n",
    "(Adapted from the Assignment 7 of Prof. Larry Biegler's Computational Methods class)"
   ]
  },
  {
   "cell_type": "markdown",
   "metadata": {},
   "source": [
    "> **Requirements**\n",
    "> - python3.X\n",
    "> - pyomo 5.X.X\n",
    "> - [ipopt](https://github.com/coin-or/Ipopt) 3.12.12 (tested with)"
   ]
  },
  {
   "cell_type": "markdown",
   "metadata": {},
   "source": [
    "### 0. Introduction"
   ]
  },
  {
   "cell_type": "markdown",
   "metadata": {},
   "source": [
    "Power generation from Fuel Oil (CAChE Case Study by Prof. I. A. Karimi, NUS)."
   ]
  },
  {
   "cell_type": "markdown",
   "metadata": {},
   "source": [
    "![Fig. Fuel oil problem](./img/fuel_oil.png)"
   ]
  },
  {
   "cell_type": "markdown",
   "metadata": {},
   "source": [
    "A two-boiler turbine-generator combination below is used to produce a power output of 50 MW with any combination of fuel oil and blast furnace gas (BFG). Only 10 units/h of BFG is available. Since the supply of BFG may not be sufficient for the required power generation, fuel oil must be purchased.  \n",
    "It is desired to use the minimum amount of fuel oil in the two generators. Fuel requirements are expressed as a quadratic function of the power (MW) produced from a correlation:\n",
    "$$\n",
    "f = a_{0} + a_{1} x + a_{2} x^{2},\n",
    "$$\n",
    "where $x$ is power (MW) from each generator and $f$ is fuel used (ton/h for fuel oil and units/f for BFG), with the constants for each generator given below."
   ]
  },
  {
   "cell_type": "markdown",
   "metadata": {},
   "source": [
    "|             |   $a_{0}$   |   $a_{1}$   |   $a_{2}$   |  \n",
    "| ----------- | ----------- | ----------- | ----------- |\n",
    "| gen1 (oil)  |    1.4609   |    0.15186  |   0.00145   |\n",
    "| gen1 (gas)  |    1.5742   |    0.16310  |   0.001358  |\n",
    "| gen2 (oil)  |    0.8008   |    0.20310  |   0.00916   |\n",
    "| gen2 (gas)  |    0.7266   |    0.22560  |   0.000778  |"
   ]
  },
  {
   "cell_type": "markdown",
   "metadata": {},
   "source": [
    "Assume that when a combination of fuel oil and BFG is used, the total power generated is summed. Power for first generator is from 18 to 30 MW while the second is 14 to 25 MW. Using the gams file fueloil.gms, go through the formulation of the problem. Identify the sets, variables, constraints and objective function. Also, note the special syntax of *pyomo* in referring to set indices.\n",
    "\n",
    "- What happens if gas supply increases from 10 to 15 units/h?  \n",
    "Can you predict this from the multipliers?\n",
    "- Suppose that fuel oil supply is restricted to 10 ton/h and BFG is to be purchased.  \n",
    "What is the minimum amount of BFG needed to supply the power requirement?"
   ]
  },
  {
   "cell_type": "markdown",
   "metadata": {},
   "source": [
    "### 1. Package imports"
   ]
  },
  {
   "cell_type": "code",
   "execution_count": 1,
   "metadata": {},
   "outputs": [],
   "source": [
    "from pyomo.environ import *\n",
    "from pyomo.opt import SolverFactory\n",
    "from pyomo.core.base.numvalue import value  #: nothing too special"
   ]
  },
  {
   "cell_type": "markdown",
   "metadata": {},
   "source": [
    "### 2. Model and Indexing-sets\n",
    "\n",
    "In this example, the sets are constructed using lists created at the constructor.  \n",
    "Note that most keywords can be set to an *ad-hoc* object (e.g. `initialize=['i_am_a_list']`)."
   ]
  },
  {
   "cell_type": "code",
   "execution_count": 2,
   "metadata": {},
   "outputs": [],
   "source": [
    "model = ConcreteModel()"
   ]
  },
  {
   "cell_type": "code",
   "execution_count": 3,
   "metadata": {},
   "outputs": [],
   "source": [
    "model.G = Set(initialize=['gen1', 'gen2'])  #: contextual list\n",
    "model.F = Set(initialize=['oil', 'gas'])\n",
    "model.K = Set(initialize=[0, 1, 2])  #: coefficient number"
   ]
  },
  {
   "cell_type": "markdown",
   "metadata": {},
   "source": [
    "### 3. Parameter"
   ]
  },
  {
   "cell_type": "markdown",
   "metadata": {},
   "source": [
    "One of the ways to initialize the parameter $a_{K}$ is to provide a dictionary whose keys correspond to the parameter's set, containing the data."
   ]
  },
  {
   "cell_type": "code",
   "execution_count": 4,
   "metadata": {},
   "outputs": [],
   "source": [
    "A_init = dict()\n",
    "A_init[('gen1', 'oil', 0)] = 1.4609\n",
    "A_init[('gen1', 'oil', 1)] = 1.5742\n",
    "A_init[('gen1', 'oil', 2)] = 0.8008\n",
    "\n",
    "A_init[('gen1', 'gas', 0)] = 1.5742\n",
    "A_init[('gen1', 'gas', 1)] = 0.16310\n",
    "A_init[('gen1', 'gas', 2)] = 0.000916\n",
    "\n",
    "A_init[('gen2', 'oil', 0)] = 0.8008\n",
    "A_init[('gen2', 'oil', 1)] = 0.20310\n",
    "A_init[('gen2', 'oil', 2)] = 0.000916\n",
    "\n",
    "A_init[('gen2', 'gas', 0)] = 0.7266\n",
    "A_init[('gen2', 'gas', 1)] = 0.2256\n",
    "A_init[('gen2', 'gas', 2)] = 0.000778"
   ]
  },
  {
   "cell_type": "markdown",
   "metadata": {},
   "source": [
    "And then set `initialize=A_init` at the constructor level."
   ]
  },
  {
   "cell_type": "code",
   "execution_count": 5,
   "metadata": {},
   "outputs": [],
   "source": [
    "model.A = Param(model.G, model.F, model.K, initialize=A_init)"
   ]
  },
  {
   "cell_type": "code",
   "execution_count": 6,
   "metadata": {},
   "outputs": [],
   "source": [
    "model.GASSUP = Param(initialize=10.0)\n",
    "model.PREQ = Param(initialize=50.0, doc='Total power output required in MW')"
   ]
  },
  {
   "cell_type": "code",
   "execution_count": 7,
   "metadata": {},
   "outputs": [],
   "source": [
    "# model.PMAX = Param(model.G, initialize=PMAX_init)"
   ]
  },
  {
   "cell_type": "code",
   "execution_count": 8,
   "metadata": {},
   "outputs": [],
   "source": [
    "# model.PMIN = Param(model.G, initialize=PMIN_init)"
   ]
  },
  {
   "cell_type": "markdown",
   "metadata": {},
   "source": [
    "### 4. Variables"
   ]
  },
  {
   "cell_type": "markdown",
   "metadata": {},
   "source": [
    "This problem is **nonlinear**. Therefore, it is required to provide initial guesses to all the variables. In pyomo, initial guesses for variables can be given at construction time and at any point after it.  \n",
    "At construction time, the initial guess can be given as part of a return value of a python function or in an approipiate data structure (e.g. dictionary).\n",
    "If the initial guesses have to be computed beforehand, it is often useful to have them calculated inside a function. Then the function must return a number for each element in the indexing set of the variable."
   ]
  },
  {
   "cell_type": "markdown",
   "metadata": {},
   "source": [
    "In this problem we compute the initial guesses as the average of lower and upper bounds. So first the data-stucture containing  the bounds are created. Then they are used inside a function to generate an initial guess as the average of the bounds."
   ]
  },
  {
   "cell_type": "code",
   "execution_count": 9,
   "metadata": {},
   "outputs": [],
   "source": [
    "PMAX_init = {}  #: will contain upper bound\n",
    "PMAX_init['gen1'] = 30.0\n",
    "PMAX_init['gen2'] = 25.0"
   ]
  },
  {
   "cell_type": "code",
   "execution_count": 10,
   "metadata": {},
   "outputs": [],
   "source": [
    "PMIN_init = {}  #: will contain lower bound\n",
    "PMIN_init['gen1'] = 18.0\n",
    "PMIN_init['gen2'] = 14.0"
   ]
  },
  {
   "cell_type": "code",
   "execution_count": 11,
   "metadata": {},
   "outputs": [],
   "source": [
    "def p_guess_init(m, g):  #: returns a number for every element of \"g\"\n",
    "    return (PMAX_init[g] + PMIN_init[g]) * 0.5"
   ]
  },
  {
   "cell_type": "markdown",
   "metadata": {},
   "source": [
    "Moreover, the bounds can be passed to the variable constructor as a function that returns a python `tuple` for each element within the inded."
   ]
  },
  {
   "cell_type": "code",
   "execution_count": 12,
   "metadata": {},
   "outputs": [],
   "source": [
    "def p_bounds_init(m, g):\n",
    "    return (PMIN_init[g], PMAX_init[g])"
   ]
  },
  {
   "cell_type": "markdown",
   "metadata": {},
   "source": [
    "Finally, these functions are passed to the variable constructor."
   ]
  },
  {
   "cell_type": "code",
   "execution_count": 13,
   "metadata": {},
   "outputs": [],
   "source": [
    "model.P = Var(model.G, \n",
    "              bounds=p_bounds_init,  #: p_bounds_init function that returns the bounds of the variables\n",
    "              initialize=p_guess_init,   #: p_guess_init function that returns the initial guesses\n",
    "              domain=PositiveReals, \n",
    "              doc='Total power output of generators in MW')  #: note that there is no particular order for this"
   ]
  },
  {
   "cell_type": "markdown",
   "metadata": {},
   "source": [
    "For the rest of the variables, no specific initial guesses will be provided. For such cases pyomo will initialize the variables to $\\min (0,x_{lb})$ for most cases."
   ]
  },
  {
   "cell_type": "code",
   "execution_count": 14,
   "metadata": {},
   "outputs": [],
   "source": [
    "model.X = Var(model.G, model.F, domain=PositiveReals, doc='Power outputs of generators for specific fuels')\n",
    "model.Z = Var(model.F, domain=PositiveReals, doc='Power outputs of generators for specific fuels')\n",
    "model.OILPUR = Var(doc='Amount of fuel oil purchased')"
   ]
  },
  {
   "cell_type": "markdown",
   "metadata": {},
   "source": [
    "### 5. Constraints"
   ]
  },
  {
   "cell_type": "markdown",
   "metadata": {},
   "source": [
    "Constraints for this problem will be declared using the functions to provide the expressions."
   ]
  },
  {
   "cell_type": "code",
   "execution_count": 15,
   "metadata": {},
   "outputs": [],
   "source": [
    "def tpower_init(mod):\n",
    "    return sum(mod.P[g] for g in mod.G) >= mod.PREQ  #: the total generated power has to be geq than the required power\n",
    "\n",
    "def _pwr_init(mod, g):\n",
    "    return mod.P[g] == sum(mod.X[g, f] for f in mod.F)  #: the power for each generator is the summation of power gen by fuel (oil/gas)\n",
    "\n",
    "def _fueluse(mod, f):\n",
    "    return mod.Z[f] >= sum(mod.A[g, f, k] * mod.X[g, f]**(k) for g in mod.G for k in mod.K)  #: the amount of fuel required\n",
    "\n",
    "def _oiluse_init(mod):\n",
    "    return mod.OILPUR == mod.Z['oil']"
   ]
  },
  {
   "cell_type": "code",
   "execution_count": 16,
   "metadata": {},
   "outputs": [],
   "source": [
    "model.TPOWER = Constraint(rule=tpower_init)\n",
    "model.PWR = Constraint(model.G, rule=_pwr_init)  #: indexed constraint\n",
    "model.OILUSE = Constraint(rule=_oiluse_init)\n",
    "model.FUELUSE = Constraint(model.F, rule=_fueluse)  #: indexed constraint"
   ]
  },
  {
   "cell_type": "markdown",
   "metadata": {},
   "source": [
    "### 6. Objective"
   ]
  },
  {
   "cell_type": "markdown",
   "metadata": {},
   "source": [
    "The objective of this problem is to minimize the oil purchase."
   ]
  },
  {
   "cell_type": "code",
   "execution_count": 17,
   "metadata": {},
   "outputs": [],
   "source": [
    "model.obj_func = Objective(sense=minimize, expr=model.OILPUR)"
   ]
  },
  {
   "cell_type": "markdown",
   "metadata": {},
   "source": [
    "### 7. Solution"
   ]
  },
  {
   "cell_type": "markdown",
   "metadata": {},
   "source": [
    "The model will be passed to the nonlinear solver *ipopt*. \n",
    "It is important to mention that often the initial guess plays an essential role on the success of the nonlinear solver."
   ]
  },
  {
   "cell_type": "code",
   "execution_count": 18,
   "metadata": {},
   "outputs": [
    {
     "name": "stdout",
     "output_type": "stream",
     "text": [
      "Ipopt 3.12.12: \n",
      "\n",
      "******************************************************************************\n",
      "This program contains Ipopt, a library for large-scale nonlinear optimization.\n",
      " Ipopt is released as open source code under the Eclipse Public License (EPL).\n",
      "         For more information visit http://projects.coin-or.org/Ipopt\n",
      "******************************************************************************\n",
      "\n",
      "This is Ipopt version 3.12.12, running with linear solver mumps.\n",
      "NOTE: Other linear solvers might be more efficient (see Ipopt documentation).\n",
      "\n",
      "Number of nonzeros in equality constraint Jacobian...:        8\n",
      "Number of nonzeros in inequality constraint Jacobian.:        8\n",
      "Number of nonzeros in Lagrangian Hessian.............:        4\n",
      "\n",
      "Total number of variables............................:        9\n",
      "                     variables with only lower bounds:        6\n",
      "                variables with lower and upper bounds:        2\n",
      "                     variables with only upper bounds:        0\n",
      "Total number of equality constraints.................:        3\n",
      "Total number of inequality constraints...............:        3\n",
      "        inequality constraints with only lower bounds:        1\n",
      "   inequality constraints with lower and upper bounds:        0\n",
      "        inequality constraints with only upper bounds:        2\n",
      "\n",
      "iter    objective    inf_pr   inf_du lg(mu)  ||d||  lg(rg) alpha_du alpha_pr  ls\n",
      "   0  0.0000000e+00 2.40e+01 1.09e+00  -1.0 0.00e+00    -  0.00e+00 0.00e+00   0\n",
      "   1  8.7565154e-03 2.37e+01 1.05e+00  -1.0 4.76e+01    -  1.09e-02 1.04e-02h  1\n",
      "   2  1.7679804e-01 2.27e+01 2.73e+00  -1.0 3.50e+01    -  8.05e-04 4.28e-02f  1\n",
      "   3  5.2285549e+00 7.07e-01 6.61e+00  -1.0 2.82e+01    -  4.00e-02 1.00e+00h  1\n",
      "   4  2.2562459e+00 2.75e-01 2.01e+00  -1.0 1.92e+01    -  4.87e-01 7.08e-01f  1\n",
      "   5  4.4167165e+00 3.19e-16 2.08e-02  -1.0 9.52e+00    -  9.80e-01 1.00e+00h  1\n",
      "   6  2.8015273e+00 2.20e-15 6.55e-03  -1.0 1.27e+01    -  8.24e-01 1.00e+00f  1\n",
      "   7  2.3325341e+00 2.66e-15 9.41e-03  -1.7 9.29e+00    -  7.92e-01 1.00e+00f  1\n",
      "   8  2.2700257e+00 1.22e-15 2.72e-03  -2.5 1.05e+01    -  8.36e-01 1.00e+00h  1\n",
      "   9  2.2621408e+00 1.69e-15 1.23e-04  -3.8 2.22e+00    -  9.71e-01 1.00e+00h  1\n",
      "iter    objective    inf_pr   inf_du lg(mu)  ||d||  lg(rg) alpha_du alpha_pr  ls\n",
      "  10  2.2617055e+00 1.38e-15 3.44e-06  -5.7 1.32e+00    -  9.83e-01 1.00e+00h  1\n",
      "  11  2.2617000e+00 1.86e-15 4.24e-09  -8.6 7.61e-02    -  9.99e-01 1.00e+00h  1\n",
      "  12  2.2617000e+00 1.57e-15 1.73e-09  -9.0 4.06e+01    -  6.63e-01 1.00e+00h  1\n",
      "\n",
      "Number of Iterations....: 12\n",
      "\n",
      "                                   (scaled)                 (unscaled)\n",
      "Objective...............:   2.2616999623372731e+00    2.2616999623372731e+00\n",
      "Dual infeasibility......:   1.7319685442028479e-09    1.7319685442028479e-09\n",
      "Constraint violation....:   1.5713261204112120e-15    1.5713261204112120e-15\n",
      "Complementarity.........:   4.5282661828207116e-09    4.5282661828207116e-09\n",
      "Overall NLP error.......:   4.5282661828207116e-09    4.5282661828207116e-09\n",
      "\n",
      "\n",
      "Number of objective function evaluations             = 13\n",
      "Number of objective gradient evaluations             = 13\n",
      "Number of equality constraint evaluations            = 13\n",
      "Number of inequality constraint evaluations          = 13\n",
      "Number of equality constraint Jacobian evaluations   = 13\n",
      "Number of inequality constraint Jacobian evaluations = 13\n",
      "Number of Lagrangian Hessian evaluations             = 12\n",
      "Total CPU secs in IPOPT (w/o function evaluations)   =      0.100\n",
      "Total CPU secs in NLP function evaluations           =      0.001\n",
      "\n",
      "EXIT: Optimal Solution Found.\n",
      "\b"
     ]
    }
   ],
   "source": [
    "ipopt = SolverFactory('ipopt')\n",
    "results = ipopt.solve(model, tee=True)"
   ]
  },
  {
   "cell_type": "markdown",
   "metadata": {},
   "source": [
    "Then the results can be printed"
   ]
  },
  {
   "cell_type": "code",
   "execution_count": 19,
   "metadata": {},
   "outputs": [
    {
     "name": "stdout",
     "output_type": "stream",
     "text": [
      "X[('gen1', 'oil')]=\t0.0\n",
      "X[('gen1', 'gas')]=\t28.46157528025944\n",
      "X[('gen2', 'oil')]=\t0.0\n",
      "X[('gen2', 'gas')]=\t23.34683446711745\n",
      "P[gen1]=\t28.46157527083693\n",
      "P[gen2]=\t23.346834461593524\n",
      "Z[oil]=\t2.261699962337273\n",
      "Z[gas]=\t87.34334641629277\n",
      "OILPUR =\t2.261699962337273\n"
     ]
    }
   ],
   "source": [
    "for key in model.X.keys():\n",
    "    print('X[{}]=\\t{}'.format(key, value(model.X[key])))\n",
    "for key in model.P.keys():\n",
    "    print('P[{}]=\\t{}'.format(key, value(model.P[key])))\n",
    "for key in model.Z.keys():\n",
    "    print('Z[{}]=\\t{}'.format(key, value(model.Z[key])))\n",
    "print('OILPUR =\\t{}'.format(value(model.OILPUR)))"
   ]
  },
  {
   "cell_type": "code",
   "execution_count": null,
   "metadata": {},
   "outputs": [],
   "source": []
  }
 ],
 "metadata": {
  "kernelspec": {
   "display_name": "Python 3",
   "language": "python",
   "name": "python3"
  },
  "language_info": {
   "codemirror_mode": {
    "name": "ipython",
    "version": 3
   },
   "file_extension": ".py",
   "mimetype": "text/x-python",
   "name": "python",
   "nbconvert_exporter": "python",
   "pygments_lexer": "ipython3",
   "version": "3.7.4"
  },
  "pycharm": {
   "stem_cell": {
    "cell_type": "raw",
    "source": [],
    "metadata": {
     "collapsed": false
    }
   }
  }
 },
 "nbformat": 4,
 "nbformat_minor": 4
}