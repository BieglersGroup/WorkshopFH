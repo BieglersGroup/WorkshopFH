{
 "cells": [
  {
   "cell_type": "markdown",
   "metadata": {},
   "source": [
    "# Hock-Schittkowsky 71 - Degenerate\n",
    "(Adapted from Problem number [71](https://www.coin-or.org/Ipopt/documentation/node20.html) from the Hock-Schittkowsky test suite and augmented with the formulation 4.2 of Curtis, et al. SIAM Journal on Optimization. 2009 Sep 16;20(3):1224-49.)"
   ]
  },
  {
   "cell_type": "markdown",
   "metadata": {},
   "source": [
    "> **Requirements**\n",
    "> - python3.X\n",
    "> - pyomo 5.X.X\n",
    "> - [ipopt](https://github.com/coin-or/Ipopt) 3.12.12 (tested with)"
   ]
  },
  {
   "cell_type": "markdown",
   "metadata": {},
   "source": [
    "### 0. Introduction"
   ]
  },
  {
   "cell_type": "markdown",
   "metadata": {},
   "source": [
    "In this problem, an ill-posed problem is tested with *ipopt*; to demonstrate the effects of \"bad\" modelling.\n",
    "Firstly, consider the problem:"
   ]
  },
  {
   "cell_type": "markdown",
   "metadata": {},
   "source": [
    "\\begin{align}\n",
    "\\text{minimize}_{x} \\quad & x_{1}x_{4} \\left(x_{1} + x_{2} + x_{3} \\right) + x_{3} \\\\\n",
    "\\text{subject to} \\quad & x_{1}x_{2}x_{3}x_{4} \\geq 25, \\\\\n",
    "& x_{1}^{2} + x_{2}^{2} + x_{3}^{2} + x_{4}^{2} = 40 \\\\\n",
    "& 1 \\leq x_{1}, x_{2}, x_{3}, x_{4} \\leq 5,\n",
    "\\end{align}"
   ]
  },
  {
   "cell_type": "markdown",
   "metadata": {},
   "source": [
    "With initial guess $x_{IG} = \\left(1,5,5,1 \\right)$. This problem is well-posed in the sense that the gradients of the constraints at the initial guess and at the solution $x^{*} = \\left(1, 4.7443, 3.8211, 1.3794\\right)$ are linearly independent.  \n",
    "However, one can make a modelling mistakes and create problematic cases; particularly for solvers like *ipopt*.\n",
    "For example, suppose that a constraint is added to the previous model so that:"
   ]
  },
  {
   "cell_type": "markdown",
   "metadata": {},
   "source": [
    "\\begin{align}\n",
    "c_{1} \\left(x\\right) &= 0 ,\\\\\n",
    "c_{1} \\left(x \\right) - c_{1}^{2} \\left( x \\right) & = 0,\n",
    "\\end{align}"
   ]
  },
  {
   "cell_type": "markdown",
   "metadata": {},
   "source": [
    "where the last constraint contains information of the already defined $c_{1} \\left(x \\right)= x_{1}^{2} + x_{2}^{2} + x_{3}^{2} + x_{4}^{2} - 40 = 0$. Clearly, this constraint does not change the feasible set of the original problem. However, the linearized functions of these constraints are inconsistent at all points for which $c_{1} \\neq 0$."
   ]
  },
  {
   "cell_type": "markdown",
   "metadata": {},
   "source": [
    "The purpose of this exercise is to notice the behaviour of the solver as a result of bad modelling.  \n",
    "Although `AbstractModels` are used, note that they are not necessary to construct this problem."
   ]
  },
  {
   "cell_type": "markdown",
   "metadata": {},
   "source": [
    "### 1. Package imports and model declaration"
   ]
  },
  {
   "cell_type": "markdown",
   "metadata": {},
   "source": [
    "For this model, the use of an *AbstractModel* will be shown. This kind of model is typical for problems whose structure depend on data. The *AbstractModel* will act as a blueprint for the overall model but it can *only* behave as a regular model after its instantiation. Note that for this case study a *ConcreteModel* would work just as fine."
   ]
  },
  {
   "cell_type": "code",
   "execution_count": 3,
   "metadata": {},
   "outputs": [],
   "source": [
    "from pyomo.environ import *\n",
    "from pyomo.opt import SolverFactory\n",
    "m = AbstractModel()  #: Abstract model for educational purposes"
   ]
  },
  {
   "cell_type": "markdown",
   "metadata": {},
   "source": [
    "### 2. Indexing sets and Variables"
   ]
  },
  {
   "cell_type": "markdown",
   "metadata": {},
   "source": [
    "The problem HK071 has four variables $x_{1}, x_{2}, x_{3}, x_{4}$. It is also possible to create a vector $x \\in \\mathbb{R}^{4}$. \n",
    "In abstract models, the sets and parameter data can be passed from a [text file](https://ampl.com/BOOK/CHAPTERS/12-data.pdf), the data can be also be written in tabular form.  \n",
    "It is known that the set of variables goes from 1...4, however this information can be part of the data file of the abstract model."
   ]
  },
  {
   "cell_type": "code",
   "execution_count": 4,
   "metadata": {},
   "outputs": [],
   "source": [
    "m.i = Set()  #: No particular initialization here."
   ]
  },
  {
   "cell_type": "code",
   "execution_count": 5,
   "metadata": {},
   "outputs": [],
   "source": [
    "x_guess = {1: 1, 2: 5, 3: 5, 4:1}"
   ]
  },
  {
   "cell_type": "markdown",
   "metadata": {},
   "source": [
    "The variables' initial value can be declared within the data file as well. Since the bounds of the variables are the same, it is possible to use the `bounds` keyword to assign the same bounds for all the variables."
   ]
  },
  {
   "cell_type": "code",
   "execution_count": 6,
   "metadata": {},
   "outputs": [],
   "source": [
    "#m.x = Var(m.i, initialize=x_guess, bounds=(1,5))\n",
    "m.x = Var(m.i, bounds=(1,5))"
   ]
  },
  {
   "cell_type": "markdown",
   "metadata": {},
   "source": [
    "### 3. Constraints and Objective"
   ]
  },
  {
   "cell_type": "code",
   "execution_count": 7,
   "metadata": {},
   "outputs": [],
   "source": [
    "def _c0_rule(mod):\n",
    "    return mod.x[1] * mod.x[2] * mod.x[3] * mod.x[4] >= 25\n",
    "m.c0 = Constraint(rule=_c0_rule)  #: nothing special about this one"
   ]
  },
  {
   "cell_type": "markdown",
   "metadata": {},
   "source": [
    "As noted in other examples meaningful *Constraint* objects require an expression. Moreover, there exists *Expression* objects that encapsulate symbolic relationships between variables. *Expression* objects can be conviniently used, for example, to initialize parts of a *Constraint* object. In the following example an *Expression* object is used to set the right-hand-side of the second constraint of the model."
   ]
  },
  {
   "cell_type": "code",
   "execution_count": 8,
   "metadata": {},
   "outputs": [],
   "source": [
    "m.e1 = Expression(rule=lambda mod: mod.x[1]**2 + mod.x[2]**2 + mod.x[3]**2 + mod.x[4]**2 - 40)  #: the expression is declared"
   ]
  },
  {
   "cell_type": "markdown",
   "metadata": {},
   "source": [
    "Then the expression is passed to the constraint objects."
   ]
  },
  {
   "cell_type": "code",
   "execution_count": 9,
   "metadata": {},
   "outputs": [],
   "source": [
    "m.c1 = Constraint(expr=m.e1 == 0)\n",
    "m.c2 = Constraint(expr=m.e1 - m.e1 ** 2 == 0)"
   ]
  },
  {
   "cell_type": "markdown",
   "metadata": {},
   "source": [
    "Finally, the objective is also defined using a python function:"
   ]
  },
  {
   "cell_type": "code",
   "execution_count": 10,
   "metadata": {},
   "outputs": [],
   "source": [
    "def _objective_rule(mod):\n",
    "    return mod.x[1] * mod.x[1] * (mod.x[1] + mod.x[2] + mod.x[3]) + mod.x[3]\n",
    "m.of = Objective(rule=_objective_rule, sense=minimize)"
   ]
  },
  {
   "cell_type": "markdown",
   "metadata": {},
   "source": [
    "Note that for the *AbstractModel* class, the constraints require python functions to pass on the respective expressions using the `rule` keyword."
   ]
  },
  {
   "cell_type": "markdown",
   "metadata": {},
   "source": [
    "### 4. Solution and discussion"
   ]
  },
  {
   "cell_type": "code",
   "execution_count": 11,
   "metadata": {},
   "outputs": [],
   "source": [
    "with open(\"hk071.dat\", \"w\") as f:\n",
    "    f.write(\"set i := 1 2 3 4;\\n\")\n",
    "    f.close()"
   ]
  },
  {
   "cell_type": "markdown",
   "metadata": {},
   "source": [
    "Before solving the problem an instance of the model must be constructed. If there is a data file, the construction of the instance can be done using the `create_instance` method as follows,"
   ]
  },
  {
   "cell_type": "code",
   "execution_count": 12,
   "metadata": {},
   "outputs": [],
   "source": [
    "instance = m.create_instance(\"hk071.dat\")"
   ]
  },
  {
   "cell_type": "markdown",
   "metadata": {},
   "source": [
    "At this point the instance of the model has been created. The instance basically behaves like a `ConcreteModel` and can be modified if necessary. For example, the variables can be set to the initial guess using the `set_value` method"
   ]
  },
  {
   "cell_type": "code",
   "execution_count": 13,
   "metadata": {},
   "outputs": [],
   "source": [
    "instance.x[1].set_value(1)\n",
    "instance.x[2].set_value(5)\n",
    "instance.x[3].set_value(5)\n",
    "instance.x[4].set_value(1)"
   ]
  },
  {
   "cell_type": "markdown",
   "metadata": {},
   "source": [
    "Then the solver can be created and called to solve the problem."
   ]
  },
  {
   "cell_type": "code",
   "execution_count": 14,
   "metadata": {},
   "outputs": [
    {
     "name": "stdout",
     "output_type": "stream",
     "text": [
      "/tmp/tmpbcxxs81q.pyomo.nl -AMPL \n",
      "Ipopt vanilla0: \n",
      "This is Ipopt version vanilla0, running with linear solver ma27.\n",
      "\n",
      "Number of nonzeros in equality constraint Jacobian...:        8\n",
      "Number of nonzeros in inequality constraint Jacobian.:        4\n",
      "Number of nonzeros in Lagrangian Hessian.............:       10\n",
      "\n",
      "Total number of variables............................:        4\n",
      "                     variables with only lower bounds:        0\n",
      "                variables with lower and upper bounds:        4\n",
      "                     variables with only upper bounds:        0\n",
      "Total number of equality constraints.................:        2\n",
      "Total number of inequality constraints...............:        1\n",
      "        inequality constraints with only lower bounds:        1\n",
      "   inequality constraints with lower and upper bounds:        0\n",
      "        inequality constraints with only upper bounds:        0\n",
      "\n",
      "iter    objective    inf_pr   inf_du lg(mu)  ||d||  lg(rg) alpha_du alpha_pr  ls\n",
      "   0  1.6109693e+01 1.15e+02 2.31e+01  -1.0 0.00e+00    -  0.00e+00 0.00e+00   0\n",
      "   1  1.5676098e+01 8.96e+01 2.80e+08  -1.0 3.06e-01    -  1.31e-01 2.35e-01h  1\n",
      "   2  1.5672409e+01 8.94e+01 2.79e+08  -1.0 4.98e+00    -  1.00e+00 2.06e-03h  1\n",
      "   3  1.5671759e+01 8.94e+01 2.79e+08  -1.0 3.86e+00    -  7.75e-01 8.71e-04h  1\n",
      "   4  1.5626429e+01 8.37e+01 2.82e+08  -1.0 3.81e+00    -  1.00e+00 6.29e-02h  1\n",
      "   5  1.5619745e+01 8.30e+01 2.80e+08  -1.0 2.68e-01    -  2.94e-01 8.92e-03h  1\n",
      "   6  1.5409488e+01 6.11e+01 6.02e+08  -1.0 2.50e-01    -  3.77e-03 2.80e-01f  1\n",
      "   7  1.5486966e+01 3.43e+01 1.54e+09  -1.0 2.21e-01    -  5.32e-05 4.91e-01f  1\n",
      "   8  1.5981411e+01 7.48e+00 5.43e+09  -1.0 1.78e-01    -  6.34e-01 1.00e+00f  1\n",
      "   9  1.6071412e+01 4.96e+00 4.93e+09  -1.0 1.69e-01    -  1.00e+00 1.74e-01h  1\n",
      "iter    objective    inf_pr   inf_du lg(mu)  ||d||  lg(rg) alpha_du alpha_pr  ls\n",
      "  10  1.6538037e+01 4.94e+00 2.65e+21  -1.0 9.73e+00    -  1.70e-02 6.34e-03h  4\n",
      "WARNING: Problem in step computation; switching to emergency mode.\n",
      "  11r 1.6538037e+01 4.94e+00 1.00e+03   0.4 0.00e+00  20.0 0.00e+00 0.00e+00R  1 4.93e+00 0.00e+00 1.00e+03 \n",
      "  12r 1.6696832e+01 1.71e+00 9.95e+02   0.4 2.16e+03    -  8.20e-03 9.83e-04f  1 1.73e+00 5.96e-01 9.92e+02 \n",
      "  13  1.4012666e+01 1.79e+00 1.00e+07  -1.0 2.12e+00    -  2.11e-01 1.59e-01f  1\n",
      "  14  1.4022272e+01 1.76e+00 9.33e+06  -1.0 7.62e-02   8.0 1.00e+00 1.86e-02h  1\n",
      "  15  1.4539932e+01 6.40e-01 1.06e+09  -1.0 7.63e-02   7.5 4.94e-02 1.00e+00f  1\n",
      "  16  1.4558214e+01 5.70e-01 1.04e+09  -1.0 2.37e-01    -  1.00e+00 1.95e-02h  1\n",
      "  17  1.4793180e+01 4.22e-01 8.79e+08  -1.0 2.37e-01    -  6.81e-01 2.50e-01h  3\n",
      "  18  1.4617666e+01 3.97e-01 6.15e+07  -1.0 8.53e-03    -  8.41e-01 1.00e+00H  1\n",
      "  19  1.4877809e+01 6.30e-01 6.43e+07  -1.0 1.11e-01   7.5 1.00e+00 5.00e-01f  2\n",
      "iter    objective    inf_pr   inf_du lg(mu)  ||d||  lg(rg) alpha_du alpha_pr  ls\n",
      "  20  1.4667863e+01 3.48e-01 4.14e+08  -1.0 5.25e-02   7.9 3.02e-01 1.00e+00h  1\n",
      "  21  1.4670295e+01 3.38e-01 4.06e+08  -1.0 5.27e-02   9.7 1.00e+00 1.25e-02h  1\n",
      "  22  1.4671920e+01 3.31e-01 4.02e+08  -1.0 5.96e-02   9.6 1.00e+00 7.27e-03h  1\n",
      "  23  1.4726505e+01 9.39e-02 1.85e+08  -1.0 1.57e-02  10.0 1.00e+00 1.00e+00f  1\n",
      "  24  1.4751260e+01 2.26e-02 1.91e+08  -1.0 1.01e-01   9.6 1.00e+00 6.25e-02h  5\n",
      "  25r 1.4751260e+01 2.26e-02 1.00e+03  -1.0 0.00e+00    -  0.00e+00 4.77e-07R 22 1.45e-03 0.00e+00 1.00e+03 \n",
      "  26r 1.4763398e+01 8.35e-04 5.01e+02  -1.0 5.09e+00    -  9.90e-01 4.40e-03f  1 1.42e-03 2.27e+00 1.00e+01 \n",
      "  27  1.3629361e+01 5.49e-02 1.61e+01  -1.0 5.36e-01    -  3.91e-01 1.28e-01f  1\n",
      "  28  1.3494393e+01 3.89e-01 1.59e+04  -1.0 4.75e-01    -  7.66e-01 1.00e+00f  1\n",
      "  29  1.3782930e+01 3.44e-03 5.12e+07  -1.0 3.14e-02   8.6 6.35e-01 1.00e+00h  1\n",
      "iter    objective    inf_pr   inf_du lg(mu)  ||d||  lg(rg) alpha_du alpha_pr  ls\n",
      "  30  1.3780191e+01 1.50e-03 3.34e+04  -1.0 1.01e-01    -  1.00e+00 1.00e+00H  1\n",
      "  31  1.3780743e+01 4.35e-05 5.06e+03  -1.0 1.17e-04   7.6 1.00e+00 1.00e+00h  1\n",
      "  32  1.3686494e+01 2.12e-05 1.84e+03  -1.7 9.65e-02    -  1.00e+00 1.00e+00f  1\n",
      "  33  1.3686507e+01 1.49e-08 1.64e+01  -2.5 3.37e-06   6.7 1.00e+00 1.00e+00h  1\n",
      "  34  1.3045858e+01 2.17e-02 2.17e+05  -3.8 4.55e-01    -  5.83e-01 1.34e-01f  1\n",
      "  35  1.3059057e+01 1.78e-07 3.51e+02  -3.8 6.97e-04   5.7 8.97e-01 1.00e+00h  1\n",
      "  36  1.2993087e+01 2.66e-04 3.62e+05  -3.8 2.77e-02    -  1.00e+00 1.75e-01f  1\n",
      "  37  1.2993607e+01 2.26e-04 3.17e+05  -3.8 2.86e-04   5.7 1.00e+00 1.25e-01f  4\n",
      "  38  1.2993584e+01 2.48e-05 9.51e+00  -3.8 1.88e-05   5.6 1.00e+00 1.00e+00h  1\n",
      "  39  1.2993045e+01 5.97e-07 2.92e+01  -5.7 6.14e-05   4.7 1.00e+00 6.59e-01h  1\n",
      "iter    objective    inf_pr   inf_du lg(mu)  ||d||  lg(rg) alpha_du alpha_pr  ls\n",
      "  40  1.2992811e+01 3.33e-07 4.67e+02  -5.7 1.75e-04   3.7 1.00e+00 1.00e+00f  1\n",
      "  41  1.2985354e+01 2.48e-05 7.98e+12  -5.7 9.77e-03    -  5.66e-03 1.41e-01H  1\n",
      "  42  1.2985356e+01 3.11e-05 1.00e+13  -5.7 3.88e-07  19.4 1.00e+00 1.00e+00f  1\n",
      "  43r 1.2985356e+01 3.11e-05 1.00e+03  -4.5 0.00e+00  18.9 0.00e+00 4.77e-07R 22 4.47e-05 0.00e+00 1.00e+03 \n",
      "  44r 1.2985676e+01 3.80e-07 6.16e+02  -4.5 1.73e-01    -  9.81e-01 1.38e-03f  1 4.87e-07 8.96e-01 1.93e+01 \n",
      "  45  1.2901280e+01 5.67e-03 1.91e+01  -5.7 2.84e+03    -  5.24e-04 2.19e-05f  1\n",
      "  46  1.2900876e+01 7.56e-07 1.58e+03  -5.7 2.24e-02    -  3.64e-02 1.00e+00h  1\n",
      "  47  1.2900492e+01 7.88e-07 1.44e+03  -5.7 1.21e-02    -  1.00e+00 8.97e-02h  1\n",
      "  48  1.2896906e+01 9.55e-06 3.04e+02  -5.7 1.37e-02    -  1.00e+00 7.86e-01f  1\n",
      "  49  1.2887005e+01 1.63e-04 4.65e+01  -5.7 1.67e-01    -  2.45e-01 1.00e+00f  1\n",
      "iter    objective    inf_pr   inf_du lg(mu)  ||d||  lg(rg) alpha_du alpha_pr  ls  spn     lmbd_max z_max\n",
      "  50r 1.2887005e+01 1.63e-04 9.99e+02  -3.5 0.00e+00  18.5 0.00e+00 4.77e-07R 22 2.35e-04 0.00e+00 1.95e+01 \n",
      "  51r 1.2885588e+01 1.02e-04 5.85e+02  -3.5 2.31e+01    -  9.62e-01 9.90e-04f  1 1.42e-04 6.42e-01 7.13e-01 \n",
      "  52  9.8766266e+00 2.03e+02 4.35e+01  -5.7 1.49e+03    -  1.51e-04 3.34e-02f  1\n",
      "  53  9.8766242e+00 2.03e+02 7.18e+11  -5.7 3.08e-05  18.0 2.73e-01 2.44e-02h  2\n",
      "  54r 9.8766242e+00 2.03e+02 9.99e+02   1.9 0.00e+00    -  0.00e+00 1.78e-07R  2 1.03e+02 0.00e+00 1.07e+02 \n",
      "  55r 9.9157382e+00 2.03e+02 9.97e+02   1.9 2.65e+07    -  3.31e-05 1.96e-08f  1 1.03e+02 5.95e-03 5.67e+02 \n",
      "  56r 8.6486455e+00 1.32e+02 9.03e+02   1.2 1.79e+04    -  1.02e-01 2.53e-03f  1 5.39e+01 1.45e+00 1.10e+02 Nhj \n",
      "  57  8.6484364e+00 1.32e+02 1.57e+13  -5.7 4.94e-05  17.5 7.68e-01 1.00e+00h  1\n",
      "  58  8.4433584e+00 1.17e+02 1.44e+13  -5.7 2.43e+01    -  3.33e-02 8.72e-02h  1\n",
      "  59r 8.4433584e+00 1.17e+02 9.99e+02   1.7 0.00e+00    -  0.00e+00 8.43e-08R  2 6.24e+01 0.00e+00 4.48e-04 \n",
      "iter    objective    inf_pr   inf_du lg(mu)  ||d||  lg(rg) alpha_du alpha_pr  ls  spn     lmbd_max z_max\n",
      "  60r 1.5908890e+01 7.17e+02 1.78e+06   1.7 6.04e+06    -  1.00e+00 1.59e-05f  1 6.18e+01 6.42e-03 1.78e+06 \n",
      "  61r 1.5781939e+01 3.48e+02 1.16e+06   1.7 8.75e+01    -  3.49e-01 5.71e-01f  1 1.25e+01 6.34e+02 1.16e+06 Nhj \n",
      "  62r 1.6128127e+01 1.40e+02 9.02e+04   1.7 2.89e+01    -  9.20e-01 7.74e-01f  1 1.04e+01 8.09e+02 9.40e+04 \n",
      "  63r 3.4397422e+01 4.63e+01 1.30e+04   1.7 2.26e+01    -  8.35e-01 1.00e+00f  1 6.58e+00 9.23e+02 1.61e+04 \n",
      "  64r 3.3965946e+01 1.21e+01 2.77e+03   1.7 2.16e+01    -  1.00e+00 1.00e+00f  1 4.08e+00 9.55e+02 3.38e+02 \n",
      "  65r 3.6891941e+01 3.13e+00 2.83e+03   1.7 1.65e+00    -  1.00e+00 1.00e+00f  1 2.45e+00 9.68e+02 1.05e+02 \n",
      "  66r 4.0124597e+01 1.45e+00 2.67e+03   1.7 2.31e+00    -  1.00e+00 1.00e+00f  1 1.63e+00 9.66e+02 8.76e+01 \n",
      "  67r 3.9497467e+01 2.99e-02 1.57e+04   1.7 1.20e+01    -  4.70e-02 3.31e-01f  1 1.23e+00 2.11e+03 8.54e+01 \n",
      "  68r 4.2113022e+01 1.59e+00 1.41e+04   1.7 9.69e+00    -  1.30e-02 6.51e-01H  1 1.99e+00 2.87e+03 8.55e+01 \n",
      "  69r 4.3177992e+01 1.17e+00 1.20e+04   1.7 3.80e-01   4.0 5.53e-01 1.00e+00f  1 1.33e+00 2.83e+03 8.23e+01 \n",
      "iter    objective    inf_pr   inf_du lg(mu)  ||d||  lg(rg) alpha_du alpha_pr  ls  spn     lmbd_max z_max\n",
      "  70r 4.3054345e+01 9.49e-01 4.54e+03   1.7 1.20e-01   3.5 1.00e+00 1.00e+00f  1 1.30e+00 5.54e+02 7.39e+01 \n",
      "  71r 4.3818885e+01 5.97e-01 5.57e+03   1.7 7.01e-01    -  3.88e-01 5.90e-01f  1 8.94e-01 1.52e+03 7.03e+01 \n",
      "  72r 4.4147054e+01 4.83e-01 1.01e+03   1.7 1.13e-01   3.9 1.00e+00 1.00e+00f  1 7.74e-01 4.36e+02 6.75e+01 \n",
      "  73r 4.5018642e+01 1.80e-01 1.03e+03   1.0 3.48e-01   3.5 1.00e+00 1.00e+00f  1 3.31e-01 7.71e+02 9.57e+00 \n",
      "  74r 4.5670140e+01 1.56e-02 6.70e+02   1.0 1.31e+00   3.0 1.00e+00 1.49e-01f  1 7.78e-02 6.55e+02 1.05e+01 \n",
      "  75r 4.6773309e+01 1.43e-02 2.83e+02   1.0 2.64e+00    -  1.00e+00 5.23e-01h  1 5.20e-02 5.60e+02 1.13e+01 \n",
      "  76r 4.7111897e+01 9.60e-03 4.32e+01   0.3 1.46e+00    -  1.00e+00 1.00e+00f  1 7.00e-03 4.35e+02 1.69e+00 \n",
      "  77r 4.6958750e+01 1.95e-04 7.58e+00  -0.4 8.11e-03   2.5 1.00e+00 1.00e+00f  1 1.64e-03 3.24e+02 4.20e-01 \n",
      "  78r 4.6668919e+01 2.25e-04 1.09e+00  -1.1 8.40e-03   2.0 1.00e+00 1.00e+00f  1 3.23e-04 2.64e+02 8.19e-02 \n",
      "  79r 4.6291924e+01 4.03e-04 8.37e-01  -1.8 1.13e-02   1.6 1.00e+00 1.00e+00f  1 6.52e-05 2.10e+02 1.60e-02 \n",
      "iter    objective    inf_pr   inf_du lg(mu)  ||d||  lg(rg) alpha_du alpha_pr  ls  spn     lmbd_max z_max\n",
      "  80r 4.5792121e+01 7.54e-04 6.32e-01  -1.8 1.58e-02   1.1 1.00e+00 1.00e+00h  1 6.52e-05 2.12e+00 1.65e-02 \n",
      "  81r 4.4329174e+01 7.02e-03 3.96e-01  -1.8 4.90e-02   0.6 1.00e+00 1.00e+00h  1 6.52e-05 6.36e+00 1.57e-02 \n",
      "  82r 4.1620719e+01 3.43e-02 1.51e+02  -2.7 1.60e-01   0.1 9.72e-01 7.01e-01h  1 2.55e-05 3.95e+02 3.38e-03 \n",
      "  83r 4.1637727e+01 3.15e-02 7.94e+02  -2.7 1.39e-02   1.5 2.73e-02 8.33e-02h  2 6.83e-05 1.79e+03 3.34e-03 \n",
      "  84r 4.1928080e+01 1.07e-04 1.74e+02  -2.7 7.94e-03   1.9 1.00e+00 1.00e+00h  1 4.37e-04 9.66e+02 1.98e-03 \n",
      "  85r 4.1921063e+01 1.38e-06 3.13e-01  -2.7 5.17e-04   2.3 1.00e+00 9.98e-01f  1 6.97e-06 9.61e+02 1.99e-03 \n",
      "  86r 4.1914895e+01 7.55e-07 1.29e+03  -2.7 1.16e-03   1.8 9.14e-01 3.13e-01f  2 6.90e-06 2.90e+02 1.99e-03 \n",
      "  87r 4.1855955e+01 2.51e-05 1.21e-01  -2.7 3.48e-03   1.4 1.00e+00 1.00e+00h  1 9.06e-06 4.58e+02 2.00e-03 \n",
      "  88r 4.1681269e+01 2.30e-04 2.01e-01  -2.7 1.05e-02   0.9 1.00e+00 1.00e+00h  1 8.33e-06 6.81e+01 2.00e-03 \n",
      "  89r 4.1168952e+01 2.12e-03 2.02e-01  -2.7 3.20e-02   0.4 1.00e+00 1.00e+00h  1 8.33e-06 5.23e+00 2.02e-03 \n",
      "iter    objective    inf_pr   inf_du lg(mu)  ||d||  lg(rg) alpha_du alpha_pr  ls  spn     lmbd_max z_max\n",
      "  90r 3.9756193e+01 1.98e-02 4.48e+01  -2.7 1.00e-01  -0.1 1.00e+00 1.00e+00h  1 8.34e-06 3.94e+02 2.08e-03 \n",
      "  91r 3.9757184e+01 1.93e-02 9.75e+01  -2.7 1.69e-02   1.3 2.33e-02 2.71e-02h  2 1.15e-05 1.10e+03 2.08e-03 \n",
      "  92r 3.9766645e+01 1.81e-02 3.71e+02  -2.7 4.90e-03   1.7 1.00e+00 6.25e-02h  5 2.13e-05 1.07e+03 2.07e-03 \n",
      "  93r 3.9766827e+01 1.78e-02 1.05e+02  -2.7 1.76e-02   1.2 1.21e-01 1.56e-02h  7 2.33e-05 1.10e+03 2.07e-03 \n",
      "  94r 3.9767881e+01 1.76e-02 2.14e+02  -2.7 5.02e-03   1.6 1.00e+00 7.81e-03h  8 2.42e-05 1.10e+03 2.07e-03 \n",
      "  95r 3.9767689e+01 1.76e-02 1.05e+02  -2.7 2.32e-02   1.2 1.62e-01 3.91e-03h  9 2.47e-05 1.10e+03 2.08e-03 F+\n",
      "  96r 3.9896513e+01 4.27e-05 2.39e+01  -2.7 5.42e-03   1.6 1.00e+00 1.00e+00h  1 1.41e-04 8.94e+02 2.07e-03 \n",
      "  97r 3.9763607e+01 3.16e-04 1.70e+00  -2.7 1.34e-02   1.1 1.00e+00 1.00e+00f  1 6.28e-06 8.78e+02 2.08e-03 \n",
      "  98r 3.9687701e+01 3.20e-04 4.55e+02  -2.7 2.24e-02   0.6 4.79e-01 3.63e-01h  1 7.03e-06 5.41e+02 2.08e-03 \n",
      "  99r 3.8885751e+01 1.35e-02 4.53e+00  -2.7 8.83e-02   0.1 1.00e+00 1.00e+00f  1 8.30e-06 6.93e+01 2.11e-03 \n",
      "iter    objective    inf_pr   inf_du lg(mu)  ||d||  lg(rg) alpha_du alpha_pr  ls  spn     lmbd_max z_max\n",
      " 100r 3.8878909e+01 1.25e-02 1.24e+02  -2.7 3.56e-02   0.6 6.57e-02 7.45e-02h  1 8.76e-06 1.12e+03 2.11e-03 \n",
      " 101r 3.8604008e+01 6.38e-03 4.22e+02  -2.7 6.41e-01    -  1.00e+00 1.75e-01F  1 3.71e-06 1.03e+03 2.18e-03 \n",
      " 102r 3.8603736e+01 5.63e-03 1.63e+03  -2.7 1.14e-02   1.0 2.75e-02 1.17e-01f  2 6.15e-06 2.63e+03 2.18e-03 \n",
      " 103r 3.7135316e+01 2.81e-02 1.87e+03  -2.7 1.69e+00    -  6.58e-01 3.76e-01h  1 9.31e-06 8.79e+02 2.26e-03 \n",
      " 104r 3.7135516e+01 2.81e-02 1.54e+02  -2.7 6.75e-03   2.3 3.16e-01 8.47e-04h  2 9.05e-06 8.83e+02 2.23e-03 \n",
      " 105r 3.7367016e+01 7.75e-05 4.44e+00  -2.7 6.82e-03   1.9 1.00e+00 1.00e+00h  1 3.50e-04 9.11e+02 2.17e-03 \n",
      " 106r 3.6669155e+01 5.39e-03 3.01e+01  -2.7 4.60e-01    -  1.00e+00 9.99e-01f  1 6.73e-06 9.05e+02 2.21e-03 \n",
      " 107r 3.6711479e+01 4.47e-05 3.19e+01  -2.7 5.80e-03   1.4 1.00e+00 1.00e+00h  1 1.93e-05 5.44e+01 2.20e-03 \n",
      " 108r 3.6711447e+01 3.33e-06 8.74e-02  -2.7 1.52e-03   1.8 1.00e+00 1.00e+00h  1 8.54e-06 3.78e+01 2.20e-03 \n",
      " 109r 1.5457255e+01 2.72e+01 7.10e+01  -2.7 2.08e+01    -  8.97e-01 1.00e+00f  1 8.32e-06 1.56e+00 3.42e-03 \n",
      "iter    objective    inf_pr   inf_du lg(mu)  ||d||  lg(rg) alpha_du alpha_pr  ls  spn     lmbd_max z_max\n",
      " 110r 1.5457255e+01 2.72e+01 7.10e+01  -2.7 2.21e+01    -  0.00e+00 3.47e-07R  3 1.76e+01 1.56e+00 3.42e-03 R\n",
      " 111r 1.5447621e+01 2.70e+01 4.93e+02  -2.7 2.23e+01    -  1.00e+00 7.00e-03f  8 1.75e+01 4.15e+00 6.09e-03 \n",
      " 112r 1.5445223e+01 2.69e+01 7.55e+02  -2.7 2.19e+01    -  1.00e+00 1.85e-03f 10 1.74e+01 5.55e+00 6.37e-03 \n",
      " 113r 1.5444026e+01 2.69e+01 8.83e+02  -2.7 2.17e+01    -  1.00e+00 9.51e-04f 11 1.74e+01 6.39e+00 6.38e-03 \n",
      " 114r 1.5442829e+01 2.69e+01 9.42e+02  -2.7 2.16e+01    -  1.00e+00 9.64e-04f 11 1.74e+01 7.30e+00 6.38e-03 \n",
      " 115r 1.5442231e+01 2.69e+01 9.69e+02  -2.7 2.16e+01    -  1.00e+00 4.85e-04f 12 1.74e+01 7.77e+00 6.37e-03 F+\n",
      " 116r 1.4251192e+01 6.88e+00 4.27e+03  -2.7 2.16e+01    -  1.00e+00 9.96e-01f  1 3.16e+00 9.85e+02 6.37e-03 \n",
      " 117r 1.3784546e+01 2.48e+00 2.84e+03  -2.7 2.20e+00    -  1.00e+00 7.94e-01f  1 2.14e+00 9.94e+02 6.75e-03 \n",
      " 118r 1.3506738e+01 1.54e+00 2.19e+03  -2.7 1.27e+00    -  1.00e+00 8.19e-01f  1 1.53e+00 9.98e+02 6.94e-03 \n",
      " 119r 1.3327259e+01 1.14e+00 1.79e+03  -2.7 6.73e-01    -  1.82e-01 9.99e-01f  1 1.14e+00 1.42e+03 6.96e-03 \n",
      "iter    objective    inf_pr   inf_du lg(mu)  ||d||  lg(rg) alpha_du alpha_pr  ls  spn     lmbd_max z_max\n",
      " 120r 1.3759540e+01 1.38e-01 1.61e+04  -2.7 1.24e+01   2.2 8.44e-06 8.16e-02f  1 6.87e-01 3.38e+03 6.96e-03 \n",
      " 121r 1.3819486e+01 8.76e-03 1.23e+04  -2.7 7.30e-01   3.6 7.60e-01 1.83e-01f  1 4.25e-01 2.46e+03 6.31e-03 \n",
      " 122r 1.3819339e+01 8.47e-03 1.23e+04  -2.7 4.58e-01    -  1.00e+00 3.40e-03f  1 4.24e-01 2.46e+03 6.46e-03 \n",
      " 123r 1.3815097e+01 1.41e-05 6.52e+01  -2.7 4.24e-01    -  1.00e+00 9.98e-01f  1 8.89e-04 1.00e+03 6.44e-03 \n",
      " 124r 1.3815206e+01 2.17e-06 1.05e+00  -2.7 8.82e-04   3.1 1.00e+00 9.98e-01f  1 7.98e-06 9.97e+02 6.44e-03 \n",
      " 125r 1.3815343e+01 3.61e-07 5.65e+02  -2.7 1.84e-05   2.6 1.00e+00 5.00e-01h  2 7.16e-06 4.31e+02 6.44e-03 \n",
      " 126r 1.2232405e+01 1.03e-01 2.46e+01  -2.7 7.34e+00    -  1.00e+00 1.00e+00f  1 8.47e-06 3.17e+01 7.45e-03 \n",
      " 127  1.2232403e+01 1.03e-01 3.47e+09  -5.7 9.80e-08  16.5 1.00e+00 1.00e+00h  1\n",
      " 128  1.2232364e+01 1.03e-01 6.93e+09  -5.7 1.76e-06  15.6 1.00e+00 1.00e+00h  1\n",
      " 129  1.2231844e+01 1.02e-01 1.04e+10  -5.7 2.37e-05  14.6 1.00e+00 1.00e+00h  1\n",
      "iter    objective    inf_pr   inf_du lg(mu)  ||d||  lg(rg) alpha_du alpha_pr  ls\n",
      " 130  1.2322104e+01 3.29e-03 1.61e+23  -5.7 1.36e-01    -  1.00e+00 1.00e+00h  1\n",
      "WARNING: Problem in step computation; switching to emergency mode.\n",
      " 131r 1.2322104e+01 3.29e-03 9.99e+02  -2.5 0.00e+00  20.0 0.00e+00 0.00e+00R  1 4.73e-03 0.00e+00 9.37e-06 \n",
      " 132r 1.2342205e+01 3.38e-05 6.50e+02  -2.5 2.91e+01    -  1.00e+00 1.38e-03f  1 5.61e-05 8.98e-01 1.67e-02 \n",
      " 133  8.4097563e+00 1.95e-01 1.46e+01  -5.7 1.16e+00   0.0 1.84e-01 2.41e-01f  1\n",
      " 134  7.8112774e+00 1.61e+00 3.82e+07  -5.7 1.21e+01  -1.0 2.10e-06 7.40e-02f  1\n",
      " 135  9.1321003e+00 5.90e-01 1.39e+10  -5.7 9.57e-02   7.3 1.00e+00 1.00e+00h  1\n",
      " 136  8.4851443e+00 4.04e+00 1.34e+10  -5.7 3.06e+00    -  4.20e-01 1.00e+00h  1\n",
      " 137  8.8461890e+00 4.85e-01 1.18e+10  -5.7 1.70e+00    -  1.00e+00 1.00e+00h  1\n",
      " 138  8.1976074e+00 1.73e+00 6.69e+10  -5.7 1.54e-01  10.0 1.00e+00 9.98e-01h  1\n",
      " 139r 8.1976074e+00 1.73e+00 9.99e+02   0.2 0.00e+00  11.3 0.00e+00 3.25e-07R  6 2.28e+00 0.00e+00 2.30e-05 \n",
      "iter    objective    inf_pr   inf_du lg(mu)  ||d||  lg(rg) alpha_du alpha_pr  ls  spn     lmbd_max z_max\n",
      " 140r 1.1884965e+01 1.53e+01 2.33e+04   0.2 7.94e+05    -  3.28e-01 1.24e-05f  1 2.25e+00 6.24e-02 2.33e+04 \n",
      " 141r 1.2618211e+01 1.48e+01 1.96e+04   0.2 7.14e+01    -  1.59e-01 9.06e-02h  3 2.30e+00 9.86e+01 1.96e+04 Nhj \n",
      " 142r 1.3815760e+01 1.06e+01 7.24e+03   0.2 1.73e+00    -  6.50e-01 3.20e-01h  1 2.41e+00 4.05e+02 6.85e+03 \n",
      " 143r 1.4886740e+01 3.06e+00 3.20e+03   0.2 3.59e-01    -  9.73e-01 9.41e-01f  1 2.24e+00 9.65e+02 1.79e+02 \n",
      " 144r 1.4741094e+01 1.65e+00 2.46e+03   0.2 1.46e+00    -  9.66e-01 7.86e-01f  1 1.63e+00 9.92e+02 5.85e+00 \n",
      " 145r 1.4833116e+01 1.17e+00 2.24e+03   0.2 4.55e-01    -  3.96e-01 1.00e+00f  1 1.19e+00 1.30e+03 5.77e+00 \n",
      " 146r 1.4855582e+01 1.13e+00 1.29e+03   0.2 8.67e-02   4.0 1.00e+00 3.90e-01f  1 1.13e+00 9.44e+02 5.61e+00 \n",
      " 147r 1.5353477e+01 9.75e-01 1.54e+03   0.2 6.70e-01    -  7.67e-02 1.00e+00f  1 9.97e-01 2.05e+03 5.58e+00 \n",
      " 148r 1.5552754e+01 6.80e-01 1.68e+03   0.2 2.94e-01   3.5 1.00e+00 1.00e+00f  1 8.17e-01 1.30e+03 5.07e+00 \n",
      " 149r 1.6004954e+01 9.69e-03 1.70e+03   0.2 2.69e+01   3.0 3.09e-02 2.50e-02f  1 2.49e-01 1.46e+03 4.64e+00 \n",
      "iter    objective    inf_pr   inf_du lg(mu)  ||d||  lg(rg) alpha_du alpha_pr  ls  spn     lmbd_max z_max\n",
      " 150r 1.6010038e+01 2.83e-03 1.50e+03   0.2 3.60e-01   3.5 1.00e+00 2.29e-02f  1 2.34e-01 1.43e+03 4.62e+00 \n",
      " 151r 1.6026603e+01 9.85e-04 2.23e+02   0.2 2.29e-01   3.0 1.00e+00 9.96e-01f  1 9.39e-03 7.61e+02 4.75e+00 \n",
      " 152r 1.6047352e+01 2.05e-04 3.79e+00   0.2 2.97e-03   2.5 1.00e+00 1.00e+00f  1 6.23e-03 2.43e+02 4.73e+00 \n",
      " 153r 1.5903825e+01 1.51e-01 2.60e+02  -1.2 2.20e+00    -  7.71e-01 1.00e+00f  1 2.75e-04 2.31e+02 9.64e-01 \n",
      " 154r 1.5909441e+01 1.48e-01 4.56e+02  -1.2 1.45e-02   2.0 1.22e-02 1.96e-02h  1 3.23e-04 1.45e+03 9.53e-01 \n",
      " 155r 1.6192853e+01 4.79e-04 4.77e+02  -1.2 1.32e-02   2.5 3.64e-01 1.00e+00h  1 9.72e-03 1.02e+03 6.43e-01 \n",
      " 156r 1.6193623e+01 6.74e-05 7.12e+00  -1.2 9.51e-03   2.9 1.00e+00 9.90e-01f  1 3.00e-04 9.86e+02 1.67e-01 \n",
      " 157r 1.6193128e+01 4.09e-06 4.27e-01  -1.2 1.98e-04   2.4 1.00e+00 1.00e+00f  1 2.10e-04 2.70e+02 1.68e-01 \n",
      " 158r 1.3980174e+01 7.95e-02 1.57e+02  -2.8 3.01e+00    -  8.34e-01 1.00e+00f  1 6.50e-06 2.61e+02 5.90e-02 \n",
      " 159r 1.3980294e+01 7.93e-02 5.23e+02  -2.8 5.85e-03   1.9 1.05e-03 1.80e-03h  1 7.83e-06 1.52e+03 5.89e-02 \n",
      "iter    objective    inf_pr   inf_du lg(mu)  ||d||  lg(rg) alpha_du alpha_pr  ls  spn     lmbd_max z_max\n",
      " 160r 1.4046827e+01 7.70e-05 3.73e+02  -2.8 5.84e-03   2.4 3.20e-03 1.00e+00h  1 2.74e-03 1.37e+03 5.87e-02 \n",
      " 161r 1.4046631e+01 1.65e-06 6.02e-01  -2.8 2.74e-03   1.9 1.00e+00 9.98e-01f  1 9.32e-06 1.00e+03 4.87e-03 \n",
      " 162r 1.4045870e+01 7.29e-07 6.62e-03  -2.8 1.82e-04   1.4 1.00e+00 1.00e+00f  1 4.89e-06 6.34e+02 4.87e-03 \n",
      " 163r 1.0225699e+01 3.00e-01 1.44e+03  -4.2 7.11e+00    -  7.60e-01 1.00e+00f  1 2.62e-07 5.82e+02 3.12e-03 \n",
      " 164  1.0285511e+01 4.52e-02 1.46e+09  -5.7 1.79e-02  10.8 1.00e+00 1.00e+00h  1\n",
      " 165  1.0171802e+01 2.63e-03 3.69e+21  -5.7 3.28e-01    -  1.00e+00 1.00e+00h  1\n",
      " 166  1.0176463e+01 5.99e-06 6.55e+31  -5.7 1.20e-02    -  1.00e+00 1.00e+00h  1\n",
      "WARNING: Problem in step computation; switching to emergency mode.\n",
      " 167r 1.0176463e+01 5.99e-06 9.99e+02  -5.2 0.00e+00  18.7 0.00e+00 0.00e+00R  1 8.61e-06 0.00e+00 1.08e-05 \n",
      " 168r 1.0177206e+01 5.34e-08 6.48e+02  -5.2 1.13e+00    -  1.00e+00 1.38e-03f  1 9.37e-08 8.96e-01 3.33e-05 \n",
      " 169  8.1620775e+00 9.47e-02 1.38e+01  -5.7 1.22e+00   0.0 3.58e-01 1.62e-01f  1\n",
      "iter    objective    inf_pr   inf_du lg(mu)  ||d||  lg(rg) alpha_du alpha_pr  ls\n",
      " 170  7.4634494e+00 7.76e-01 8.12e+04  -5.7 9.42e+02    -  2.50e-07 5.26e-03f  1\n",
      " 171  7.4690097e+00 7.65e-01 3.43e+04  -5.7 2.88e-02   4.5 1.00e+00 1.39e-02h  1\n",
      " 172  7.8584647e+00 4.31e-03 2.24e+08  -5.7 2.79e-02   4.0 2.62e-01 1.00e+00h  1\n",
      " 173  7.8578739e+00 6.97e-06 7.65e+17  -5.7 9.87e-04    -  9.18e-03 1.00e+00h  1\n",
      "WARNING: Problem in step computation; switching to emergency mode.\n",
      " 174r 7.8578739e+00 6.97e-06 9.99e+02  -5.2 0.00e+00  19.8 0.00e+00 0.00e+00R  1 1.00e-05 0.00e+00 1.34e-05 \n",
      " 175r 7.8598384e+00 4.18e-08 6.48e+02  -5.2 2.83e+00    -  1.00e+00 1.38e-03f  1 1.09e-07 8.96e-01 2.00e-04 \n",
      "WARNING: Problem in step computation; switching to emergency mode.\n",
      " 176r 7.8598384e+00 4.18e-08 9.57e+02  -5.7 0.00e+00    -  0.00e+00 0.00e+00R  1 6.37e-08 0.00e+00 1.84e-03 \n",
      " 177r 7.8662940e+00 1.36e-06 5.48e+02  -5.7 1.36e-02    -  9.89e-01 6.15e-02f  1 3.19e-09 3.70e+01 3.93e-05 \n",
      " 178r 8.0146695e+00 4.42e-04 7.77e+01  -5.7 1.00e-01    -  9.34e-01 1.00e+00h  1 7.39e-09 5.84e+02 3.93e-05 Nhj \n",
      " 179r 8.0150800e+00 4.29e-04 1.06e+03  -5.7 2.79e-02    -  9.10e-02 3.09e-02h  1 6.06e-09 7.50e+01 3.92e-05 \n",
      "iter    objective    inf_pr   inf_du lg(mu)  ||d||  lg(rg) alpha_du alpha_pr  ls  spn     lmbd_max z_max\n",
      " 180r 8.0280372e+00 1.21e-06 2.73e+00  -5.7 2.72e-02    -  1.00e+00 1.00e+00h  1 8.53e-08 6.83e+02 3.85e-05 \n",
      " 181r 8.0353271e+00 3.79e-07 5.14e-02  -5.7 1.68e-02    -  1.00e+00 9.98e-01h  1 5.93e-09 6.63e+02 3.82e-05 \n",
      " 182r 8.0927875e+00 4.06e-05 6.27e+01  -5.7 1.64e-01    -  9.49e-01 1.00e+00h  1 7.13e-09 5.70e+02 3.56e-05 \n",
      " 183r 8.1443275e+00 1.90e-05 2.08e-01  -5.7 1.20e-01    -  1.00e+00 1.00e+00h  1 7.02e-09 7.57e+01 3.33e-05 \n",
      " 184r 8.1719175e+00 5.57e-06 8.08e-03  -5.7 6.48e-02    -  1.00e+00 1.00e+00h  1 7.36e-09 3.52e+01 3.24e-05 \n",
      " 185r 8.1687755e+00 2.39e-07 1.52e-03  -5.7 4.01e-04  -2.0 1.00e+00 1.00e+00h  1 7.38e-09 2.97e+00 3.26e-05 \n",
      " 186r 8.3061291e+00 1.39e-03 4.92e-05  -5.7 4.77e-01    -  1.00e+00 1.00e+00h  1 7.38e-09 3.07e-03 2.95e-05 \n",
      " 187r 8.3068963e+00 1.39e-03 4.95e+02  -5.7 7.67e-01    -  5.13e-03 2.57e-03h  2 7.38e-09 4.95e+02 2.94e-05 \n",
      " 188r 8.3070763e+00 1.39e-03 5.00e+02  -5.7 2.53e-01    -  4.18e-03 1.62e-03h 10 8.74e-09 5.00e+02 2.94e-05 \n",
      " 189r 8.3071034e+00 1.39e-03 7.17e+01  -5.7 2.52e-01    -  1.00e+00 2.44e-04h 13 8.94e-09 5.00e+02 2.63e-05 \n",
      "iter    objective    inf_pr   inf_du lg(mu)  ||d||  lg(rg) alpha_du alpha_pr  ls  spn     lmbd_max z_max\n",
      " 190r 8.3071071e+00 1.39e-03 4.93e+02  -5.7 1.98e-01    -  5.82e-03 4.19e-05h 10 8.97e-09 5.03e+02 2.63e-05 \n",
      " 191r 8.3071084e+00 1.39e-03 4.97e+02  -5.7 1.98e-01    -  1.06e-02 1.53e-05h 17 8.98e-09 5.03e+02 2.63e-05 F+\n",
      " 192r 8.3956720e+00 5.82e-05 6.67e-01  -5.7 1.98e-01    -  1.00e+00 1.00e+00h  1 8.44e-07 5.85e+02 2.72e-05 \n",
      " 193r 8.3977090e+00 4.60e-07 8.20e-03  -5.7 4.77e-03    -  1.00e+00 9.93e-01h  1 1.35e-08 5.84e+02 2.71e-05 \n",
      " 194r 8.4773378e+00 8.59e-05 2.98e-01  -5.7 1.94e-01    -  1.00e+00 1.00e+00h  1 6.08e-09 4.13e+02 2.50e-05 \n",
      " 195r 8.4772461e+00 8.52e-11 2.28e-01  -5.7 3.23e-05  -0.7 1.00e+00 1.00e+00h  1 8.71e-09 7.31e+02 2.52e-05 \n",
      " 196  7.6930455e+00 1.78e-02 1.33e+01  -5.7 1.12e+00   0.0 3.06e-01 7.92e-02f  1\n",
      " 197  7.4988117e+00 1.25e-01 3.19e+01  -5.7 1.23e+03    -  1.32e-06 1.11e-03f  1\n",
      " 198  7.4976615e+00 1.25e-01 3.19e+01  -5.7 1.38e+00   0.9 1.00e+00 1.19e-04h  1\n",
      " 199  7.4911741e+00 2.47e-03 1.85e+05  -5.7 3.67e-02   1.3 1.00e+00 1.00e+00f  1\n",
      "iter    objective    inf_pr   inf_du lg(mu)  ||d||  lg(rg) alpha_du alpha_pr  ls\n",
      " 200  7.4912962e+00 1.93e-03 1.44e+05  -5.7 2.00e-04    -  8.64e-01 2.23e-01h  1\n",
      " 201  7.4913097e+00 1.68e-03 1.26e+05  -5.7 2.04e-04    -  1.00e+00 1.25e-01f  4\n",
      " 202  7.4911065e+00 4.50e-06 3.44e+01  -5.7 2.21e-04    -  1.00e+00 1.00e+00h  1\n",
      " 203  7.4903576e+00 4.44e-06 3.16e+02  -5.7 6.39e-02    -  1.00e+00 2.05e-03f  1\n",
      " 204  7.4876103e+00 2.72e-05 1.73e+11  -5.7 4.21e-03    -  1.00e+00 1.00e+00f  1\n",
      " 205r 7.4876103e+00 2.72e-05 9.99e+02  -4.6 0.00e+00  17.0 0.00e+00 4.77e-07R 22 3.91e-05 0.00e+00 1.02e+01 \n",
      " 206r 7.4876473e+00 5.67e-06 6.32e+02  -4.6 4.53e-02    -  9.90e-01 1.10e-03f  1 8.18e-06 7.16e-01 1.03e-01 \n",
      " 207  7.3429453e+00 7.57e-02 5.40e+00  -5.7 1.67e+04    -  7.88e-05 1.33e-05f  1\n",
      " 208  7.3651199e+00 4.10e-04 3.92e+06  -5.7 1.98e-02    -  1.00e+00 1.00e+00h  1\n",
      " 209  7.3651266e+00 3.52e-04 6.01e+10  -5.7 9.57e-05    -  6.39e-01 1.74e-01h  1\n",
      "iter    objective    inf_pr   inf_du lg(mu)  ||d||  lg(rg) alpha_du alpha_pr  ls\n",
      " 210  7.3651277e+00 3.47e-04 7.11e+10  -5.7 2.88e-07  17.4 1.00e+00 1.00e+00h  1\n",
      " 211  7.3651340e+00 3.14e-04 1.33e+11  -5.7 1.61e-06  16.9 7.47e-01 1.00e+00h  1\n",
      "In iteration 211, 1 Slack too small, adjusting variable bound\n",
      " 212  7.3651359e+00 3.04e-04 1.52e+11  -5.7 7.33e-07  17.3 1.00e+00 6.85e-01h  1\n",
      "In iteration 212, 1 Slack too small, adjusting variable bound\n",
      " 213  7.3651359e+00 3.04e-04 1.09e+12  -5.7 7.08e-06  16.9 9.91e-02 8.99e-05h  1\n",
      "WARNING: Problem in step computation; switching to emergency mode.\n"
     ]
    },
    {
     "name": "stdout",
     "output_type": "stream",
     "text": [
      " 214r 7.3651359e+00 3.04e-04 1.00e+03  -3.5 0.00e+00  19.5 0.00e+00 0.00e+00R  1 1.17e-04 0.00e+00 1.00e+03 \n",
      " 215r 7.8075829e+00 5.07e-02 6.29e+02  -3.5 7.79e+01    -  9.90e-01 8.28e-04f  1 9.83e-05 5.35e-01 1.00e+01 \n",
      " 216r 7.8138436e+00 1.28e-02 1.23e+02  -3.5 2.83e-03    -  6.82e-01 7.48e-01f  1 3.41e-05 8.73e+02 3.18e+00 Nhj \n",
      " 217r 7.8157815e+00 2.58e-03 4.34e+01  -3.5 4.71e-03    -  9.90e-01 7.92e-01h  1 4.98e-06 6.95e+02 8.26e-02 \n",
      " 218r 7.8259326e+00 2.98e-05 1.11e+00  -3.5 9.57e-03    -  9.81e-01 1.00e+00h  1 1.03e-06 5.94e+02 1.38e-02 \n",
      " 219r 7.8367141e+00 2.07e-04 3.20e-01  -3.5 3.09e-02   0.0 1.00e+00 1.00e+00h  1 1.16e-06 3.02e+02 3.04e-02 \n",
      "iter    objective    inf_pr   inf_du lg(mu)  ||d||  lg(rg) alpha_du alpha_pr  ls  spn     lmbd_max z_max\n",
      " 220r 7.9446725e+00 7.26e-04 5.24e+00  -3.5 1.76e-02    -  9.84e-01 1.00e+00h  1 1.21e-06 1.83e+01 5.41e-03 \n",
      " 221r 8.3444750e+00 2.75e-03 2.58e+01  -3.5 1.00e+00    -  9.14e-01 1.00e+00h  1 1.22e-06 3.13e+02 6.99e-03 \n",
      " 222r 8.3438094e+00 2.24e-03 1.92e+01  -3.5 1.09e-03   0.4 1.96e-01 1.85e-01h  2 1.55e-06 9.74e+02 6.65e-03 \n",
      " 223r 8.3406558e+00 1.47e-05 6.75e+00  -3.5 3.09e-03  -0.1 1.00e+00 1.00e+00h  1 3.10e-06 6.28e+02 5.11e-03 \n",
      " 224r 8.3406558e+00 1.47e-05 9.99e+02  -4.8 0.00e+00  19.9 0.00e+00 4.77e-07R 22 2.11e-05 0.00e+00 8.46e+02 \n",
      " 225r 8.3408010e+00 4.35e-06 6.32e+02  -4.8 6.53e-02    -  9.90e-01 9.90e-04f  1 6.27e-06 6.43e-01 8.46e+00 \n",
      " 226  8.3408010e+00 4.35e-06 1.37e+05  -5.7 4.61e-15  19.5 1.00e+00 1.00e+00   0\n",
      " 227  8.3336419e+00 2.77e-07 9.32e+04  -5.7 1.37e-02    -  1.00e+00 1.00e+00f  1\n",
      " 228  8.3234983e+00 5.37e-07 1.36e+07  -5.7 1.76e-02    -  1.00e+00 1.00e+00f  1\n",
      " 229  8.3234983e+00 5.37e-07 1.36e+07  -5.7 1.38e-12  19.0 1.00e+00 9.77e-04h 11\n",
      "iter    objective    inf_pr   inf_du lg(mu)  ||d||  lg(rg) alpha_du alpha_pr  ls\n",
      " 230  8.3234983e+00 5.37e-07 1.36e+07  -5.7 4.13e-12  18.5 1.00e+00 1.00e+00s 22\n",
      " 231  8.3234984e+00 2.84e-14 1.44e+07  -5.7 3.87e-08  18.0 1.00e+00 0.00e+00S 22\n",
      " 232  8.3234984e+00 6.41e-10 1.45e+07  -5.7 3.96e-11  17.6 1.00e+00 1.00e+00h  1\n",
      " 233  8.3234331e+00 2.23e-11 1.39e+03  -5.7 1.13e-04    -  1.00e+00 1.00e+00f  1\n",
      " 234  8.3234331e+00 2.25e-11 1.40e+03  -8.6 1.15e-14  17.1 1.00e+00 1.00e+00   0\n",
      " 235  8.3234331e+00 2.26e-11 1.40e+03  -8.6 3.51e-14  16.6 1.00e+00 1.25e-01h  4\n",
      " 236  8.3234331e+00 7.11e-15 3.45e+04  -8.6 1.63e-12  16.1 1.00e+00 1.00e+00h  1\n",
      " 237  8.3234331e+00 9.61e-12 4.03e+04  -8.6 1.28e-12  16.6 1.00e+00 5.00e-01h  2\n",
      " 238  8.3234331e+00 2.72e-10 1.99e+05  -8.6 1.65e-11  16.1 1.00e+00 1.00e+00h  1\n",
      " 239  8.3234331e+00 4.14e-10 2.84e+05  -8.6 8.84e-12  16.5 1.00e+00 1.00e+00h  1\n",
      "iter    objective    inf_pr   inf_du lg(mu)  ||d||  lg(rg) alpha_du alpha_pr  ls\n",
      " 240  8.3234331e+00 5.20e-09 3.17e+06  -8.6 2.96e-10  16.0 1.00e+00 1.00e+00h  1\n",
      " 241  8.3231341e+00 4.67e-10 5.94e+06  -8.6 5.21e-04    -  1.00e+00 1.00e+00f  1\n",
      " 242  8.3231341e+00 4.67e-10 5.94e+06  -8.6 1.18e-10  16.9 1.00e+00 3.05e-05h 16\n",
      " 243  8.3231341e+00 7.11e-15 8.36e+05  -8.6 3.29e-11  16.4 1.00e+00 1.00e+00h  1\n",
      " 244  8.3183057e+00 1.85e-07 2.98e+08  -8.6 1.16e-02    -  1.00e+00 1.00e+00f  1\n",
      " 245r 8.3183057e+00 1.85e-07 9.99e+02  -6.0 0.00e+00  17.3 0.00e+00 4.77e-07R 22 2.68e-07 0.00e+00 4.29e-08 \n",
      " 246r 8.3189957e+00 1.68e-07 6.43e+02  -6.0 1.63e+00    -  1.00e+00 9.90e-04f  1 2.35e-07 6.38e-01 1.84e-05 \n",
      " 247  8.3189957e+00 1.68e-07 3.03e+04  -8.6 5.04e-13  16.8 1.00e+00 1.00e+00h  1\n",
      " 248  8.3189957e+00 1.68e-07 6.06e+04  -8.6 3.02e-12  16.3 1.00e+00 1.00e+00h  1\n",
      " 249  8.3189957e+00 1.68e-07 9.09e+04  -8.6 1.36e-11  15.8 1.00e+00 1.00e+00h  1\n",
      "iter    objective    inf_pr   inf_du lg(mu)  ||d||  lg(rg) alpha_du alpha_pr  ls\n",
      " 250  8.3189957e+00 1.67e-07 1.21e+05  -8.6 5.42e-11  15.3 1.00e+00 1.00e+00h  1\n",
      " 251  8.3189957e+00 1.63e-07 1.50e+05  -8.6 2.02e-10  14.9 1.00e+00 1.00e+00h  1\n",
      " 252  8.3193728e+00 1.57e-07 1.40e+05  -8.6 1.49e-03    -  1.00e+00 6.25e-02h  5\n",
      " 253  8.3193728e+00 1.45e-07 1.62e+05  -8.6 6.56e-10  14.4 1.00e+00 1.00e+00h  1\n",
      " 254  8.2988517e+00 4.58e-06 4.47e+02  -8.6 1.52e-02    -  1.00e+00 1.00e+00f  1\n",
      " 255  8.2988703e+00 3.29e-12 2.49e+13  -8.6 1.22e-06  13.9 1.00e+00 1.00e+00h  1\n",
      "WARNING: Problem in step computation; switching to emergency mode.\n",
      "Restoration phase is called at almost feasible point,\n",
      "  but acceptable point from iteration 237 could be restored.\n",
      "\n",
      "Number of Iterations....: 255\n",
      "\n",
      "                                   (scaled)                 (unscaled)\n",
      "Objective...............:   8.3234330820418077e+00    8.3234330820418077e+00\n",
      "Dual infeasibility......:   4.0286827598026568e+04    4.0286827598026568e+04\n",
      "Constraint violation....:   9.6065377874765545e-12    9.6065377874765545e-12\n",
      "Complementarity.........:   2.5059035596805688e-09    2.5059035596805688e-09\n",
      "Overall NLP error.......:   4.8036080556288018e-07    4.0286827598026568e+04\n",
      "\n",
      "\n",
      "Number of objective function evaluations             = 649\n",
      "Number of objective gradient evaluations             = 134\n",
      "Number of equality constraint evaluations            = 650\n",
      "Number of inequality constraint evaluations          = 650\n",
      "Number of equality constraint Jacobian evaluations   = 266\n",
      "Number of inequality constraint Jacobian evaluations = 266\n",
      "Number of Lagrangian Hessian evaluations             = 256\n",
      "Total CPU secs in IPOPT (w/o function evaluations)   =      0.093\n",
      "Total CPU secs in NLP function evaluations           =      0.006\n",
      "\n",
      "EXIT: Solved To Acceptable Level.\n",
      "\b\b\b\b\b\b\b\b\b\b\b\b\b\b\b\b"
     ]
    }
   ],
   "source": [
    "opt = SolverFactory('ipopt')\n",
    "try:\n",
    "    res = opt.solve(instance, tee=True)\n",
    "except ValueError:\n",
    "    print(\"Warning, something went wrong!\")"
   ]
  },
  {
   "cell_type": "markdown",
   "metadata": {},
   "source": [
    "If *MUMPS* is used as linear solver and the default options are used, the solution will fail. In this case, the default output of ipopt reveals that the column *inf_du* has grown significantly right before termination. It is likely related to the failure to satisfy the *constraint qualifications* given the current \n",
    "formulation of the problem.  \n",
    "It is clear that a slight mistake in the modelling can be problematic. Nevertheless, for this case trying a different starting point or different options *might* actually help solving the problem."
   ]
  },
  {
   "cell_type": "markdown",
   "metadata": {},
   "source": [
    "### Optional 1: Fix the model"
   ]
  },
  {
   "cell_type": "markdown",
   "metadata": {},
   "source": [
    "The model can be easily fixed if the last constraint is removed. This can be done by using the `deactivate` method."
   ]
  },
  {
   "cell_type": "code",
   "execution_count": 15,
   "metadata": {},
   "outputs": [],
   "source": [
    "instance.c2.deactivate()"
   ]
  },
  {
   "cell_type": "markdown",
   "metadata": {},
   "source": [
    "And then solve again."
   ]
  },
  {
   "cell_type": "code",
   "execution_count": 16,
   "metadata": {},
   "outputs": [
    {
     "name": "stdout",
     "output_type": "stream",
     "text": [
      "/tmp/tmpgi5yafob.pyomo.nl -AMPL \n",
      "Ipopt vanilla0: \n",
      "This is Ipopt version vanilla0, running with linear solver ma27.\n",
      "\n",
      "Number of nonzeros in equality constraint Jacobian...:        4\n",
      "Number of nonzeros in inequality constraint Jacobian.:        4\n",
      "Number of nonzeros in Lagrangian Hessian.............:       10\n",
      "\n",
      "Total number of variables............................:        4\n",
      "                     variables with only lower bounds:        0\n",
      "                variables with lower and upper bounds:        4\n",
      "                     variables with only upper bounds:        0\n",
      "Total number of equality constraints.................:        1\n",
      "Total number of inequality constraints...............:        1\n",
      "        inequality constraints with only lower bounds:        1\n",
      "   inequality constraints with lower and upper bounds:        0\n",
      "        inequality constraints with only upper bounds:        0\n",
      "\n",
      "iter    objective    inf_pr   inf_du lg(mu)  ||d||  lg(rg) alpha_du alpha_pr  ls\n",
      "   0  8.3234331e+00 9.61e-12 5.34e+00  -1.0 0.00e+00    -  0.00e+00 0.00e+00   0\n",
      "   1  7.5253408e+00 1.56e-02 3.34e+00  -1.0 2.52e-01    -  7.09e-01 3.62e-01f  1\n",
      "   2  7.8430877e+00 2.13e-03 1.79e-01  -1.0 4.05e-02    -  1.00e+00 1.00e+00f  1\n",
      "   3  7.4393417e+00 7.08e-03 4.57e-02  -1.7 1.04e+00    -  1.00e+00 9.66e-01f  1\n",
      "   4  7.3597483e+00 4.07e-03 1.88e-03  -2.5 5.17e-02    -  1.00e+00 1.00e+00h  1\n",
      "   5  7.3489665e+00 1.14e-04 2.99e-05  -3.8 2.51e-02    -  1.00e+00 1.00e+00h  1\n",
      "   6  7.3484747e+00 2.17e-07 6.09e-08  -5.7 1.19e-03    -  1.00e+00 1.00e+00h  1\n",
      "   7  7.3484691e+00 1.71e-11 6.49e-12  -8.6 1.62e-05    -  1.00e+00 1.00e+00h  1\n",
      "\n",
      "Number of Iterations....: 7\n",
      "\n",
      "                                   (scaled)                 (unscaled)\n",
      "Objective...............:   7.3484690666003312e+00    7.3484690666003312e+00\n",
      "Dual infeasibility......:   6.4879877028586263e-12    6.4879877028586263e-12\n",
      "Constraint violation....:   1.7053025658242404e-11    1.7053025658242404e-11\n",
      "Complementarity.........:   2.5158189761170228e-09    2.5158189761170228e-09\n",
      "Overall NLP error.......:   2.5158189761170228e-09    2.5158189761170228e-09\n",
      "\n",
      "\n",
      "Number of objective function evaluations             = 8\n",
      "Number of objective gradient evaluations             = 8\n",
      "Number of equality constraint evaluations            = 8\n",
      "Number of inequality constraint evaluations          = 8\n",
      "Number of equality constraint Jacobian evaluations   = 8\n",
      "Number of inequality constraint Jacobian evaluations = 8\n",
      "Number of Lagrangian Hessian evaluations             = 7\n",
      "Total CPU secs in IPOPT (w/o function evaluations)   =      0.001\n",
      "Total CPU secs in NLP function evaluations           =      0.000\n",
      "\n",
      "EXIT: Optimal Solution Found.\n"
     ]
    }
   ],
   "source": [
    "res = opt.solve(instance, tee=True)"
   ]
  },
  {
   "cell_type": "code",
   "execution_count": 17,
   "metadata": {},
   "outputs": [
    {
     "name": "stdout",
     "output_type": "stream",
     "text": [
      "x : Size=4, Index=i\n",
      "    Key : Lower : Value             : Upper : Fixed : Stale : Domain\n",
      "      1 :     1 :               1.0 :     5 : False : False :  Reals\n",
      "      2 :     1 :  3.44948966996681 :     5 : False : False :  Reals\n",
      "      3 :     1 : 1.449489760694747 :     5 : False : False :  Reals\n",
      "      4 :     1 :               5.0 :     5 : False : False :  Reals\n"
     ]
    }
   ],
   "source": [
    "instance.x.pprint()"
   ]
  },
  {
   "cell_type": "markdown",
   "metadata": {},
   "source": [
    "### Optional 2: examine the ipopt output\n",
    "Often, the output contains extremely important information. Although, it might be difficult to interpret; a large difference between the scales of the *inf_du* and *inf_pr* might signal failure of constraint qualifications.\n",
    "Also, one might try different options in ipopt.  \n",
    "For instance:"
   ]
  },
  {
   "cell_type": "code",
   "execution_count": 18,
   "metadata": {},
   "outputs": [],
   "source": [
    "with open(\"ipopt.opt\", \"w\") as f:\n",
    "    f.write(\"print_info_string yes\\n\")"
   ]
  },
  {
   "cell_type": "markdown",
   "metadata": {},
   "source": [
    "Try again with the bad constraint. Now, sometimes there is a new column at the end of the ipopt output."
   ]
  },
  {
   "cell_type": "code",
   "execution_count": 19,
   "metadata": {},
   "outputs": [
    {
     "name": "stdout",
     "output_type": "stream",
     "text": [
      "/tmp/tmpmr88347b.pyomo.nl -AMPL \n",
      "Ipopt vanilla0: \n",
      "This is Ipopt version vanilla0, running with linear solver ma27.\n",
      "\n",
      "Number of nonzeros in equality constraint Jacobian...:        8\n",
      "Number of nonzeros in inequality constraint Jacobian.:        4\n",
      "Number of nonzeros in Lagrangian Hessian.............:       10\n",
      "\n",
      "Total number of variables............................:        4\n",
      "                     variables with only lower bounds:        0\n",
      "                variables with lower and upper bounds:        4\n",
      "                     variables with only upper bounds:        0\n",
      "Total number of equality constraints.................:        2\n",
      "Total number of inequality constraints...............:        1\n",
      "        inequality constraints with only lower bounds:        1\n",
      "   inequality constraints with lower and upper bounds:        0\n",
      "        inequality constraints with only upper bounds:        0\n",
      "\n",
      "iter    objective    inf_pr   inf_du lg(mu)  ||d||  lg(rg) alpha_du alpha_pr  ls\n",
      "   0  7.4772395e+00 5.21e-01 1.30e+01  -1.0 0.00e+00    -  0.00e+00 0.00e+00   0 \n",
      "   1  7.4902030e+00 4.45e-02 4.10e+07  -1.0 1.27e-01    -  9.79e-01 1.00e+00h  1 McqsNhj L\n",
      "   2  7.4821479e+00 1.16e-02 2.83e+06  -1.0 3.82e-03   7.5 1.00e+00 1.00e+00h  1 qsL\n",
      "   3  7.4854653e+00 1.88e-04 1.51e+04  -1.0 8.38e-04   6.6 1.00e+00 1.00e+00h  1 qsL\n",
      "   4  7.5100198e+00 1.00e-05 7.88e+02  -1.0 5.85e-02    -  1.00e+00 1.00e+00f  1 qsL\n",
      "   5  7.5099370e+00 3.04e-07 4.09e+00  -2.5 9.91e-06   5.6 1.00e+00 1.00e+00h  1 sL\n",
      "   6  7.4165171e+00 1.18e-03 2.07e+05  -3.8 6.86e+00    -  8.13e-01 5.62e-02f  1 LS\n",
      "   7  7.4117135e+00 6.34e-08 1.20e+02  -3.8 7.18e-04   4.7 1.00e+00 1.00e+00h  1 sL\n",
      "   8  7.4077449e+00 5.29e-07 9.09e+01  -3.8 6.00e-04   3.7 1.00e+00 1.00e+00f  1 sL\n",
      "   9  7.4065818e+00 3.42e-07 5.90e+01  -3.8 4.12e-04   3.2 1.00e+00 4.67e-01h  1 L\n",
      "iter    objective    inf_pr   inf_du lg(mu)  ||d||  lg(rg) alpha_du alpha_pr  ls\n",
      "  10  7.4069009e+00 7.76e-07 3.68e+03  -3.8 3.49e-02    -  1.00e+00 1.56e-02f  7 \n",
      "  11  7.4068707e+00 3.98e-07 4.32e+07  -3.8 9.84e-04    -  1.00e+00 1.00e+00f  1 \n",
      "  12  7.4068707e+00 3.92e-07 4.39e+07  -3.8 3.71e-10  17.1 1.00e+00 1.00e+00h  1 La\n",
      "  13  7.4068707e+00 3.73e-07 4.60e+07  -3.8 1.17e-09  16.6 1.00e+00 1.00e+00h  1 L\n",
      "  14  7.4068682e+00 1.90e-12 9.06e+10  -3.8 7.18e-06    -  1.00e+00 1.00e+00h  1 \n",
      "  15  7.4068681e+00 5.26e-07 2.18e+11  -3.8 3.24e-08  18.8 1.00e+00 1.00e+00h  1 L\n",
      "  16  7.4068680e+00 7.78e-07 2.80e+11  -3.8 1.56e-08  19.3 1.00e+00 1.00e+00h  1 La\n",
      "  17  7.4068675e+00 3.00e-06 8.18e+11  -3.8 1.37e-07  18.8 1.00e+00 1.00e+00h  1 L\n",
      "  18  7.4068672e+00 4.10e-06 1.09e+12  -3.8 6.81e-08  19.2 1.00e+00 1.00e+00h  1 L\n",
      "  19  7.4068675e+00 3.84e-06 8.33e+14  -3.8 4.48e-05    -  1.00e+00 6.25e-02h  5 \n",
      "WARNING: Problem in step computation; switching to emergency mode.\n",
      "iter    objective    inf_pr   inf_du lg(mu)  ||d||  lg(rg) alpha_du alpha_pr  ls  spn     lmbd_max z_max\n",
      "  20r 7.4068675e+00 3.84e-06 9.69e+02  -3.8 0.00e+00  19.2 0.00e+00 0.00e+00R  1 7.99e-06 0.00e+00 1.03e+01 \n",
      "  21r 7.4081317e+00 6.18e-06 1.00e+01  -3.8 6.88e-02    -  9.90e-01 3.15e-02f  1 1.81e-06 1.34e-06 1.07e-01 \n",
      "  22r 7.5144931e+00 2.57e-02 4.92e-01  -3.8 1.32e-01    -  9.51e-01 1.00e+00f  1 5.87e-07 2.10e-02 6.28e-03 Nhj \n",
      "  23r 7.5156946e+00 2.57e-02 1.33e+00  -3.8 1.01e+01    -  8.33e-04 8.33e-04h  1 5.87e-07 9.90e+02 6.27e-03 \n",
      "  24r 7.8542019e+00 1.88e-02 9.75e+03  -3.8 2.99e+00    -  5.22e-04 5.15e-01h  1 3.43e-04 1.07e+04 6.26e-03 \n",
      "  25r 7.8500755e+00 3.95e-04 3.27e+03  -3.8 2.66e-02    -  1.18e-01 9.60e-01h  1 3.66e-04 1.73e+03 6.66e-03 \n",
      "  26r 7.8500627e+00 4.81e-04 2.09e+03  -3.8 9.96e-04   4.0 1.00e+00 3.61e-01f  1 2.34e-04 1.46e+03 9.66e-03 \n",
      "  27r 7.8502244e+00 4.44e-05 3.55e+02  -3.8 2.74e-04   3.5 1.00e+00 8.31e-01f  1 4.00e-05 1.06e+03 9.65e-03 \n",
      "  28r 7.8502615e+00 1.21e-05 5.38e+01  -3.8 4.38e-05   3.0 1.00e+00 8.48e-01f  1 6.32e-06 9.85e+02 9.65e-03 \n",
      "  29r 7.8503103e+00 2.79e-06 2.71e+01  -3.8 1.17e-05   2.6 1.00e+00 5.60e-01f  1 2.96e-06 9.50e+02 9.64e-03 \n",
      "iter    objective    inf_pr   inf_du lg(mu)  ||d||  lg(rg) alpha_du alpha_pr  ls  spn     lmbd_max z_max\n",
      "  30r 7.8504608e+00 2.19e-06 5.08e+01  -3.8 3.57e-05   2.1 1.00e+00 6.09e-01f  1 1.36e-06 8.71e+02 9.63e-03 \n",
      "  31r 7.8509415e+00 3.18e-07 9.68e+01  -3.8 1.08e-04   1.6 1.00e+00 6.47e-01f  1 7.18e-07 6.93e+02 9.59e-03 \n",
      "  32r 7.8526912e+00 3.57e-07 9.91e+01  -3.8 3.20e-04   1.1 1.00e+00 7.94e-01f  1 5.15e-07 3.12e+02 9.48e-03 \n",
      "  33r 7.8589457e+00 1.18e-06 3.42e-03  -3.8 9.06e-04   0.7 1.00e+00 1.00e+00f  1 5.84e-07 2.86e+01 9.15e-03 \n",
      "  34r 7.7565225e+00 1.85e-02 1.02e+01  -5.7 3.28e-01    -  9.35e-01 1.00e+00h  1 7.38e-09 2.82e+01 4.15e-04 \n",
      "  35r 7.7565225e+00 1.85e-02 5.64e+01  -5.7 3.64e-02    -  2.14e-05 2.03e-05h  1 7.18e-09 9.44e+02 4.15e-04 \n",
      "  36r 7.7565149e+00 1.84e-02 2.80e+02  -5.7 3.62e-02    -  1.00e+00 1.95e-03h 10 6.73e-07 9.43e+02 1.09e-04 \n",
      "  37r 7.7565134e+00 1.84e-02 2.92e+01  -5.7 3.63e-02    -  1.98e-03 3.77e-04h  6 8.01e-07 1.01e+03 1.09e-04 \n",
      "  38r 7.7565132e+00 1.84e-02 2.95e+01  -5.7 3.63e-02    -  1.00e+00 6.10e-05h 15 8.22e-07 1.01e+03 1.07e-04 \n",
      "  39r 7.7565048e+00 1.84e-02 2.95e+01  -5.7 3.63e-02    -  2.12e-03 2.12e-03s 22 1.54e-06 1.01e+03 1.07e-04 \n",
      "iter    objective    inf_pr   inf_du lg(mu)  ||d||  lg(rg) alpha_du alpha_pr  ls  spn     lmbd_max z_max\n",
      "  40r 7.7564984e+00 1.84e-02 2.94e+01  -5.7 3.81e-02    -  1.50e-03 1.50e-03s 22 2.12e-06 1.01e+03 1.07e-04 \n",
      "  41r 7.7564733e+00 1.82e-02 2.92e+01  -5.7 3.66e-02    -  6.26e-03 6.26e-03s 22 4.30e-06 1.01e+03 1.07e-04 \n",
      "  42r 7.7524997e+00 3.36e-04 3.71e+00  -5.7 3.64e-02    -  1.00e+00 1.00e+00s 22 3.45e-04 1.00e+03 1.07e-04 \n",
      "  43r 7.7529680e+00 4.82e-08 1.03e+01  -5.7 3.44e-04   0.2 1.00e+00 0.00e+00S 22 5.93e-06 1.00e+03 1.07e-04 \n",
      "  44r 7.7531026e+00 2.42e-06 4.24e+00  -5.7 3.37e-05   0.6 1.00e+00 5.88e-01f  1 2.44e-06 9.99e+02 1.07e-04 \n",
      "  45r 7.7536301e+00 1.84e-08 1.77e+00  -5.7 1.35e-04   0.1 1.00e+00 5.82e-01f  1 1.03e-06 9.98e+02 1.07e-04 \n",
      "  46r 7.7564538e+00 1.61e-07 1.79e+00  -5.7 7.15e-04  -0.3 1.00e+00 5.86e-01f  1 4.27e-07 9.96e+02 1.04e-04 \n",
      "  47r 7.7566983e+00 1.11e-07 4.31e+00  -5.7 6.14e-05   0.1 1.00e+00 5.87e-01f  1 1.78e-07 9.90e+02 1.05e-04 \n",
      "  48r 7.7574542e+00 9.08e-09 1.03e+01  -5.7 1.89e-04  -0.4 1.00e+00 5.90e-01f  1 7.54e-08 9.75e+02 1.04e-04 \n",
      "  49r 7.7597949e+00 2.01e-07 2.41e+01  -5.7 5.81e-04  -0.9 1.00e+00 5.95e-01f  1 3.28e-08 9.39e+02 1.02e-04 \n",
      "iter    objective    inf_pr   inf_du lg(mu)  ||d||  lg(rg) alpha_du alpha_pr  ls  spn     lmbd_max z_max\n",
      "  50r 7.7670275e+00 1.73e-06 5.37e+01  -5.7 1.75e-03  -1.4 1.00e+00 6.10e-01f  1 1.53e-08 8.55e+02 9.66e-05 \n",
      "  51r 7.8034590e+00 4.26e-05 1.02e+02  -5.7 8.20e-03  -1.8 1.00e+00 6.56e-01f  1 8.29e-09 6.60e+02 7.14e-05 \n",
      "  52r 7.8052272e+00 7.78e-08 3.15e-01  -5.7 2.28e-04  -0.5 1.00e+00 1.00e+00f  1 7.33e-09 2.84e+02 8.29e-05 \n",
      "  53r 7.8126739e+00 1.72e-06 9.73e-04  -5.7 1.08e-03  -1.0 1.00e+00 1.00e+00h  1 6.89e-09 1.67e+01 8.02e-05 \n",
      "  54r 8.0246661e+00 7.31e-04 1.01e-02  -5.7 1.85e-01    -  1.00e+00 1.00e+00h  1 7.38e-09 7.50e-01 1.96e-05 \n",
      "  55r 8.0251423e+00 7.26e-04 5.01e+02  -5.7 1.25e-01    -  1.38e-02 6.89e-03h  2 7.38e-09 4.99e+02 1.99e-05 \n",
      "  56r 8.0251570e+00 7.25e-04 1.70e+02  -5.7 3.38e-02    -  1.00e+00 7.07e-04h  9 7.75e-09 4.99e+02 4.49e-05 \n",
      "  57r 8.0251611e+00 7.25e-04 4.91e+02  -5.7 3.25e-02    -  1.30e-02 2.05e-04h  8 7.83e-09 5.09e+02 4.49e-05 \n",
      "  58r 8.0251614e+00 7.25e-04 8.96e+01  -5.7 3.25e-02    -  1.00e+00 1.53e-05h 17 7.84e-09 5.09e+02 4.40e-05 \n",
      "  59r 8.0254199e+00 7.16e-04 8.84e+01  -5.7 3.25e-02    -  1.29e-02 1.29e-02s 17 1.31e-08 1.09e+03 4.40e-05 \n",
      "iter    objective    inf_pr   inf_du lg(mu)  ||d||  lg(rg) alpha_du alpha_pr  ls  spn     lmbd_max z_max\n",
      "  60r 8.0335139e+00 8.94e-08 3.78e+02  -5.7 9.85e-03    -  1.00e+00 0.00e+00S 17 5.17e-07 1.09e+03 4.50e-05 F+\n",
      "  61r 8.0336022e+00 1.25e-09 1.18e-01  -5.7 1.68e-04    -  1.00e+00 1.00e+00h  1 4.49e-09 7.05e+02 4.50e-05 \n",
      "  62r 8.0508939e+00 1.99e-06 8.67e+02  -5.7 1.43e-01    -  1.00e+00 2.34e-01f  2 5.12e-09 4.40e+02 3.91e-05 \n",
      "  63r 8.0521034e+00 5.00e-08 9.73e-03  -5.7 1.54e-04  -1.5 1.00e+00 1.00e+00h  1 7.45e-09 1.95e+02 4.35e-05 \n",
      "  64r 8.0556035e+00 4.37e-07 2.08e-04  -5.7 4.42e-04  -1.9 1.00e+00 1.00e+00h  1 7.38e-09 1.94e+00 4.32e-05 \n",
      "  65r 8.1309212e+00 8.00e-05 5.63e-05  -5.7 1.54e-01    -  1.00e+00 1.00e+00h  1 7.38e-09 2.56e-02 3.75e-05 \n",
      "  66r 8.1310520e+00 7.75e-05 8.40e+02  -5.7 8.27e-03    -  1.00e+00 3.12e-02h  6 7.38e-09 2.71e+01 3.80e-05 \n",
      "  67r 8.1311069e+00 7.63e-05 1.87e+02  -5.7 6.78e-03    -  1.00e+00 1.56e-02h  7 7.46e-09 3.01e+01 3.80e-05 \n",
      "  68r 8.1311338e+00 7.57e-05 7.05e+02  -5.7 6.65e-03    -  1.00e+00 7.81e-03h  8 7.47e-09 3.56e+01 3.80e-05 \n",
      "  69r 8.1311471e+00 7.54e-05 3.30e+02  -5.7 6.57e-03    -  1.00e+00 3.91e-03h  9 7.49e-09 3.69e+01 3.80e-05 \n",
      "iter    objective    inf_pr   inf_du lg(mu)  ||d||  lg(rg) alpha_du alpha_pr  ls  spn     lmbd_max z_max\n"
     ]
    },
    {
     "name": "stdout",
     "output_type": "stream",
     "text": [
      "  70r 8.1311504e+00 7.53e-05 6.19e+02  -5.7 6.55e-03    -  1.00e+00 9.77e-04h 11 7.49e-09 3.75e+01 3.80e-05 F+\n",
      "  71r 8.1345395e+00 2.30e-07 6.02e-01  -5.7 6.54e-03    -  1.00e+00 1.00e+00h  1 1.10e-08 4.47e+02 3.80e-05 \n",
      "  72r 8.1345471e+00 8.24e-13 1.09e-03  -5.7 1.47e-05    -  1.00e+00 1.00e+00h  1 6.00e-09 2.04e+02 3.80e-05 \n",
      "  73  8.1345450e+00 9.31e-13 1.38e+01  -3.8 1.42e+00    -  3.12e-01 1.87e-07f 19 S\n",
      "  74  8.1345440e+00 1.48e-12 1.38e+01  -3.8 3.91e+00    -  3.71e-01 1.52e-07f 19 \n",
      "  75  8.1345440e+00 1.48e-12 1.38e+01  -3.8 3.65e-19  19.6 1.00e+00 1.00e+00   0 L\n",
      "  76  8.1345440e+00 1.48e-12 1.38e+01  -5.7 1.09e-18  19.1 1.00e+00 1.00e+00T  0 L\n",
      "  77  7.9193145e+00 3.84e-02 1.29e+08  -8.6 1.90e+02    -  2.08e-02 8.81e-03f  1 \n",
      "  78r 7.9193145e+00 3.84e-02 9.99e+02  -1.4 0.00e+00  18.1 0.00e+00 4.77e-07R 22 5.01e-02 0.00e+00 5.02e-05 \n",
      "  79r 1.2849069e+01 1.64e-01 2.21e+00  -1.4 1.04e+04    -  1.00e+00 9.93e-04f  1 1.78e-02 2.20e-03 2.22e+00 \n",
      "iter    objective    inf_pr   inf_du lg(mu)  ||d||  lg(rg) alpha_du alpha_pr  ls  spn     lmbd_max z_max\n",
      "  80r 1.2883420e+01 9.42e-02 1.13e+03  -1.4 9.01e-02    -  4.75e-01 4.13e-01f  1 1.32e-02 8.61e+02 1.16e+00 Nhj \n",
      "  81r 1.2798322e+01 7.86e-05 2.34e+02  -1.4 2.63e-01    -  9.68e-01 1.00e+00f  1 8.95e-03 9.94e+02 1.37e-01 \n",
      "  82  1.2798322e+01 7.86e-05 2.39e+08  -8.6 1.54e-09  17.2 1.00e+00 1.00e+00h  1 sL\n",
      "  83  1.2798322e+01 7.87e-05 4.78e+08  -8.6 9.21e-09  16.7 1.00e+00 1.00e+00h  1 L\n",
      "  84  1.2798321e+01 7.90e-05 7.16e+08  -8.6 4.14e-08  16.2 1.00e+00 1.00e+00h  1 L\n",
      "  85  1.2798317e+01 8.05e-05 9.51e+08  -8.6 1.65e-07  15.8 1.00e+00 1.00e+00h  1 La\n",
      "  86  1.2798304e+01 8.61e-05 1.17e+09  -8.6 6.10e-07  15.3 1.00e+00 1.00e+00h  1 La\n",
      "  87  1.2797957e+01 3.85e-09 2.87e+17  -8.6 1.72e-05  14.8 1.00e+00 1.00e+00h  1 \n",
      "  88r 1.2797957e+01 3.85e-09 9.99e+02  -8.2 0.00e+00  17.0 0.00e+00 3.97e-07R 19 7.72e-09 0.00e+00 8.26e-09 \n",
      "  89r 1.2797970e+01 1.64e-09 3.84e-06  -8.2 2.62e-02    -  1.00e+00 9.90e-04f  1 3.30e-09 3.81e-09 2.19e-08 \n",
      "iter    objective    inf_pr   inf_du lg(mu)  ||d||  lg(rg) alpha_du alpha_pr  ls\n",
      "  90  1.2797970e+01 1.64e-09 4.39e+02  -8.6 1.21e-14  16.6 1.00e+00 1.00e+00   0 L\n",
      "  91  1.2797970e+01 7.11e-15 1.66e+06  -8.6 1.24e-10  16.1 1.00e+00 1.00e+00h  1 \n",
      "  92  1.2797970e+01 7.11e-15 6.80e+00  -8.6 1.71e-15  15.6 1.00e+00 1.00e+00   0 A\n",
      "  93  1.1835420e+01 9.58e-03 5.74e+11  -9.0 9.80e+01    -  6.65e-01 2.71e-02f  3 S\n",
      "  94r 1.1835420e+01 9.58e-03 9.99e+02  -1.5 0.00e+00  15.1 0.00e+00 4.77e-07R 22 1.91e-02 0.00e+00 3.19e-08 \n",
      "  95r 1.1868224e+01 6.87e-03 1.18e-01  -1.5 9.79e+01    -  1.00e+00 9.90e-04f  1 1.38e-02 4.64e-05 1.28e-01 \n",
      "  96  1.1868184e+01 6.78e-03 2.33e+09  -9.0 5.17e-06  14.7 1.00e+00 1.00e+00h  1 La\n",
      "  97  1.1864069e+01 6.97e-03 3.14e+07  -9.0 1.94e-02    -  1.00e+00 1.00e+00h  1 La\n",
      "  98  1.1864162e+01 6.71e-03 2.31e+09  -9.0 1.54e-05  14.2 1.00e+00 1.00e+00h  1 L\n",
      "  99  1.1864370e+01 5.45e-03 3.96e+09  -9.0 7.93e-05  13.7 1.00e+00 1.00e+00h  1 L\n",
      "iter    objective    inf_pr   inf_du lg(mu)  ||d||  lg(rg) alpha_du alpha_pr  ls\n",
      " 100  1.1863516e+01 1.88e-03 4.22e+09  -9.0 2.53e-04  13.2 1.00e+00 1.00e+00h  1 La\n",
      " 101  1.1856618e+01 8.49e-03 1.56e+09  -9.0 8.27e-04  12.3 1.00e+00 1.00e+00h  1 sL\n",
      " 102  1.1857411e+01 5.99e-03 1.18e+08  -9.0 1.83e-04  11.8 1.00e+00 1.00e+00h  1 L\n",
      " 103  1.1779911e+01 3.92e-04 9.82e+05  -9.0 1.74e-01    -  1.00e+00 1.00e+00h  1 L\n",
      " 104  1.1779598e+01 2.02e-05 6.36e+06  -9.0 3.09e-05  11.3 1.00e+00 1.00e+00h  1 La\n",
      " 105  1.1779569e+01 2.22e-05 2.34e+05  -9.0 3.41e-06  10.8 1.00e+00 1.00e+00h  1 La\n",
      " 106  1.1779582e+01 2.25e-10 6.69e+15  -9.0 1.93e-06  10.4 1.00e+00 1.00e+00h  1 S\n",
      "WARNING: Problem in step computation; switching to emergency mode.\n",
      " 107r 1.1779582e+01 2.25e-10 9.96e+02  -9.0 0.00e+00  18.2 0.00e+00 0.00e+00R  1 4.52e-10 0.00e+00 3.50e-09 \n",
      " 108r 1.1779604e+01 1.26e-12 2.24e-07  -9.0 1.12e-02    -  1.00e+00 4.01e-03f  1 5.42e-12 9.02e-10 3.49e-09 \n",
      " 109  1.1779604e+01 1.26e-12 1.54e+01  -9.0 2.88e-19  19.7 1.00e+00 1.00e+00   0 sL\n",
      "iter    objective    inf_pr   inf_du lg(mu)  ||d||  lg(rg) alpha_du alpha_pr  ls\n",
      " 110  1.1779604e+01 1.26e-12 3.33e+01  -9.0 1.87e-18  19.2 1.00e+00 1.00e+00   0 La\n",
      " 111  1.1779604e+01 1.26e-12 5.12e+01  -9.0 8.66e-18  18.8 1.00e+00 1.00e+00   0 La\n",
      " 112  1.1779604e+01 1.26e-12 6.92e+01  -9.0 3.51e-17  18.3 1.00e+00 1.00e+00   0 La\n",
      " 113  1.1779604e+01 1.26e-12 8.75e+01  -9.0 1.33e-16  17.8 1.00e+00 1.00e+00   0 sL\n",
      " 114  1.1779604e+01 1.26e-12 1.09e+02  -9.0 4.95e-16  17.3 1.00e+00 1.00e+00   0 L\n",
      " 115  1.1779604e+01 1.28e-12 1.30e+02  -9.0 1.77e-15  16.9 1.00e+00 1.00e+00   0 L\n",
      " 116  1.1779604e+01 7.11e-15 2.81e+04  -9.0 1.15e-12  16.4 1.00e+00 1.00e+00h  1 \n",
      " 117  1.1779604e+01 1.42e-14 2.81e+04  -9.0 3.46e-12  15.9 1.00e+00 2.44e-04h 13 La\n",
      " 118  1.1779604e+01 1.22e-11 2.79e+04  -9.0 1.03e-11  15.4 1.00e+00 1.00e+00s 22 L\n",
      " 119  1.1797097e+01 2.84e-06 1.72e+02  -9.0 4.57e-02    -  1.00e+00 1.00e+00s 22 \n",
      "iter    objective    inf_pr   inf_du lg(mu)  ||d||  lg(rg) alpha_du alpha_pr  ls  spn     lmbd_max z_max\n",
      " 120r 1.1797097e+01 2.84e-06 9.99e+02  -4.9 0.00e+00  15.0 0.00e+00 0.00e+00R  1 5.70e-06 0.00e+00 3.49e-09 \n",
      " 121r 1.1797723e+01 2.17e-06 4.23e-05  -4.9 1.28e+00    -  1.00e+00 9.90e-04f  1 4.35e-06 1.48e-09 4.55e-05 \n",
      " 122r 1.2360396e+01 1.92e-03 3.87e-05  -4.9 1.13e+00    -  1.00e+00 9.95e-01f  1 6.71e-08 1.08e-03 4.08e-05 Nhj \n",
      " 123r 1.2360619e+01 1.88e-03 4.37e+00  -4.9 3.10e-02    -  1.80e-02 1.79e-02h  1 6.68e-08 9.86e+02 4.08e-05 \n",
      " 124r 1.2360070e+01 1.26e-06 2.44e+02  -4.9 4.71e-03    -  3.94e-02 1.00e+00h  1 3.57e-06 1.24e+03 4.08e-05 \n",
      " 125r 1.2360078e+01 1.87e-06 1.32e+02  -4.9 3.16e-05    -  1.00e+00 4.65e-01f  1 1.92e-06 1.13e+03 4.13e-05 \n",
      " 126r 1.2360094e+01 6.50e-09 7.70e+01  -4.9 6.98e-05    -  1.00e+00 4.67e-01f  1 1.03e-06 1.06e+03 4.13e-05 \n",
      " 127r 1.2360132e+01 3.89e-07 3.91e+01  -4.9 1.17e-04    -  1.00e+00 6.09e-01h  1 4.19e-07 9.98e+02 4.13e-05 \n",
      " 128r 1.2360225e+01 3.22e-09 3.89e+01  -4.9 2.99e-04    -  1.00e+00 5.95e-01h  1 1.85e-07 9.41e+02 4.13e-05 \n",
      " 129r 1.2360457e+01 6.58e-08 6.50e+01  -4.9 7.16e-04    -  1.00e+00 6.15e-01h  1 8.75e-08 8.37e+02 4.13e-05 \n",
      "iter    objective    inf_pr   inf_du lg(mu)  ||d||  lg(rg) alpha_du alpha_pr  ls  spn     lmbd_max z_max\n",
      " 130r 1.2361071e+01 8.33e-09 1.11e+02  -4.9 1.75e-03    -  1.00e+00 6.71e-01h  1 4.94e-08 6.12e+02 4.13e-05 \n",
      " 131r 1.2363111e+01 6.69e-09 5.24e+01  -4.9 4.38e-03    -  1.00e+00 8.97e-01f  1 4.04e-08 1.55e+02 4.12e-05 \n",
      " 132r 1.2369891e+01 2.33e-07 5.83e-05  -4.9 1.37e-02    -  1.00e+00 1.00e+00h  1 4.72e-08 1.73e+01 4.12e-05 \n",
      " 133r 1.1855135e+01 1.60e-03 5.19e-01  -7.4 1.04e+00    -  9.95e-01 1.00e+00h  1 1.63e-10 1.72e+01 3.82e-06 \n",
      " 134r 1.1855135e+01 1.60e-03 3.45e+01  -7.4 3.58e-03    -  6.46e-05 6.24e-05h  1 1.61e-10 9.66e+02 3.82e-06 \n",
      " 135r 1.1855124e+01 1.58e-03 4.64e+02  -7.4 3.59e-03    -  1.00e+00 1.56e-02h  7 4.02e-08 9.58e+02 1.55e-07 \n",
      " 136r 1.1855119e+01 1.56e-03 1.99e+02  -7.4 3.53e-03    -  1.62e-02 7.81e-03h  8 5.93e-08 1.20e+03 1.55e-07 \n",
      " 137r 1.1855117e+01 1.56e-03 1.99e+02  -7.4 3.50e-03    -  1.00e+00 3.91e-03h  9 6.87e-08 1.20e+03 1.55e-07 \n",
      " 138r 1.1855117e+01 1.56e-03 1.99e+02  -7.4 3.49e-03    -  4.72e-03 2.44e-04h 13 6.92e-08 1.20e+03 1.55e-07 \n",
      " 139r 1.1855116e+01 1.56e-03 2.17e+02  -7.4 3.48e-03    -  1.00e+00 1.33e-04h  9 6.95e-08 1.20e+03 1.55e-07 F+\n",
      "iter    objective    inf_pr   inf_du lg(mu)  ||d||  lg(rg) alpha_du alpha_pr  ls  spn     lmbd_max z_max\n",
      " 140r 1.1854457e+01 8.82e-08 6.40e+02  -7.4 3.49e-03    -  2.78e-02 1.00e+00h  1 2.43e-06 1.64e+03 1.55e-07 \n",
      " 141r 1.1854457e+01 1.37e-08 5.77e+02  -7.4 1.38e-06    -  1.00e+00 9.90e-02h  1 2.19e-06 1.58e+03 1.55e-07 \n",
      " 142r 1.1854456e+01 9.81e-08 2.60e+01  -7.4 2.29e-06    -  1.00e+00 9.55e-01f  1 9.88e-08 1.03e+03 1.55e-07 \n",
      " 143r 1.1854442e+01 3.24e-10 1.32e+01  -7.4 4.28e-05    -  1.00e+00 5.09e-01f  1 4.85e-08 1.01e+03 1.55e-07 \n",
      " 144r 1.1854410e+01 1.93e-08 5.97e+00  -7.4 8.78e-05    -  1.00e+00 5.99e-01f  1 1.95e-08 1.00e+03 1.55e-07 \n",
      " 145r 1.1854332e+01 9.49e-11 4.22e+00  -7.4 2.17e-04    -  1.00e+00 5.84e-01f  1 8.16e-09 9.97e+02 1.55e-07 \n",
      " 146r 1.1854147e+01 3.19e-09 5.87e+00  -7.4 5.17e-04    -  1.00e+00 5.88e-01f  1 3.41e-09 9.89e+02 1.55e-07 \n",
      " 147r 1.1853709e+01 7.96e-10 1.22e+01  -7.4 1.22e-03    -  1.00e+00 5.90e-01f  1 1.45e-09 9.71e+02 1.55e-07 \n",
      " 148r 1.1852706e+01 3.51e-09 2.78e+01  -7.4 2.76e-03    -  1.00e+00 5.97e-01f  1 6.34e-10 9.30e+02 1.55e-07 \n",
      " 149r 1.1850520e+01 2.01e-08 6.09e+01  -7.4 5.89e-03    -  1.00e+00 6.15e-01f  1 3.01e-10 8.33e+02 1.55e-07 \n",
      "iter    objective    inf_pr   inf_du lg(mu)  ||d||  lg(rg) alpha_du alpha_pr  ls  spn     lmbd_max z_max\n",
      " 150r 1.1845564e+01 1.15e-07 1.10e+02  -7.4 1.25e-02    -  1.00e+00 6.70e-01f  1 1.70e-10 6.10e+02 1.55e-07 \n",
      " 151r 1.1845552e+01 6.33e-08 2.80e+02  -7.4 3.26e-06  -2.0 1.00e+00 4.48e-01f  2 1.55e-10 3.82e+02 1.55e-07 \n",
      " 152r 1.1845471e+01 2.21e-10 4.58e-04  -7.4 9.94e-06  -2.5 1.00e+00 1.00e+00h  1 1.59e-10 3.09e+00 1.55e-07 \n",
      " 153r 1.1845249e+01 1.84e-09 3.82e-08  -7.4 2.95e-05  -3.0 1.00e+00 1.00e+00h  1 1.63e-10 7.83e-02 1.55e-07 A\n",
      " 154r 1.1798262e+01 1.49e-05 2.14e-05  -9.0 9.25e-02    -  1.00e+00 1.00e+00h  1 3.64e-12 7.67e-02 4.78e-09 \n",
      " 155r 1.1798359e+01 1.46e-05 1.52e-01  -9.0 1.21e-02    -  1.65e-02 1.65e-02h  1 3.64e-12 1.00e+03 4.76e-09 \n",
      " 156r 1.1798364e+01 1.37e-05 4.69e+02  -9.0 2.02e-04    -  1.00e+00 6.25e-02f  5 1.69e-11 9.69e+02 3.49e-09 \n",
      " 157r 1.1798470e+01 3.26e-11 5.00e+03  -9.0 2.37e-04    -  9.08e-02 1.00e+00h  1 1.90e-10 6.00e+03 3.49e-09 \n",
      " 158r 1.1798470e+01 1.33e-10 5.04e+03  -9.0 1.18e-05    -  1.00e+00 2.20e-05h  1 1.90e-10 6.00e+03 3.49e-09 \n",
      " 159r 1.1798471e+01 6.17e-12 5.25e+02  -9.0 6.18e-07    -  1.00e+00 8.96e-01f  1 2.14e-11 1.48e+03 3.49e-09 \n",
      "iter    objective    inf_pr   inf_du lg(mu)  ||d||  lg(rg) alpha_du alpha_pr  ls  spn     lmbd_max z_max\n",
      " 160r 1.1798472e+01 6.82e-12 2.82e+02  -9.0 5.94e-06    -  1.00e+00 5.39e-01f  1 1.09e-11 1.15e+03 3.49e-09 \n",
      " 161r 1.1798477e+01 1.55e-12 1.63e+02  -9.0 1.29e-05    -  1.00e+00 6.39e-01f  1 5.30e-12 8.59e+02 3.49e-09 \n",
      " 162r 1.1798483e+01 3.41e-13 3.20e+02  -9.0 3.55e-05    -  1.00e+00 3.57e-01f  2 4.32e-12 6.81e+02 3.49e-09 \n",
      " 163r 1.1798512e+01 3.34e-12 1.08e-08  -9.0 5.49e-05    -  1.00e+00 1.00e+00h  1 3.10e-12 1.02e+02 3.49e-09 !\n",
      " 164r 1.1797153e+01 1.12e-08 2.13e-05 -11.0 2.67e-03    -  1.00e+00 1.00e+00h  1 3.64e-14 1.01e+02 3.57e-11 \n",
      " 165r 1.1797153e+01 0.00e+00 1.98e-05 -11.0 2.15e-08  -3.4 1.00e+00 1.00e+00h  1 3.64e-14 6.79e+00 3.49e-11 \n",
      " 166  1.1797153e+01 0.00e+00 1.80e+01  -9.0 5.70e-14  14.5 1.00e+00 7.81e-03h  8 L\n",
      " 167  1.1797153e+01 0.00e+00 1.80e+01  -9.0 1.58e-13  14.0 1.00e+00 4.88e-04h 12 La\n",
      " 168  1.1797153e+01 0.00e+00 1.80e+01  -9.0 4.02e-13  13.5 1.00e+00 2.44e-04h 13 La\n",
      " 169  1.1797153e+01 0.00e+00 7.28e+00  -9.0 6.53e-13  13.0 1.00e+00 1.00e+00h  1 \n",
      "iter    objective    inf_pr   inf_du lg(mu)  ||d||  lg(rg) alpha_du alpha_pr  ls\n",
      " 170  1.1395870e+01 1.41e-02 4.83e+14  -9.0 1.04e+01    -  6.28e-01 4.58e-02f  3 S\n",
      " 171  1.1390386e+01 3.71e-06 1.27e+11  -9.0 3.64e-02    -  1.00e+00 1.00e+00h  1 La\n",
      " 172  1.1390395e+01 1.37e-10 1.98e+16  -9.0 1.14e-05    -  1.00e+00 1.00e+00h  1 \n",
      " 173  1.1390395e+01 0.00e+00 4.05e+08  -9.0 1.47e-09    -  1.00e+00 1.00e+00h  1 A\n",
      "WARNING: Problem in step computation; switching to emergency mode.\n",
      "\n",
      "Number of Iterations....: 173\n",
      "\n",
      "                                   (scaled)                 (unscaled)\n",
      "Objective...............:   1.1390394607364748e+01    1.1390394607364748e+01\n",
      "Dual infeasibility......:   4.0475033600000000e+08    4.0475033600000000e+08\n",
      "Constraint violation....:   0.0000000000000000e+00    0.0000000000000000e+00\n",
      "Complementarity.........:   9.0909090909091086e-10    9.0909090909091086e-10\n",
      "Overall NLP error.......:   9.0909090909091086e-10    4.0475033600000000e+08\n",
      "\n",
      "\n",
      "Number of objective function evaluations             = 559\n",
      "Number of objective gradient evaluations             = 75\n",
      "Number of equality constraint evaluations            = 559\n",
      "Number of inequality constraint evaluations          = 559\n",
      "Number of equality constraint Jacobian evaluations   = 178\n",
      "Number of inequality constraint Jacobian evaluations = 178\n",
      "Number of Lagrangian Hessian evaluations             = 174\n",
      "Total CPU secs in IPOPT (w/o function evaluations)   =      0.073\n"
     ]
    },
    {
     "name": "stdout",
     "output_type": "stream",
     "text": [
      "Total CPU secs in NLP function evaluations           =      0.005\n",
      "\n",
      "EXIT: Solved To Acceptable Level.\n",
      "\b\b\b\b\b\b\b\b\b\b\b\b\b\b\b\b"
     ]
    },
    {
     "data": {
      "text/plain": [
       "{'Problem': [{'Lower bound': -inf, 'Upper bound': inf, 'Number of objectives': 1, 'Number of constraints': 3, 'Number of variables': 4, 'Sense': 'unknown'}], 'Solver': [{'Status': 'ok', 'Message': 'Ipopt vanilla0\\\\x3a Solved To Acceptable Level.', 'Termination condition': 'optimal', 'Id': 1, 'Error rc': 0, 'Time': 0.13631010055541992}], 'Solution': [OrderedDict([('number of solutions', 0), ('number of solutions displayed', 0)])]}"
      ]
     },
     "execution_count": 19,
     "metadata": {},
     "output_type": "execute_result"
    }
   ],
   "source": [
    "instance.c2.activate()\n",
    "opt.solve(instance, tee=True)"
   ]
  },
  {
   "cell_type": "markdown",
   "metadata": {},
   "source": [
    "Typically, the `L`, `q` and `s` are not good signs (https://www.coin-or.org/Ipopt/documentation/node37.html)"
   ]
  },
  {
   "cell_type": "markdown",
   "metadata": {},
   "source": [
    "### Credits:"
   ]
  },
  {
   "cell_type": "markdown",
   "metadata": {},
   "source": [
    "- David Thierry (Carnegie Mellon University @2019)"
   ]
  }
 ],
 "metadata": {
  "kernelspec": {
   "display_name": "Python 3",
   "language": "python",
   "name": "python3"
  },
  "language_info": {
   "codemirror_mode": {
    "name": "ipython",
    "version": 3
   },
   "file_extension": ".py",
   "mimetype": "text/x-python",
   "name": "python",
   "nbconvert_exporter": "python",
   "pygments_lexer": "ipython3",
   "version": "3.7.4"
  },
  "pycharm": {
   "stem_cell": {
    "cell_type": "raw",
    "source": [],
    "metadata": {
     "collapsed": false
    }
   }
  }
 },
 "nbformat": 4,
 "nbformat_minor": 4
}