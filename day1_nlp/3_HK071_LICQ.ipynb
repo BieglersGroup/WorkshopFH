{
 "cells": [
  {
   "cell_type": "markdown",
   "metadata": {},
   "source": [
    "# Hock-Schittkowsky 71 - Degenerate\n",
    "(Adapted from Problem number [71](https://www.coin-or.org/Ipopt/documentation/node20.html) from the Hock-Schittkowsky test suite and augmented with the formulation 4.2 of Curtis, et al. SIAM Journal on Optimization. 2009 Sep 16;20(3):1224-49.)"
   ]
  },
  {
   "cell_type": "markdown",
   "metadata": {},
   "source": [
    "> **Requirements**\n",
    "> - python3.X\n",
    "> - pyomo 5.X.X\n",
    "> - [ipopt](https://github.com/coin-or/Ipopt) 3.12.12 (tested with)"
   ]
  },
  {
   "cell_type": "markdown",
   "metadata": {},
   "source": [
    "### 0. Introduction"
   ]
  },
  {
   "cell_type": "markdown",
   "metadata": {},
   "source": [
    "In this problem, an ill-posed problem is tested with *ipopt*; to demonstrate the effects of \"bad\" modelling.\n",
    "Firstly, consider the problem:"
   ]
  },
  {
   "cell_type": "markdown",
   "metadata": {},
   "source": [
    "\\begin{align}\n",
    "\\text{minimize} \\quad & x_{1}x_{4} \\left(x_{1} + x_{2} + x_{3} \\right) + x_{3} \\\\\n",
    "\\text{subject to} \\quad & x_{1}x_{2}x_{3}x_{4} \\geq 25, \\\\\n",
    "& x_{1}^{2} + x_{2}^{2} + x_{3}^{2} + x_{4}^{2} = 40 \\\\\n",
    "& 1 \\leq x_{1}, x_{2}, x_{3}, x_{4} \\leq 5,\n",
    "\\end{align}"
   ]
  },
  {
   "cell_type": "markdown",
   "metadata": {},
   "source": [
    "In the following figure the feasible region is displayed: inside the elipse (first constraint) and below the dotted line (second constraint). Furthermore, the contours of the *barrier* objective function are shown."
   ]
  },
  {
   "cell_type": "markdown",
   "metadata": {},
   "source": [
    "![Forsgren](./img/forsgren1.png)  \n",
    "Figure: The feasible region and objective function level-curves (Credit: Forsgren et al 2002)"
   ]
  },
  {
   "cell_type": "markdown",
   "metadata": {},
   "source": [
    "Clearly, if *ipopt* is used as a solver, the initial guess will be essential when solving the problem."
   ]
  },
  {
   "cell_type": "markdown",
   "metadata": {},
   "source": [
    "### 1. Package imports and model declaration"
   ]
  },
  {
   "cell_type": "markdown",
   "metadata": {},
   "source": [
    "As usual the pyomo enviroment has to be imported first."
   ]
  },
  {
   "cell_type": "code",
   "execution_count": 138,
   "metadata": {},
   "outputs": [],
   "source": [
    "from pyomo.environ import *\n",
    "from pyomo.opt import SolverFactory\n",
    "m = ConcreteModel()  #: concrete model"
   ]
  },
  {
   "cell_type": "markdown",
   "metadata": {},
   "source": [
    "### 2. Variables"
   ]
  },
  {
   "cell_type": "markdown",
   "metadata": {},
   "source": [
    "In this problem there are two variables. A `Set` object is not necesary, though it could be used to create an indexed variable `x`.  \n",
    "Since, this problem is nonlinear, it is *necesary* to specify an initial guess. In pyomo, this is usually done at construction level using the `initialize` keyword from the constructor.  \n",
    "For a simple variable (not indexed) a floating point number is sufficient."
   ]
  },
  {
   "cell_type": "code",
   "execution_count": 139,
   "metadata": {},
   "outputs": [],
   "source": [
    "m.i = Set(initialize=[1,2,3,4])"
   ]
  },
  {
   "cell_type": "code",
   "execution_count": 140,
   "metadata": {},
   "outputs": [],
   "source": [
    "x_guess = {1: 1, 2: 5, 3: 5, 4:1}"
   ]
  },
  {
   "cell_type": "code",
   "execution_count": 141,
   "metadata": {},
   "outputs": [],
   "source": [
    "m.x = Var(m.i, initialize=x_guess, bounds=(1,5))"
   ]
  },
  {
   "cell_type": "markdown",
   "metadata": {},
   "source": [
    "However, if the variable is not initized at the construction, its initial value often set to $\\max (0, x_{lb})$. This is problematic in several situations as the local linearizations of the constraints might not define a well-posed problem. "
   ]
  },
  {
   "cell_type": "markdown",
   "metadata": {},
   "source": [
    "### 3. Constraints and Objective"
   ]
  },
  {
   "cell_type": "markdown",
   "metadata": {},
   "source": [
    "Singleton constraints can have their respective expressions declared directly at construction. This is done with the `expr` keyword."
   ]
  },
  {
   "cell_type": "code",
   "execution_count": 142,
   "metadata": {},
   "outputs": [],
   "source": [
    "#m.c1 = Constraint(expr=-m.x1 ** 2 + m.x2 >= 0)\n",
    "#m.c2 = Constraint(expr=3 * m.x1  ** 2 - m.x2 >= 0)"
   ]
  },
  {
   "cell_type": "code",
   "execution_count": 143,
   "metadata": {},
   "outputs": [],
   "source": [
    "#m.c1 = Constraint(expr=m.x1 >= 0)\n",
    "#m.c2 = Constraint(expr=m.x2 >= 0)\n",
    "#m.c3 = Constraint(expr=4 - m.x1 ** 2 - 4 * m.x2 ** 2 >= 0)\n",
    "#m.c4 = Constraint(expr=5 - (m.x1 - 2) ** 2 - m.x2 ** 2 >= 0)"
   ]
  },
  {
   "cell_type": "code",
   "execution_count": 144,
   "metadata": {},
   "outputs": [],
   "source": [
    "#.c1 = Constraint(expr=m.x1 * m.x2 ==0)\n",
    "#.c2 = Constraint(expr=m.x2** 2 >= 1)"
   ]
  },
  {
   "cell_type": "code",
   "execution_count": 145,
   "metadata": {},
   "outputs": [],
   "source": [
    "m.e1 = Expression(initialize=m.x[1]**2 + m.x[2]**2 + m.x[3]**2 + m.x[4]**2 - 40)"
   ]
  },
  {
   "cell_type": "code",
   "execution_count": 146,
   "metadata": {},
   "outputs": [],
   "source": [
    "m.c0 = Constraint(expr=m.x[1] * m.x[2] * m.x[3] * m.x[4] >= 25)\n",
    "m.c1 = Constraint(expr=m.e1 == 0)\n",
    "m.c2 = Constraint(expr=m.e1 - m.e1 ** 2 == 0)"
   ]
  },
  {
   "cell_type": "markdown",
   "metadata": {},
   "source": [
    "Similarly, the objective function is constructed."
   ]
  },
  {
   "cell_type": "code",
   "execution_count": 147,
   "metadata": {},
   "outputs": [],
   "source": [
    "m.of = Objective(expr=m.x[1] * m.x[1] * (m.x[1] + m.x[2] + m.x[3]) + m.x[3], sense=minimize)"
   ]
  },
  {
   "cell_type": "markdown",
   "metadata": {},
   "source": [
    "### 4. Solution and discussion"
   ]
  },
  {
   "cell_type": "markdown",
   "metadata": {},
   "source": [
    "To solve this problem, *ipopt* is used. *ipopt* is an interior-point optimization algorithm. It solves a sequence of problems called *barrier* subproblems, in which the variable bounds are moved into the objective function.  \n",
    "In pyomo, it is possible to turn off the solver ouput using the keyword `tee` of the `solve()` method. Also, note that the status of the solver is returned as a result of the solver call."
   ]
  },
  {
   "cell_type": "code",
   "execution_count": 148,
   "metadata": {},
   "outputs": [
    {
     "name": "stdout",
     "output_type": "stream",
     "text": [
      "Ipopt 3.12.12: \n",
      "\n",
      "******************************************************************************\n",
      "This program contains Ipopt, a library for large-scale nonlinear optimization.\n",
      " Ipopt is released as open source code under the Eclipse Public License (EPL).\n",
      "         For more information visit http://projects.coin-or.org/Ipopt\n",
      "******************************************************************************\n",
      "\n",
      "This is Ipopt version 3.12.12, running with linear solver mumps.\n",
      "NOTE: Other linear solvers might be more efficient (see Ipopt documentation).\n",
      "\n",
      "Number of nonzeros in equality constraint Jacobian...:        8\n",
      "Number of nonzeros in inequality constraint Jacobian.:        4\n",
      "Number of nonzeros in Lagrangian Hessian.............:       10\n",
      "\n",
      "Total number of variables............................:        4\n",
      "                     variables with only lower bounds:        0\n",
      "                variables with lower and upper bounds:        4\n",
      "                     variables with only upper bounds:        0\n",
      "Total number of equality constraints.................:        2\n",
      "Total number of inequality constraints...............:        1\n",
      "        inequality constraints with only lower bounds:        1\n",
      "   inequality constraints with lower and upper bounds:        0\n",
      "        inequality constraints with only upper bounds:        0\n",
      "\n",
      "iter    objective    inf_pr   inf_du lg(mu)  ||d||  lg(rg) alpha_du alpha_pr  ls\n",
      "   0  1.6109693e+01 1.15e+02 2.31e+01  -1.0 0.00e+00    -  0.00e+00 0.00e+00   0 \n",
      "   1  1.5676098e+01 8.96e+01 2.80e+08  -1.0 3.06e-01    -  1.31e-01 2.35e-01h  1 qa\n",
      "   2  1.5673652e+01 8.96e+01 9.85e+15  -1.0 1.20e+02    -  2.96e-02 5.66e-05h  1 Nh LqS\n",
      "WARNING: Problem in step computation; switching to emergency mode.\n",
      "   3r 1.5673652e+01 8.96e+01 9.99e+02   1.6 0.00e+00  20.0 0.00e+00 0.00e+00R  1 \n",
      "   4r 1.4746537e+01 2.47e+01 9.95e+02   1.6 3.56e+04    -  5.17e-03 1.08e-03f  1 \n",
      "   5  1.6290699e+01 5.95e+00 2.48e+09  -1.0 3.31e-01    -  6.93e-01 1.00e+00h  1 La\n",
      "   6  1.6156099e+01 4.61e+00 2.22e+09  -1.0 2.48e+00    -  1.00e+00 1.46e-01h  1 La\n",
      "   7  1.6533143e+01 4.63e+00 2.28e+20  -1.0 1.61e+02    -  2.25e-05 3.29e-03f  5 S\n",
      "WARNING: Problem in step computation; switching to emergency mode.\n",
      "   8r 1.6533143e+01 4.63e+00 9.99e+02   0.4 0.00e+00  20.0 0.00e+00 0.00e+00R  1 \n",
      "   9r 1.6414514e+01 1.68e+00 9.96e+02   0.4 1.97e+03    -  5.47e-03 1.01e-03f  1 \n",
      "iter    objective    inf_pr   inf_du lg(mu)  ||d||  lg(rg) alpha_du alpha_pr  ls\n",
      "  10  1.3793044e+01 1.55e+00 1.99e+07  -1.0 7.93e-01    -  2.22e-01 1.72e-01f  1 La\n",
      "  11  1.3755847e+01 1.46e+00 2.55e+07  -1.0 1.76e+00    -  1.00e+00 8.52e-02h  1 sL\n",
      "  12  1.3755162e+01 1.45e+00 2.54e+07  -1.0 1.52e+00    -  1.00e+00 2.65e-03h  1 L\n",
      "  13  1.3711154e+01 1.17e+00 8.40e+07  -1.0 1.42e+00    -  1.00e+00 2.54e-01h  1 La\n",
      "  14  1.3709892e+01 1.17e+00 5.28e+15  -1.0 7.89e+01    -  4.22e-02 4.57e-05h  1 S\n",
      "WARNING: Problem in step computation; switching to emergency mode.\n",
      "  15r 1.3709892e+01 1.17e+00 1.00e+03   0.1 0.00e+00    -  0.00e+00 0.00e+00R  1 \n",
      "  16r 1.3670165e+01 1.06e+00 9.93e+02   0.1 7.67e+01    -  8.85e-02 3.88e-03f  1 \n",
      "  17  1.4966174e+01 3.63e-01 2.82e+16  -1.0 5.10e-01    -  7.11e-01 1.00e+00f  1 S\n",
      "WARNING: Problem in step computation; switching to emergency mode.\n",
      "  18r 1.4966174e+01 3.63e-01 9.99e+02  -0.2 0.00e+00    -  0.00e+00 0.00e+00R  1 \n",
      "  19r 1.5016722e+01 2.33e-01 9.58e+02  -0.2 6.27e+02    -  5.86e-02 9.96e-04f  1 \n",
      "iter    objective    inf_pr   inf_du lg(mu)  ||d||  lg(rg) alpha_du alpha_pr  ls\n",
      "  20  1.2929972e+01 1.60e-01 1.75e+11  -1.0 7.43e-01    -  4.19e-01 1.65e-01f  1 S\n",
      "  21  1.2952998e+01 8.94e-02 3.58e+11  -1.0 3.58e-03  14.0 1.00e+00 1.00e+00h  1 dx\n",
      "  22  1.3003017e+01 4.20e-03 6.21e+24  -1.0 4.57e-03  13.5 6.45e-01 1.00e+00h  1 S\n",
      "WARNING: Problem in step computation; switching to emergency mode.\n",
      "  23r 1.3003017e+01 4.20e-03 9.76e+02  -1.0 0.00e+00  20.0 0.00e+00 0.00e+00R  1 \n",
      "  24r 1.3074640e+01 5.89e-05 5.43e+02  -1.0 1.66e-01    -  9.63e-01 3.32e-02f  1 \n",
      "  25  1.3052051e+01 3.21e-04 1.24e+03  -1.0 1.35e-01    -  9.09e-01 1.00e+00f  1 \n",
      "  26  1.3051135e+01 1.29e-07 9.12e-01  -1.0 9.03e-05   4.0 1.00e+00 1.00e+00h  1 dx\n",
      "  27  1.2908645e+01 1.33e-03 3.69e+06  -2.5 4.73e-02    -  8.64e-01 9.64e-01f  1 \n",
      "  28  1.2909174e+01 1.56e-06 1.37e+17  -2.5 7.88e-04   6.2 1.00e+00 1.00e+00h  1 S\n",
      "  29  1.2909173e+01 2.10e-12 9.98e+18  -2.5 6.16e-07    -  1.00e+00 1.00e+00h  1 \n",
      "WARNING: Problem in step computation; switching to emergency mode.\n",
      "Restoration phase is called at point that is almost feasible,\n",
      "  with constraint violation 5.416189e-12. Abort.\n",
      "\n",
      "Number of Iterations....: 29\n",
      "\n",
      "                                   (scaled)                 (unscaled)\n",
      "Objective...............:   1.2909173124303756e+01    1.2909173124303756e+01\n",
      "Dual infeasibility......:   9.9838027316571668e+18    9.9838027316571668e+18\n",
      "Constraint violation....:   2.0961010704922955e-12    2.0961010704922955e-12\n",
      "Complementarity.........:   2.8292859183099137e-03    2.8292859183099137e-03\n",
      "Overall NLP error.......:   1.1293753186240213e-02    9.9838027316571668e+18\n",
      "\n",
      "\n",
      "Number of objective function evaluations             = 36\n",
      "Number of objective gradient evaluations             = 25\n",
      "Number of equality constraint evaluations            = 36\n",
      "Number of inequality constraint evaluations          = 36\n",
      "Number of equality constraint Jacobian evaluations   = 30\n",
      "Number of inequality constraint Jacobian evaluations = 30\n",
      "Number of Lagrangian Hessian evaluations             = 30\n",
      "Total CPU secs in IPOPT (w/o function evaluations)   =      0.273\n",
      "Total CPU secs in NLP function evaluations           =      0.003\n",
      "\n",
      "EXIT: Restoration Failed!\n",
      "\b"
     ]
    },
    {
     "ename": "ValueError",
     "evalue": "Cannot load a SolverResults object with bad status: error",
     "output_type": "error",
     "traceback": [
      "\u001b[0;31m---------------------------------------------------------------------------\u001b[0m",
      "\u001b[0;31mValueError\u001b[0m                                Traceback (most recent call last)",
      "\u001b[0;32m<ipython-input-148-7e995bf6048b>\u001b[0m in \u001b[0;36m<module>\u001b[0;34m\u001b[0m\n\u001b[1;32m      1\u001b[0m \u001b[0mopt\u001b[0m \u001b[0;34m=\u001b[0m \u001b[0mSolverFactory\u001b[0m\u001b[0;34m(\u001b[0m\u001b[0;34m'ipopt'\u001b[0m\u001b[0;34m)\u001b[0m\u001b[0;34m\u001b[0m\u001b[0;34m\u001b[0m\u001b[0m\n\u001b[0;32m----> 2\u001b[0;31m \u001b[0mres\u001b[0m \u001b[0;34m=\u001b[0m \u001b[0mopt\u001b[0m\u001b[0;34m.\u001b[0m\u001b[0msolve\u001b[0m\u001b[0;34m(\u001b[0m\u001b[0mm\u001b[0m\u001b[0;34m,\u001b[0m \u001b[0mtee\u001b[0m\u001b[0;34m=\u001b[0m\u001b[0;32mTrue\u001b[0m\u001b[0;34m)\u001b[0m\u001b[0;34m\u001b[0m\u001b[0;34m\u001b[0m\u001b[0m\n\u001b[0m\u001b[1;32m      3\u001b[0m \u001b[0mprint\u001b[0m\u001b[0;34m(\u001b[0m\u001b[0mres\u001b[0m\u001b[0;34m[\u001b[0m\u001b[0;34m'Solver'\u001b[0m\u001b[0;34m]\u001b[0m\u001b[0;34m)\u001b[0m   \u001b[0;31m#: get the status after solver call\u001b[0m\u001b[0;34m\u001b[0m\u001b[0;34m\u001b[0m\u001b[0m\n",
      "\u001b[0;32m~/.local/lib/python3.7/site-packages/pyomo/opt/base/solvers.py\u001b[0m in \u001b[0;36msolve\u001b[0;34m(self, *args, **kwds)\u001b[0m\n\u001b[1;32m    631\u001b[0m                             \u001b[0mresult\u001b[0m\u001b[0;34m,\u001b[0m\u001b[0;34m\u001b[0m\u001b[0;34m\u001b[0m\u001b[0m\n\u001b[1;32m    632\u001b[0m                             \u001b[0mselect\u001b[0m\u001b[0;34m=\u001b[0m\u001b[0mself\u001b[0m\u001b[0;34m.\u001b[0m\u001b[0m_select_index\u001b[0m\u001b[0;34m,\u001b[0m\u001b[0;34m\u001b[0m\u001b[0;34m\u001b[0m\u001b[0m\n\u001b[0;32m--> 633\u001b[0;31m                             default_variable_value=self._default_variable_value)\n\u001b[0m\u001b[1;32m    634\u001b[0m                         \u001b[0mresult\u001b[0m\u001b[0;34m.\u001b[0m\u001b[0m_smap_id\u001b[0m \u001b[0;34m=\u001b[0m \u001b[0;32mNone\u001b[0m\u001b[0;34m\u001b[0m\u001b[0;34m\u001b[0m\u001b[0m\n\u001b[1;32m    635\u001b[0m                         \u001b[0mresult\u001b[0m\u001b[0;34m.\u001b[0m\u001b[0msolution\u001b[0m\u001b[0;34m.\u001b[0m\u001b[0mclear\u001b[0m\u001b[0;34m(\u001b[0m\u001b[0;34m)\u001b[0m\u001b[0;34m\u001b[0m\u001b[0;34m\u001b[0m\u001b[0m\n",
      "\u001b[0;32m~/.local/lib/python3.7/site-packages/pyomo/core/base/PyomoModel.py\u001b[0m in \u001b[0;36mload_from\u001b[0;34m(self, results, allow_consistent_values_for_fixed_vars, comparison_tolerance_for_fixed_vars, ignore_invalid_labels, id, delete_symbol_map, clear, default_variable_value, select, ignore_fixed_vars)\u001b[0m\n\u001b[1;32m    249\u001b[0m                 raise ValueError(\"Cannot load a SolverResults object \"\n\u001b[1;32m    250\u001b[0m                                  \u001b[0;34m\"with bad status: %s\"\u001b[0m\u001b[0;34m\u001b[0m\u001b[0;34m\u001b[0m\u001b[0m\n\u001b[0;32m--> 251\u001b[0;31m                                  % str(results.solver.status))\n\u001b[0m\u001b[1;32m    252\u001b[0m         \u001b[0;32mif\u001b[0m \u001b[0mclear\u001b[0m\u001b[0;34m:\u001b[0m\u001b[0;34m\u001b[0m\u001b[0;34m\u001b[0m\u001b[0m\n\u001b[1;32m    253\u001b[0m             \u001b[0;31m#\u001b[0m\u001b[0;34m\u001b[0m\u001b[0;34m\u001b[0m\u001b[0;34m\u001b[0m\u001b[0m\n",
      "\u001b[0;31mValueError\u001b[0m: Cannot load a SolverResults object with bad status: error"
     ]
    }
   ],
   "source": [
    "opt = SolverFactory('ipopt')\n",
    "res = opt.solve(m, tee=True)\n",
    "print(res['Solver'])   #: get the status after solver call"
   ]
  },
  {
   "cell_type": "markdown",
   "metadata": {},
   "source": [
    "One way to show the results is by means of `.display()` method for variables.  "
   ]
  },
  {
   "cell_type": "code",
   "execution_count": null,
   "metadata": {},
   "outputs": [],
   "source": [
    "m.x.display()"
   ]
  },
  {
   "cell_type": "markdown",
   "metadata": {},
   "source": [
    "*ipopt* found a *local* solution. From the Figure at the introductuction section, it is clear that if the initial guess is perturbed; the results might change.  \n",
    "In order to test this issue, one can set the initial guess to a different value. For a singleton variable this is done with the `set_value()` method.  \n",
    "`set_value()` will have different behaviour if the variable is indexed."
   ]
  },
  {
   "cell_type": "code",
   "execution_count": null,
   "metadata": {},
   "outputs": [],
   "source": [
    "m.x1.set_value(20)  #: Change the initial guesses            \n",
    "m.x2.set_value(20)"
   ]
  },
  {
   "cell_type": "markdown",
   "metadata": {},
   "source": [
    "Then the model can be resolved:"
   ]
  },
  {
   "cell_type": "code",
   "execution_count": null,
   "metadata": {},
   "outputs": [],
   "source": [
    "with open(\"ipopt.opt\", \"w\") as f:\n",
    "    f.write(\"print_info_string yes\\n\")"
   ]
  },
  {
   "cell_type": "code",
   "execution_count": null,
   "metadata": {},
   "outputs": [],
   "source": [
    "res = opt.solve(m, tee=True)\n",
    "print(res['Solver'])"
   ]
  },
  {
   "cell_type": "markdown",
   "metadata": {},
   "source": [
    "And the results displayed in similar way."
   ]
  },
  {
   "cell_type": "code",
   "execution_count": null,
   "metadata": {},
   "outputs": [],
   "source": [
    "m.x1.display()\n",
    "m.x2.display()"
   ]
  },
  {
   "cell_type": "markdown",
   "metadata": {},
   "source": [
    "Note that the results have changed. This illustrates the issue of providing *good* initial guesses for nonlinear problems.  \n",
    "The real solution of this problem is in fact $x^{*} = (\\dfrac{3}{4}, \\dfrac{-1}{2})$."
   ]
  }
 ],
 "metadata": {
  "kernelspec": {
   "display_name": "Python 3",
   "language": "python",
   "name": "python3"
  },
  "language_info": {
   "codemirror_mode": {
    "name": "ipython",
    "version": 3
   },
   "file_extension": ".py",
   "mimetype": "text/x-python",
   "name": "python",
   "nbconvert_exporter": "python",
   "pygments_lexer": "ipython3",
   "version": "3.7.4"
  }
 },
 "nbformat": 4,
 "nbformat_minor": 4
}
