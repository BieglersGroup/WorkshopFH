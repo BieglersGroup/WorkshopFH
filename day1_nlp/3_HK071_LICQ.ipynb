{
 "cells": [
  {
   "cell_type": "markdown",
   "metadata": {},
   "source": [
    "# Hock-Schittkowsky 71 - Degenerate\n",
    "(Adapted from Problem number [71](https://www.coin-or.org/Ipopt/documentation/node20.html) from the Hock-Schittkowsky test suite and augmented with the formulation 4.2 of Curtis, et al. SIAM Journal on Optimization. 2009 Sep 16;20(3):1224-49.)"
   ]
  },
  {
   "cell_type": "markdown",
   "metadata": {},
   "source": [
    "> **Requirements**\n",
    "> - python3.X\n",
    "> - pyomo 5.X.X\n",
    "> - [ipopt](https://github.com/coin-or/Ipopt) 3.12.12 (tested with)"
   ]
  },
  {
   "cell_type": "markdown",
   "metadata": {},
   "source": [
    "### 0. Introduction"
   ]
  },
  {
   "cell_type": "markdown",
   "metadata": {},
   "source": [
    "In this problem, an ill-posed problem is tested with *ipopt*; to demonstrate the effects of \"bad\" modelling.\n",
    "Firstly, consider the problem:"
   ]
  },
  {
   "cell_type": "markdown",
   "metadata": {},
   "source": [
    "\\begin{align}\n",
    "\\text{minimize}_{x} \\quad & x_{1}x_{4} \\left(x_{1} + x_{2} + x_{3} \\right) + x_{3} \\\\\n",
    "\\text{subject to} \\quad & x_{1}x_{2}x_{3}x_{4} \\geq 25, \\\\\n",
    "& x_{1}^{2} + x_{2}^{2} + x_{3}^{2} + x_{4}^{2} = 40 \\\\\n",
    "& 1 \\leq x_{1}, x_{2}, x_{3}, x_{4} \\leq 5,\n",
    "\\end{align}"
   ]
  },
  {
   "cell_type": "markdown",
   "metadata": {},
   "source": [
    "With initial guess $x_{IG} = \\left(1,5,5,1 \\right)$. This problem is well-posed in the sense that the gradients of the constraints at the initial guess and at the solution $x^{*} = \\left(1, 4.7443, 3.8211, 1.3794\\right)$ are linearly independent.  \n",
    "However, one can make a modelling mistakes and create problematic cases; particularly for solvers like *ipopt*.\n",
    "For example, suppose that a constraint is added to the previous model so that:"
   ]
  },
  {
   "cell_type": "markdown",
   "metadata": {},
   "source": [
    "\\begin{align}\n",
    "c_{1} \\left(x\\right) &= 0 ,\\\\\n",
    "c_{1} \\left(x \\right) - c_{1}^{2} \\left( x \\right) & = 0,\n",
    "\\end{align}"
   ]
  },
  {
   "cell_type": "markdown",
   "metadata": {},
   "source": [
    "where the last constraint contains information of the already defined $c_{1} \\left(x \\right)= x_{1}^{2} + x_{2}^{2} + x_{3}^{2} + x_{4}^{2} - 40 = 0$. Clearly, this constraint does not change the feasible set of the original problem. However, the linearized functions of these constraints are inconsistents at all points for which $c_{1} \\neq 0$."
   ]
  },
  {
   "cell_type": "markdown",
   "metadata": {},
   "source": [
    "The purpose of this exercise is to notice the behaviour of the solver as a result of bad modelling."
   ]
  },
  {
   "cell_type": "markdown",
   "metadata": {},
   "source": [
    "### 1. Package imports and model declaration"
   ]
  },
  {
   "cell_type": "markdown",
   "metadata": {},
   "source": [
    "For this model, the use of an *AbstractModel* will be shown. This kind of model is typical for problems whose structure depend on data. The *AbstractModel* will act as a blueprint for the overall model but it can *only* behave as a regular model after its instantiation. Note that for this case study a *ConcreteModel* would work just as fine."
   ]
  },
  {
   "cell_type": "code",
   "execution_count": 1,
   "metadata": {},
   "outputs": [],
   "source": [
    "from pyomo.environ import *\n",
    "from pyomo.opt import SolverFactory\n",
    "m = AbstractModel()  #: Abstract model for educational purposes"
   ]
  },
  {
   "cell_type": "markdown",
   "metadata": {},
   "source": [
    "### 2. Indexing sets and Variables"
   ]
  },
  {
   "cell_type": "markdown",
   "metadata": {},
   "source": [
    "The problem HK071 has four variables $x_{1}, x_{2}, x_{3}, x_{4}$. It is also possible to create a vector $x \\in \\mathbb{R}^{4}$. \n",
    "In abstract models, the sets and parameter data can be passed from a [text file](https://ampl.com/BOOK/CHAPTERS/12-data.pdf), the data can be also be written in tabular form.  \n",
    "It is known that the set of variables goes from 1...4, however this information can be part of the data file of the abstract model."
   ]
  },
  {
   "cell_type": "code",
   "execution_count": 2,
   "metadata": {},
   "outputs": [],
   "source": [
    "m.i = Set()  #: No particular initialization here."
   ]
  },
  {
   "cell_type": "code",
   "execution_count": 3,
   "metadata": {},
   "outputs": [],
   "source": [
    "x_guess = {1: 1, 2: 5, 3: 5, 4:1}"
   ]
  },
  {
   "cell_type": "markdown",
   "metadata": {},
   "source": [
    "The variables' initial value can be declared within the data file as well. Since the bounds of the variables are the same, it is possible to use the `bounds` keyword to assign the same bounds for all the variables."
   ]
  },
  {
   "cell_type": "code",
   "execution_count": 4,
   "metadata": {},
   "outputs": [],
   "source": [
    "#m.x = Var(m.i, initialize=x_guess, bounds=(1,5))\n",
    "m.x = Var(m.i, bounds=(1,5))"
   ]
  },
  {
   "cell_type": "markdown",
   "metadata": {},
   "source": [
    "### 3. Constraints and Objective"
   ]
  },
  {
   "cell_type": "code",
   "execution_count": 5,
   "metadata": {},
   "outputs": [],
   "source": [
    "def _c0_rule(mod):\n",
    "    return mod.x[1] * mod.x[2] * mod.x[3] * mod.x[4] >= 25\n",
    "m.c0 = Constraint(rule=_c0_rule)  #: nothing special about this one"
   ]
  },
  {
   "cell_type": "markdown",
   "metadata": {},
   "source": [
    "As noted in other examples meaningful *Constraint* objects require an expression. Moreover, there exists *Expression* objects that encapsulate symbolic relationships between variables. *Expression* objects can be conviniently used, for example, to initialize parts of a *Constraint* object. In the following example an *Expression* object is used to set the right-hand-side of the second constraint of the model."
   ]
  },
  {
   "cell_type": "code",
   "execution_count": 6,
   "metadata": {},
   "outputs": [],
   "source": [
    "m.e1 = Expression(rule=lambda mod: mod.x[1]**2 + mod.x[2]**2 + mod.x[3]**2 + mod.x[4]**2 - 40)  #: the expression is declared"
   ]
  },
  {
   "cell_type": "markdown",
   "metadata": {},
   "source": [
    "Then the expression is passed to the constraint objects."
   ]
  },
  {
   "cell_type": "code",
   "execution_count": 7,
   "metadata": {},
   "outputs": [],
   "source": [
    "m.c1 = Constraint(expr=m.e1 == 0)\n",
    "m.c2 = Constraint(expr=m.e1 - m.e1 ** 2 == 0)"
   ]
  },
  {
   "cell_type": "markdown",
   "metadata": {},
   "source": [
    "Finally, the objective is also defined using a python function:"
   ]
  },
  {
   "cell_type": "code",
   "execution_count": 8,
   "metadata": {},
   "outputs": [],
   "source": [
    "def _objective_rule(mod):\n",
    "    return mod.x[1] * mod.x[1] * (mod.x[1] + mod.x[2] + mod.x[3]) + mod.x[3]\n",
    "m.of = Objective(rule=_objective_rule, sense=minimize)"
   ]
  },
  {
   "cell_type": "markdown",
   "metadata": {},
   "source": [
    "Note that for the *AbstractModel* class, the constraints require python functions to pass on the respective expressions using the `rule` keyword."
   ]
  },
  {
   "cell_type": "markdown",
   "metadata": {},
   "source": [
    "### 4. Solution and discussion"
   ]
  },
  {
   "cell_type": "code",
   "execution_count": 9,
   "metadata": {},
   "outputs": [],
   "source": [
    "with open(\"hk071.dat\", \"w\") as f:\n",
    "    f.write(\"set i := 1 2 3 4;\\n\")\n",
    "    f.close()"
   ]
  },
  {
   "cell_type": "markdown",
   "metadata": {},
   "source": [
    "Before solving the problem an instance of the model must be constructed. If there is a data file, the construction of the instance can be done using the `create_instance` method as follows,"
   ]
  },
  {
   "cell_type": "code",
   "execution_count": 10,
   "metadata": {},
   "outputs": [],
   "source": [
    "instance = m.create_instance(\"hk071.dat\")"
   ]
  },
  {
   "cell_type": "markdown",
   "metadata": {},
   "source": [
    "At this point the instance of the model has been created. The instance basically behaves like a `ConcreteModel` and can be modified if necesary. For example, the variables can be set to the initial guess using the `set_value` method"
   ]
  },
  {
   "cell_type": "code",
   "execution_count": 11,
   "metadata": {},
   "outputs": [],
   "source": [
    "instance.x[1].set_value(1)\n",
    "instance.x[2].set_value(5)\n",
    "instance.x[3].set_value(5)\n",
    "instance.x[4].set_value(1)"
   ]
  },
  {
   "cell_type": "markdown",
   "metadata": {},
   "source": [
    "Then the solver can be created and called to solve the problem."
   ]
  },
  {
   "cell_type": "code",
   "execution_count": 12,
   "metadata": {},
   "outputs": [
    {
     "name": "stdout",
     "output_type": "stream",
     "text": [
      "Ipopt 3.12.12: \n",
      "\n",
      "******************************************************************************\n",
      "This program contains Ipopt, a library for large-scale nonlinear optimization.\n",
      " Ipopt is released as open source code under the Eclipse Public License (EPL).\n",
      "         For more information visit http://projects.coin-or.org/Ipopt\n",
      "******************************************************************************\n",
      "\n",
      "This is Ipopt version 3.12.12, running with linear solver mumps.\n",
      "NOTE: Other linear solvers might be more efficient (see Ipopt documentation).\n",
      "\n",
      "Number of nonzeros in equality constraint Jacobian...:        8\n",
      "Number of nonzeros in inequality constraint Jacobian.:        4\n",
      "Number of nonzeros in Lagrangian Hessian.............:       10\n",
      "\n",
      "Total number of variables............................:        4\n",
      "                     variables with only lower bounds:        0\n",
      "                variables with lower and upper bounds:        4\n",
      "                     variables with only upper bounds:        0\n",
      "Total number of equality constraints.................:        2\n",
      "Total number of inequality constraints...............:        1\n",
      "        inequality constraints with only lower bounds:        1\n",
      "   inequality constraints with lower and upper bounds:        0\n",
      "        inequality constraints with only upper bounds:        0\n",
      "\n",
      "iter    objective    inf_pr   inf_du lg(mu)  ||d||  lg(rg) alpha_du alpha_pr  ls\n",
      "   0  1.6109693e+01 1.15e+02 2.31e+01  -1.0 0.00e+00    -  0.00e+00 0.00e+00   0\n",
      "   1  1.5676098e+01 8.96e+01 2.80e+08  -1.0 3.06e-01    -  1.31e-01 2.35e-01h  1\n",
      "   2  1.5673652e+01 8.96e+01 9.85e+15  -1.0 1.20e+02    -  2.96e-02 5.66e-05h  1\n",
      "WARNING: Problem in step computation; switching to emergency mode.\n",
      "   3r 1.5673652e+01 8.96e+01 9.99e+02   1.6 0.00e+00  20.0 0.00e+00 0.00e+00R  1\n",
      "   4r 1.4746537e+01 2.47e+01 9.95e+02   1.6 3.56e+04    -  5.17e-03 1.08e-03f  1\n",
      "   5  1.6290699e+01 5.95e+00 2.48e+09  -1.0 3.31e-01    -  6.93e-01 1.00e+00h  1\n",
      "   6  1.6156099e+01 4.61e+00 2.22e+09  -1.0 2.48e+00    -  1.00e+00 1.46e-01h  1\n",
      "   7  1.6533143e+01 4.63e+00 2.28e+20  -1.0 1.61e+02    -  2.25e-05 3.29e-03f  5\n",
      "WARNING: Problem in step computation; switching to emergency mode.\n",
      "   8r 1.6533143e+01 4.63e+00 9.99e+02   0.4 0.00e+00  20.0 0.00e+00 0.00e+00R  1\n",
      "   9r 1.6414514e+01 1.68e+00 9.96e+02   0.4 1.97e+03    -  5.47e-03 1.01e-03f  1\n",
      "iter    objective    inf_pr   inf_du lg(mu)  ||d||  lg(rg) alpha_du alpha_pr  ls\n",
      "  10  1.3793044e+01 1.55e+00 1.99e+07  -1.0 7.93e-01    -  2.22e-01 1.72e-01f  1\n",
      "  11  1.3755847e+01 1.46e+00 2.55e+07  -1.0 1.76e+00    -  1.00e+00 8.52e-02h  1\n",
      "  12  1.3755162e+01 1.45e+00 2.54e+07  -1.0 1.52e+00    -  1.00e+00 2.65e-03h  1\n",
      "  13  1.3711154e+01 1.17e+00 8.40e+07  -1.0 1.42e+00    -  1.00e+00 2.54e-01h  1\n",
      "  14  1.3709892e+01 1.17e+00 5.28e+15  -1.0 7.89e+01    -  4.22e-02 4.57e-05h  1\n",
      "WARNING: Problem in step computation; switching to emergency mode.\n",
      "  15r 1.3709892e+01 1.17e+00 1.00e+03   0.1 0.00e+00    -  0.00e+00 0.00e+00R  1\n",
      "  16r 1.3670165e+01 1.06e+00 9.93e+02   0.1 7.67e+01    -  8.85e-02 3.88e-03f  1\n",
      "  17  1.4966174e+01 3.63e-01 2.82e+16  -1.0 5.10e-01    -  7.11e-01 1.00e+00f  1\n",
      "WARNING: Problem in step computation; switching to emergency mode.\n",
      "  18r 1.4966174e+01 3.63e-01 9.99e+02  -0.2 0.00e+00    -  0.00e+00 0.00e+00R  1\n",
      "  19r 1.5016722e+01 2.33e-01 9.58e+02  -0.2 6.27e+02    -  5.86e-02 9.96e-04f  1\n",
      "iter    objective    inf_pr   inf_du lg(mu)  ||d||  lg(rg) alpha_du alpha_pr  ls\n",
      "  20  1.2929972e+01 1.60e-01 1.75e+11  -1.0 7.43e-01    -  4.19e-01 1.65e-01f  1\n",
      "  21  1.2952998e+01 8.94e-02 3.58e+11  -1.0 3.58e-03  14.0 1.00e+00 1.00e+00h  1\n",
      "  22  1.3003017e+01 4.20e-03 6.21e+24  -1.0 4.57e-03  13.5 6.45e-01 1.00e+00h  1\n",
      "WARNING: Problem in step computation; switching to emergency mode.\n",
      "  23r 1.3003017e+01 4.20e-03 9.76e+02  -1.0 0.00e+00  20.0 0.00e+00 0.00e+00R  1\n",
      "  24r 1.3074640e+01 5.89e-05 5.43e+02  -1.0 1.66e-01    -  9.63e-01 3.32e-02f  1\n",
      "  25  1.3052051e+01 3.21e-04 1.24e+03  -1.0 1.35e-01    -  9.09e-01 1.00e+00f  1\n",
      "  26  1.3051135e+01 1.29e-07 9.12e-01  -1.0 9.03e-05   4.0 1.00e+00 1.00e+00h  1\n",
      "  27  1.2908645e+01 1.33e-03 3.69e+06  -2.5 4.73e-02    -  8.64e-01 9.64e-01f  1\n",
      "  28  1.2909174e+01 1.56e-06 1.37e+17  -2.5 7.88e-04   6.2 1.00e+00 1.00e+00h  1\n",
      "  29  1.2909173e+01 2.10e-12 9.98e+18  -2.5 6.16e-07    -  1.00e+00 1.00e+00h  1\n",
      "WARNING: Problem in step computation; switching to emergency mode.\n",
      "Restoration phase is called at point that is almost feasible,\n",
      "  with constraint violation 5.416189e-12. Abort.\n",
      "\n",
      "Number of Iterations....: 29\n",
      "\n",
      "                                   (scaled)                 (unscaled)\n",
      "Objective...............:   1.2909173124303756e+01    1.2909173124303756e+01\n",
      "Dual infeasibility......:   9.9838027316571668e+18    9.9838027316571668e+18\n",
      "Constraint violation....:   2.0961010704922955e-12    2.0961010704922955e-12\n",
      "Complementarity.........:   2.8292859183099137e-03    2.8292859183099137e-03\n",
      "Overall NLP error.......:   1.1293753186240213e-02    9.9838027316571668e+18\n",
      "\n",
      "\n",
      "Number of objective function evaluations             = 36\n",
      "Number of objective gradient evaluations             = 25\n",
      "Number of equality constraint evaluations            = 36\n",
      "Number of inequality constraint evaluations          = 36\n",
      "Number of equality constraint Jacobian evaluations   = 30\n",
      "Number of inequality constraint Jacobian evaluations = 30\n",
      "Number of Lagrangian Hessian evaluations             = 30\n",
      "Total CPU secs in IPOPT (w/o function evaluations)   =      0.113\n",
      "Total CPU secs in NLP function evaluations           =      0.002\n",
      "\n",
      "EXIT: Restoration Failed!\n",
      "\bWarning, something went wrong!\n"
     ]
    }
   ],
   "source": [
    "opt = SolverFactory('ipopt')\n",
    "try:\n",
    "    res = opt.solve(instance, tee=True)\n",
    "except ValueError:\n",
    "    print(\"Warning, something went wrong!\")"
   ]
  },
  {
   "cell_type": "markdown",
   "metadata": {},
   "source": [
    "If *MUMPS* is used as linear solver and the default options are used, the solution will fail. In this case, the default output of ipopt reveals that the column *inf_du* has grown significantly right before termination. It is likely related to the failure to satisfy the *constraint qualifications* given the current \n",
    "formulation of the problem.  \n",
    "It is clear that a slight mistake in the modelling can be problematic. Nevertheless, for this case trying a different starting point or different options *might* actually help solving the problem."
   ]
  },
  {
   "cell_type": "markdown",
   "metadata": {},
   "source": [
    "### Optional: Fix the model"
   ]
  },
  {
   "cell_type": "markdown",
   "metadata": {},
   "source": [
    "The model can be easily fixed if the last constraint is removed. This can be done by using the `deactivate` method."
   ]
  },
  {
   "cell_type": "code",
   "execution_count": 13,
   "metadata": {},
   "outputs": [],
   "source": [
    "instance.c2.deactivate()"
   ]
  },
  {
   "cell_type": "markdown",
   "metadata": {},
   "source": [
    "And then solve again."
   ]
  },
  {
   "cell_type": "code",
   "execution_count": 14,
   "metadata": {},
   "outputs": [
    {
     "name": "stdout",
     "output_type": "stream",
     "text": [
      "Ipopt 3.12.12: \n",
      "\n",
      "******************************************************************************\n",
      "This program contains Ipopt, a library for large-scale nonlinear optimization.\n",
      " Ipopt is released as open source code under the Eclipse Public License (EPL).\n",
      "         For more information visit http://projects.coin-or.org/Ipopt\n",
      "******************************************************************************\n",
      "\n",
      "This is Ipopt version 3.12.12, running with linear solver mumps.\n",
      "NOTE: Other linear solvers might be more efficient (see Ipopt documentation).\n",
      "\n",
      "Number of nonzeros in equality constraint Jacobian...:        4\n",
      "Number of nonzeros in inequality constraint Jacobian.:        4\n",
      "Number of nonzeros in Lagrangian Hessian.............:       10\n",
      "\n",
      "Total number of variables............................:        4\n",
      "                     variables with only lower bounds:        0\n",
      "                variables with lower and upper bounds:        4\n",
      "                     variables with only upper bounds:        0\n",
      "Total number of equality constraints.................:        1\n",
      "Total number of inequality constraints...............:        1\n",
      "        inequality constraints with only lower bounds:        1\n",
      "   inequality constraints with lower and upper bounds:        0\n",
      "        inequality constraints with only upper bounds:        0\n",
      "\n",
      "iter    objective    inf_pr   inf_du lg(mu)  ||d||  lg(rg) alpha_du alpha_pr  ls\n",
      "   0  1.6109693e+01 1.12e+01 1.16e+01  -1.0 0.00e+00    -  0.00e+00 0.00e+00   0\n",
      "   1  1.4850455e+01 7.49e-01 1.02e+01  -1.0 6.11e-01    -  7.19e-02 1.00e+00f  1\n",
      "   2  1.4027437e+01 5.94e-01 8.83e+00  -1.0 2.84e-01    -  9.75e-01 2.16e-01f  1\n",
      "   3  1.3934035e+01 5.70e-02 1.50e+00  -1.0 5.58e-01    -  9.17e-01 1.00e+00f  1\n",
      "   4  1.3187327e+01 5.76e-01 7.49e-01  -1.0 6.44e-01   0.0 1.00e+00 8.78e-01f  1\n",
      "   5  1.2899806e+01 1.99e-02 5.55e-01  -1.7 5.53e-01    -  6.84e-01 1.00e+00h  1\n",
      "   6  1.2813575e+01 5.01e-03 8.29e-02  -1.7 2.49e-01  -0.5 1.00e+00 1.00e+00h  1\n",
      "   7  9.9297179e+00 1.17e+01 9.31e+00  -2.5 4.97e+01    -  3.32e-02 8.32e-01f  1\n",
      "   8  1.3929890e+01 8.36e+00 1.51e+01  -2.5 3.91e+00  -1.0 1.70e-01 1.00e+00h  1\n",
      "   9  1.3235318e+01 7.79e+00 1.96e+00  -2.5 8.02e+00  -0.5 2.42e-01 9.94e-02h  1\n",
      "iter    objective    inf_pr   inf_du lg(mu)  ||d||  lg(rg) alpha_du alpha_pr  ls\n",
      "  10  1.2036394e+01 8.01e+00 8.60e+01  -2.5 1.96e+01  -0.1 1.86e-01 7.06e-02f  1\n",
      "  11  1.2463059e+01 7.96e+00 4.64e+02  -2.5 3.02e+01   0.3 1.40e-01 1.68e-02h  3\n",
      "  12  1.2683491e+01 7.93e+00 4.17e+00  -2.5 1.91e+01   1.7 2.79e-02 5.86e-03h  5\n",
      "  13  9.0221920e+00 1.29e+01 2.24e+03  -2.5 2.96e+01   1.2 7.54e-05 1.53e-01f  1\n",
      "  14  8.9855409e+00 1.27e+01 4.14e+03  -2.5 6.22e+01    -  1.00e+00 1.55e-02h  1\n",
      "  15  7.6460600e+00 5.70e+00 2.46e+03  -2.5 6.09e+01    -  2.61e-02 5.88e-01h  1\n",
      "  16  7.6423533e+00 5.68e+00 1.40e+03  -2.5 2.41e+01    -  6.44e-01 3.08e-03h  1\n",
      "  17  7.4662937e+00 4.76e+00 2.64e+02  -2.5 1.43e+01    -  1.00e+00 5.79e-01h  1\n",
      "  18  7.4657394e+00 4.77e+00 1.88e+02  -2.5 6.02e+00    -  1.00e+00 3.88e-03h  1\n",
      "  19  7.4671997e+00 4.76e+00 1.87e+02  -2.5 4.15e-01    -  1.91e-03 2.08e-03h  1\n",
      "iter    objective    inf_pr   inf_du lg(mu)  ||d||  lg(rg) alpha_du alpha_pr  ls\n",
      "  20  7.9219896e+00 4.34e-01 4.83e+01  -2.5 3.11e-01    -  6.06e-03 1.00e+00h  1\n",
      "  21  7.9274134e+00 5.52e-03 9.94e-01  -2.5 5.93e-02    -  1.00e+00 1.00e+00h  1\n",
      "  22  7.3233406e+00 7.78e-01 6.67e-01  -2.5 1.32e+00    -  5.74e-01 4.82e-01f  1\n",
      "  23  7.4579108e+00 1.80e-02 2.68e-02  -2.5 1.19e-01    -  1.00e+00 1.00e+00h  1\n",
      "  24  7.3618522e+00 3.82e-02 4.02e-03  -2.5 1.60e-01    -  1.00e+00 1.00e+00h  1\n",
      "  25  7.3570184e+00 6.52e-04 1.63e-04  -2.5 2.22e-02    -  1.00e+00 1.00e+00h  1\n",
      "  26  7.3489341e+00 3.54e-05 1.38e-05  -3.8 2.43e-02    -  1.00e+00 1.00e+00h  1\n",
      "  27  7.3484746e+00 1.34e-07 4.42e-08  -5.7 1.22e-03    -  1.00e+00 1.00e+00h  1\n",
      "  28  7.3484691e+00 1.62e-11 6.39e-12  -8.6 1.62e-05    -  1.00e+00 1.00e+00h  1\n",
      "\n",
      "Number of Iterations....: 28\n",
      "\n",
      "                                   (scaled)                 (unscaled)\n",
      "Objective...............:   7.3484690666000256e+00    7.3484690666000256e+00\n",
      "Dual infeasibility......:   6.3938899771501436e-12    6.3938899771501436e-12\n",
      "Constraint violation....:   1.6235901512118289e-11    1.6235901512118289e-11\n",
      "Complementarity.........:   2.5154435038272134e-09    2.5154435038272134e-09\n",
      "Overall NLP error.......:   2.5154435038272134e-09    2.5154435038272134e-09\n",
      "\n",
      "\n",
      "Number of objective function evaluations             = 37\n",
      "Number of objective gradient evaluations             = 29\n",
      "Number of equality constraint evaluations            = 37\n",
      "Number of inequality constraint evaluations          = 37\n",
      "Number of equality constraint Jacobian evaluations   = 29\n",
      "Number of inequality constraint Jacobian evaluations = 29\n",
      "Number of Lagrangian Hessian evaluations             = 28\n",
      "Total CPU secs in IPOPT (w/o function evaluations)   =      0.163\n",
      "Total CPU secs in NLP function evaluations           =      0.002\n",
      "\n",
      "EXIT: Optimal Solution Found.\n",
      "\b"
     ]
    }
   ],
   "source": [
    "res = opt.solve(instance, tee=True)"
   ]
  },
  {
   "cell_type": "code",
   "execution_count": 15,
   "metadata": {},
   "outputs": [
    {
     "name": "stdout",
     "output_type": "stream",
     "text": [
      "x : Size=4, Index=i\n",
      "    Key : Lower : Value              : Upper : Fixed : Stale : Domain\n",
      "      1 :     1 :                1.0 :     5 : False : False :  Reals\n",
      "      2 :     1 : 3.4494896699659057 :     5 : False : False :  Reals\n",
      "      3 :     1 :  1.449489760695073 :     5 : False : False :  Reals\n",
      "      4 :     1 :                5.0 :     5 : False : False :  Reals\n"
     ]
    }
   ],
   "source": [
    "instance.x.pprint()"
   ]
  }
 ],
 "metadata": {
  "kernelspec": {
   "display_name": "Python 3",
   "language": "python",
   "name": "python3"
  },
  "language_info": {
   "codemirror_mode": {
    "name": "ipython",
    "version": 3
   },
   "file_extension": ".py",
   "mimetype": "text/x-python",
   "name": "python",
   "nbconvert_exporter": "python",
   "pygments_lexer": "ipython3",
   "version": "3.7.4"
  },
  "pycharm": {
   "stem_cell": {
    "cell_type": "raw",
    "source": [],
    "metadata": {
     "collapsed": false
    }
   }
  }
 },
 "nbformat": 4,
 "nbformat_minor": 4
}