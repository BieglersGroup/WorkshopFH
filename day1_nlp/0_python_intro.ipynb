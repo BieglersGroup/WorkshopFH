{
 "cells": [
  {
   "cell_type": "markdown",
   "metadata": {},
   "source": [
    "# Brief Python overview"
   ]
  },
  {
   "cell_type": "markdown",
   "metadata": {},
   "source": [
    "### 0. Introduction\n",
    "\n",
    "From Wikipedia:  \n",
    "*Python is an interpreted, high-level, general-purpose programming language.*  \n",
    "\n",
    "Python has become a standard in many businesses and academic environments. It's versatility and ease of use is a staple of Python applications.  \n",
    "Nowdays, people commonly combine Python with other programming languages to increase performance.\n",
    "\n",
    "**Installation**\n",
    "\n",
    "Most unix distributions (including Linux and MacOS) already include some *interpreter*. [^1] \n",
    "On Windows systems it has to be installed (see: python.org).  \n",
    "Moreover, it is *convenient* to use package managers for python, e.g. conda. [^2]\n",
    "\n",
    "[^1]: Note that we install the interpreter, not Python itself.  \n",
    "[^2]: See: https://docs.conda.io/projects/conda/en/latest/  \n"
   ]
  },
  {
   "cell_type": "markdown",
   "metadata": {},
   "source": [
    "### 1. Sintax"
   ]
  },
  {
   "cell_type": "markdown",
   "metadata": {},
   "source": [
    "Blocks of code are delimited by the indentation {Tabs} as opposed to use, for instance, curly brackets."
   ]
  },
  {
   "cell_type": "code",
   "execution_count": 2,
   "metadata": {},
   "outputs": [
    {
     "name": "stdout",
     "output_type": "stream",
     "text": [
      "is 4 this number float\n",
      "not float\n",
      "what about 4.0\n",
      "yes\n"
     ]
    }
   ],
   "source": [
    "print(\"is 4 this number float\")\n",
    "if type(4) == float:\n",
    "    print(\"yes\")  #: note the indentation level\n",
    "else:\n",
    "    print(\"not float\")\n",
    "    print(\"what about 4.0\")\n",
    "    if type(4.0) == float:\n",
    "        print(\"yes\")"
   ]
  },
  {
   "cell_type": "markdown",
   "metadata": {},
   "source": [
    "It is dynamically typed, so the interpreter will detect the type of an object (e.g. in the previous example 4 is not the same as 4.0).  When a variable gets declared, the interpreter will assing the appropiate type and memory; in other words, it is not necessary to now these details in advance."
   ]
  },
  {
   "cell_type": "code",
   "execution_count": 3,
   "metadata": {},
   "outputs": [
    {
     "name": "stdout",
     "output_type": "stream",
     "text": [
      "<class 'int'>\n",
      "<class 'float'>\n"
     ]
    }
   ],
   "source": [
    "x = 4  #: int\n",
    "print(type(x))\n",
    "\n",
    "x_ = 4.0  #: float\n",
    "print(type(x_))"
   ]
  },
  {
   "cell_type": "markdown",
   "metadata": {},
   "source": [
    "### 3. Data types"
   ]
  },
  {
   "cell_type": "markdown",
   "metadata": {},
   "source": [
    "Collections of data can be aggregated into useful data types. In Python the most common include, *list*, *tuple* and *dictionary*."
   ]
  },
  {
   "cell_type": "markdown",
   "metadata": {},
   "source": [
    "A *list* contains data, and the position inside the list corresponds to the index of that data. The list can be modified at any type, i.e. it is mutable."
   ]
  },
  {
   "cell_type": "code",
   "execution_count": 8,
   "metadata": {},
   "outputs": [
    {
     "name": "stdout",
     "output_type": "stream",
     "text": [
      "['john', 'archie', 'tom']\n",
      "john\n",
      "['teddy', 'archie', 'tom']\n"
     ]
    }
   ],
   "source": [
    "names = [\"john\", \"archie\", \"tom\"]  #: a list example\n",
    "print(names)\n",
    "print(names[0])  #: position 0 (beginning)\n",
    "names[0] = \"teddy\"  #: it can be changed\n",
    "print(names)"
   ]
  },
  {
   "cell_type": "markdown",
   "metadata": {},
   "source": [
    "Tuples  on the other had are similar to lists, except that they can't be changed after they are created."
   ]
  },
  {
   "cell_type": "code",
   "execution_count": 9,
   "metadata": {},
   "outputs": [
    {
     "name": "stdout",
     "output_type": "stream",
     "text": [
      "('spring', 'summer', 'fall', 'winter')\n",
      "spring\n"
     ]
    },
    {
     "ename": "TypeError",
     "evalue": "'tuple' object does not support item assignment",
     "output_type": "error",
     "traceback": [
      "\u001b[0;31m---------------------------------------------------------------------------\u001b[0m",
      "\u001b[0;31mTypeError\u001b[0m                                 Traceback (most recent call last)",
      "\u001b[0;32m<ipython-input-9-418d10ad144c>\u001b[0m in \u001b[0;36m<module>\u001b[0;34m\u001b[0m\n\u001b[1;32m      2\u001b[0m \u001b[0mprint\u001b[0m\u001b[0;34m(\u001b[0m\u001b[0mseasons\u001b[0m\u001b[0;34m)\u001b[0m\u001b[0;34m\u001b[0m\u001b[0;34m\u001b[0m\u001b[0m\n\u001b[1;32m      3\u001b[0m \u001b[0mprint\u001b[0m\u001b[0;34m(\u001b[0m\u001b[0mseasons\u001b[0m\u001b[0;34m[\u001b[0m\u001b[0;36m0\u001b[0m\u001b[0;34m]\u001b[0m\u001b[0;34m)\u001b[0m\u001b[0;34m\u001b[0m\u001b[0;34m\u001b[0m\u001b[0m\n\u001b[0;32m----> 4\u001b[0;31m \u001b[0mseasons\u001b[0m\u001b[0;34m[\u001b[0m\u001b[0;36m0\u001b[0m\u001b[0;34m]\u001b[0m \u001b[0;34m=\u001b[0m \u001b[0;34m\"july\"\u001b[0m\u001b[0;34m\u001b[0m\u001b[0;34m\u001b[0m\u001b[0m\n\u001b[0m",
      "\u001b[0;31mTypeError\u001b[0m: 'tuple' object does not support item assignment"
     ]
    }
   ],
   "source": [
    "seasons = (\"spring\", \"summer\", \"fall\", \"winter\")  #: create a tuple\n",
    "print(seasons)\n",
    "print(seasons[0])\n",
    "seasons[0] = \"july\""
   ]
  },
  {
   "cell_type": "markdown",
   "metadata": {},
   "source": [
    "Note that a list object uses square brackets [ ] and a tuple uses ( ).\n",
    "Finally, a dictionary is a collection of data in which every member has an associated key, i.e. key --> value."
   ]
  },
  {
   "cell_type": "code",
   "execution_count": 10,
   "metadata": {},
   "outputs": [
    {
     "name": "stdout",
     "output_type": "stream",
     "text": [
      "{'french': 'fries', 'chinese': 'noodles', 'italian': 'pasta'}\n",
      "pasta\n"
     ]
    }
   ],
   "source": [
    "menu = {}  #: create new dictionary\n",
    "menu[\"french\"] = \"fries\"  #: add keys and values to the dictionary\n",
    "menu[\"chinese\"] = \"noodles\"\n",
    "menu[\"italian\"] = \"pasta\"\n",
    "print(menu)\n",
    "print(menu[\"italian\"])  #: print specific item"
   ]
  },
  {
   "cell_type": "markdown",
   "metadata": {},
   "source": [
    "### 4. Control flow"
   ]
  },
  {
   "cell_type": "markdown",
   "metadata": {},
   "source": [
    "Control flow sequences use the indented block structure extensively."
   ]
  },
  {
   "cell_type": "code",
   "execution_count": 12,
   "metadata": {},
   "outputs": [
    {
     "name": "stdout",
     "output_type": "stream",
     "text": [
      "1\n",
      "2\n",
      "3\n",
      "4\n",
      "this was the last one.\n"
     ]
    }
   ],
   "source": [
    "for i in range(1, 5):  #: notice the colon at the end\n",
    "    print(i)  #: indented\n",
    "    if i == 4:\n",
    "        print(\"this was the last one.\")"
   ]
  },
  {
   "cell_type": "markdown",
   "metadata": {},
   "source": [
    "More statements include `while, try, if, elif, else`"
   ]
  },
  {
   "cell_type": "markdown",
   "metadata": {},
   "source": [
    "### 5. IO"
   ]
  }
 ],
 "metadata": {
  "kernelspec": {
   "display_name": "Python 3",
   "language": "python",
   "name": "python3"
  },
  "language_info": {
   "codemirror_mode": {
    "name": "ipython",
    "version": 3
   },
   "file_extension": ".py",
   "mimetype": "text/x-python",
   "name": "python",
   "nbconvert_exporter": "python",
   "pygments_lexer": "ipython3",
   "version": "3.7.4"
  },
  "pycharm": {
   "stem_cell": {
    "cell_type": "raw",
    "source": [],
    "metadata": {
     "collapsed": false
    }
   }
  }
 },
 "nbformat": 4,
 "nbformat_minor": 4
}