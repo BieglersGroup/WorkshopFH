{
 "cells": [
  {
   "cell_type": "markdown",
   "metadata": {},
   "source": [
    "# Brief Python overview\n"
   ]
  },
  {
   "cell_type": "markdown",
   "metadata": {},
   "source": [
    "### 0. Introduction\n",
    "\n",
    "From Wikipedia:  \n",
    "*Python is an interpreted, high-level, general-purpose programming language.*  \n",
    "\n",
    "Python has become a standard in many businesses and academic environments. It's versatility and ease of use is what makes Python so popular.  \n",
    "Nowdays, people commonly combine Python with other programming languages to increase performance.\n",
    "\n",
    "**Installation**\n",
    "\n",
    "Most unix distributions (including Linux and MacOS) already include some *interpreter*. [^1] \n",
    "On Windows systems it has to be installed (see: python.org).  \n",
    "Moreover, it is *convenient* to use package managers for python, e.g. conda. [^2]\n",
    "\n",
    "[^1]: Note that we install the interpreter, not Python itself.  \n",
    "[^2]: See: https://docs.conda.io/projects/conda/en/latest/  \n"
   ]
  },
  {
   "cell_type": "markdown",
   "metadata": {},
   "source": [
    "### 1. Syntax"
   ]
  },
  {
   "cell_type": "markdown",
   "metadata": {},
   "source": [
    "Blocks of code are delimited by the indentation {Tabs} as opposed to use, for instance, curly brackets."
   ]
  },
  {
   "cell_type": "code",
   "execution_count": 45,
   "metadata": {},
   "outputs": [
    {
     "name": "stdout",
     "output_type": "stream",
     "text": [
      "is 4 a float?\n",
      "not float\n",
      "what about 4.0\n",
      "yes, a float indeed\n"
     ]
    }
   ],
   "source": [
    "print(\"is 4 a float?\")\n",
    "if type(4) == float:\n",
    "    print(\"yes\")  #: note the indentation level\n",
    "else:\n",
    "    print(\"not float\")\n",
    "    print(\"what about 4.0\")\n",
    "    if type(4.0) == float:\n",
    "        print(\"yes, a float indeed\")"
   ]
  },
  {
   "cell_type": "markdown",
   "metadata": {},
   "source": [
    "It is dynamically typed, so the interpreter will detect the type of an object (e.g. in the previous example 4 is not the same as 4.0).  When a variable gets declared, the interpreter will assing the appropiate type and memory; in other words, it is not necessary to now these details in advance."
   ]
  },
  {
   "cell_type": "code",
   "execution_count": 46,
   "metadata": {},
   "outputs": [
    {
     "name": "stdout",
     "output_type": "stream",
     "text": [
      "x of class: <class 'int'>\n",
      "x_ of class: <class 'float'>\n",
      "x_s of class: <class 'str'>\n"
     ]
    }
   ],
   "source": [
    "x = 4  #: int\n",
    "print(\"x of class:\", type(x))\n",
    "\n",
    "x_ = 4.0  #: float\n",
    "print(\"x_ of class:\", type(x_))\n",
    "\n",
    "x_s = \"4\"  # : str\n",
    "print(\"x_s of class:\", type(x_s))"
   ]
  },
  {
   "cell_type": "markdown",
   "metadata": {},
   "source": [
    "### 2. Data types"
   ]
  },
  {
   "cell_type": "markdown",
   "metadata": {},
   "source": [
    "Collections of data can be aggregated into useful data types. In Python the most common include, *list*, *tuple* and *dictionary*."
   ]
  },
  {
   "cell_type": "markdown",
   "metadata": {},
   "source": [
    "A *list* contains data, and the position inside the list corresponds to the index of that data. The list can be modified at any type, i.e. it is mutable."
   ]
  },
  {
   "cell_type": "code",
   "execution_count": 47,
   "metadata": {},
   "outputs": [
    {
     "name": "stdout",
     "output_type": "stream",
     "text": [
      "['john', 'archie', 'tom']\n",
      "\n",
      "\n",
      "john\n",
      "\n",
      "\n",
      "['teddy', 'archie', 'tom']\n"
     ]
    }
   ],
   "source": [
    "names = [\"john\", \"archie\", \"tom\"]  #: a list example\n",
    "print(names)\n",
    "print(\"\\n\")\n",
    "print(names[0])  #: position 0 (beginning)\n",
    "print(\"\\n\")\n",
    "names[0] = \"teddy\"  #: it can be changed\n",
    "print(names)"
   ]
  },
  {
   "cell_type": "markdown",
   "metadata": {},
   "source": [
    "Tuples  on the other had are similar to lists, except that they can't be changed after they are created."
   ]
  },
  {
   "cell_type": "code",
   "execution_count": 48,
   "metadata": {},
   "outputs": [
    {
     "name": "stdout",
     "output_type": "stream",
     "text": [
      "('spring', 'summer', 'fall', 'winter')\n",
      "spring\n",
      "you can't!!, seasons[0] = july\n"
     ]
    }
   ],
   "source": [
    "seasons = (\"spring\", \"summer\", \"fall\", \"winter\")  #: create a tuple\n",
    "print(seasons)\n",
    "print(seasons[0])\n",
    "try:\n",
    "    seasons[0] = \"july\"  #: can't do this\n",
    "except TypeError:\n",
    "    print(\"you can't!!, seasons[0] = july\")\n",
    "    pass    "
   ]
  },
  {
   "cell_type": "markdown",
   "metadata": {},
   "source": [
    "Note that a list object uses square brackets [ ] and a tuple uses ( ).\n",
    "Finally, a dictionary is a collection of data in which every member has an associated key, i.e. key --> value."
   ]
  },
  {
   "cell_type": "code",
   "execution_count": 49,
   "metadata": {},
   "outputs": [
    {
     "name": "stdout",
     "output_type": "stream",
     "text": [
      "{'french': 'ratatouille', 'chinese': 'kaoya', 'italian': 'risotto'}\n",
      "\n",
      "\n",
      "\n",
      "I'd like to order some risotto\n"
     ]
    }
   ],
   "source": [
    "menu = {}  #: create new dictionary\n",
    "menu[\"french\"] = \"ratatouille\"  #: add keys and values to the dictionary\n",
    "menu[\"chinese\"] = \"kaoya\"\n",
    "menu[\"italian\"] = \"risotto\"\n",
    "print(menu)\n",
    "print(\"\\n\\n\")\n",
    "print(\"I'd like to order some {}\".format(menu[\"italian\"]) ) #: print specific item"
   ]
  },
  {
   "cell_type": "code",
   "execution_count": 50,
   "metadata": {},
   "outputs": [
    {
     "name": "stdout",
     "output_type": "stream",
     "text": [
      "In fact, here is the whole menu:\n",
      "\n",
      "Cuisine french --> ratatouille\n",
      "Cuisine chinese --> kaoya\n",
      "Cuisine italian --> risotto\n"
     ]
    }
   ],
   "source": [
    "print(\"In fact, here is the whole menu:\\n\")\n",
    "for k in menu.keys():\n",
    "    print(\"Cuisine\", k, \"-->\", menu[k])"
   ]
  },
  {
   "cell_type": "markdown",
   "metadata": {},
   "source": [
    "### 3. Control flow"
   ]
  },
  {
   "cell_type": "markdown",
   "metadata": {},
   "source": [
    "Control flow sequences use the indented block structure extensively."
   ]
  },
  {
   "cell_type": "code",
   "execution_count": 51,
   "metadata": {},
   "outputs": [
    {
     "name": "stdout",
     "output_type": "stream",
     "text": [
      "1\n",
      "2\n",
      "3\n",
      "4\n",
      "\n",
      "hey, this was the last one.\n"
     ]
    }
   ],
   "source": [
    "for i in range(1, 5):  #: notice the colon at the end\n",
    "    print(i)  #: indented\n",
    "    if i == 4:\n",
    "        print(\"\\nhey, this was the last one.\")"
   ]
  },
  {
   "cell_type": "markdown",
   "metadata": {},
   "source": [
    "More statements include `while, try, if, elif, else`."
   ]
  },
  {
   "cell_type": "markdown",
   "metadata": {},
   "source": [
    "### 6. I/O\n",
    "In python reading and writing text files is simple. This is usually done through text streams with the `open` function. e.g."
   ]
  },
  {
   "cell_type": "code",
   "execution_count": 52,
   "metadata": {},
   "outputs": [],
   "source": [
    "f = open(\"hello\", \"w\")  #: open this file\n",
    "f.write(\"Hallo!\\n\\n\")\n",
    "f.write(\" /\\_/\\ \\n\")\n",
    "f.write(\"( o.o )\\n\")\n",
    "f.write(\"(> ^ <)\\n\\n\")\n",
    "f.write(\"tschuss!\\n\\n\")\n",
    "f.close()  #: all done"
   ]
  },
  {
   "cell_type": "markdown",
   "metadata": {},
   "source": [
    "### 7. Conclusion\n",
    "This notebook has showed some of the very basic aspects of python."
   ]
  },
  {
   "cell_type": "markdown",
   "metadata": {},
   "source": [
    "### Credits:\n",
    "- David Thierry (Carnegie Mellon University 2019)"
   ]
  }
 ],
 "metadata": {
  "kernelspec": {
   "display_name": "Python 3",
   "language": "python",
   "name": "python3"
  },
  "language_info": {
   "codemirror_mode": {
    "name": "ipython",
    "version": 3
   },
   "file_extension": ".py",
   "mimetype": "text/x-python",
   "name": "python",
   "nbconvert_exporter": "python",
   "pygments_lexer": "ipython3",
   "version": "3.7.4"
  },
  "pycharm": {
   "stem_cell": {
    "cell_type": "raw",
    "metadata": {
     "collapsed": false
    },
    "source": []
   }
  }
 },
 "nbformat": 4,
 "nbformat_minor": 4
}
