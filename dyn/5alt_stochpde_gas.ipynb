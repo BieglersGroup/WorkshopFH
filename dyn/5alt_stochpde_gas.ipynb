{
 "cells": [
  {
   "cell_type": "markdown",
   "metadata": {},
   "source": [
    "# Stochastic PDE model for natural gas network\n",
    "(model from victor m. zavala / 2013, adapted from pyomo/examples/dae)"
   ]
  },
  {
   "cell_type": "markdown",
   "metadata": {},
   "source": [
    "### 0. Introduction"
   ]
  },
  {
   "cell_type": "markdown",
   "metadata": {},
   "source": [
    "> Consider a gas network with links comprising of long pipelines and nodes consisting of junction points and compressors. Gas is withdrawn from the network at a set of demand nodes and make-up gas is brought into the system through a set of supply nodes. In a real-time environment, the system operator must balance thenetwork to satisfy demand flows and delivery pressures at all times"
   ]
  },
  {
   "cell_type": "markdown",
   "metadata": {},
   "source": [
    "![Fig. GasNetwork](./img/gas_ntwrk.png)"
   ]
  },
  {
   "cell_type": "markdown",
   "metadata": {},
   "source": [
    "The main part of the model consists of the conservation and momentum equations at a pipe for a given link $l \\in \\mathcal{L}$ and scenario $\\omega \\in \\Omega$ in a series of pdes. These are given in therms of the scaled pressures $p_{l}$ and mass flows $f_{l}$"
   ]
  },
  {
   "cell_type": "markdown",
   "metadata": {},
   "source": [
    "\\begin{align}\n",
    "\\dfrac{\\partial \\rho_{l}}{\\partial \\tau} + \\dfrac{\\rho_{l}\\left(\\tau, x, \\omega \\right)}{\\partial x} &= 0 \\\\\n",
    "\\dfrac{\\partial f_{l} \\left(\\tau, x, \\omega\\right)}{\\partial \\tau} + \\dfrac{\\partial p_{l}\\left(\\tau, x, \\omega \\right)}{\\partial x} &= -\\dfrac{\\lambda_{l}}{2D_{l}}\\rho_{l}\\left(\\tau, x, \\omega \\right) \\nu_{l} \\left(\\tau, x, \\omega \\right) \\left|\\nu_{l} \\left(\\tau, x, \\omega \\right) \\right|\n",
    "\\end{align}"
   ]
  },
  {
   "cell_type": "markdown",
   "metadata": {},
   "source": [
    "\\begin{align}\n",
    "\\dfrac{\\partial p_{l}}{\\partial \\tau} &= - c_{1, l} \\dfrac{\\partial f_{l}\\left(\\tau, x, \\omega \\right)  }{\\partial x} \\\\ \n",
    "& l \\in \\mathcal{L}, \\tau \\in \\mathcal{T}, x \\in X_{l}, \\omega \\in \\Omega \\\\\n",
    "\\dfrac{\\partial f_{l} \\left(\\tau, x, \\omega\\right)}{\\partial \\tau} &= -c_{2, l} \\dfrac{p_{l}\\left(\\tau, x, \\omega \\right)}{\\partial x}  - c_{3, l} \\dfrac{f_{l}\\left(\\tau, x, \\omega \\right) \\left| f_{l}\\left(\\tau, x, \\omega \\right) \\right|  }{p_{l}\\left(\\tau, x, \\omega\\right)} \\\\\n",
    "& l \\in \\mathcal{L}, \\tau \\in \\mathcal{T}, x \\in X_{l}, \\omega \\in \\Omega \\\\\n",
    "\\end{align}"
   ]
  },
  {
   "cell_type": "markdown",
   "metadata": {},
   "source": [
    "Moreover, the model is coupled with the mass balances at the nodes nodes $n \\in \\mathcal{N}$,"
   ]
  },
  {
   "cell_type": "markdown",
   "metadata": {},
   "source": [
    "\\begin{equation} \n",
    "\\sum_{l \\in \\mathcal{L}^{in}_{n}} f^{in}_{l} \\left(\\tau, \\omega \\right) - \\sum_{l \\in \\mathcal{L}^{out}_{n}} f^{out}_{l} \\left(\\tau, \\omega\\right) + \\sum_{i \\in \\mathcal{J}} s_{i} \\left(\\tau, \\omega \\right) - \\sum_{j \\in \\mathcal{j}_{n}} s_{i} \\left(\\tau, \\omega \\right) - \\sum_{j \\in \\mathcal{D}_{n}} d_{j} \\left(\\tau, \\omega \\right) = 0, n \\in \\mathcal{N}, \\tau \\in \\mathcal{J}, \\omega \\in \\Omega\n",
    "\\end{equation}"
   ]
  },
  {
   "cell_type": "markdown",
   "metadata": {},
   "source": [
    "And the set of boundary conditions:"
   ]
  },
  {
   "cell_type": "markdown",
   "metadata": {},
   "source": [
    "\\begin{equation}\n",
    "f_{l} \\left( \\tau, L_{l}, \\omega \\right) = \\theta_{rec} \\left( \\tau, \\omega \\right), l \\in L, \\tau \\in T, \\omega \\in \\Omega\n",
    "\\end{equation}"
   ]
  },
  {
   "cell_type": "markdown",
   "metadata": {},
   "source": [
    "\\begin{equation}\n",
    "f_{l} \\left(\\tau, 0, \\omega \\right) = f ^{in}_{l} \\left(\\tau, \\omega \\right), l \\in \\mathcal{L}, \\tau \\in \\mathcal{T}, \\omega \\in {\\Omega}\n",
    "\\end{equation}"
   ]
  },
  {
   "cell_type": "markdown",
   "metadata": {},
   "source": [
    "\\begin{align}\n",
    "p_{l} \\left( \\tau, L_{l}, \\omega \\right) &= \\theta_{rec} \\left(\\tau, \\omega \\right), l \\in \\mathcal{L}, \\tau \\in \\mathcal{T}, \\omega \\in \\Omega \\\\\n",
    "p_{l} \\left( \\tau, 0, \\omega \\right) &= \\theta_{sndl} \\left(\\tau, \\omega \\right), l \\in \\mathcal{L}_{p}, \\tau \\in \\mathcal{T}, \\omega \\in \\Omega \\\\\n",
    "p_{l} \\left( \\tau, 0, \\omega \\right) &= \\theta_{sndl} \\left(\\tau, \\omega \\right) + \\Delta \\theta_{l} \\left(\\tau \\right) , l \\in \\mathcal{L}_{p}, \\tau \\in \\mathcal{T}, \\omega \\in \\Omega \\\\\n",
    "\\end{align} "
   ]
  },
  {
   "cell_type": "markdown",
   "metadata": {},
   "source": [
    "### 1. Imports and parameter declaration"
   ]
  },
  {
   "cell_type": "code",
   "execution_count": 3,
   "metadata": {},
   "outputs": [],
   "source": [
    "from pyomo.environ import *\n",
    "from pyomo.dae import *\n",
    "from pyomo.core.base.numvalue import value\n",
    "import time\n",
    "import sys"
   ]
  },
  {
   "cell_type": "code",
   "execution_count": 4,
   "metadata": {},
   "outputs": [],
   "source": [
    "TF_ = 24.\n",
    "TDEC_ = 9.5\n",
    "S_ = 3\n",
    "CVAR_LAMBDA_ = 0.\n",
    "LINK_ = [\"l1\", \"l2\", \"l3\", \"l4\", \"l5\", \"l6\", \"l7\", \"l8\", \"l9\", \"l10\", \"l11\", \"l12\"]\n",
    "LSTARTLOC_ = {\n",
    "    \"l1\": \"n1\",\n",
    "    \"l2\": \"n2\",\n",
    "    \"l3\": \"n3\",\n",
    "    \"l4\": \"n4\",\n",
    "    \"l5\": \"n5\",\n",
    "    \"l6\": \"n6\",\n",
    "    \"l7\": \"n7\",\n",
    "    \"l8\": \"n8\",\n",
    "    \"l9\": \"n9\",\n",
    "    \"l10\": \"n10\",\n",
    "    \"l11\": \"n11\",\n",
    "    \"l12\": \"n12\"}\n",
    "LENDLOC_ = {\n",
    "    \"l1\": \"n2\",\n",
    "    \"l2\": \"n3\",\n",
    "    \"l3\": \"n4\",\n",
    "    \"l4\": \"n5\",\n",
    "    \"l5\": \"n6\",\n",
    "    \"l6\": \"n7\",\n",
    "    \"l7\": \"n8\",\n",
    "    \"l8\": \"n9\",\n",
    "    \"l9\": \"n10\",\n",
    "    \"l10\": \"n11\",\n",
    "    \"l11\": \"n12\",\n",
    "    \"l12\": \"n13\"}\n",
    "LDIAM_ = dict().fromkeys(LINK_, 920.)\n",
    "LLENGTH_ = dict().fromkeys(LINK_, 100.)\n",
    "LLENGTH_[\"l1\"] = 300.\n",
    "LLENGTH_[\"l12\"] = 300.\n",
    "LTYPE_ = dict().fromkeys(LINK_, \"a\")\n",
    "LTYPE_[\"l1\"] = \"p\"\n",
    "LTYPE_[\"l12\"] = \"p\""
   ]
  },
  {
   "cell_type": "code",
   "execution_count": 5,
   "metadata": {},
   "outputs": [
    {
     "name": "stdout",
     "output_type": "stream",
     "text": [
      "['l2', 'l3', 'l4', 'l5', 'l6', 'l7', 'l8', 'l9', 'l10', 'l11']\n",
      "['l1', 'l12']\n"
     ]
    }
   ],
   "source": [
    "LINK_A_ = [i for i in LINK_ if LTYPE_[i] == \"a\"]\n",
    "print(LINK_A_)\n",
    "LINK_P_ = [i for i in LINK_ if LTYPE_[i] == \"p\"]\n",
    "print(LINK_P_)"
   ]
  },
  {
   "cell_type": "code",
   "execution_count": 6,
   "metadata": {},
   "outputs": [],
   "source": [
    "NODE_ = [\"n1\", \"n2\", \"n3\", \"n4\", \"n5\", \"n6\", \"n7\", \"n8\", \"n9\", \"n10\", \"n11\", \"n12\", \"n13\"]\n",
    "PMIN_ = dict().fromkeys(NODE_, 34.)\n",
    "PMIN_[\"n1\"] = 57.\n",
    "PMIN_[\"n13\"] = 39.\n",
    "PMAX_ = dict().fromkeys(NODE_, 70.)\n",
    "PMAX_[\"n13\"] = 41.\n",
    "SUP_ = [1]  #: These guys define sets, therefore must be iterable\n",
    "SLOC_ = \"n1\"\n",
    "SMIN_ = 0.\n",
    "SMAX_ = 30.\n",
    "DEM_ = [1]  #: These guys define sets, therefore must be iterable\n",
    "DLOC_ = \"n13\"\n",
    "D_ = 10"
   ]
  },
  {
   "cell_type": "markdown",
   "metadata": {},
   "source": [
    "### 2. Model and Sets"
   ]
  },
  {
   "cell_type": "code",
   "execution_count": 7,
   "metadata": {},
   "outputs": [],
   "source": [
    "model = ConcreteModel()"
   ]
  },
  {
   "cell_type": "code",
   "execution_count": 8,
   "metadata": {},
   "outputs": [],
   "source": [
    "model.time = ContinuousSet(initialize=(0.5, TF_))\n",
    "model.dis = ContinuousSet(bounds=(0.0, 1.0))"
   ]
  },
  {
   "cell_type": "code",
   "execution_count": 9,
   "metadata": {},
   "outputs": [],
   "source": [
    "model.link = Set(initialize=LINK_)\n",
    "model.NODE = Set(initialize=NODE_, doc=\"set of nodes\")\n",
    "model.SUP = Set(initialize=SUP_, doc=\"set of supply\")\n",
    "model.DEM = Set(initialize=DEM_, doc=\"demand\")\n",
    "model.scen = RangeSet(1, S_, doc=\"scenarios\")\n",
    "model.LINK_A = Set(initialize=LINK_A_, doc=\"links of kind a\")\n",
    "model.LINK_P = Set(initialize=LINK_P_, doc=\"links of kind b\")"
   ]
  },
  {
   "cell_type": "markdown",
   "metadata": {},
   "source": [
    "### 3. Parameters"
   ]
  },
  {
   "cell_type": "code",
   "execution_count": 10,
   "metadata": {},
   "outputs": [],
   "source": [
    "model.S = Param(within=PositiveIntegers, initialize=S_, doc=\"number of scenarios\")"
   ]
  },
  {
   "cell_type": "markdown",
   "metadata": {},
   "source": [
    "Links"
   ]
  },
  {
   "cell_type": "code",
   "execution_count": 11,
   "metadata": {},
   "outputs": [],
   "source": [
    "model.lstartloc = Param(model.link, initialize=LSTARTLOC_)\n",
    "model.lendloc = Param(model.link, initialize=LENDLOC_)\n",
    "model.ldiam = Param(model.link, within=PositiveReals, mutable=True, default=LDIAM_)\n",
    "model.llength = Param(model.link, within=PositiveReals, mutable=True, initialize=LLENGTH_)\n",
    "model.ltype = Param(model.link, initialize=LTYPE_)"
   ]
  },
  {
   "cell_type": "markdown",
   "metadata": {},
   "source": [
    "Nodes"
   ]
  },
  {
   "cell_type": "code",
   "execution_count": 12,
   "metadata": {},
   "outputs": [],
   "source": [
    "model.pmin = Param(model.NODE, within=PositiveReals, mutable=True, initialize=PMIN_)\n",
    "model.pmax = Param(model.NODE, within=PositiveReals, mutable=True, initialize=PMAX_)"
   ]
  },
  {
   "cell_type": "markdown",
   "metadata": {},
   "source": [
    "Supply"
   ]
  },
  {
   "cell_type": "code",
   "execution_count": 13,
   "metadata": {},
   "outputs": [],
   "source": [
    "model.sloc = Param(model.SUP, default=SLOC_)\n",
    "model.smin = Param(model.SUP, within=NonNegativeReals, mutable=True, default=SMIN_)\n",
    "model.smax = Param(model.SUP, within=NonNegativeReals, mutable=True, default=SMAX_)\n",
    "model.scost = Param(model.SUP, within=NonNegativeReals)"
   ]
  },
  {
   "cell_type": "markdown",
   "metadata": {},
   "source": [
    "Demand"
   ]
  },
  {
   "cell_type": "code",
   "execution_count": 14,
   "metadata": {},
   "outputs": [],
   "source": [
    "model.dloc = Param(model.DEM, default=DLOC_)\n",
    "model.d = Param(model.DEM, within=PositiveReals, mutable=True, default=D_)"
   ]
  },
  {
   "cell_type": "markdown",
   "metadata": {},
   "source": [
    " Physical data"
   ]
  },
  {
   "cell_type": "code",
   "execution_count": 15,
   "metadata": {},
   "outputs": [],
   "source": [
    "model.eps = Param(initialize=0.025, within=PositiveReals)\n",
    "model.z = Param(initialize=0.80, within=PositiveReals)\n",
    "model.rhon = Param(initialize=0.72, within=PositiveReals)\n",
    "model.R = Param(initialize=8314.0, within=PositiveReals)\n",
    "model.M = Param(initialize=18.0, within=PositiveReals)\n",
    "model.pi = Param(initialize=3.14, within=PositiveReals)\n",
    "model.nu2 = Param(within=PositiveReals, mutable=True)\n",
    "model.lam = Param(model.link, within=PositiveReals, mutable=True)\n",
    "model.A = Param(model.link, within=NonNegativeReals, mutable=True)\n",
    "model.Tgas = Param(initialize=293.15, within=PositiveReals)\n",
    "model.Cp = Param(initialize=2.34, within=PositiveReals)\n",
    "model.Cv = Param(initialize=1.85, within=PositiveReals)\n",
    "model.gam = Param(initialize=model.Cp / model.Cv, within=PositiveReals)\n",
    "model.om = Param(initialize=(model.gam - 1.0) / model.gam, within=PositiveReals)"
   ]
  },
  {
   "cell_type": "markdown",
   "metadata": {},
   "source": [
    "Constraint scaling"
   ]
  },
  {
   "cell_type": "code",
   "execution_count": 16,
   "metadata": {},
   "outputs": [],
   "source": [
    "model.ffac = Param(within=PositiveReals, initialize=(1.0e+6 * model.rhon) / (24.0 * 3600.0))\n",
    "model.ffac2 = Param(within=PositiveReals, initialize=(3600.0) / (1.0e+4 * model.rhon))\n",
    "model.pfac = Param(within=PositiveReals, initialize=1.0e+5)\n",
    "model.pfac2 = Param(within=PositiveReals, initialize=1.0e-5)\n",
    "model.dfac = Param(within=PositiveReals, initialize=1.0e-3)\n",
    "model.lfac = Param(within=PositiveReals, initialize=1.0e+3)"
   ]
  },
  {
   "cell_type": "code",
   "execution_count": 17,
   "metadata": {},
   "outputs": [],
   "source": [
    "model.c1 = Param(model.link, within=PositiveReals, mutable=True)\n",
    "model.c2 = Param(model.link, within=PositiveReals, mutable=True)\n",
    "model.c3 = Param(model.link, within=PositiveReals, mutable=True)\n",
    "model.c4 = Param(within=PositiveReals, mutable=True)"
   ]
  },
  {
   "cell_type": "markdown",
   "metadata": {},
   "source": [
    "Cost"
   ]
  },
  {
   "cell_type": "code",
   "execution_count": 18,
   "metadata": {},
   "outputs": [],
   "source": [
    "model.ce = Param(initialize=0.1, within=NonNegativeReals)\n",
    "model.cd = Param(initialize=1.0e+6, within=NonNegativeReals)\n",
    "model.cT = Param(initialize=1.0e+6, within=NonNegativeReals)\n",
    "model.cs = Param(initialize=0.0, within=NonNegativeReals)\n",
    "model.TDEC = Param(within=PositiveReals, initialize=TDEC_)"
   ]
  },
  {
   "cell_type": "markdown",
   "metadata": {},
   "source": [
    "Stochastic information"
   ]
  },
  {
   "cell_type": "code",
   "execution_count": 19,
   "metadata": {},
   "outputs": [],
   "source": [
    "model.rand_d = Param(model.scen, model.DEM, within=NonNegativeReals, mutable=True)"
   ]
  },
  {
   "cell_type": "markdown",
   "metadata": {},
   "source": [
    "#### Build actions\n",
    "Build actions are a set of *recipes* that will be executed at the moment model is constructed."
   ]
  },
  {
   "cell_type": "code",
   "execution_count": 20,
   "metadata": {},
   "outputs": [],
   "source": [
    "# convert units for input data\n",
    "def rescale_rule(m):\n",
    "    for i in m.link:\n",
    "        m.ldiam[i] = m.ldiam[i] * m.dfac\n",
    "        m.llength[i] = m.llength[i] * m.lfac\n",
    "        # m.dx[i] = m.llength[i]/float(m.dis.last())\n",
    "\n",
    "    for i in m.SUP:\n",
    "        m.smin[i] = m.smin[i] * m.ffac * m.ffac2  # from scmx106/day to kg/s and then to scmx10-4/hr\n",
    "        m.smax[i] = m.smax[i] * m.ffac * m.ffac2  # from scmx106/day to kg/s and then to scmx10-4/hr\n",
    "\n",
    "    for i in m.DEM:\n",
    "        m.d[i] = m.d[i] * m.ffac * m.ffac2\n",
    "\n",
    "    for i in m.NODE:\n",
    "        m.pmin[i] = m.pmin[i] * m.pfac * m.pfac2  # from bar to Pascals and then to bar\n",
    "        m.pmax[i] = m.pmax[i] * m.pfac * m.pfac2  # from bar to Pascals and then to bar\n",
    "\n",
    "\n",
    "model.rescale = BuildAction(rule=rescale_rule)"
   ]
  },
  {
   "cell_type": "code",
   "execution_count": 21,
   "metadata": {},
   "outputs": [],
   "source": [
    "def compute_constants(m):\n",
    "    for i in m.link:\n",
    "        m.lam[i] = (2.0 * log10(3.7 * m.ldiam[i] / (m.eps * m.dfac))) ** (-2.0)\n",
    "        m.A[i] = (1.0 / 4.0) * m.pi * m.ldiam[i] * m.ldiam[i]\n",
    "        m.nu2 = m.gam * m.z * m.R * m.Tgas / m.M\n",
    "        m.c1[i] = (m.pfac2 / m.ffac2) * (m.nu2 / m.A[i])\n",
    "        m.c2[i] = m.A[i] * (m.ffac2 / m.pfac2)\n",
    "        m.c3[i] = m.A[i] * (m.pfac2 / m.ffac2) * (8.0 * m.lam[i] * m.nu2) / (m.pi * m.pi * (m.ldiam[i] ** 5.0))\n",
    "        m.c4 = (1 / m.ffac2) * (m.Cp * m.Tgas)\n",
    "\n",
    "\n",
    "model.compute_constants = BuildAction(rule=compute_constants)"
   ]
  },
  {
   "cell_type": "code",
   "execution_count": 22,
   "metadata": {},
   "outputs": [],
   "source": [
    "# set stochastic demands\n",
    "def compute_demands_rule(m):\n",
    "    for k in m.scen:\n",
    "        for j in m.DEM:\n",
    "            if k == 2:\n",
    "                m.rand_d[k, j] = 1.1 * m.d[j]\n",
    "            elif k == 1:\n",
    "                m.rand_d[k, j] = 1.2 * m.d[j]\n",
    "            else:\n",
    "                m.rand_d[k, j] = 1.3 * m.d[j]\n",
    "\n",
    "\n",
    "model.compute_demands = BuildAction(rule=compute_demands_rule)"
   ]
  },
  {
   "cell_type": "code",
   "execution_count": 23,
   "metadata": {},
   "outputs": [],
   "source": [
    "def stochd_init(m, k, j, t):\n",
    "    # What it should be to match description in paper\n",
    "    # if t < m.TDEC:\n",
    "    #     return m.d[j]\n",
    "    # if t >= m.TDEC and t < m.TDEC+5:\n",
    "    #     return m.rand_d[k,j]\n",
    "    # if t >= m.TDEC+5:\n",
    "    #     return m.d[j]\n",
    "    if t < m.TDEC + 1:\n",
    "        return m.d[j]\n",
    "    if t >= m.TDEC + 1 and t < m.TDEC + 1 + 4.5:\n",
    "        return m.rand_d[k, j]\n",
    "    if t >= m.TDEC + 1 + 4.5:\n",
    "        return m.d[j]\n",
    "\n",
    "\n",
    "model.stochd = Param(model.scen, model.DEM, model.time, within=PositiveReals, mutable=True, default=stochd_init)"
   ]
  },
  {
   "cell_type": "markdown",
   "metadata": {},
   "source": [
    "### 4. Variables"
   ]
  },
  {
   "cell_type": "code",
   "execution_count": 24,
   "metadata": {},
   "outputs": [],
   "source": [
    "# define temporal variables bounds rule\n",
    "def p_bounds_rule(m, k, j, t):\n",
    "    return (value(m.pmin[j]), value(m.pmax[j]))\n",
    "def s_bounds_rule(m, k, j, t):\n",
    "    return (0.01, value(m.smax[j]))"
   ]
  },
  {
   "cell_type": "markdown",
   "metadata": {},
   "source": [
    "Single *ContinuousSet* variables."
   ]
  },
  {
   "cell_type": "code",
   "execution_count": 25,
   "metadata": {},
   "outputs": [],
   "source": [
    "model.p = Var(model.scen, model.NODE, model.time, bounds=p_bounds_rule, initialize=50.0)\n",
    "model.dp = Var(model.scen, model.LINK_A, model.time, bounds=(0.0, 100.0), initialize=10.0)\n",
    "model.fin = Var(model.scen, model.link, model.time, bounds=(1.0, 500.0), initialize=100.0)\n",
    "model.fout = Var(model.scen, model.link, model.time, bounds=(1.0, 500.0), initialize=100.0)"
   ]
  },
  {
   "cell_type": "code",
   "execution_count": 26,
   "metadata": {},
   "outputs": [],
   "source": [
    "model.s = Var(model.scen, model.SUP, model.time, bounds=s_bounds_rule, initialize=10.0)\n",
    "model.dem = Var(model.scen, model.DEM, model.time, initialize=100.0)\n",
    "model.pow = Var(model.scen, model.LINK_A, model.time, bounds=(0.0, 3000.0), initialize=1000.0)\n",
    "model.slack = Var(model.scen, model.link, model.time, model.dis, bounds=(0.0, None), initialize=10.0)"
   ]
  },
  {
   "cell_type": "markdown",
   "metadata": {},
   "source": [
    "Time-space *ContinuousSet* variables"
   ]
  },
  {
   "cell_type": "code",
   "execution_count": 27,
   "metadata": {},
   "outputs": [],
   "source": [
    "model.px = Var(model.scen, model.link, model.time, model.dis, bounds=(10.0, 100.0), initialize=50.0)\n",
    "model.fx = Var(model.scen, model.link, model.time, model.dis, bounds=(1.0, 100.0), initialize=100.0)"
   ]
  },
  {
   "cell_type": "markdown",
   "metadata": {},
   "source": [
    "*DerivativeVars* (Given for the differential variables)"
   ]
  },
  {
   "cell_type": "code",
   "execution_count": 28,
   "metadata": {},
   "outputs": [],
   "source": [
    "model.dpxdt = DerivativeVar(model.px, wrt=model.time, initialize=0)\n",
    "model.dpxdx = DerivativeVar(model.px, wrt=model.dis, initialize=0)\n",
    "model.dfxdt = DerivativeVar(model.fx, wrt=model.time, initialize=0)\n",
    "model.dfxdx = DerivativeVar(model.fx, wrt=model.dis, initialize=0)"
   ]
  },
  {
   "cell_type": "markdown",
   "metadata": {},
   "source": [
    "cvar model"
   ]
  },
  {
   "cell_type": "code",
   "execution_count": 29,
   "metadata": {},
   "outputs": [],
   "source": [
    "model.cvar_lambda = Param(within=NonNegativeReals, initialize=CVAR_LAMBDA_)\n",
    "model.nu = Var(initialize=100.0)\n",
    "model.phi = Var(model.scen, bounds=(0.0, None), initialize=100.0)"
   ]
  },
  {
   "cell_type": "markdown",
   "metadata": {},
   "source": [
    "### 5. Constraints"
   ]
  },
  {
   "cell_type": "code",
   "execution_count": 30,
   "metadata": {},
   "outputs": [],
   "source": [
    "# compressor equations\n",
    "def powereq_rule(m, j, i, t):\n",
    "    return m.pow[j, i, t] == m.c4 * m.fin[j, i, t] * (\n",
    "                ((m.p[j, m.lstartloc[i], t] + m.dp[j, i, t]) / m.p[j, m.lstartloc[i], t]) ** m.om - 1.0)\n",
    "\n",
    "\n",
    "\n",
    "model.powereq = Constraint(model.scen, model.LINK_A, model.time, rule=powereq_rule)\n",
    "\n",
    "def cvarcost_rule(m):\n",
    "    return (1.0 / m.S) * sum((m.phi[k] / (1.0 - 0.95) + m.nu) for k in m.scen)\n",
    "\n",
    "\n",
    "model.cvarcost = Expression(rule=cvarcost_rule)\n",
    "\n",
    "\n",
    "# node balances\n",
    "def nodeeq_rule(m, k, i, t):\n",
    "    return sum(m.fout[k, j, t] for j in m.link if m.lendloc[j] == i) + \\\n",
    "           sum(m.s[k, j, t] for j in m.SUP if m.sloc[j] == i) - \\\n",
    "           sum(m.fin[k, j, t] for j in m.link if m.lstartloc[j] == i) - \\\n",
    "           sum(m.dem[k, j, t] for j in m.DEM if m.dloc[j] == i) == 0.0\n",
    "\n",
    "\n",
    "model.nodeeq = Constraint(model.scen, model.NODE, model.time, rule=nodeeq_rule)\n",
    "\n",
    "\n",
    "# boundary conditions flow\n",
    "def flow_start_rule(m, j, i, t):\n",
    "    return m.fx[j, i, t, m.dis.first()] == m.fin[j, i, t]\n",
    "\n",
    "\n",
    "model.flow_start = Constraint(model.scen, model.link, model.time, rule=flow_start_rule)\n",
    "\n",
    "\n",
    "def flow_end_rule(m, j, i, t):\n",
    "    return m.fx[j, i, t, m.dis.last()] == m.fout[j, i, t]\n",
    "\n",
    "\n",
    "model.flow_end = Constraint(model.scen, model.link, model.time, rule=flow_end_rule)\n",
    "\n",
    "\n",
    "# First PDE for gas network model\n",
    "def flow_rule(m, j, i, t, k):\n",
    "    if t == m.time.first() or k == m.dis.last():\n",
    "        return Constraint.Skip  # Do not apply pde at initial time or final location\n",
    "    return m.dpxdt[j, i, t, k] / 3600 + m.c1[i] / m.llength[i] * m.dfxdx[j, i, t, k] == 0\n",
    "\n",
    "\n",
    "model.flow = Constraint(model.scen, model.link, model.time, model.dis, rule=flow_rule)\n",
    "\n",
    "\n",
    "# Second PDE for gas network model\n",
    "def press_rule(m, j, i, t, k):\n",
    "    if t == m.time.first() or k == m.dis.last():\n",
    "        return Constraint.Skip  # Do not apply pde at initial time or final location\n",
    "    return m.dfxdt[j, i, t, k] / 3600 == -m.c2[i] / m.llength[i] * m.dpxdx[j, i, t, k] - m.slack[j, i, t, k]\n",
    "\n",
    "\n",
    "model.press = Constraint(model.scen, model.link, model.time, model.dis, rule=press_rule)\n",
    "\n",
    "\n",
    "def slackeq_rule(m, j, i, t, k):\n",
    "    if t == m.time.last():\n",
    "        return Constraint.Skip\n",
    "    return m.slack[j, i, t, k] * m.px[j, i, t, k] == m.c3[i] * m.fx[j, i, t, k] * m.fx[j, i, t, k]\n",
    "\n",
    "\n",
    "model.slackeq = Constraint(model.scen, model.link, model.time, model.dis, rule=slackeq_rule)\n",
    "\n",
    "\n",
    "# boundary conditions pressure, passive links\n",
    "def presspas_start_rule(m, j, i, t):\n",
    "    return m.px[j, i, t, m.dis.first()] == m.p[j, m.lstartloc[i], t]\n",
    "\n",
    "\n",
    "model.presspas_start = Constraint(model.scen, model.LINK_P, model.time, rule=presspas_start_rule)\n",
    "\n",
    "\n",
    "def presspas_end_rule(m, j, i, t):\n",
    "    return m.px[j, i, t, m.dis.last()] == m.p[j, m.lendloc[i], t]\n",
    "\n",
    "\n",
    "model.presspas_end = Constraint(model.scen, model.LINK_P, model.time, rule=presspas_end_rule)\n",
    "\n",
    "\n",
    "# boundary conditions pressure, active links\n",
    "def pressact_start_rule(m, j, i, t):\n",
    "    return m.px[j, i, t, m.dis.first()] == m.p[j, m.lstartloc[i], t] + m.dp[j, i, t]\n",
    "\n",
    "\n",
    "model.pressact_start = Constraint(model.scen, model.LINK_A, model.time, rule=pressact_start_rule)\n",
    "\n",
    "\n",
    "def pressact_end_rule(m, j, i, t):\n",
    "    return m.px[j, i, t, m.dis.last()] == m.p[j, m.lendloc[i], t]\n",
    "\n",
    "\n",
    "model.pressact_end = Constraint(model.scen, model.LINK_A, model.time, rule=pressact_end_rule)\n",
    "\n",
    "\n",
    "# fix pressure at supply nodes\n",
    "def suppres_rule(m, k, j, t):\n",
    "    return m.p[k, m.sloc[j], t] == m.pmin[m.sloc[j]]\n",
    "\n",
    "\n",
    "model.suppres = Constraint(model.scen, model.SUP, model.time, rule=suppres_rule)\n",
    "\n",
    "\n",
    "# discharge pressure for compressors\n",
    "def dispress_rule(m, j, i, t):\n",
    "    return m.p[j, m.lstartloc[i], t] + m.dp[j, i, t] <= m.pmax[m.lstartloc[i]]\n",
    "\n",
    "\n",
    "model.dispress = Constraint(model.scen, model.LINK_A, model.time, rule=dispress_rule)\n",
    "\n",
    "\n",
    "# ss constraints\n",
    "def flow_ss_rule(m, j, i, k):\n",
    "    if k == m.dis.last():\n",
    "        return Constraint.Skip\n",
    "    return m.dfxdx[j, i, m.time.first(), k] / m.llength[i] == 0.0\n",
    "\n",
    "\n",
    "model.flow_ss = Constraint(model.scen, model.link, model.dis, rule=flow_ss_rule)\n",
    "\n",
    "\n",
    "def pres_ss_rule(m, j, i, k):\n",
    "    if k == m.dis.last():\n",
    "        return Constraint.Skip\n",
    "    return 0.0 == - m.c2[i] / m.llength[i] * m.dpxdx[j, i, m.time.first(), k] - m.slack[j, i, m.time.first(), k]\n",
    "\n",
    "\n",
    "model.pres_ss = Constraint(model.scen, model.link, model.dis, rule=pres_ss_rule)\n",
    "\n",
    "\n",
    "# non-anticipativity constraints\n",
    "def nonantdq_rule(m, j, i, t):\n",
    "    if j == 1:\n",
    "        return Constraint.Skip\n",
    "    if t >= m.TDEC + 1:\n",
    "        return Constraint.Skip\n",
    "    return m.dp[j, i, t] == m.dp[1, i, t]\n",
    "\n",
    "\n",
    "model.nonantdq = Constraint(model.scen, model.LINK_A, model.time, rule=nonantdq_rule)\n",
    "\n",
    "\n",
    "def nonantde_rule(m, j, i, t):\n",
    "    if j == 1:\n",
    "        return Constraint.Skip\n",
    "    if t >= m.TDEC + 1:\n",
    "        return Constraint.Skip\n",
    "    return m.dem[j, i, t] == m.dem[1, i, t]\n",
    "\n",
    "\n",
    "model.nonantde = Constraint(model.scen, model.DEM, model.time, rule=nonantde_rule)"
   ]
  },
  {
   "cell_type": "code",
   "execution_count": 31,
   "metadata": {},
   "outputs": [],
   "source": [
    "# discretize model\n",
    "discretizer = TransformationFactory('dae.finite_difference')\n",
    "discretizer.apply_to(model, nfe=1, wrt=model.dis, scheme='FORWARD')\n",
    "discretizer.apply_to(model, nfe=47, wrt=model.time, scheme='BACKWARD')"
   ]
  },
  {
   "cell_type": "code",
   "execution_count": 32,
   "metadata": {},
   "outputs": [],
   "source": [
    "# What it should be to match description in paper\n",
    "# discretizer.apply_to(model,nfe=48,wrt=model.time,scheme='BACKWARD')\n",
    "\n",
    "TimeStep = model.time[2] - model.time[1]\n",
    "\n",
    "\n",
    "def supcost_rule(m, k):\n",
    "    return sum(m.cs * m.s[k, j, t] * (TimeStep) for j in m.SUP for t in m.time.get_finite_elements())\n",
    "\n",
    "\n",
    "model.supcost = Expression(model.scen, rule=supcost_rule)\n",
    "\n",
    "\n",
    "def boostcost_rule(m, k):\n",
    "    return sum(m.ce * m.pow[k, j, t] * (TimeStep) for j in m.LINK_A for t in m.time.get_finite_elements())\n",
    "\n",
    "\n",
    "model.boostcost = Expression(model.scen, rule=boostcost_rule)\n",
    "\n",
    "\n",
    "def trackcost_rule(m, k):\n",
    "    return sum(m.cd * (m.dem[k, j, t] - m.stochd[k, j, t]) ** 2.0 for j in m.DEM for t in m.time.get_finite_elements())\n",
    "\n",
    "\n",
    "model.trackcost = Expression(model.scen, rule=trackcost_rule)\n",
    "\n",
    "\n",
    "def sspcost_rule(m, k):\n",
    "    return sum(\n",
    "        m.cT * (m.px[k, i, m.time.last(), j] - m.px[k, i, m.time.first(), j]) ** 2.0 for i in m.link for j in m.dis)\n",
    "\n",
    "\n",
    "model.sspcost = Expression(model.scen, rule=sspcost_rule)\n",
    "\n",
    "\n",
    "def ssfcost_rule(m, k):\n",
    "    return sum(\n",
    "        m.cT * (m.fx[k, i, m.time.last(), j] - m.fx[k, i, m.time.first(), j]) ** 2.0 for i in m.link for j in m.dis)\n",
    "\n",
    "\n",
    "model.ssfcost = Expression(model.scen, rule=ssfcost_rule)\n",
    "\n",
    "\n",
    "def cost_rule(m, k):\n",
    "    return 1e-6 * (m.supcost[k] + m.boostcost[k] + m.trackcost[k] + m.sspcost[k] + m.ssfcost[k])\n",
    "\n",
    "\n",
    "model.cost = Expression(model.scen, rule=cost_rule)\n",
    "\n",
    "\n",
    "def mcost_rule(m):\n",
    "    return (1.0 / m.S) * sum(m.cost[k] for k in m.scen)\n",
    "\n",
    "\n",
    "model.mcost = Expression(rule=mcost_rule)\n",
    "\n",
    "\n",
    "def eqcvar_rule(m, k):\n",
    "    return m.cost[k] - m.nu <= m.phi[k]\n",
    "\n",
    "\n",
    "model.eqcvar = Constraint(model.scen, rule=eqcvar_rule)"
   ]
  },
  {
   "cell_type": "markdown",
   "metadata": {},
   "source": [
    "The objective function is a weighted sum of expected value and the conditional-value-at ristk (CVar) as follows:\n",
    "\\begin{equation}\n",
    "\\psi = \\left( 1 - \\xi \\right) \\mathbb{E} \\left[\\varphi (\\omega)  \\right] + \\xi \\text{CVaR} \\left[\\varphi (\\omega) \\right]\n",
    "\\end{equation}\n",
    "Where the CVar is,\n",
    "\\begin{equation}\n",
    "\\text{CVar} \\left[\\varphi (\\omega) \\right] = \\min_{\\nu} \\left[\\nu + \\dfrac{1}{1 - \\sigma} \\mathbb{E} \\left(\\varphi (\\omega)  - \\nu \\right) \\right]\n",
    "\\end{equation} "
   ]
  },
  {
   "cell_type": "code",
   "execution_count": 32,
   "metadata": {},
   "outputs": [],
   "source": [
    "def obj_rule(m):\n",
    "    return (1.0 - m.cvar_lambda) * m.mcost + m.cvar_lambda * m.cvarcost\n",
    "\n",
    "\n",
    "model.obj = Objective(rule=obj_rule)"
   ]
  },
  {
   "cell_type": "markdown",
   "metadata": {},
   "source": [
    "### 6. Solution"
   ]
  },
  {
   "cell_type": "code",
   "execution_count": 33,
   "metadata": {},
   "outputs": [
    {
     "name": "stdout",
     "output_type": "stream",
     "text": [
      "Scenario 1 = 240000.0\n",
      "Scenario 2 = 240000.0\n",
      "Scenario 3 = 240000.0\n"
     ]
    }
   ],
   "source": [
    "for i in model.scen:\n",
    "    print(\"Scenario %s = %s\" % (\n",
    "        i, sum(sum(0.5 * value(model.pow[i, j, k])\n",
    "                   for j in model.LINK_A)\n",
    "               for k in model.time.get_finite_elements())))"
   ]
  },
  {
   "cell_type": "code",
   "execution_count": 34,
   "metadata": {},
   "outputs": [
    {
     "name": "stdout",
     "output_type": "stream",
     "text": [
      "/tmp/tmp1gh7dw8z.pyomo.nl -AMPL \n",
      "Ipopt vanilla0: \n",
      "This is Ipopt version vanilla0, running with linear solver ma27.\n",
      "\n",
      "Number of nonzeros in equality constraint Jacobian...:    75184\n",
      "Number of nonzeros in inequality constraint Jacobian.:     4758\n",
      "Number of nonzeros in Lagrangian Hessian.............:    14472\n",
      "\n",
      "Total number of variables............................:    29056\n",
      "                     variables with only lower bounds:     3423\n",
      "                variables with lower and upper bounds:    15264\n",
      "                     variables with only upper bounds:        0\n",
      "Total number of equality constraints.................:    27872\n",
      "Total number of inequality constraints...............:     1443\n",
      "        inequality constraints with only lower bounds:        0\n",
      "   inequality constraints with lower and upper bounds:        0\n",
      "        inequality constraints with only upper bounds:     1443\n",
      "\n",
      "iter    objective    inf_pr   inf_du lg(mu)  ||d||  lg(rg) alpha_du alpha_pr  ls\n",
      "   0  1.5531252e+05 1.59e+05 3.89e+01  -1.0 0.00e+00    -  0.00e+00 0.00e+00   0\n",
      "   1  1.5402343e+05 1.56e+05 4.38e+01  -1.0 7.96e+04    -  3.48e-02 1.71e-02f  1\n",
      "   2  1.4985118e+05 1.50e+05 1.82e+02  -1.0 5.14e+04    -  1.41e-02 4.16e-02f  1\n",
      "   3  1.4473502e+05 1.44e+05 2.59e+02  -1.0 1.84e+04    -  9.45e-03 4.04e-02f  1\n",
      "   4  1.2156016e+05 1.20e+05 1.11e+03  -1.0 1.56e+03    -  1.32e-02 1.74e-01f  1\n",
      "   5  1.1960314e+05 1.18e+05 1.09e+03  -1.0 3.03e+04    -  1.45e-02 1.33e-02f  1\n",
      "   6  1.1855997e+05 1.17e+05 1.08e+03  -1.0 5.84e+03    -  1.57e-01 8.61e-03f  1\n",
      "   7  9.3422981e+04 9.43e+04 4.27e+02  -1.0 1.25e+04    -  1.75e-01 2.10e-01f  1\n",
      "   8  5.4699125e+04 6.22e+04 1.39e+03  -1.0 1.88e+04    -  3.31e-01 3.96e-01f  1\n",
      "   9  3.5484949e+04 4.66e+04 1.18e+03  -1.0 1.38e+04    -  6.05e-01 2.86e-01f  1\n",
      "iter    objective    inf_pr   inf_du lg(mu)  ||d||  lg(rg) alpha_du alpha_pr  ls\n",
      "  10  1.3677512e+04 2.92e+04 8.53e+02  -1.0 1.01e+04    -  2.81e-01 4.86e-01f  1\n",
      "  11  5.3811407e+03 1.81e+04 4.89e+02  -1.0 5.42e+03    -  3.00e-01 4.44e-01f  1\n",
      "  12  2.6985134e+03 1.24e+04 3.20e+02  -1.0 8.74e+03    -  5.41e-01 3.44e-01f  1\n",
      "  13  2.0661947e+02 2.20e+03 4.31e+01  -1.0 7.59e+03    -  4.54e-01 9.90e-01f  1\n",
      "  14  1.5336784e+02 6.64e+02 1.59e+02  -1.0 2.11e+03    -  6.08e-01 7.03e-01h  1\n",
      "  15  1.1496030e+02 4.25e+00 1.74e+03  -1.0 6.28e+02    -  6.78e-01 1.00e+00h  1\n",
      "  16  1.0625045e+02 1.87e+00 1.93e+04  -1.0 9.78e+01  -4.0 8.87e-01 1.00e+00f  1\n",
      "  17  9.9852570e+01 1.53e+00 4.94e+03  -1.0 9.72e+01  -4.5 7.44e-01 1.00e+00f  1\n",
      "  18  9.5578576e+01 3.23e+00 4.75e-02  -1.0 1.55e+02  -5.0 1.00e+00 1.00e+00f  1\n",
      "  19  3.0036279e+01 1.77e+02 4.05e+04  -1.7 9.61e+02    -  7.09e-01 9.98e-01f  1\n",
      "iter    objective    inf_pr   inf_du lg(mu)  ||d||  lg(rg) alpha_du alpha_pr  ls\n",
      "  20  1.3743475e+01 2.28e+01 1.03e+04  -1.7 3.28e+02    -  7.47e-01 1.00e+00h  1\n",
      "  21  1.2007808e+01 1.45e+01 9.95e+02  -1.7 5.66e+02    -  9.03e-01 1.00e+00h  1\n",
      "  22  1.1958733e+01 1.29e+00 7.44e+02  -1.7 5.53e+03    -  2.52e-01 1.00e+00h  1\n",
      "  23  1.1959922e+01 2.26e-02 2.48e+02  -1.7 6.72e+03    -  6.67e-01 1.00e+00h  1\n",
      "  24  1.1959981e+01 1.05e-03 8.44e+01  -1.7 1.75e+04    -  6.59e-01 1.00e+00h  1\n",
      "  25  1.1959999e+01 3.41e-06 2.11e+01  -1.7 2.95e+04    -  7.50e-01 1.00e+00f  1\n",
      "  26  1.1959994e+01 9.25e-10 2.00e-07  -1.7 4.28e+04    -  1.00e+00 1.00e+00f  1\n",
      "  27  3.7345665e-01 6.13e+01 1.18e+04  -3.8 7.53e+02    -  6.61e-01 1.00e+00f  1\n",
      "  28  2.2592695e-02 4.20e+00 7.28e+02  -3.8 3.65e+02    -  9.38e-01 1.00e+00h  1\n",
      "  29  1.4237352e-02 1.84e-01 1.47e-03  -3.8 4.51e+03    -  1.00e+00 1.00e+00h  1\n",
      "iter    objective    inf_pr   inf_du lg(mu)  ||d||  lg(rg) alpha_du alpha_pr  ls\n",
      "  30  1.3957962e-02 1.04e+00 6.12e-04  -3.8 1.49e+04    -  1.00e+00 1.00e+00h  1\n",
      "  31  1.3955433e-02 5.23e-03 1.75e-07  -3.8 3.29e+02    -  1.00e+00 1.00e+00h  1\n",
      "  32  1.2911091e-02 4.11e-02 1.21e+00  -5.7 1.72e+01    -  9.95e-01 1.00e+00h  1\n",
      "  33  1.1791455e-02 1.63e+01 1.91e-04  -5.7 3.99e+02    -  1.00e+00 1.00e+00h  1\n",
      "  34  1.1536915e-02 1.21e+00 7.17e-06  -5.7 9.27e+01    -  1.00e+00 1.00e+00h  1\n",
      "  35  1.1549081e-02 2.40e-02 5.02e-09  -5.7 7.67e+00    -  1.00e+00 1.00e+00h  1\n",
      "  36  1.1549122e-02 5.62e-06 1.85e-11  -5.7 2.16e-01    -  1.00e+00 1.00e+00h  1\n",
      "  37  1.0572540e-02 9.58e+00 1.23e+00  -8.6 3.82e+02    -  6.19e-01 1.00e+00h  1\n",
      "  38  9.8982645e-03 1.45e+01 7.12e-01  -8.6 1.10e+03    -  4.22e-01 5.93e-01h  1\n",
      "  39  9.6039371e-03 1.48e+01 3.19e-01  -8.6 1.04e+03    -  5.52e-01 4.31e-01h  1\n",
      "iter    objective    inf_pr   inf_du lg(mu)  ||d||  lg(rg) alpha_du alpha_pr  ls\n",
      "  40  9.4499098e-03 1.28e+01 1.53e-01  -8.6 9.23e+02    -  5.19e-01 3.50e-01h  1\n",
      "  41  9.3135219e-03 1.13e+01 7.58e-02  -8.6 7.76e+02    -  5.06e-01 4.76e-01h  1\n",
      "  42  9.2511048e-03 8.17e+00 3.24e-02  -8.6 5.00e+02    -  5.73e-01 4.74e-01h  1\n",
      "  43  9.2277377e-03 5.38e+00 9.99e-03  -8.6 2.95e+02    -  6.91e-01 4.15e-01h  1\n",
      "  44  9.2168817e-03 3.91e+00 2.79e-03  -8.6 1.70e+02    -  7.20e-01 4.10e-01h  1\n",
      "  45  9.2106089e-03 2.50e+00 1.02e-04  -8.6 1.84e+02    -  9.63e-01 4.76e-01h  1\n",
      "  46  9.2067951e-03 2.59e+00 5.57e-06  -8.6 1.24e+02    -  9.45e-01 5.91e-01h  1\n",
      "  47  9.2047284e-03 1.19e+00 7.21e-09  -8.6 5.69e+01    -  1.00e+00 1.00e+00h  1\n",
      "  48  9.2049076e-03 1.78e-03 5.20e-11  -8.6 2.12e+00    -  1.00e+00 1.00e+00h  1\n",
      "  49  9.2049076e-03 6.84e-06 3.32e-14  -8.6 1.46e-01    -  1.00e+00 1.00e+00h  1\n",
      "iter    objective    inf_pr   inf_du lg(mu)  ||d||  lg(rg) alpha_du alpha_pr  ls\n",
      "  50  9.2049076e-03 5.50e-11 2.51e-14  -8.6 4.61e-04    -  1.00e+00 1.00e+00h  1\n",
      "\n",
      "Number of Iterations....: 50\n",
      "\n",
      "                                   (scaled)                 (unscaled)\n",
      "Objective...............:   9.2049075665565500e-03    9.2049075665565500e-03\n",
      "Dual infeasibility......:   2.5059554174843599e-14    2.5059554174843599e-14\n",
      "Constraint violation....:   1.1061400980943619e-11    5.5024429457262158e-11\n",
      "Complementarity.........:   2.5059035627582109e-09    2.5059035627582109e-09\n",
      "Overall NLP error.......:   2.5059035627582109e-09    2.5059035627582109e-09\n",
      "\n",
      "\n",
      "Number of objective function evaluations             = 51\n",
      "Number of objective gradient evaluations             = 51\n",
      "Number of equality constraint evaluations            = 51\n",
      "Number of inequality constraint evaluations          = 51\n",
      "Number of equality constraint Jacobian evaluations   = 51\n",
      "Number of inequality constraint Jacobian evaluations = 51\n",
      "Number of Lagrangian Hessian evaluations             = 50\n",
      "Total CPU secs in IPOPT (w/o function evaluations)   =      9.803\n",
      "Total CPU secs in NLP function evaluations           =      0.336\n",
      "\n",
      "EXIT: Optimal Solution Found.\n",
      "Scenario 1 = 91387.50635564495\n",
      "Scenario 2 = 86427.13607778316\n",
      "Scenario 3 = 98328.1356379685\n"
     ]
    }
   ],
   "source": [
    "solver = SolverFactory('ipopt')\n",
    "results = solver.solve(model, tee=True)\n",
    "\n",
    "for i in model.scen:\n",
    "    print(\"Scenario %s = %s\" % (\n",
    "        i, sum(sum(0.5 * value(model.pow[i, j, k])\n",
    "                   for j in model.LINK_A)\n",
    "               for k in model.time.get_finite_elements())))"
   ]
  },
  {
   "cell_type": "code",
   "execution_count": 70,
   "metadata": {},
   "outputs": [
    {
     "data": {
      "text/plain": [
       "Text(0.5, 0, 'Time t')"
      ]
     },
     "execution_count": 70,
     "metadata": {},
     "output_type": "execute_result"
    },
    {
     "data": {
      "image/png": "[encoded data removed]",
      "text/plain": [
       "<Figure size 432x288 with 1 Axes>"
      ]
     },
     "metadata": {
      "needs_background": "light"
     },
     "output_type": "display_data"
    }
   ],
   "source": [
    "x = []\n",
    "t = []\n",
    "p = []\n",
    "import matplotlib.pyplot as plt\n",
    "fig = plt.figure()\n",
    "for i in sorted(model.scen):\n",
    "    temp = []\n",
    "    tempx = []\n",
    "    for j in sorted(model.time):\n",
    "        tempx.append(j)\n",
    "        temp.append(value(model.p[i, \"n13\", j]))\n",
    "    x.append(tempx)\n",
    "    # t.append(sorted(model.time))\n",
    "    p.append(temp)\n",
    "    plt.plot(tempx, temp)\n",
    "plt.ylabel('Pow')\n",
    "plt.xlabel('Time t')\n"
   ]
  }
 ],
 "metadata": {
  "kernelspec": {
   "display_name": "Python 3",
   "language": "python",
   "name": "python3"
  },
  "language_info": {
   "codemirror_mode": {
    "name": "ipython",
    "version": 3
   },
   "file_extension": ".py",
   "mimetype": "text/x-python",
   "name": "python",
   "nbconvert_exporter": "python",
   "pygments_lexer": "ipython3",
   "version": "3.7.4"
  }
 },
 "nbformat": 4,
 "nbformat_minor": 4
}
