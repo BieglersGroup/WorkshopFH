{
 "cells": [
  {
   "cell_type": "markdown",
   "metadata": {},
   "source": [
    "# Pyomo's PDE example"
   ]
  },
  {
   "cell_type": "markdown",
   "metadata": {},
   "source": [
    "### 0. Introduction\n",
    "This is an example from matlab's *pdepe* function that solves initial-boundary value problems for systems of parabolic and elliptic PDEs.  \n",
    "The problem is to solve the following pde,\n",
    "\\begin{equation}\n",
    "\\pi ^{2} \\dfrac{\\partial u}{\\partial t} = \\dfrac{\\partial}{\\partial x} \\left(\\dfrac{\\partial u}{\\partial x} \\right)\n",
    "\\end{equation}\n",
    "\n",
    "With the BC's:\n",
    "\\begin{align*}\n",
    "u \\left( 0, t \\right) &= 0 \\\\\n",
    "\\pi e ^{-t} + \\dfrac{\\partial u}{\\partial x} \\left(1, t \\right) & = 0\n",
    "\\end{align*}\n",
    "And initial condition:\n",
    "\\begin{equation}\n",
    "u \\left(x, 0 \\right) = \\sin \\pi x\n",
    "\\end{equation}\n"
   ]
  },
  {
   "cell_type": "markdown",
   "metadata": {},
   "source": [
    "This example will illustrate how to deal with multiple *ContinuousSet* objects."
   ]
  },
  {
   "cell_type": "markdown",
   "metadata": {},
   "source": [
    "### 1. Model and Continuous sets"
   ]
  },
  {
   "cell_type": "markdown",
   "metadata": {},
   "source": [
    "For this problem it is required two *ContinuousSet*, one for $t$ and one for $x$."
   ]
  },
  {
   "cell_type": "code",
   "execution_count": 43,
   "metadata": {},
   "outputs": [],
   "source": [
    "from pyomo.environ import *\n",
    "from pyomo.dae import *\n",
    "m = ConcreteModel()"
   ]
  },
  {
   "cell_type": "code",
   "execution_count": 44,
   "metadata": {},
   "outputs": [],
   "source": [
    "m.t = ContinuousSet(bounds=(0, 2))  #: for t\n",
    "m.x = ContinuousSet(bounds=(0, 1))  #: for x"
   ]
  },
  {
   "cell_type": "markdown",
   "metadata": {},
   "source": [
    "### 2. Vars and DerivativeVars\n",
    "The variable $u$ is defined over both *ContinuousSet* elements."
   ]
  },
  {
   "cell_type": "code",
   "execution_count": 45,
   "metadata": {},
   "outputs": [],
   "source": [
    "m.u = Var(m.x, m.t)"
   ]
  },
  {
   "cell_type": "markdown",
   "metadata": {},
   "source": [
    "Moreover, there are two derivative terms in the PDE itself and one for the BC, i.e. $\\frac{\\partial u}{\\partial x}$ , $\\frac{\\partial^{2} u}{\\partial x^{2}}$, and $\\frac{\\partial u}{\\partial t}$."
   ]
  },
  {
   "cell_type": "code",
   "execution_count": 46,
   "metadata": {},
   "outputs": [],
   "source": [
    "m.dudx = DerivativeVar(m.u, wrt=m.x)\n",
    "m.dudx2 = DerivativeVar(m.u, wrt=(m.x, m.x))  #: note that this one has x two times\n",
    "m.dudt = DerivativeVar(m.u, wrt=m.t)"
   ]
  },
  {
   "cell_type": "markdown",
   "metadata": {},
   "source": [
    "Then the PDE expression is generated with a python function,"
   ]
  },
  {
   "cell_type": "code",
   "execution_count": 47,
   "metadata": {},
   "outputs": [],
   "source": [
    "def _pde(m, i, j):\n",
    "    if i == 0 or i == 1 or j == 0:\n",
    "        return Constraint.Skip\n",
    "    return 3.1416 ** 2 * m.dudt[i, j] == m.dudx2[i, j]"
   ]
  },
  {
   "cell_type": "markdown",
   "metadata": {},
   "source": [
    "And passed to the Constraint constructor"
   ]
  },
  {
   "cell_type": "code",
   "execution_count": 48,
   "metadata": {},
   "outputs": [],
   "source": [
    "m.pde = Constraint(m.x, m.t, rule=_pde)"
   ]
  },
  {
   "cell_type": "markdown",
   "metadata": {},
   "source": [
    "Note that, the constraint has to be skipped at $x=0, L$ (Boundary conditions) and $t = 0$ initial value.  \n",
    "For the initial conditions, the expression needs to skip both ends ($x=0, L$)"
   ]
  },
  {
   "cell_type": "code",
   "execution_count": 49,
   "metadata": {},
   "outputs": [],
   "source": [
    "def _initcon(m, i):\n",
    "    if i == 0 or i == 1:  #: skip here\n",
    "        return Constraint.Skip\n",
    "    return m.u[i, 0] == sin(3.1415 * i)\n",
    "\n",
    "m.initcon = Constraint(m.x, rule=_initcon)"
   ]
  },
  {
   "cell_type": "markdown",
   "metadata": {},
   "source": [
    "The boundary conditions need to be skiped for the initial time."
   ]
  },
  {
   "cell_type": "code",
   "execution_count": 50,
   "metadata": {},
   "outputs": [],
   "source": [
    "def _lowerbound(m, j):\n",
    "    return m.u[0, j] == 0\n",
    "\n",
    "m.lowerbound = Constraint(m.t, rule=_lowerbound)\n",
    "\n",
    "\n",
    "def _upperbound(m, j):\n",
    "    return 3.1416 * exp(-j) + m.dudx[1, j] == 0\n",
    "\n",
    "m.upperbound = Constraint(m.t, rule=_upperbound)"
   ]
  },
  {
   "cell_type": "markdown",
   "metadata": {},
   "source": [
    "Finally, note that we do not need an objective (simulation)"
   ]
  },
  {
   "cell_type": "code",
   "execution_count": 51,
   "metadata": {},
   "outputs": [],
   "source": [
    "m.obj = Objective(expr=1)"
   ]
  },
  {
   "cell_type": "markdown",
   "metadata": {},
   "source": [
    "### 3. Discretization and solution\n",
    "To discretize the model, it is required two discretizers, one for each *ContinuousSet*"
   ]
  },
  {
   "cell_type": "code",
   "execution_count": 52,
   "metadata": {},
   "outputs": [],
   "source": [
    "# Discretize using Collocation\n",
    "discretizer = TransformationFactory('dae.collocation')\n",
    "discretizer2 = TransformationFactory('dae.collocation')"
   ]
  },
  {
   "cell_type": "markdown",
   "metadata": {},
   "source": [
    "Apply both discretizers from the *TransformationFactory*"
   ]
  },
  {
   "cell_type": "code",
   "execution_count": 53,
   "metadata": {},
   "outputs": [],
   "source": [
    "discretizer.apply_to(m, nfe=25, wrt=m.x)\n",
    "discretizer2.apply_to(m, nfe=20, ncp=3, wrt=m.t)"
   ]
  },
  {
   "cell_type": "markdown",
   "metadata": {},
   "source": [
    "And solve."
   ]
  },
  {
   "cell_type": "code",
   "execution_count": 54,
   "metadata": {},
   "outputs": [
    {
     "name": "stdout",
     "output_type": "stream",
     "text": [
      "/tmp/tmpgu232al0.pyomo.nl -AMPL \n",
      "Ipopt vanilla0: \n",
      "This is Ipopt version vanilla0, running with linear solver ma27.\n",
      "\n",
      "Number of nonzeros in equality constraint Jacobian...:    77626\n",
      "Number of nonzeros in inequality constraint Jacobian.:        0\n",
      "Number of nonzeros in Lagrangian Hessian.............:        0\n",
      "\n",
      "Total number of variables............................:    18346\n",
      "                     variables with only lower bounds:        0\n",
      "                variables with lower and upper bounds:        0\n",
      "                     variables with only upper bounds:        0\n",
      "Total number of equality constraints.................:    18346\n",
      "Total number of inequality constraints...............:        0\n",
      "        inequality constraints with only lower bounds:        0\n",
      "   inequality constraints with lower and upper bounds:        0\n",
      "        inequality constraints with only upper bounds:        0\n",
      "\n",
      "iter    objective    inf_pr   inf_du lg(mu)  ||d||  lg(rg) alpha_du alpha_pr  ls\n",
      "   0  1.0000000e+00 3.14e+00 0.00e+00  -1.0 0.00e+00    -  0.00e+00 0.00e+00   0\n",
      "   1  1.0000000e+00 3.26e-08 0.00e+00  -1.0 9.87e+00    -  1.00e+00 1.00e+00h  1\n",
      "   2  1.0000000e+00 8.03e-12 0.00e+00  -8.6 2.08e-05    -  1.00e+00 1.00e+00h  1\n",
      "\n",
      "Number of Iterations....: 2\n",
      "\n",
      "                                   (scaled)                 (unscaled)\n",
      "Objective...............:   1.0000000000000000e+00    1.0000000000000000e+00\n",
      "Dual infeasibility......:   0.0000000000000000e+00    0.0000000000000000e+00\n",
      "Constraint violation....:   3.1175388002583491e-14    8.0273565572497318e-12\n",
      "Complementarity.........:   0.0000000000000000e+00    0.0000000000000000e+00\n",
      "Overall NLP error.......:   3.1175388002583491e-14    8.0273565572497318e-12\n",
      "\n",
      "\n",
      "Number of objective function evaluations             = 3\n",
      "Number of objective gradient evaluations             = 3\n",
      "Number of equality constraint evaluations            = 3\n",
      "Number of inequality constraint evaluations          = 0\n",
      "Number of equality constraint Jacobian evaluations   = 3\n",
      "Number of inequality constraint Jacobian evaluations = 0\n",
      "Number of Lagrangian Hessian evaluations             = 2\n",
      "Total CPU secs in IPOPT (w/o function evaluations)   =      0.260\n",
      "Total CPU secs in NLP function evaluations           =      0.003\n",
      "\n",
      "EXIT: Optimal Solution Found.\n"
     ]
    }
   ],
   "source": [
    "solver = SolverFactory('ipopt')\n",
    "results = solver.solve(m, tee=True)"
   ]
  },
  {
   "cell_type": "markdown",
   "metadata": {},
   "source": [
    "### Optional: plot some results"
   ]
  },
  {
   "cell_type": "markdown",
   "metadata": {},
   "source": [
    "Pyplot can be used to generate some 3d plots."
   ]
  },
  {
   "cell_type": "code",
   "execution_count": 57,
   "metadata": {},
   "outputs": [
    {
     "data": {
      "image/png": "[encoded data removed]",
      "text/plain": [
       "<Figure size 432x288 with 1 Axes>"
      ]
     },
     "metadata": {
      "needs_background": "light"
     },
     "output_type": "display_data"
    }
   ],
   "source": [
    "x = []\n",
    "t = []\n",
    "u = []\n",
    "for i in sorted(m.x):\n",
    "    temp = []\n",
    "    tempx = []\n",
    "    for j in sorted(m.t):\n",
    "        tempx.append(i)\n",
    "        temp.append(value(m.u[i, j]))\n",
    "    x.append(tempx)\n",
    "    t.append(sorted(m.t))\n",
    "    u.append(temp)\n",
    "\n",
    "import numpy\n",
    "import matplotlib.pyplot as plt\n",
    "from mpl_toolkits.mplot3d.axes3d import Axes3D\n",
    "un = numpy.array(u)\n",
    "fig = plt.figure()\n",
    "ax = fig.add_subplot(1, 1, 1, projection='3d')\n",
    "ax.set_xlabel('Distance x')\n",
    "ax.set_ylabel('Time t')\n",
    "p = ax.plot_wireframe(x, t, un, rstride=1, cstride=1)\n"
   ]
  },
  {
   "cell_type": "markdown",
   "metadata": {},
   "source": [
    "### Credits:\n",
    " - David Thierry (Carnegie Mellon University @2019)"
   ]
  }
 ],
 "metadata": {
  "kernelspec": {
   "display_name": "Python 3",
   "language": "python",
   "name": "python3"
  },
  "language_info": {
   "codemirror_mode": {
    "name": "ipython",
    "version": 3
   },
   "file_extension": ".py",
   "mimetype": "text/x-python",
   "name": "python",
   "nbconvert_exporter": "python",
   "pygments_lexer": "ipython3",
   "version": "3.7.4"
  },
  "pycharm": {
   "stem_cell": {
    "cell_type": "raw",
    "metadata": {
     "collapsed": false
    },
    "source": []
   }
  }
 },
 "nbformat": 4,
 "nbformat_minor": 4
}
