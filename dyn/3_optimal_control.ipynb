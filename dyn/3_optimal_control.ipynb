{
 "cells": [
  {
   "cell_type": "markdown",
   "metadata": {},
   "source": [
    "# Optimal control example\n",
    "(From Dynopt, adapted from pyomo/examples)"
   ]
  },
  {
   "cell_type": "markdown",
   "metadata": {},
   "source": [
    "### 0. Introduction\n",
    "Consider the following problem:\n",
    "\\begin{align*}\n",
    "\\min_{u} \\quad&x_{2} \\left( t_{f}\\right) \\\\\n",
    "\\text{s.t.} \\dot{x}_{1} &= u \\\\\n",
    "           \\dot{x}_{2} &= x_{1}^{2} + u ^{2} \\\\\n",
    "           x_{1}\\left(0 \\right) &= 1 \\\\\n",
    "           x_{2}\\left(0 \\right) &= 0\n",
    "\\end{align*}\n",
    "In this problem, the *pyomo.dae* tools will be used to discretize and solve."
   ]
  },
  {
   "cell_type": "markdown",
   "metadata": {},
   "source": [
    "### 0. Model and Continuous set"
   ]
  },
  {
   "cell_type": "code",
   "execution_count": 3,
   "metadata": {},
   "outputs": [],
   "source": [
    "from pyomo.environ import *\n",
    "from pyomo.dae import *\n",
    "import matplotlib.pyplot as plt\n",
    "m = ConcreteModel()"
   ]
  },
  {
   "cell_type": "markdown",
   "metadata": {},
   "source": [
    "A simple *ContinuosSet* will be used for this model."
   ]
  },
  {
   "cell_type": "code",
   "execution_count": 4,
   "metadata": {},
   "outputs": [],
   "source": [
    "m.t = ContinuousSet(bounds=(0, 1))"
   ]
  },
  {
   "cell_type": "markdown",
   "metadata": {},
   "source": [
    "### 1. Derivative Variables\n",
    "This system has two differential variables (states) and one control (algebraic). "
   ]
  },
  {
   "cell_type": "code",
   "execution_count": 5,
   "metadata": {},
   "outputs": [],
   "source": [
    "m.x1 = Var(m.t, bounds=(0, 1))\n",
    "m.x2 = Var(m.t, bounds=(0, 1))\n",
    "m.u = Var(m.t, initialize=0)"
   ]
  },
  {
   "cell_type": "markdown",
   "metadata": {},
   "source": [
    "Now, only $x_{1}$ and $x_{2}$ have differential terms."
   ]
  },
  {
   "cell_type": "code",
   "execution_count": 6,
   "metadata": {},
   "outputs": [],
   "source": [
    "m.x1dot = DerivativeVar(m.x1)\n",
    "m.x2dot = DerivativeVar(m.x2)"
   ]
  },
  {
   "cell_type": "markdown",
   "metadata": {},
   "source": [
    "### 2. Constraints\n",
    "The two ODEs expressions for this model can be created through python functions. As usual, they can be passed to the Constraint constructor."
   ]
  },
  {
   "cell_type": "code",
   "execution_count": 7,
   "metadata": {},
   "outputs": [],
   "source": [
    "def _x1dot(mod, i):  #: ODE 2\n",
    "    if i == 0:\n",
    "        return Constraint.Skip\n",
    "    else:\n",
    "        return mod.x1dot[i] == mod.u[i]  #: Return expression"
   ]
  },
  {
   "cell_type": "code",
   "execution_count": 8,
   "metadata": {},
   "outputs": [],
   "source": [
    "m.x1dot_con = Constraint(m.t, rule=_x1dot)"
   ]
  },
  {
   "cell_type": "code",
   "execution_count": 9,
   "metadata": {},
   "outputs": [],
   "source": [
    "def _x2dot(mod, i):   # ODE 2\n",
    "    if i == 0:\n",
    "        return Constraint.Skip\n",
    "    else:\n",
    "        return mod.x2dot[i] == mod.x1[i] ** 2 + mod.u[i] ** 2"
   ]
  },
  {
   "cell_type": "code",
   "execution_count": 10,
   "metadata": {},
   "outputs": [],
   "source": [
    "m.x2dot_con = Constraint(m.t, rule=_x2dot)"
   ]
  },
  {
   "cell_type": "markdown",
   "metadata": {},
   "source": [
    "*As described before*, the initial conditions can be either stated as fixed values at $t=0$ or explicit constraints. For this the latter will be used.  \n",
    "Moreover, the *ConstraintList* object will be used. This object can be appended with arbitrary order."
   ]
  },
  {
   "cell_type": "code",
   "execution_count": 11,
   "metadata": {},
   "outputs": [],
   "source": [
    "m.init_conditions = ConstraintList()  #: we can append constraint expression"
   ]
  },
  {
   "cell_type": "code",
   "execution_count": 12,
   "metadata": {},
   "outputs": [
    {
     "name": "stdout",
     "output_type": "stream",
     "text": [
      "the resulting constraints are:\n",
      "\n",
      "init_conditions : Size=2, Index=init_conditions_index, Active=True\n",
      "    Key : Lower : Body  : Upper : Active\n",
      "      1 :   1.0 : x1[0] :   1.0 :   True\n",
      "      2 :   0.0 : x2[0] :   0.0 :   True\n"
     ]
    }
   ],
   "source": [
    "m.init_conditions.add(m.x1[0] == 1)  #: initial condition for x1\n",
    "m.init_conditions.add(m.x2[0] == 0)  #: initial condition for x2\n",
    "print(\"the resulting constraints are:\\n\")\n",
    "m.init_conditions.pprint()"
   ]
  },
  {
   "cell_type": "code",
   "execution_count": 13,
   "metadata": {},
   "outputs": [],
   "source": [
    "m.obj = Objective(expr=m.x2[1])  #: Finally the objective"
   ]
  },
  {
   "cell_type": "markdown",
   "metadata": {},
   "source": [
    "### 3. Transformation and Results\n",
    "*dae.collocation* is used for this problem. Note that it is also desired to have the control as *piecewise constant*. For this the `reduce_collocation_points` method can be used for `u`"
   ]
  },
  {
   "cell_type": "code",
   "execution_count": 14,
   "metadata": {},
   "outputs": [],
   "source": [
    "discretizer = TransformationFactory(\"dae.collocation\")\n",
    "discretizer.apply_to(m, nfe=20, ncp=3, scheme=\"LAGRANGE-RADAU\")"
   ]
  },
  {
   "cell_type": "markdown",
   "metadata": {},
   "source": [
    "Apply the changes for the $u$ variable,"
   ]
  },
  {
   "cell_type": "code",
   "execution_count": 15,
   "metadata": {},
   "outputs": [
    {
     "data": {
      "text/plain": [
       "<pyomo.core.base.PyomoModel.ConcreteModel at 0x7f1f141445f0>"
      ]
     },
     "execution_count": 15,
     "metadata": {},
     "output_type": "execute_result"
    }
   ],
   "source": [
    "discretizer.reduce_collocation_points(m, var=m.u, ncp=1, contset=m.t)"
   ]
  },
  {
   "cell_type": "markdown",
   "metadata": {},
   "source": [
    "And solve:"
   ]
  },
  {
   "cell_type": "code",
   "execution_count": 16,
   "metadata": {},
   "outputs": [
    {
     "name": "stdout",
     "output_type": "stream",
     "text": [
      "/tmp/tmpj69sc47c.pyomo.nl -AMPL \n",
      "Ipopt vanilla0: \n",
      "This is Ipopt version vanilla0, running with linear solver ma27.\n",
      "\n",
      "Number of nonzeros in equality constraint Jacobian...:      982\n",
      "Number of nonzeros in inequality constraint Jacobian.:        0\n",
      "Number of nonzeros in Lagrangian Hessian.............:      120\n",
      "\n",
      "Total number of variables............................:      302\n",
      "                     variables with only lower bounds:        0\n",
      "                variables with lower and upper bounds:      122\n",
      "                     variables with only upper bounds:        0\n",
      "Total number of equality constraints.................:      282\n",
      "Total number of inequality constraints...............:        0\n",
      "        inequality constraints with only lower bounds:        0\n",
      "   inequality constraints with lower and upper bounds:        0\n",
      "        inequality constraints with only upper bounds:        0\n",
      "\n",
      "iter    objective    inf_pr   inf_du lg(mu)  ||d||  lg(rg) alpha_du alpha_pr  ls\n",
      "   0  9.9999900e-03 9.90e-01 1.39e-04  -1.0 0.00e+00    -  0.00e+00 0.00e+00   0\n",
      "   1  5.8905430e-01 1.09e+01 1.46e+02  -1.7 1.92e+01    -  5.50e-04 3.21e-02F  1\n",
      "   2  4.2017984e-01 2.19e+01 7.14e+03  -1.7 4.65e+00    -  1.40e-04 9.90e-01f  1\n",
      "   3  6.8404868e-01 7.34e+00 7.78e+01  -1.7 7.47e+00    -  6.16e-01 9.90e-01h  1\n",
      "   4  8.0231347e-01 1.36e+00 3.62e+03  -1.7 1.14e+00    -  8.13e-01 9.90e-01h  1\n",
      "   5  8.2251266e-01 1.66e-02 3.17e-02  -1.7 9.48e-01    -  1.00e+00 1.00e+00h  1\n",
      "   6  8.1510746e-01 1.18e-02 5.27e+04  -3.8 3.10e-01    -  9.48e-01 1.00e+00h  1\n",
      "   7  7.1223953e-01 4.21e-01 1.01e+04  -3.8 1.80e+00    -  8.08e-01 1.00e+00h  1\n",
      "   8  7.6169962e-01 8.70e-05 1.37e+03  -3.8 4.12e-01    -  8.65e-01 1.00e+00h  1\n",
      "   9  7.6177628e-01 1.58e-04 1.52e-05  -3.8 1.87e-02    -  1.00e+00 1.00e+00h  1\n",
      "iter    objective    inf_pr   inf_du lg(mu)  ||d||  lg(rg) alpha_du alpha_pr  ls\n",
      "  10  7.6165391e-01 6.80e-04 1.27e-05  -5.7 3.92e-02    -  1.00e+00 1.00e+00h  1\n",
      "  11  7.6171721e-01 3.58e-07 1.30e-08  -5.7 5.98e-04    -  1.00e+00 1.00e+00h  1\n",
      "  12  7.6171723e-01 1.18e-07 2.23e-09  -8.6 5.00e-04    -  1.00e+00 1.00e+00h  1\n",
      "  13  7.6171725e-01 4.23e-14 4.86e-16  -8.6 1.00e-07    -  1.00e+00 1.00e+00h  1\n",
      "\n",
      "Number of Iterations....: 13\n",
      "\n",
      "                                   (scaled)                 (unscaled)\n",
      "Objective...............:   7.6171724526878104e-01    7.6171724526878104e-01\n",
      "Dual infeasibility......:   4.8568724273518262e-16    4.8568724273518262e-16\n",
      "Constraint violation....:   2.8079959406582224e-14    4.2299497238218464e-14\n",
      "Complementarity.........:   2.5059036763221822e-09    2.5059036763221822e-09\n",
      "Overall NLP error.......:   2.5059036763221822e-09    2.5059036763221822e-09\n",
      "\n",
      "\n",
      "Number of objective function evaluations             = 15\n",
      "Number of objective gradient evaluations             = 14\n",
      "Number of equality constraint evaluations            = 15\n",
      "Number of inequality constraint evaluations          = 0\n",
      "Number of equality constraint Jacobian evaluations   = 14\n",
      "Number of inequality constraint Jacobian evaluations = 0\n",
      "Number of Lagrangian Hessian evaluations             = 13\n",
      "Total CPU secs in IPOPT (w/o function evaluations)   =      0.005\n",
      "Total CPU secs in NLP function evaluations           =      0.000\n",
      "\n",
      "EXIT: Optimal Solution Found.\n"
     ]
    }
   ],
   "source": [
    "solver = SolverFactory(\"ipopt\")\n",
    "results = solver.solve(m, tee=True)"
   ]
  },
  {
   "cell_type": "code",
   "execution_count": 19,
   "metadata": {},
   "outputs": [
    {
     "data": {
      "image/png": "[encoded data removed]",
      "text/plain": [
       "<Figure size 432x288 with 1 Axes>"
      ]
     },
     "metadata": {
      "needs_background": "light"
     },
     "output_type": "display_data"
    },
    {
     "data": {
      "image/png": "[encoded data removed]",
      "text/plain": [
       "<Figure size 432x288 with 1 Axes>"
      ]
     },
     "metadata": {
      "needs_background": "light"
     },
     "output_type": "display_data"
    }
   ],
   "source": [
    "x1 = []\n",
    "x2 = []\n",
    "u = []\n",
    "t = []\n",
    "\n",
    "for i in sorted(m.t):\n",
    "    t.append(i)\n",
    "    x1.append(value(m.x1[i]))\n",
    "    x2.append(value(m.x2[i]))\n",
    "    u.append(value(m.u[i]))\n",
    "\n",
    "plt.plot(t,x1)\n",
    "plt.plot(t,x2)\n",
    "plt.xlabel('time')\n",
    "plt.ylabel('$x_{1}, x_{2}$')\n",
    "plt.show()\n",
    "\n",
    "plt.plot(t,u)\n",
    "plt.xlabel('time')\n",
    "plt.ylabel('$u$')\n",
    "plt.show()"
   ]
  },
  {
   "cell_type": "markdown",
   "metadata": {},
   "source": [
    "### Credits:\n",
    " - David Thierry (Carnegie Mellon University @2019)"
   ]
  }
 ],
 "metadata": {
  "kernelspec": {
   "display_name": "Python 3",
   "language": "python",
   "name": "python3"
  },
  "language_info": {
   "codemirror_mode": {
    "name": "ipython",
    "version": 3
   },
   "file_extension": ".py",
   "mimetype": "text/x-python",
   "name": "python",
   "nbconvert_exporter": "python",
   "pygments_lexer": "ipython3",
   "version": "3.7.4"
  }
 },
 "nbformat": 4,
 "nbformat_minor": 4
}
