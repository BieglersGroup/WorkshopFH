{
 "cells": [
  {
   "cell_type": "markdown",
   "metadata": {},
   "source": [
    "# Optimal control example"
   ]
  },
  {
   "cell_type": "code",
   "execution_count": 1,
   "metadata": {},
   "outputs": [],
   "source": [
    "from pyomo.environ import *\n",
    "from pyomo.dae import *\n",
    "import matplotlib.pyplot as plt"
   ]
  },
  {
   "cell_type": "code",
   "execution_count": 2,
   "metadata": {},
   "outputs": [],
   "source": [
    "m = ConcreteModel()"
   ]
  },
  {
   "cell_type": "code",
   "execution_count": 3,
   "metadata": {},
   "outputs": [],
   "source": [
    "m.t = ContinuousSet(bounds=(0, 1))"
   ]
  },
  {
   "cell_type": "code",
   "execution_count": 4,
   "metadata": {},
   "outputs": [],
   "source": [
    "m.x1 = Var(m.t, bounds=(0, 1))\n",
    "m.x2 = Var(m.t, bounds=(0, 1))\n",
    "m.u = Var(m.t, initialize=0)"
   ]
  },
  {
   "cell_type": "code",
   "execution_count": 5,
   "metadata": {},
   "outputs": [],
   "source": [
    "m.x1dot = DerivativeVar(m.x1)\n",
    "m.x2dot = DerivativeVar(m.x2)"
   ]
  },
  {
   "cell_type": "code",
   "execution_count": 6,
   "metadata": {},
   "outputs": [],
   "source": [
    "m.obj = Objective(expr=m.x2[1])"
   ]
  },
  {
   "cell_type": "code",
   "execution_count": 7,
   "metadata": {},
   "outputs": [],
   "source": [
    "def _x1dot(mod, i):\n",
    "    if i == 0:\n",
    "        return Constraint.Skip\n",
    "    else:\n",
    "        return mod.x1dot[i] == mod.u[i]"
   ]
  },
  {
   "cell_type": "code",
   "execution_count": 8,
   "metadata": {},
   "outputs": [],
   "source": [
    "m.x1dot_con = Constraint(m.t, rule=_x1dot)"
   ]
  },
  {
   "cell_type": "code",
   "execution_count": 9,
   "metadata": {},
   "outputs": [],
   "source": [
    "def _x2dot(mod, i):\n",
    "    if i == 0:\n",
    "        return Constraint.Skip\n",
    "    else:\n",
    "        return mod.x2dot[i] == mod.x1[i] ** 2 + mod.u[i] ** 2"
   ]
  },
  {
   "cell_type": "code",
   "execution_count": 10,
   "metadata": {},
   "outputs": [],
   "source": [
    "m.x2dot_con = Constraint(m.t, rule=_x2dot)"
   ]
  },
  {
   "cell_type": "code",
   "execution_count": 11,
   "metadata": {},
   "outputs": [],
   "source": [
    "m.init_conditions = ConstraintList()"
   ]
  },
  {
   "cell_type": "code",
   "execution_count": 12,
   "metadata": {},
   "outputs": [
    {
     "data": {
      "text/plain": [
       "<pyomo.core.base.constraint._GeneralConstraintData at 0x7fb1fa4342f0>"
      ]
     },
     "execution_count": 12,
     "metadata": {},
     "output_type": "execute_result"
    }
   ],
   "source": [
    "m.init_conditions.add(m.x1[0] == 1)  #: initial condition for x1\n",
    "m.init_conditions.add(m.x2[0] == 0)  #: initial condition for x2"
   ]
  },
  {
   "cell_type": "markdown",
   "metadata": {},
   "source": [
    "## Transformation"
   ]
  },
  {
   "cell_type": "code",
   "execution_count": 13,
   "metadata": {},
   "outputs": [],
   "source": [
    "discretizer = TransformationFactory(\"dae.collocation\")"
   ]
  },
  {
   "cell_type": "code",
   "execution_count": 14,
   "metadata": {},
   "outputs": [],
   "source": [
    "discretizer.apply_to(m, nfe=20, ncp=3, scheme=\"LAGRANGE-RADAU\")"
   ]
  },
  {
   "cell_type": "code",
   "execution_count": 15,
   "metadata": {},
   "outputs": [
    {
     "data": {
      "text/plain": [
       "<pyomo.core.base.PyomoModel.ConcreteModel at 0x7fb1fa427870>"
      ]
     },
     "execution_count": 15,
     "metadata": {},
     "output_type": "execute_result"
    }
   ],
   "source": [
    "discretizer.reduce_collocation_points(m, var=m.u, ncp=1, contset=m.t)"
   ]
  },
  {
   "cell_type": "code",
   "execution_count": 16,
   "metadata": {},
   "outputs": [],
   "source": [
    "solver = SolverFactory(\"ipopt\")"
   ]
  },
  {
   "cell_type": "code",
   "execution_count": 17,
   "metadata": {},
   "outputs": [
    {
     "name": "stdout",
     "output_type": "stream",
     "text": [
      "/tmp/tmp8zd5c871.pyomo.nl -AMPL \n",
      "Ipopt vanilla0: \n",
      "This is Ipopt version vanilla0, running with linear solver ma27.\n",
      "\n",
      "Number of nonzeros in equality constraint Jacobian...:      982\n",
      "Number of nonzeros in inequality constraint Jacobian.:        0\n",
      "Number of nonzeros in Lagrangian Hessian.............:      120\n",
      "\n",
      "Total number of variables............................:      302\n",
      "                     variables with only lower bounds:        0\n",
      "                variables with lower and upper bounds:      122\n",
      "                     variables with only upper bounds:        0\n",
      "Total number of equality constraints.................:      282\n",
      "Total number of inequality constraints...............:        0\n",
      "        inequality constraints with only lower bounds:        0\n",
      "   inequality constraints with lower and upper bounds:        0\n",
      "        inequality constraints with only upper bounds:        0\n",
      "\n",
      "iter    objective    inf_pr   inf_du lg(mu)  ||d||  lg(rg) alpha_du alpha_pr  ls\n",
      "   0  9.9999900e-03 9.90e-01 1.39e-04  -1.0 0.00e+00    -  0.00e+00 0.00e+00   0\n",
      "   1  5.8905430e-01 1.09e+01 1.46e+02  -1.7 1.92e+01    -  5.50e-04 3.21e-02F  1\n",
      "   2  4.2017984e-01 2.19e+01 7.14e+03  -1.7 4.65e+00    -  1.40e-04 9.90e-01f  1\n",
      "   3  6.8404868e-01 7.34e+00 7.78e+01  -1.7 7.47e+00    -  6.16e-01 9.90e-01h  1\n",
      "   4  8.0231347e-01 1.36e+00 3.62e+03  -1.7 1.14e+00    -  8.13e-01 9.90e-01h  1\n",
      "   5  8.2251266e-01 1.66e-02 3.17e-02  -1.7 9.48e-01    -  1.00e+00 1.00e+00h  1\n",
      "   6  8.1510746e-01 1.18e-02 5.27e+04  -3.8 3.10e-01    -  9.48e-01 1.00e+00h  1\n",
      "   7  7.1223953e-01 4.21e-01 1.01e+04  -3.8 1.80e+00    -  8.08e-01 1.00e+00h  1\n",
      "   8  7.6169962e-01 8.70e-05 1.37e+03  -3.8 4.12e-01    -  8.65e-01 1.00e+00h  1\n",
      "   9  7.6177628e-01 1.58e-04 1.52e-05  -3.8 1.87e-02    -  1.00e+00 1.00e+00h  1\n",
      "iter    objective    inf_pr   inf_du lg(mu)  ||d||  lg(rg) alpha_du alpha_pr  ls\n",
      "  10  7.6165391e-01 6.80e-04 1.27e-05  -5.7 3.92e-02    -  1.00e+00 1.00e+00h  1\n",
      "  11  7.6171721e-01 3.58e-07 1.30e-08  -5.7 5.98e-04    -  1.00e+00 1.00e+00h  1\n",
      "  12  7.6171723e-01 1.18e-07 2.23e-09  -8.6 5.00e-04    -  1.00e+00 1.00e+00h  1\n",
      "  13  7.6171725e-01 4.23e-14 4.86e-16  -8.6 1.00e-07    -  1.00e+00 1.00e+00h  1\n",
      "\n",
      "Number of Iterations....: 13\n",
      "\n",
      "                                   (scaled)                 (unscaled)\n",
      "Objective...............:   7.6171724526878104e-01    7.6171724526878104e-01\n",
      "Dual infeasibility......:   4.8568724273518262e-16    4.8568724273518262e-16\n",
      "Constraint violation....:   2.8079959406582224e-14    4.2299497238218464e-14\n",
      "Complementarity.........:   2.5059036763221822e-09    2.5059036763221822e-09\n",
      "Overall NLP error.......:   2.5059036763221822e-09    2.5059036763221822e-09\n",
      "\n",
      "\n",
      "Number of objective function evaluations             = 15\n",
      "Number of objective gradient evaluations             = 14\n",
      "Number of equality constraint evaluations            = 15\n",
      "Number of inequality constraint evaluations          = 0\n",
      "Number of equality constraint Jacobian evaluations   = 14\n",
      "Number of inequality constraint Jacobian evaluations = 0\n",
      "Number of Lagrangian Hessian evaluations             = 13\n",
      "Total CPU secs in IPOPT (w/o function evaluations)   =      0.006\n",
      "Total CPU secs in NLP function evaluations           =      0.001\n",
      "\n",
      "EXIT: Optimal Solution Found.\n"
     ]
    }
   ],
   "source": [
    "results = solver.solve(m, tee=True)"
   ]
  },
  {
   "cell_type": "code",
   "execution_count": 18,
   "metadata": {},
   "outputs": [
    {
     "data": {
      "image/png": "[encoded data removed]",
      "text/plain": [
       "<Figure size 432x288 with 1 Axes>"
      ]
     },
     "metadata": {
      "needs_background": "light"
     },
     "output_type": "display_data"
    },
    {
     "data": {
      "image/png": "[encoded data removed]",
      "text/plain": [
       "<Figure size 432x288 with 1 Axes>"
      ]
     },
     "metadata": {
      "needs_background": "light"
     },
     "output_type": "display_data"
    }
   ],
   "source": [
    "x1 = []\n",
    "x2 = []\n",
    "u = []\n",
    "t = []\n",
    "\n",
    "for i in sorted(m.t):\n",
    "    t.append(i)\n",
    "    x1.append(value(m.x1[i]))\n",
    "    x2.append(value(m.x2[i]))\n",
    "    u.append(value(m.u[i]))\n",
    "\n",
    "plt.plot(t,x1)\n",
    "plt.plot(t,x2)\n",
    "plt.show()\n",
    "\n",
    "plt.plot(t,u)\n",
    "plt.show()"
   ]
  },
  {
   "cell_type": "code",
   "execution_count": null,
   "metadata": {},
   "outputs": [],
   "source": []
  },
  {
   "cell_type": "code",
   "execution_count": null,
   "metadata": {},
   "outputs": [],
   "source": []
  },
  {
   "cell_type": "code",
   "execution_count": null,
   "metadata": {},
   "outputs": [],
   "source": []
  }
 ],
 "metadata": {
  "kernelspec": {
   "display_name": "Python 3",
   "language": "python",
   "name": "python3"
  },
  "language_info": {
   "codemirror_mode": {
    "name": "ipython",
    "version": 3
   },
   "file_extension": ".py",
   "mimetype": "text/x-python",
   "name": "python",
   "nbconvert_exporter": "python",
   "pygments_lexer": "ipython3",
   "version": "3.7.4"
  }
 },
 "nbformat": 4,
 "nbformat_minor": 4
}
