{
 "cells": [
  {
   "cell_type": "markdown",
   "metadata": {},
   "source": [
    "# Hicks CSTR\n",
    "(From Derivation of Stirred Tank Reactor Optimal Control by L.T. Biegler)"
   ]
  },
  {
   "cell_type": "markdown",
   "metadata": {},
   "source": [
    "Consider the liquid-phase stirred tank reactor shown in Figure 1. We assume constant liquid volume ($V$), flow ($F$), density ($\\rho$), heat capacity ($C_{p}$), coolant\n",
    "temperature ($T_{c}$), coolant flow ($F_{c}$), overall heat transfer coefficient ($U$), cross\n",
    "sectional area ($A_{c}$) and heat of reaction ($H$), as well as a first order Arrhenius\n",
    "rate law."
   ]
  },
  {
   "cell_type": "markdown",
   "metadata": {},
   "source": [
    "### 0. Introduction"
   ]
  },
  {
   "cell_type": "markdown",
   "metadata": {},
   "source": [
    "![Hicks](./img/hicks.png)"
   ]
  },
  {
   "cell_type": "markdown",
   "metadata": {},
   "source": [
    "The problem is given by the ODEs:\n",
    "\\begin{align}\n",
    "\\min _{u} \\quad & \\int_{0}^{t_{f}}  \\alpha_{1} \\left(c - c(t) \\right)^{2} + \\alpha_{2} \\left( T - T(t) \\right)^{2} + \\alpha_{3} \\left(u - u(t) \\right)^{2} \\\\\n",
    "\\dfrac{dc}{dt} &= \\left(1 - c\\left(t \\right) \\right) / \\theta - k_{10} \\exp \\left(-n/T \\right) c\\left( t \\right) , \\quad c \\left(0 \\right) = c_{0} \\\\\n",
    "\\dfrac{dT}{dt} &= \\left(y_{f} - T\\left(t \\right) \\right)/\\theta - k_{10} \\exp \\left( -n / T \\right) c (t) + \\alpha u \\left(y_{c} - T\\right), \\quad T \\left( 0 \\right) = T_{0}\n",
    "\\end{align}"
   ]
  },
  {
   "cell_type": "markdown",
   "metadata": {},
   "source": [
    "### 1. Model"
   ]
  },
  {
   "cell_type": "code",
   "execution_count": 1,
   "metadata": {
    "jupyter": {
     "source_hidden": true
    }
   },
   "outputs": [],
   "source": [
    "import matplotlib.pyplot as plt\n",
    "from pyomo.core.expr import exp\n",
    "from pyomo.core.base.numvalue import value\n",
    "from pyomo.dae import *\n",
    "#: pyomo imports\n",
    "from pyomo.environ import *\n",
    "from pyomo.opt import SolverFactory, SolverStatus"
   ]
  },
  {
   "cell_type": "code",
   "execution_count": 2,
   "metadata": {},
   "outputs": [],
   "source": [
    "#: Number of finite elements\n",
    "nfe = 100\n",
    "#: Number of collocation points\n",
    "ncp = 3\n",
    "m = ConcreteModel()"
   ]
  },
  {
   "cell_type": "code",
   "execution_count": 3,
   "metadata": {},
   "outputs": [],
   "source": [
    "m.nfe = nfe\n",
    "m.ncp = ncp\n",
    "\n",
    "m.t = ContinuousSet(bounds=(0, 1))"
   ]
  },
  {
   "cell_type": "markdown",
   "metadata": {},
   "source": [
    "### 2. Parameters"
   ]
  },
  {
   "cell_type": "code",
   "execution_count": 4,
   "metadata": {},
   "outputs": [],
   "source": [
    "alpha_init = {0: 1.95e-04, 1: 1e+06, 2: 2e+03, 3: 1e-03}"
   ]
  },
  {
   "cell_type": "code",
   "execution_count": 5,
   "metadata": {},
   "outputs": [],
   "source": [
    "#: Scalars\n",
    "m.cinit = Param(initialize=0.1367)\n",
    "m.tinit = Param(initialize=0.7293)\n",
    "m.uinit = Param(initialize=390.0)\n",
    "\n",
    "m.cdes = Param(initialize=0.0944)\n",
    "m.tdes = Param(initialize=0.7766)\n",
    "m.udes = Param(initialize=340)\n",
    "m.k10 = Param(initialize=300)\n",
    "m.n = Param(initialize=5)\n",
    "\n",
    "m.cf = Param(initialize=7.6)\n",
    "m.tf = Param(initialize=300)\n",
    "m.tc = Param(initialize=290)\n",
    "\n",
    "m.theta = Param(initialize=20)\n",
    "m.yf = Param(initialize=0.3947)\n",
    "m.yc = Param(initialize=0.3816)\n",
    "m.time = Param(initialize=10)\n",
    "m.point = Param(initialize=0)\n",
    "m.slopec = Param()\n",
    "m.slopet = Param()\n",
    "m.slopeu = Param()\n",
    "m.ii = Param()\n",
    "m.jj = Param()\n",
    "\n",
    "m.alpha = Param([0, 1, 2, 3], initialize=alpha_init)"
   ]
  },
  {
   "cell_type": "markdown",
   "metadata": {},
   "source": [
    "Generate initial guesses values."
   ]
  },
  {
   "cell_type": "code",
   "execution_count": 6,
   "metadata": {},
   "outputs": [],
   "source": [
    "point = 0\n",
    "slopec = (value(m.cdes) - value(m.cinit)) / (m.nfe * m.ncp)\n",
    "slopet = (value(m.tdes) - value(m.tinit)) / (m.nfe * m.ncp)\n",
    "slopeu = (value(m.udes) - value(m.uinit)) / (m.nfe * m.ncp)\n",
    "\n",
    "cguess = {}\n",
    "tguess = {}\n",
    "ttguess = {}\n",
    "uguess = {}\n",
    "\n",
    "for i in range(1, m.nfe + 1):\n",
    "    for j in range(1, m.ncp + 1):\n",
    "        point += 1\n",
    "        cguess[i, j] = slopec * point + value(m.cinit)\n",
    "        tguess[i, j] = slopet * point + value(m.tinit)\n",
    "        ttguess[i, j] = value(m.time) * point\n",
    "        uguess[i, j] = slopeu * point + value(m.uinit)"
   ]
  },
  {
   "cell_type": "markdown",
   "metadata": {},
   "source": [
    "### 3. Variables"
   ]
  },
  {
   "cell_type": "code",
   "execution_count": 7,
   "metadata": {},
   "outputs": [],
   "source": [
    "#: One can pass the dictionary, as long as the keys are defined within the index set.\n",
    "m.C = Var(m.t, initialize=cguess)\n",
    "m.T = Var(m.t, initialize=tguess)\n",
    "m.u = Var(m.t, initialize=uguess)\n",
    "# m.tt = Var(m.t, initialize=ttguess)"
   ]
  },
  {
   "cell_type": "code",
   "execution_count": 8,
   "metadata": {},
   "outputs": [],
   "source": [
    "m.dC_dt = DerivativeVar(m.C)\n",
    "m.dT_dt = DerivativeVar(m.T)"
   ]
  },
  {
   "cell_type": "code",
   "execution_count": 9,
   "metadata": {},
   "outputs": [],
   "source": [
    "m.phi = Var()"
   ]
  },
  {
   "cell_type": "markdown",
   "metadata": {},
   "source": [
    "### 4. Constraints"
   ]
  },
  {
   "cell_type": "code",
   "execution_count": 10,
   "metadata": {},
   "outputs": [],
   "source": [
    "def _odec_rule(mod, t):\n",
    "    if t > 0:\n",
    "        return mod.dC_dt[t] == \\\n",
    "               ((1 - mod.C[t]) / mod.theta - mod.k10 * exp(-mod.n / mod.T[t]) * mod.C[t])\n",
    "    else:\n",
    "        return Constraint.Skip"
   ]
  },
  {
   "cell_type": "code",
   "execution_count": 11,
   "metadata": {},
   "outputs": [],
   "source": [
    "def _odet_rule(mod, t):\n",
    "    if t > 0:\n",
    "        return mod.dT_dt[t] == \\\n",
    "               ((mod.yf - mod.T[t]) / mod.theta + mod.k10 * exp(-mod.n / mod.T[t]) * mod.C[t] -\n",
    "                mod.alpha[0] * mod.u[t] * (mod.T[t] - mod.yc))\n",
    "    else:\n",
    "        return Constraint.Skip"
   ]
  },
  {
   "cell_type": "code",
   "execution_count": 12,
   "metadata": {},
   "outputs": [],
   "source": [
    "m.OdeC = Constraint(m.t, rule=_odec_rule)\n",
    "m.OdeT = Constraint(m.t, rule=_odet_rule)"
   ]
  },
  {
   "cell_type": "code",
   "execution_count": 13,
   "metadata": {},
   "outputs": [],
   "source": [
    "def _ic_rule(mod):\n",
    "    return mod.C[0] == mod.cinit\n",
    "\n",
    "m.IC = Constraint(rule=_ic_rule)"
   ]
  },
  {
   "cell_type": "code",
   "execution_count": 14,
   "metadata": {},
   "outputs": [],
   "source": [
    "def _it_rule(mod):\n",
    "    return mod.T[0] == mod.tinit\n",
    "\n",
    "m.IT = Constraint(rule=_it_rule)"
   ]
  },
  {
   "cell_type": "code",
   "execution_count": 15,
   "metadata": {},
   "outputs": [],
   "source": [
    "def objective_rule(mod):\n",
    "    return sum((mod.alpha[1] * (mod.cdes - mod.C[t]) ** 2 +\n",
    "                mod.alpha[2] * (mod.tdes - mod.T[t]) ** 2 +\n",
    "                mod.alpha[3] * (mod.udes - mod.u[t]) ** 2)\n",
    "               for t in m.t if t > 0)\n",
    "\n",
    "\n",
    "m.fobj = Objective(sense=minimize, rule=objective_rule)"
   ]
  },
  {
   "cell_type": "markdown",
   "metadata": {},
   "source": [
    "### 5. Transformation and solution"
   ]
  },
  {
   "cell_type": "code",
   "execution_count": 16,
   "metadata": {},
   "outputs": [],
   "source": [
    "dae = TransformationFactory('dae.collocation')\n",
    "dae.apply_to(m, nfe=m.nfe, ncp=m.ncp, scheme='LAGRANGE-RADAU')"
   ]
  },
  {
   "cell_type": "markdown",
   "metadata": {},
   "source": [
    "Set initial values"
   ]
  },
  {
   "cell_type": "code",
   "execution_count": 17,
   "metadata": {},
   "outputs": [],
   "source": [
    "for var in m.C.itervalues():\n",
    "    var.setlb(0)\n",
    "    var.setub(1)\n",
    "\n",
    "for var in m.T.itervalues():\n",
    "    var.setlb(0.1)\n",
    "    var.setub(1)\n",
    "\n",
    "for var in m.u.itervalues():\n",
    "    var.setlb(0)\n",
    "    var.setub(500)\n",
    "\n",
    "for t in m.t:\n",
    "    m.C[t].set_value(slopec * t + value(m.cinit))\n",
    "    m.T[t].set_value(slopet * t + value(m.tinit))\n",
    "    m.u[t].set_value(slopeu * t + value(m.uinit))"
   ]
  },
  {
   "cell_type": "markdown",
   "metadata": {},
   "source": [
    "Solve"
   ]
  },
  {
   "cell_type": "code",
   "execution_count": 18,
   "metadata": {},
   "outputs": [
    {
     "name": "stdout",
     "output_type": "stream",
     "text": [
      "/tmp/tmpgqkyxrbn.pyomo.nl -AMPL \n",
      "Ipopt vanilla0: \n",
      "This is Ipopt version vanilla0, running with linear solver ma27.\n",
      "\n",
      "Number of nonzeros in equality constraint Jacobian...:     5102\n",
      "Number of nonzeros in inequality constraint Jacobian.:        0\n",
      "Number of nonzeros in Lagrangian Hessian.............:      902\n",
      "\n",
      "Total number of variables............................:     1502\n",
      "                     variables with only lower bounds:        0\n",
      "                variables with lower and upper bounds:      902\n",
      "                     variables with only upper bounds:        0\n",
      "Total number of equality constraints.................:     1202\n",
      "Total number of inequality constraints...............:        0\n",
      "        inequality constraints with only lower bounds:        0\n",
      "   inequality constraints with lower and upper bounds:        0\n",
      "        inequality constraints with only upper bounds:        0\n",
      "\n",
      "iter    objective    inf_pr   inf_du lg(mu)  ||d||  lg(rg) alpha_du alpha_pr  ls\n",
      "   0  1.7843094e+03 1.58e-04 1.18e-04  -1.0 0.00e+00    -  0.00e+00 0.00e+00   0\n",
      "   1  1.7938189e+03 2.23e-08 5.97e-03  -1.0 6.61e-02    -  9.90e-01 1.00e+00h  1\n",
      "   2  1.7869935e+03 6.77e-07 2.00e-06  -1.0 6.46e+00    -  1.00e+00 1.00e+00f  1\n",
      "   3  1.7796955e+03 1.55e-06 5.08e-02  -2.5 1.92e+01    -  9.16e-01 1.00e+00f  1\n",
      "   4  1.7210590e+03 3.44e-05 6.14e-05  -2.5 6.66e+01    -  1.00e+00 1.00e+00f  1\n",
      "   5  1.6046713e+03 9.71e-05 7.60e-03  -3.8 2.04e+02    -  5.46e-01 1.00e+00f  1\n",
      "   6  1.4514255e+03 2.39e-04 1.90e-03  -3.8 1.75e+02    -  7.47e-01 1.00e+00f  1\n",
      "   7  1.3817912e+03 1.94e-04 1.47e-04  -3.8 1.77e+02    -  1.00e+00 1.00e+00h  1\n",
      "   8  1.3481594e+03 1.04e-04 3.30e-04  -5.7 1.59e+02    -  6.58e-01 1.00e+00h  1\n",
      "   9  1.3434158e+03 2.81e-05 1.05e-04  -5.7 1.56e+02    -  6.96e-01 1.00e+00h  1\n",
      "iter    objective    inf_pr   inf_du lg(mu)  ||d||  lg(rg) alpha_du alpha_pr  ls\n",
      "  10  1.3431233e+03 6.81e-06 2.19e-05  -5.7 1.52e+02    -  7.89e-01 1.00e+00h  1\n",
      "  11  1.3431012e+03 6.55e-07 1.23e-08  -5.7 1.49e+02    -  1.00e+00 1.00e+00h  1\n",
      "  12  1.3426402e+03 4.69e-07 8.74e-07  -8.6 3.67e+01    -  9.27e-01 1.00e+00h  1\n",
      "  13  1.3426389e+03 6.47e-10 5.41e-12  -8.6 4.11e+00    -  1.00e+00 1.00e+00h  1\n",
      "\n",
      "Number of Iterations....: 13\n",
      "\n",
      "                                   (scaled)                 (unscaled)\n",
      "Objective...............:   1.5923514209984353e+00    1.3426388711574602e+03\n",
      "Dual infeasibility......:   5.4145692542612888e-12    4.5654565038080316e-09\n",
      "Constraint violation....:   6.4687589312883986e-10    6.4687589312883986e-10\n",
      "Complementarity.........:   2.7179336045512038e-09    2.2917072566854831e-06\n",
      "Overall NLP error.......:   2.7179336045512038e-09    2.2917072566854831e-06\n",
      "\n",
      "\n",
      "Number of objective function evaluations             = 14\n",
      "Number of objective gradient evaluations             = 14\n",
      "Number of equality constraint evaluations            = 14\n",
      "Number of inequality constraint evaluations          = 0\n",
      "Number of equality constraint Jacobian evaluations   = 14\n",
      "Number of inequality constraint Jacobian evaluations = 0\n",
      "Number of Lagrangian Hessian evaluations             = 13\n",
      "Total CPU secs in IPOPT (w/o function evaluations)   =      0.016\n",
      "Total CPU secs in NLP function evaluations           =      0.004\n",
      "\n",
      "EXIT: Optimal Solution Found.\n"
     ]
    }
   ],
   "source": [
    "ipopt = SolverFactory('ipopt')\n",
    "results = ipopt.solve(m, tee=True)"
   ]
  },
  {
   "cell_type": "markdown",
   "metadata": {},
   "source": [
    "Set up some plots."
   ]
  },
  {
   "cell_type": "code",
   "execution_count": 19,
   "metadata": {},
   "outputs": [],
   "source": [
    "templ = []\n",
    "cl = []\n",
    "tl = []\n",
    "ul = []\n",
    "for key in m.t:\n",
    "    var = m.u[key]\n",
    "    if var.stale:\n",
    "        continue\n",
    "        \n",
    "    templ.append(value(m.T[key]))\n",
    "    cl.append(value(m.C[key]))\n",
    "    tl.append(key)\n",
    "    ul.append(value(m.u[key]))"
   ]
  },
  {
   "cell_type": "code",
   "execution_count": 1,
   "metadata": {},
   "outputs": [
    {
     "ename": "NameError",
     "evalue": "name 'plt' is not defined",
     "output_type": "error",
     "traceback": [
      "\u001b[1;31m---------------------------------------------------------------------------\u001b[0m",
      "\u001b[1;31mNameError\u001b[0m                                 Traceback (most recent call last)",
      "\u001b[1;32m<ipython-input-1-94bb1e74bf1b>\u001b[0m in \u001b[0;36m<module>\u001b[1;34m\u001b[0m\n\u001b[1;32m----> 1\u001b[1;33m \u001b[0max1\u001b[0m \u001b[1;33m=\u001b[0m \u001b[0mplt\u001b[0m\u001b[1;33m.\u001b[0m\u001b[0msubplot\u001b[0m\u001b[1;33m(\u001b[0m\u001b[1;36m3\u001b[0m\u001b[1;33m,\u001b[0m \u001b[1;36m1\u001b[0m\u001b[1;33m,\u001b[0m \u001b[1;36m1\u001b[0m\u001b[1;33m)\u001b[0m\u001b[1;33m\u001b[0m\u001b[1;33m\u001b[0m\u001b[0m\n\u001b[0m\u001b[0;32m      2\u001b[0m \u001b[0mplt\u001b[0m\u001b[1;33m.\u001b[0m\u001b[0mplot\u001b[0m\u001b[1;33m(\u001b[0m\u001b[0mtl\u001b[0m\u001b[1;33m,\u001b[0m \u001b[0mtempl\u001b[0m\u001b[1;33m)\u001b[0m\u001b[1;33m\u001b[0m\u001b[1;33m\u001b[0m\u001b[0m\n\u001b[0;32m      3\u001b[0m \u001b[1;33m\u001b[0m\u001b[0m\n\u001b[0;32m      4\u001b[0m \u001b[0mplt\u001b[0m\u001b[1;33m.\u001b[0m\u001b[0mtitle\u001b[0m\u001b[1;33m(\u001b[0m\u001b[1;34m\"Temperature\"\u001b[0m\u001b[1;33m)\u001b[0m\u001b[1;33m\u001b[0m\u001b[1;33m\u001b[0m\u001b[0m\n\u001b[0;32m      5\u001b[0m \u001b[0mplt\u001b[0m\u001b[1;33m.\u001b[0m\u001b[0msubplot\u001b[0m\u001b[1;33m(\u001b[0m\u001b[1;36m3\u001b[0m\u001b[1;33m,\u001b[0m \u001b[1;36m1\u001b[0m\u001b[1;33m,\u001b[0m \u001b[1;36m2\u001b[0m\u001b[1;33m,\u001b[0m \u001b[0msharex\u001b[0m\u001b[1;33m=\u001b[0m\u001b[0max1\u001b[0m\u001b[1;33m)\u001b[0m\u001b[1;33m\u001b[0m\u001b[1;33m\u001b[0m\u001b[0m\n",
      "\u001b[1;31mNameError\u001b[0m: name 'plt' is not defined"
     ]
    }
   ],
   "source": [
    "ax1 = plt.subplot(3, 1, 1)\n",
    "plt.plot(tl, templ)\n",
    "\n",
    "plt.title(\"Temperature\")\n",
    "plt.subplot(3, 1, 2, sharex=ax1)\n",
    "plt.plot(tl, cl)\n",
    "\n",
    "plt.title(\"Concentration\")\n",
    "plt.subplot(3, 1, 3, sharex=ax1)\n",
    "plt.plot(tl, ul)\n",
    "plt.xlabel(\"time\")\n",
    "plt.title(\"Control input\")\n",
    "plt.show()"
   ]
  },
  {
   "cell_type": "markdown",
   "metadata": {},
   "source": [
    "### Credits:\n",
    " - David Thierry (Carnegie Mellon University @2019)"
   ]
  }
 ],
 "metadata": {
  "kernelspec": {
   "display_name": "Python 3",
   "language": "python",
   "name": "python3"
  },
  "language_info": {
   "codemirror_mode": {
    "name": "ipython",
    "version": 3
   },
   "file_extension": ".py",
   "mimetype": "text/x-python",
   "name": "python",
   "nbconvert_exporter": "python",
   "pygments_lexer": "ipython3",
   "version": "3.7.4"
  }
 },
 "nbformat": 4,
 "nbformat_minor": 4
}
