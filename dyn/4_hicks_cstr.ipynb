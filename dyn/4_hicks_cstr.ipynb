{
 "cells": [
  {
   "cell_type": "markdown",
   "metadata": {},
   "source": [
    "# Hicks CSTR"
   ]
  },
  {
   "cell_type": "code",
   "execution_count": 14,
   "metadata": {},
   "outputs": [],
   "source": [
    "import matplotlib.pyplot as plt\n",
    "from pyomo.core.expr import exp\n",
    "from pyomo.core.base.numvalue import value\n",
    "from pyomo.dae import *\n",
    "#: pyomo imports\n",
    "from pyomo.environ import *\n",
    "from pyomo.opt import SolverFactory, SolverStatus"
   ]
  },
  {
   "cell_type": "code",
   "execution_count": 15,
   "metadata": {},
   "outputs": [],
   "source": [
    "__author__ = \"David Thierry\"  #: May 2018\n",
    "\n",
    "with_plots = False\n",
    "#: Number of finite elements\n",
    "nfe = 100\n",
    "#: Number of collocation points\n",
    "ncp = 3\n",
    "m = ConcreteModel()"
   ]
  },
  {
   "cell_type": "code",
   "execution_count": 16,
   "metadata": {},
   "outputs": [],
   "source": [
    "m.nfe = nfe\n",
    "m.ncp = ncp\n",
    "\n",
    "m.t = ContinuousSet(bounds=(0, 1))\n",
    "\n",
    "alpha_init = {0: 1.95e-04, 1: 1e+06, 2: 2e+03, 3: 1e-03}"
   ]
  },
  {
   "cell_type": "code",
   "execution_count": 17,
   "metadata": {},
   "outputs": [],
   "source": [
    "#: Scalars\n",
    "m.cinit = Param(initialize=0.1367)\n",
    "m.tinit = Param(initialize=0.7293)\n",
    "m.uinit = Param(initialize=390.0)\n",
    "\n",
    "m.cdes = Param(initialize=0.0944)\n",
    "m.tdes = Param(initialize=0.7766)\n",
    "m.udes = Param(initialize=340)\n",
    "m.k10 = Param(initialize=300)\n",
    "m.n = Param(initialize=5)\n",
    "\n",
    "m.cf = Param(initialize=7.6)\n",
    "m.tf = Param(initialize=300)\n",
    "m.tc = Param(initialize=290)\n",
    "\n",
    "m.theta = Param(initialize=20)\n",
    "m.yf = Param(initialize=0.3947)\n",
    "m.yc = Param(initialize=0.3816)\n",
    "m.time = Param(initialize=10)\n",
    "m.point = Param(initialize=0)\n",
    "\n",
    "# m.nfe = Param(initialize=100)\n",
    "# m.ncp = Param(initialize=3)\n",
    "m.slopec = Param()\n",
    "m.slopet = Param()\n",
    "m.slopeu = Param()\n",
    "m.ii = Param()\n",
    "m.jj = Param()\n",
    "\n",
    "m.alpha = Param([0, 1, 2, 3], initialize=alpha_init)"
   ]
  },
  {
   "cell_type": "code",
   "execution_count": 18,
   "metadata": {},
   "outputs": [],
   "source": [
    "# m.cguess = Param(m.fe, m.cp)\n",
    "# m.tguess = Param(m.fe, m.cp)\n",
    "# m.ttguess = Param(m.fe, m.cp)\n",
    "# m.uguess = Param(m.fe, m.cp)\n",
    "\n",
    "point = 0\n",
    "slopec = (value(m.cdes) - value(m.cinit)) / (m.nfe * m.ncp)\n",
    "slopet = (value(m.tdes) - value(m.tinit)) / (m.nfe * m.ncp)\n",
    "slopeu = (value(m.udes) - value(m.uinit)) / (m.nfe * m.ncp)\n",
    "\n",
    "cguess = {}\n",
    "tguess = {}\n",
    "ttguess = {}\n",
    "uguess = {}\n",
    "\n",
    "for i in range(1, m.nfe + 1):\n",
    "    for j in range(1, m.ncp + 1):\n",
    "        point += 1\n",
    "        cguess[i, j] = slopec * point + value(m.cinit)\n",
    "        tguess[i, j] = slopet * point + value(m.tinit)\n",
    "        ttguess[i, j] = value(m.time) * point\n",
    "        uguess[i, j] = slopeu * point + value(m.uinit)"
   ]
  },
  {
   "cell_type": "code",
   "execution_count": 19,
   "metadata": {},
   "outputs": [],
   "source": [
    "#: One can pass the dictionary, as long as the keys are defined within the index set.\n",
    "m.C = Var(m.t, initialize=cguess)\n",
    "m.T = Var(m.t, initialize=tguess)\n",
    "m.u = Var(m.t, initialize=uguess)\n",
    "# m.tt = Var(m.t, initialize=ttguess)"
   ]
  },
  {
   "cell_type": "code",
   "execution_count": 20,
   "metadata": {},
   "outputs": [],
   "source": [
    "m.dC_dt = DerivativeVar(m.C)\n",
    "m.dT_dt = DerivativeVar(m.T)"
   ]
  },
  {
   "cell_type": "code",
   "execution_count": 21,
   "metadata": {},
   "outputs": [],
   "source": [
    "m.phi = Var()"
   ]
  },
  {
   "cell_type": "code",
   "execution_count": 22,
   "metadata": {},
   "outputs": [],
   "source": [
    "def _odec_rule(mod, t):\n",
    "    if t > 0:\n",
    "        return mod.dC_dt[t] == \\\n",
    "               ((1 - mod.C[t]) / mod.theta - mod.k10 * exp(-mod.n / mod.T[t]) * mod.C[t])\n",
    "    else:\n",
    "        return Constraint.Skip"
   ]
  },
  {
   "cell_type": "code",
   "execution_count": 22,
   "metadata": {},
   "outputs": [],
   "source": [
    "m.OdeT = Constraint(m.t, rule=_odec_rule)\n",
    "\n",
    "def _odet_rule(mod, t):\n",
    "    if t > 0:\n",
    "        return mod.dT_dt[t] == \\\n",
    "               ((mod.yf - mod.T[t]) / mod.theta + mod.k10 * exp(-mod.n / mod.T[t]) * mod.C[t] -\n",
    "                mod.alpha[0] * mod.u[t] * (mod.T[t] - mod.yc))\n",
    "    else:\n",
    "        return Constraint.Skip\n",
    "\n",
    "m.OdeC = Constraint(m.t, rule=_odec_rule)"
   ]
  },
  {
   "cell_type": "code",
   "execution_count": 22,
   "metadata": {},
   "outputs": [],
   "source": [
    "def _ic_rule(mod):\n",
    "    return mod.C[0] == mod.cinit\n",
    "\n",
    "m.IC = Constraint(rule=_ic_rule)"
   ]
  },
  {
   "cell_type": "code",
   "execution_count": 22,
   "metadata": {},
   "outputs": [],
   "source": [
    "def _it_rule(mod):\n",
    "    return mod.T[0] == mod.tinit\n",
    "\n",
    "m.IT = Constraint(rule=_it_rule)"
   ]
  },
  {
   "cell_type": "code",
   "execution_count": 22,
   "metadata": {},
   "outputs": [],
   "source": [
    "def objective_rule(mod):\n",
    "    return sum((mod.alpha[1] * (mod.cdes - mod.C[t]) ** 2 +\n",
    "                mod.alpha[2] * (mod.tdes - mod.T[t]) ** 2 +\n",
    "                mod.alpha[3] * (mod.udes - mod.u[t]) ** 2)\n",
    "               for t in m.t if t > 0)\n",
    "\n",
    "\n",
    "m.fobj = Objective(sense=minimize, rule=objective_rule)"
   ]
  },
  {
   "cell_type": "code",
   "execution_count": 23,
   "metadata": {},
   "outputs": [],
   "source": [
    "dae = TransformationFactory('dae.collocation')\n",
    "dae.apply_to(m, nfe=m.nfe, ncp=m.ncp, scheme='LAGRANGE-RADAU')"
   ]
  },
  {
   "cell_type": "code",
   "execution_count": 23,
   "metadata": {},
   "outputs": [],
   "source": [
    "for var in m.C.itervalues():\n",
    "    var.setlb(0)\n",
    "    var.setub(1)\n",
    "\n",
    "for var in m.T.itervalues():\n",
    "    var.setlb(0.1)\n",
    "    var.setub(1)\n",
    "\n",
    "for var in m.u.itervalues():\n",
    "    var.setlb(0)\n",
    "    var.setub(500)\n",
    "\n",
    "for t in m.t:\n",
    "    m.C[t].set_value(slopec * t + value(m.cinit))\n",
    "    m.T[t].set_value(slopet * t + value(m.tinit))\n",
    "    m.u[t].set_value(slopeu * t + value(m.uinit))"
   ]
  },
  {
   "cell_type": "code",
   "execution_count": 24,
   "metadata": {},
   "outputs": [
    {
     "name": "stdout",
     "output_type": "stream",
     "text": [
      "/tmp/tmp3yap2aa_.pyomo.nl -AMPL \n",
      "Ipopt vanilla0: \n",
      "This is Ipopt version vanilla0, running with linear solver ma27.\n",
      "\n",
      "Number of nonzeros in equality constraint Jacobian...:     4802\n",
      "Number of nonzeros in inequality constraint Jacobian.:        0\n",
      "Number of nonzeros in Lagrangian Hessian.............:      602\n",
      "\n",
      "MA27BD returned iflag=-4 and requires more memory.\n",
      " Increase liw from 54080 to 108160 and la from 54580 to 109458 and factorize again.\n",
      "MA27BD returned iflag=-4 and requires more memory.\n",
      " Increase liw from 108160 to 216320 and la from 109458 to 219642 and factorize again.\n",
      "Total number of variables............................:     1203\n",
      "                     variables with only lower bounds:        0\n",
      "                variables with lower and upper bounds:      603\n",
      "                     variables with only upper bounds:        0\n",
      "Total number of equality constraints.................:     1202\n",
      "Total number of inequality constraints...............:        0\n",
      "        inequality constraints with only lower bounds:        0\n",
      "   inequality constraints with lower and upper bounds:        0\n",
      "        inequality constraints with only upper bounds:        0\n",
      "\n",
      "iter    objective    inf_pr   inf_du lg(mu)  ||d||  lg(rg) alpha_du alpha_pr  ls\n",
      "   0  1.7843094e+03 1.58e-04 1.00e+02  -1.0 0.00e+00    -  0.00e+00 0.00e+00   0\n",
      "   1  2.6969772e+03 4.68e-03 3.98e-02  -1.0 2.40e+01    -  9.90e-01 1.00e+00f  1\n",
      "   2  4.3932439e+03 1.74e-02 1.10e-01  -1.0 1.02e+01  -4.0 1.00e+00 1.00e+00f  1\n",
      "   3  1.4920814e+03 9.97e-02 1.86e-01  -2.5 1.69e+01  -4.5 6.79e-01 7.63e-01f  1\n",
      "   4  2.1484343e+02 9.30e-02 8.73e-02  -2.5 9.48e+00  -5.0 7.71e-01 1.00e+00h  1\n",
      "   5  4.0850163e+01 5.69e-03 1.17e-02  -2.5 1.53e+01  -5.4 1.00e+00 1.00e+00h  1\n",
      "   6  6.5220484e-01 7.84e-02 1.23e-02  -3.8 1.33e+01  -5.9 7.55e-01 1.00e+00h  1\n",
      "   7  5.3721850e-02 1.38e-03 5.52e-04  -3.8 7.66e+00    -  1.00e+00 1.00e+00h  1\n",
      "   8  1.9961094e-05 6.07e-05 2.44e-05  -5.7 3.84e+00    -  1.00e+00 1.00e+00h  1\n",
      "   9  1.5993895e-05 8.93e-04 1.14e-06  -5.7 5.00e-01  -6.4 1.00e+00 1.00e+00h  1\n",
      "iter    objective    inf_pr   inf_du lg(mu)  ||d||  lg(rg) alpha_du alpha_pr  ls\n",
      "  10  1.4605914e-05 1.62e-03 2.82e-07  -5.7 7.52e-01  -6.9 1.00e+00 1.00e+00h  1\n",
      "  11  1.4517354e-05 9.18e-04 1.18e-07  -5.7 7.85e-01  -7.3 1.00e+00 1.00e+00h  1\n",
      "  12  1.4489130e-05 6.71e-04 7.02e-08  -5.7 1.21e+00  -7.8 1.00e+00 1.00e+00h  1\n",
      "  13  1.4383480e-05 5.04e-04 4.30e-08  -5.7 3.32e+00  -8.3 1.00e+00 1.00e+00h  1\n",
      "  14  1.4230891e-05 3.96e-04 1.56e-07  -5.7 8.38e+00  -8.8 1.00e+00 1.00e+00h  1\n",
      "  15  1.3933501e-05 7.03e-04 2.42e-07  -5.7 1.21e+01  -9.2 1.00e+00 1.00e+00h  1\n",
      "  16  1.3487548e-05 2.61e-03 1.75e-07  -5.7 1.78e+01  -9.7 1.00e+00 1.00e+00h  1\n",
      "  17  1.2988561e-05 7.85e-03 5.56e-07  -5.7 3.21e+01 -10.2 1.00e+00 1.00e+00h  1\n",
      "  18  1.2574668e-05 3.27e-02 2.40e-06  -5.7 7.76e+01 -10.7 1.00e+00 1.00e+00h  1\n",
      "  19  1.2298610e-05 3.11e-02 2.09e-06  -5.7 1.00e+02 -11.2 1.00e+00 1.00e+00h  1\n",
      "iter    objective    inf_pr   inf_du lg(mu)  ||d||  lg(rg) alpha_du alpha_pr  ls\n",
      "  20  1.2226459e-05 2.19e-02 1.42e-06  -5.7 1.02e+02    -  1.00e+00 1.00e+00h  1\n",
      "  21  1.2231052e-05 5.84e-03 3.82e-07  -5.7 4.37e+01    -  1.00e+00 1.00e+00h  1\n",
      "  22  1.2233419e-05 4.74e-04 3.07e-08  -5.7 1.29e+01    -  1.00e+00 1.00e+00h  1\n",
      "  23  1.2233522e-05 2.73e-06 1.77e-10  -5.7 9.96e-01    -  1.00e+00 1.00e+00h  1\n",
      "  24  2.5338005e-11 8.43e-09 1.97e-09  -8.6 5.45e-02    -  1.00e+00 1.00e+00h  1\n",
      "\n",
      "Number of Iterations....: 24\n",
      "\n",
      "                                   (scaled)                 (unscaled)\n",
      "Objective...............:   3.0050529384042652e-14    2.5338005366037074e-11\n",
      "Dual infeasibility......:   1.9741170674303500e-09    1.6645360289159219e-06\n",
      "Constraint violation....:   8.4287809232197475e-09    8.4287809232197475e-09\n",
      "Complementarity.........:   3.0244984213353376e-09    2.5501965789015292e-06\n",
      "Overall NLP error.......:   8.4287809232197475e-09    2.5501965789015292e-06\n",
      "\n",
      "\n",
      "Number of objective function evaluations             = 25\n",
      "Number of objective gradient evaluations             = 25\n",
      "Number of equality constraint evaluations            = 25\n",
      "Number of inequality constraint evaluations          = 0\n",
      "Number of equality constraint Jacobian evaluations   = 25\n",
      "Number of inequality constraint Jacobian evaluations = 0\n",
      "Number of Lagrangian Hessian evaluations             = 24\n",
      "Total CPU secs in IPOPT (w/o function evaluations)   =      0.157\n",
      "Total CPU secs in NLP function evaluations           =      0.005\n",
      "\n",
      "EXIT: Optimal Solution Found.\n"
     ]
    }
   ],
   "source": [
    "ipopt = SolverFactory('ipopt')\n",
    "results = ipopt.solve(m, tee=True)"
   ]
  },
  {
   "cell_type": "code",
   "execution_count": 31,
   "metadata": {},
   "outputs": [
    {
     "data": {
      "image/png": "[encoded data removed]",
      "text/plain": [
       "<Figure size 432x288 with 3 Axes>"
      ]
     },
     "metadata": {
      "needs_background": "light"
     },
     "output_type": "display_data"
    }
   ],
   "source": [
    "templ = []\n",
    "cl = []\n",
    "tl = []\n",
    "ul = []\n",
    "for key in m.t:\n",
    "    var = m.u[key]\n",
    "    if var.stale:\n",
    "        continue\n",
    "    templ.append(value(m.T[key]))\n",
    "    cl.append(value(m.C[key]))\n",
    "    tl.append(key)\n",
    "    ul.append(value(m.u[key]))\n",
    "plt.subplot(3, 1, 1)\n",
    "plt.plot(tl, templ)\n",
    "plt.subplot(3, 1, 2)\n",
    "plt.plot(tl, cl)\n",
    "plt.subplot(3, 1, 3)\n",
    "plt.plot(tl, ul)\n",
    "plt.show()"
   ]
  },
  {
   "cell_type": "code",
   "execution_count": null,
   "metadata": {},
   "outputs": [],
   "source": []
  }
 ],
 "metadata": {
  "kernelspec": {
   "display_name": "Python 3",
   "language": "python",
   "name": "python3"
  },
  "language_info": {
   "codemirror_mode": {
    "name": "ipython",
    "version": 3
   },
   "file_extension": ".py",
   "mimetype": "text/x-python",
   "name": "python",
   "nbconvert_exporter": "python",
   "pygments_lexer": "ipython3",
   "version": "3.7.4"
  }
 },
 "nbformat": 4,
 "nbformat_minor": 4
}
