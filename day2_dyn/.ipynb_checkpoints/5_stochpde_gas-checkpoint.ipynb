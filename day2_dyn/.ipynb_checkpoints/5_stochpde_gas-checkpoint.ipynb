{
 "cells": [
  {
   "cell_type": "markdown",
   "metadata": {},
   "source": [
    "# Stochastic pde model for natural gas network"
   ]
  },
  {
   "cell_type": "markdown",
   "metadata": {},
   "source": [
    "\\begin{align}\n",
    "\\dfrac{\\partial \\rho_{l}}{\\partial \\tau} + \\dfrac{\\rho_{l}\\left(\\tau, x, \\omega \\right)}{\\partial x} &= 0 \\\\\n",
    "\\dfrac{\\partial_{l} \\left(\\tau, x, \\omega\\right)}{\\partial \\tau} + \\dfrac{p_{l}\\left(\\tau, x, \\omega \\right)}{\\partial x} &= -\\dfrac{\\lambda_{l}}{2D_{l}}\\rho_{l}\\left(\\tau, x, \\omega \\right) \\nu_{l} \\left(\\tau, x, \\omega \\right) \\left|\\nu_{l} \\left(\\tau, x, \\omega \\right) \\right|\n",
    "\\end{align}"
   ]
  },
  {
   "cell_type": "markdown",
   "metadata": {},
   "source": []
  },
  {
   "cell_type": "markdown",
   "metadata": {},
   "source": [
    "\\begin{align}\n",
    "\\dfrac{\\partial \\rho_{l}}{\\partial \\tau} &= - c_{1, l} \\dfrac{\\partial f_{l}\\left(\\tau, x, \\omega \\right)  }{\\partial x} \\\\\n",
    "\\dfrac{\\partial f_{l} \\left(\\tau, x, \\omega\\right)}{\\partial \\tau} &= -c_{2, l} \\dfrac{p_{l}\\left(\\tau, x, \\omega \\right)}{\\partial x}  - c_{3, l} \\dfrac{f_{l}\\left(\\tau, x, \\omega \\right) \\left| f_{l}\\left(\\tau, x, \\omega \\right) \\right|  }{p_{l}\\left(\\tau, x, \\omega\\right)}\n",
    "\\end{align}"
   ]
  }
 ],
 "metadata": {
  "kernelspec": {
   "display_name": "Python 3",
   "language": "python",
   "name": "python3"
  },
  "language_info": {
   "codemirror_mode": {
    "name": "ipython",
    "version": 3
   },
   "file_extension": ".py",
   "mimetype": "text/x-python",
   "name": "python",
   "nbconvert_exporter": "python",
   "pygments_lexer": "ipython3",
   "version": "3.7.4"
  }
 },
 "nbformat": 4,
 "nbformat_minor": 4
}
