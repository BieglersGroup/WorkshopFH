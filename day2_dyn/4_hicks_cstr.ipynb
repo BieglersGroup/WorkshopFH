{
 "cells": [
  {
   "cell_type": "markdown",
   "metadata": {},
   "source": [
    "# Hicks CSTR"
   ]
  },
  {
   "cell_type": "code",
   "execution_count": null,
   "metadata": {},
   "outputs": [],
   "source": [
    "import matplotlib.pyplot as plt\n",
    "from pyomo.core.kernel.expr import exp\n",
    "from pyomo.core.kernel.numvalue import value\n",
    "from pyomo.dae import *\n",
    "#: pyomo imports\n",
    "from pyomo.environ import *\n",
    "from pyomo.opt import SolverFactory, SolverStatus"
   ]
  },
  {
   "cell_type": "code",
   "execution_count": null,
   "metadata": {},
   "outputs": [],
   "source": [
    "__author__ = \"David Thierry\"  #: May 2018\n",
    "\n",
    "with_plots = False\n",
    "#: Number of finite elements\n",
    "nfe = 100\n",
    "#: Number of collocation points\n",
    "ncp = 3\n",
    "m = ConcreteModel()"
   ]
  },
  {
   "cell_type": "code",
   "execution_count": null,
   "metadata": {},
   "outputs": [],
   "source": [
    "m.nfe = nfe\n",
    "m.ncp = ncp\n",
    "\n",
    "m.t = ContinuousSet(bounds=(0, 1))\n",
    "\n",
    "alpha_init = {0: 1.95e-04, 1: 1e+06, 2: 2e+03, 3: 1e-03}"
   ]
  },
  {
   "cell_type": "code",
   "execution_count": null,
   "metadata": {},
   "outputs": [],
   "source": [
    "#: Scalars\n",
    "m.cinit = Param(initialize=0.1367)\n",
    "m.tinit = Param(initialize=0.7293)\n",
    "m.uinit = Param(initialize=390.0)\n",
    "\n",
    "m.cdes = Param(initialize=0.0944)\n",
    "m.tdes = Param(initialize=0.7766)\n",
    "m.udes = Param(initialize=340)\n",
    "m.k10 = Param(initialize=300)\n",
    "m.n = Param(initialize=5)\n",
    "\n",
    "m.cf = Param(initialize=7.6)\n",
    "m.tf = Param(initialize=300)\n",
    "m.tc = Param(initialize=290)\n",
    "\n",
    "m.theta = Param(initialize=20)\n",
    "m.yf = Param(initialize=0.3947)\n",
    "m.yc = Param(initialize=0.3816)\n",
    "m.time = Param(initialize=10)\n",
    "m.point = Param(initialize=0)\n",
    "\n",
    "# m.nfe = Param(initialize=100)\n",
    "# m.ncp = Param(initialize=3)\n",
    "m.slopec = Param()\n",
    "m.slopet = Param()\n",
    "m.slopeu = Param()\n",
    "m.ii = Param()\n",
    "m.jj = Param()\n",
    "\n",
    "m.alpha = Param([0, 1, 2, 3], initialize=alpha_init)"
   ]
  },
  {
   "cell_type": "code",
   "execution_count": null,
   "metadata": {},
   "outputs": [],
   "source": [
    "# m.cguess = Param(m.fe, m.cp)\n",
    "# m.tguess = Param(m.fe, m.cp)\n",
    "# m.ttguess = Param(m.fe, m.cp)\n",
    "# m.uguess = Param(m.fe, m.cp)\n",
    "\n",
    "point = 0\n",
    "slopec = (value(m.cdes) - value(m.cinit)) / (m.nfe * m.ncp)\n",
    "slopet = (value(m.tdes) - value(m.tinit)) / (m.nfe * m.ncp)\n",
    "slopeu = (value(m.udes) - value(m.uinit)) / (m.nfe * m.ncp)\n",
    "\n",
    "cguess = {}\n",
    "tguess = {}\n",
    "ttguess = {}\n",
    "uguess = {}\n",
    "\n",
    "for i in range(1, m.nfe + 1):\n",
    "    for j in range(1, m.ncp + 1):\n",
    "        point += 1\n",
    "        cguess[i, j] = slopec * point + value(m.cinit)\n",
    "        tguess[i, j] = slopet * point + value(m.tinit)\n",
    "        ttguess[i, j] = value(m.time) * point\n",
    "        uguess[i, j] = slopeu * point + value(m.uinit)"
   ]
  },
  {
   "cell_type": "code",
   "execution_count": null,
   "metadata": {},
   "outputs": [],
   "source": [
    "#: One can pass the dictionary, as long as the keys are defined within the index set.\n",
    "m.C = Var(m.t, initialize=cguess)\n",
    "m.T = Var(m.t, initialize=tguess)\n",
    "m.u = Var(m.t, initialize=uguess)\n",
    "# m.tt = Var(m.t, initialize=ttguess)"
   ]
  },
  {
   "cell_type": "code",
   "execution_count": null,
   "metadata": {},
   "outputs": [],
   "source": [
    "m.dC_dt = DerivativeVar(m.C)\n",
    "m.dT_dt = DerivativeVar(m.T)"
   ]
  },
  {
   "cell_type": "code",
   "execution_count": null,
   "metadata": {},
   "outputs": [],
   "source": [
    "m.phi = Var()"
   ]
  },
  {
   "cell_type": "code",
   "execution_count": null,
   "metadata": {},
   "outputs": [],
   "source": [
    "def _odec_rule(mod, t):\n",
    "    if t > 0:\n",
    "        return mod.dC_dt[t] == \\\n",
    "               ((1 - mod.C[t]) / mod.theta - mod.k10 * exp(-mod.n / mod.T[t]) * mod.C[t])\n",
    "    else:\n",
    "        return Constraint.Skip\n",
    "\n",
    "    \n",
    "m.OdeT = Constraint(m.t, rule=_odet_rule)\n",
    "\n",
    "def _odet_rule(mod, t):\n",
    "    if t > 0:\n",
    "        return mod.dT_dt[t] == \\\n",
    "               ((mod.yf - mod.T[t]) / mod.theta + mod.k10 * exp(-mod.n / mod.T[t]) * mod.C[t] -\n",
    "                mod.alpha[0] * mod.u[t] * (mod.T[t] - mod.yc))\n",
    "    else:\n",
    "        return Constraint.Skip\n",
    "\n",
    "m.OdeC = Constraint(m.t, rule=_odec_rule)\n",
    "\n",
    "def _ic_rule(mod):\n",
    "    return mod.C[0] == mod.cinit\n",
    "\n",
    "m.IC = Constraint(rule=_ic_rule)\n",
    "\n",
    "def _it_rule(mod):\n",
    "    return mod.T[0] == mod.tinit\n",
    "\n",
    "m.IT = Constraint(rule=_it_rule)\n",
    "\n",
    "\n",
    "def objective_rule(mod):\n",
    "    return sum((mod.alpha[1] * (mod.cdes - mod.C[t]) ** 2 +\n",
    "                mod.alpha[2] * (mod.tdes - mod.T[t]) ** 2 +\n",
    "                mod.alpha[3] * (mod.udes - mod.u[t]) ** 2)\n",
    "               for t in m.t if t > 0)\n",
    "\n",
    "\n",
    "m.fobj = Objective(sense=minimize, rule=objective_rule)"
   ]
  },
  {
   "cell_type": "code",
   "execution_count": null,
   "metadata": {},
   "outputs": [],
   "source": [
    "dae = TransformationFactory('dae.collocation')\n",
    "dae.apply_to(m, nfe=m.nfe, ncp=m.ncp, scheme='LAGRANGE-RADAU')\n",
    "\n",
    "\n",
    "for var in m.C.itervalues():\n",
    "    var.setlb(0)\n",
    "    var.setub(1)\n",
    "\n",
    "for var in m.T.itervalues():\n",
    "    var.setlb(0.1)\n",
    "    var.setub(1)\n",
    "\n",
    "for var in m.u.itervalues():\n",
    "    var.setlb(0)\n",
    "    var.setub(500)\n",
    "\n",
    "for t in m.t:\n",
    "    m.C[t].set_value(slopec * t + value(m.cinit))\n",
    "    m.T[t].set_value(slopet * t + value(m.tinit))\n",
    "    m.u[t].set_value(slopeu * t + value(m.uinit))"
   ]
  },
  {
   "cell_type": "code",
   "execution_count": null,
   "metadata": {},
   "outputs": [],
   "source": [
    "ipopt = SolverFactory('ipopt')\n",
    "results = ipopt.solve(m, tee=True)"
   ]
  },
  {
   "cell_type": "code",
   "execution_count": null,
   "metadata": {},
   "outputs": [],
   "source": [
    "if results.solver.status == SolverStatus.ok and with_plots:\n",
    "    print(\"Okay\")\n",
    "    templ = []\n",
    "    cl = []\n",
    "    tl = []\n",
    "    ul = []\n",
    "    for key in m.t:\n",
    "        var = m.u[key]\n",
    "        if var.stale:\n",
    "            continue\n",
    "        templ.append(value(m.T[key]))\n",
    "        cl.append(value(m.C[key]))\n",
    "        tl.append(key)\n",
    "        ul.append(value(m.u[key]))\n",
    "    plt.subplot(3, 1, 1)\n",
    "    plt.plot(tl, templ)\n",
    "    plt.subplot(3, 1, 2)\n",
    "    plt.plot(tl, cl)\n",
    "    plt.subplot(3, 1, 3)\n",
    "    plt.plot(tl, ul)\n",
    "    plt.show()"
   ]
  }
 ],
 "metadata": {
  "kernelspec": {
   "display_name": "Python 3",
   "language": "python",
   "name": "python3"
  },
  "language_info": {
   "codemirror_mode": {
    "name": "ipython",
    "version": 3
   },
   "file_extension": ".py",
   "mimetype": "text/x-python",
   "name": "python",
   "nbconvert_exporter": "python",
   "pygments_lexer": "ipython3",
   "version": "3.7.4"
  }
 },
 "nbformat": 4,
 "nbformat_minor": 4
}
